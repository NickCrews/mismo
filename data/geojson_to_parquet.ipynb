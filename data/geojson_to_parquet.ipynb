{
 "cells": [
  {
   "cell_type": "markdown",
   "metadata": {},
   "source": [
    "Convert a geojson file from openaddresses to a parquet.\n",
    "\n",
    "This is a run-once step so that then we can load this as some sample data."
   ]
  },
  {
   "cell_type": "code",
   "execution_count": null,
   "metadata": {},
   "outputs": [],
   "source": [
    "import gzip\n",
    "from pathlib import Path\n",
    "\n",
    "import ibis\n",
    "from ibis import _\n",
    "from ibis.backends.duckdb import Backend as DuckDBBackend"
   ]
  },
  {
   "cell_type": "code",
   "execution_count": null,
   "metadata": {},
   "outputs": [],
   "source": [
    "p = Path(\"alaska-addresses.geojson\")\n",
    "zip_path = Path(\"./alaska-addresses.geojson.gz\")\n",
    "if not p.exists():\n",
    "    with gzip.open(zip_path, \"rb\") as f_in:\n",
    "        with open(p, \"wb\") as f_out:\n",
    "            f_out.write(f_in.read())\n",
    "\n",
    "conn: DuckDBBackend = ibis.duckdb.connect()\n",
    "addresses = conn.read_geo(p)\n",
    "addresses = addresses.cache()\n",
    "print(addresses.count())\n",
    "addresses"
   ]
  },
  {
   "cell_type": "code",
   "execution_count": null,
   "metadata": {},
   "outputs": [],
   "source": [
    "a = addresses.select(\n",
    "    state=_.region.nullif(\"\"),\n",
    "    # district=_.district.nullif(\"\"),  # always null?\n",
    "    # id=_.id.nullif(\"\"),  # always null?\n",
    "    city=_.city.nullif(\"\"),\n",
    "    postcode=_.postcode.nullif(\"\"),\n",
    "    street=(_.number.fill_null(\"\") + \" \" + _.street.fill_null(\"\")).strip().nullif(\"\"),\n",
    "    unit=_.unit.nullif(\"\"),\n",
    "    # hash=(\"0x\" + _.hash).cast(\"uint64\"),  # don't need this\n",
    "    lon=_.geom.x(),\n",
    "    lat=_.geom.y(),\n",
    ")\n",
    "a"
   ]
  },
  {
   "cell_type": "code",
   "execution_count": null,
   "metadata": {},
   "outputs": [],
   "source": [
    "a.group_by(\"state\", \"city\", \"postcode\", \"street\", \"unit\").agg(\n",
    "    n=_.count(),\n",
    "    lat_var=_.lat.var(),\n",
    "    lon_var=_.lon.var(),\n",
    "    lat_min=_.lat.min(),\n",
    "    lat_max=_.lat.max(),\n",
    "    lon_min=_.lon.min(),\n",
    "    lon_max=_.lon.max(),\n",
    ").order_by(\n",
    "    _.lat_var.desc(),\n",
    "    # _.n.desc(),\n",
    ")"
   ]
  },
  {
   "cell_type": "code",
   "execution_count": null,
   "metadata": {},
   "outputs": [],
   "source": [
    "# yuck, based on the above high variance, we can see that the data is not clean.\n",
    "# Just pick the first one for each group.\n",
    "a = a.group_by(\n",
    "    \"state\",\n",
    "    \"city\",\n",
    "    \"postcode\",\n",
    "    \"street\",\n",
    "    \"unit\",\n",
    ").agg(\n",
    "    lon=_.lon.first(order_by=_.lat),\n",
    "    lat=_.lat.first(order_by=_.lat),\n",
    ")"
   ]
  },
  {
   "cell_type": "code",
   "execution_count": null,
   "metadata": {},
   "outputs": [],
   "source": [
    "a = (\n",
    "    a.order_by(\n",
    "        # order from changing-least-quickly to changing-most-quickly\n",
    "        # so that we are most likely to be able to get long runs of the same value\n",
    "        # to compress well\n",
    "        \"state\",\n",
    "        \"city\",\n",
    "        \"postcode\",\n",
    "        \"street\",\n",
    "        \"unit\",\n",
    "    )\n",
    "    .mutate(\n",
    "        record_id=ibis.row_number(),\n",
    "    )\n",
    "    .relocate(\"record_id\")\n",
    ")"
   ]
  },
  {
   "cell_type": "code",
   "execution_count": null,
   "metadata": {},
   "outputs": [],
   "source": [
    "a.to_parquet(\n",
    "    \"./alaska-addresses-clean.parquet\",\n",
    "    compression=\"zstd\",\n",
    "    COMPRESSION_LEVEL=15,\n",
    ")"
   ]
  },
  {
   "cell_type": "code",
   "execution_count": null,
   "metadata": {},
   "outputs": [],
   "source": []
  }
 ],
 "metadata": {
  "kernelspec": {
   "display_name": ".venv",
   "language": "python",
   "name": "python3"
  },
  "language_info": {
   "codemirror_mode": {
    "name": "ipython",
    "version": 3
   },
   "file_extension": ".py",
   "mimetype": "text/x-python",
   "name": "python",
   "nbconvert_exporter": "python",
   "pygments_lexer": "ipython3",
   "version": "3.12.2"
  }
 },
 "nbformat": 4,
 "nbformat_minor": 2
}
