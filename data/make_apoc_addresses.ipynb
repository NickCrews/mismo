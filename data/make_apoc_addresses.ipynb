{
 "cells": [
  {
   "cell_type": "code",
   "execution_count": null,
   "metadata": {},
   "outputs": [],
   "source": [
    "import ibis\n",
    "from ibis import _"
   ]
  },
  {
   "cell_type": "code",
   "execution_count": null,
   "metadata": {},
   "outputs": [],
   "source": [
    "t = ibis.read_parquet(\"./cleaned_receipts.parquet\")\n",
    "print(t.count())\n",
    "t"
   ]
  },
  {
   "cell_type": "code",
   "execution_count": null,
   "metadata": {},
   "outputs": [],
   "source": [
    "# order from changing-least-quickly to changing-most-quickly\n",
    "# so that we are most likely to be able to get long runs of the same value\n",
    "# to compress well\n",
    "t = t.select(\n",
    "    state=_.from__state.nullif(\"\"),\n",
    "    city=_.from__city.nullif(\"\"),\n",
    "    postcode=_.from__zipcode.nullif(\"\"),\n",
    "    street=_.from__street1.nullif(\"\"),\n",
    "    unit=_.from__street2.nullif(\"\"),\n",
    ")\n",
    "t = t.filter(~_.street.upper().contains(\"PO BOX\"))\n",
    "t = t.order_by(t.columns)\n",
    "t = t.mutate(record_id=ibis.row_number()).relocate(\"record_id\")\n",
    "t"
   ]
  },
  {
   "cell_type": "code",
   "execution_count": null,
   "metadata": {},
   "outputs": [],
   "source": [
    "t.to_parquet(\"alaska-addresses-dirty.parquet\", compression=\"zstd\", compression_level=15)"
   ]
  },
  {
   "cell_type": "code",
   "execution_count": null,
   "metadata": {},
   "outputs": [],
   "source": []
  }
 ],
 "metadata": {
  "kernelspec": {
   "display_name": ".venv",
   "language": "python",
   "name": "python3"
  },
  "language_info": {
   "codemirror_mode": {
    "name": "ipython",
    "version": 3
   },
   "file_extension": ".py",
   "mimetype": "text/x-python",
   "name": "python",
   "nbconvert_exporter": "python",
   "pygments_lexer": "ipython3",
   "version": "3.12.2"
  }
 },
 "nbformat": 4,
 "nbformat_minor": 2
}
