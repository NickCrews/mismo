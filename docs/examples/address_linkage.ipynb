{
 "cells": [
  {
   "cell_type": "code",
   "execution_count": 1,
   "metadata": {},
   "outputs": [],
   "source": [
    "# uncomment and run if mismo is not installed\n",
    "# %pip install -q git+https://github.com/NickCrews/mismo@main"
   ]
  },
  {
   "cell_type": "code",
   "execution_count": 2,
   "metadata": {},
   "outputs": [],
   "source": [
    "from __future__ import annotations\n",
    "\n",
    "import ibis\n",
    "from ibis import _\n",
    "from ibis.backends.duckdb import Backend as DuckDBBackend\n",
    "\n",
    "import mismo\n",
    "\n",
    "ibis.options.interactive = True"
   ]
  },
  {
   "cell_type": "markdown",
   "metadata": {},
   "source": [
    "We are going to dedupe the PATSTAT dataset. Every record represents a patent filed,\n",
    "and our task is to determine which one came from the same inventor.\n",
    "The end goal is to add a column called `inventor_id` to each patent.\n",
    "This dataset contains a ground truth label, so we can evaluate how well we did.\n",
    "\n",
    "`Mismo` contains this as an included dataset so it is easy to get started.\n",
    "The returned dataset is an Ibis table, which is a lazy representation of a SQL table.\n",
    "It is similar to a pandas dataframe, but has a few properties that make it much\n",
    "better for the record linkage use case:\n",
    "\n",
    "- Since it is SQL backed, it can handle datasets that are larger than memory, in\n",
    "  the many millions of rows.\n",
    "- Computation is performed by the powerful SQL backend of your choice: Google BigQuery,\n",
    "  Apache Spark, Snowflake, etc. For this demo, we use DuckDB, which is a \n",
    "  state-of-the-art SQL engine based around a columnar data model\n",
    "  (ie oriented towards the bulk operations of record linkage)\n",
    "- Ibis is strongly typed, has a full API, is well-documented, and has good\n",
    "  integration with the rest of the python data science ecosystem.\n"
   ]
  },
  {
   "cell_type": "code",
   "execution_count": 3,
   "metadata": {},
   "outputs": [
    {
     "name": "stdout",
     "output_type": "stream",
     "text": [
      "315659\n"
     ]
    },
    {
     "data": {
      "text/html": [
       "<pre style=\"white-space:pre;overflow-x:auto;line-height:normal;font-family:Menlo,'DejaVu Sans Mono',consolas,'Courier New',monospace\">┏━━━━━━━━━━━┳━━━━━━━━┳━━━━━━━━━━━━━━┳━━━━━━━━━━┳━━━━━━━━━━━━━━━━━━━━━━━━┳━━━━━━━━┳━━━━━━━━━━━━━┳━━━━━━━━━━━┓\n",
       "┃<span style=\"font-weight: bold\"> record_id </span>┃<span style=\"font-weight: bold\"> state  </span>┃<span style=\"font-weight: bold\"> city         </span>┃<span style=\"font-weight: bold\"> postcode </span>┃<span style=\"font-weight: bold\"> street                 </span>┃<span style=\"font-weight: bold\"> unit   </span>┃<span style=\"font-weight: bold\"> lon         </span>┃<span style=\"font-weight: bold\"> lat       </span>┃\n",
       "┡━━━━━━━━━━━╇━━━━━━━━╇━━━━━━━━━━━━━━╇━━━━━━━━━━╇━━━━━━━━━━━━━━━━━━━━━━━━╇━━━━━━━━╇━━━━━━━━━━━━━╇━━━━━━━━━━━┩\n",
       "│ <span style=\"color: #7f7f7f; text-decoration-color: #7f7f7f\">int64</span>     │ <span style=\"color: #7f7f7f; text-decoration-color: #7f7f7f\">string</span> │ <span style=\"color: #7f7f7f; text-decoration-color: #7f7f7f\">string</span>       │ <span style=\"color: #7f7f7f; text-decoration-color: #7f7f7f\">string</span>   │ <span style=\"color: #7f7f7f; text-decoration-color: #7f7f7f\">string</span>                 │ <span style=\"color: #7f7f7f; text-decoration-color: #7f7f7f\">string</span> │ <span style=\"color: #7f7f7f; text-decoration-color: #7f7f7f\">float64</span>     │ <span style=\"color: #7f7f7f; text-decoration-color: #7f7f7f\">float64</span>   │\n",
       "├───────────┼────────┼──────────────┼──────────┼────────────────────────┼────────┼─────────────┼───────────┤\n",
       "│         <span style=\"color: #008080; text-decoration-color: #008080; font-weight: bold\">0</span> │ <span style=\"color: #008000; text-decoration-color: #008000\">AK    </span> │ <span style=\"color: #008000; text-decoration-color: #008000\">ANCHOR POINT</span> │ <span style=\"color: #008000; text-decoration-color: #008000\">99556   </span> │ <span style=\"color: #008000; text-decoration-color: #008000\">23837 NIKOLAI STREET  </span> │ <span style=\"color: #7f7f7f; text-decoration-color: #7f7f7f\">NULL</span>   │ <span style=\"color: #008080; text-decoration-color: #008080; font-weight: bold\">-151.746357</span> │ <span style=\"color: #008080; text-decoration-color: #008080; font-weight: bold\">59.926617</span> │\n",
       "│         <span style=\"color: #008080; text-decoration-color: #008080; font-weight: bold\">1</span> │ <span style=\"color: #008000; text-decoration-color: #008000\">AK    </span> │ <span style=\"color: #008000; text-decoration-color: #008000\">ANCHOR POINT</span> │ <span style=\"color: #008000; text-decoration-color: #008000\">99556   </span> │ <span style=\"color: #008000; text-decoration-color: #008000\">24338 MISTY LANE      </span> │ <span style=\"color: #7f7f7f; text-decoration-color: #7f7f7f\">NULL</span>   │ <span style=\"color: #008080; text-decoration-color: #008080; font-weight: bold\">-151.739071</span> │ <span style=\"color: #008080; text-decoration-color: #008080; font-weight: bold\">59.919594</span> │\n",
       "│         <span style=\"color: #008080; text-decoration-color: #008080; font-weight: bold\">2</span> │ <span style=\"color: #008000; text-decoration-color: #008000\">AK    </span> │ <span style=\"color: #008000; text-decoration-color: #008000\">ANCHOR POINT</span> │ <span style=\"color: #008000; text-decoration-color: #008000\">99556   </span> │ <span style=\"color: #008000; text-decoration-color: #008000\">24715 STERLING HIGHWAY</span> │ <span style=\"color: #7f7f7f; text-decoration-color: #7f7f7f\">NULL</span>   │ <span style=\"color: #008080; text-decoration-color: #008080; font-weight: bold\">-151.755646</span> │ <span style=\"color: #008080; text-decoration-color: #008080; font-weight: bold\">59.913984</span> │\n",
       "│         <span style=\"color: #008080; text-decoration-color: #008080; font-weight: bold\">3</span> │ <span style=\"color: #008000; text-decoration-color: #008000\">AK    </span> │ <span style=\"color: #008000; text-decoration-color: #008000\">ANCHOR POINT</span> │ <span style=\"color: #008000; text-decoration-color: #008000\">99556   </span> │ <span style=\"color: #008000; text-decoration-color: #008000\">24803 INLET COVE LANE </span> │ <span style=\"color: #7f7f7f; text-decoration-color: #7f7f7f\">NULL</span>   │ <span style=\"color: #008080; text-decoration-color: #008080; font-weight: bold\">-151.757118</span> │ <span style=\"color: #008080; text-decoration-color: #008080; font-weight: bold\">59.912571</span> │\n",
       "│         <span style=\"color: #008080; text-decoration-color: #008080; font-weight: bold\">4</span> │ <span style=\"color: #008000; text-decoration-color: #008000\">AK    </span> │ <span style=\"color: #008000; text-decoration-color: #008000\">ANCHOR POINT</span> │ <span style=\"color: #008000; text-decoration-color: #008000\">99556   </span> │ <span style=\"color: #008000; text-decoration-color: #008000\">24825 INLET COVE LANE </span> │ <span style=\"color: #7f7f7f; text-decoration-color: #7f7f7f\">NULL</span>   │ <span style=\"color: #008080; text-decoration-color: #008080; font-weight: bold\">-151.757657</span> │ <span style=\"color: #008080; text-decoration-color: #008080; font-weight: bold\">59.912205</span> │\n",
       "│         <span style=\"color: #008080; text-decoration-color: #008080; font-weight: bold\">5</span> │ <span style=\"color: #008000; text-decoration-color: #008000\">AK    </span> │ <span style=\"color: #008000; text-decoration-color: #008000\">ANCHOR POINT</span> │ <span style=\"color: #008000; text-decoration-color: #008000\">99556   </span> │ <span style=\"color: #008000; text-decoration-color: #008000\">24845 INLET COVE LANE </span> │ <span style=\"color: #7f7f7f; text-decoration-color: #7f7f7f\">NULL</span>   │ <span style=\"color: #008080; text-decoration-color: #008080; font-weight: bold\">-151.757918</span> │ <span style=\"color: #008080; text-decoration-color: #008080; font-weight: bold\">59.911979</span> │\n",
       "│         <span style=\"color: #008080; text-decoration-color: #008080; font-weight: bold\">6</span> │ <span style=\"color: #008000; text-decoration-color: #008000\">AK    </span> │ <span style=\"color: #008000; text-decoration-color: #008000\">ANCHOR POINT</span> │ <span style=\"color: #008000; text-decoration-color: #008000\">99556   </span> │ <span style=\"color: #008000; text-decoration-color: #008000\">24865 INLET COVE LANE </span> │ <span style=\"color: #7f7f7f; text-decoration-color: #7f7f7f\">NULL</span>   │ <span style=\"color: #008080; text-decoration-color: #008080; font-weight: bold\">-151.758861</span> │ <span style=\"color: #008080; text-decoration-color: #008080; font-weight: bold\">59.911740</span> │\n",
       "│         <span style=\"color: #008080; text-decoration-color: #008080; font-weight: bold\">7</span> │ <span style=\"color: #008000; text-decoration-color: #008000\">AK    </span> │ <span style=\"color: #008000; text-decoration-color: #008000\">ANCHOR POINT</span> │ <span style=\"color: #008000; text-decoration-color: #008000\">99556   </span> │ <span style=\"color: #008000; text-decoration-color: #008000\">25100 PEPPER ROAD     </span> │ <span style=\"color: #7f7f7f; text-decoration-color: #7f7f7f\">NULL</span>   │ <span style=\"color: #008080; text-decoration-color: #008080; font-weight: bold\">-151.709791</span> │ <span style=\"color: #008080; text-decoration-color: #008080; font-weight: bold\">59.908129</span> │\n",
       "│         <span style=\"color: #008080; text-decoration-color: #008080; font-weight: bold\">8</span> │ <span style=\"color: #008000; text-decoration-color: #008000\">AK    </span> │ <span style=\"color: #008000; text-decoration-color: #008000\">ANCHOR POINT</span> │ <span style=\"color: #008000; text-decoration-color: #008000\">99556   </span> │ <span style=\"color: #008000; text-decoration-color: #008000\">25238 STINKBUG STREET </span> │ <span style=\"color: #7f7f7f; text-decoration-color: #7f7f7f\">NULL</span>   │ <span style=\"color: #008080; text-decoration-color: #008080; font-weight: bold\">-151.692157</span> │ <span style=\"color: #008080; text-decoration-color: #008080; font-weight: bold\">59.906734</span> │\n",
       "│         <span style=\"color: #008080; text-decoration-color: #008080; font-weight: bold\">9</span> │ <span style=\"color: #008000; text-decoration-color: #008000\">AK    </span> │ <span style=\"color: #008000; text-decoration-color: #008000\">ANCHOR POINT</span> │ <span style=\"color: #008000; text-decoration-color: #008000\">99556   </span> │ <span style=\"color: #008000; text-decoration-color: #008000\">25405 STINKBUG STREET </span> │ <span style=\"color: #7f7f7f; text-decoration-color: #7f7f7f\">NULL</span>   │ <span style=\"color: #008080; text-decoration-color: #008080; font-weight: bold\">-151.695885</span> │ <span style=\"color: #008080; text-decoration-color: #008080; font-weight: bold\">59.903846</span> │\n",
       "│         <span style=\"color: #7f7f7f; text-decoration-color: #7f7f7f\">…</span> │ <span style=\"color: #7f7f7f; text-decoration-color: #7f7f7f\">…</span>      │ <span style=\"color: #7f7f7f; text-decoration-color: #7f7f7f\">…</span>            │ <span style=\"color: #7f7f7f; text-decoration-color: #7f7f7f\">…</span>        │ <span style=\"color: #7f7f7f; text-decoration-color: #7f7f7f\">…</span>                      │ <span style=\"color: #7f7f7f; text-decoration-color: #7f7f7f\">…</span>      │           <span style=\"color: #7f7f7f; text-decoration-color: #7f7f7f\">…</span> │         <span style=\"color: #7f7f7f; text-decoration-color: #7f7f7f\">…</span> │\n",
       "└───────────┴────────┴──────────────┴──────────┴────────────────────────┴────────┴─────────────┴───────────┘\n",
       "</pre>\n"
      ],
      "text/plain": [
       "┏━━━━━━━━━━━┳━━━━━━━━┳━━━━━━━━━━━━━━┳━━━━━━━━━━┳━━━━━━━━━━━━━━━━━━━━━━━━┳━━━━━━━━┳━━━━━━━━━━━━━┳━━━━━━━━━━━┓\n",
       "┃\u001b[1m \u001b[0m\u001b[1mrecord_id\u001b[0m\u001b[1m \u001b[0m┃\u001b[1m \u001b[0m\u001b[1mstate\u001b[0m\u001b[1m \u001b[0m\u001b[1m \u001b[0m┃\u001b[1m \u001b[0m\u001b[1mcity\u001b[0m\u001b[1m        \u001b[0m\u001b[1m \u001b[0m┃\u001b[1m \u001b[0m\u001b[1mpostcode\u001b[0m\u001b[1m \u001b[0m┃\u001b[1m \u001b[0m\u001b[1mstreet\u001b[0m\u001b[1m                \u001b[0m\u001b[1m \u001b[0m┃\u001b[1m \u001b[0m\u001b[1munit\u001b[0m\u001b[1m  \u001b[0m\u001b[1m \u001b[0m┃\u001b[1m \u001b[0m\u001b[1mlon\u001b[0m\u001b[1m        \u001b[0m\u001b[1m \u001b[0m┃\u001b[1m \u001b[0m\u001b[1mlat\u001b[0m\u001b[1m      \u001b[0m\u001b[1m \u001b[0m┃\n",
       "┡━━━━━━━━━━━╇━━━━━━━━╇━━━━━━━━━━━━━━╇━━━━━━━━━━╇━━━━━━━━━━━━━━━━━━━━━━━━╇━━━━━━━━╇━━━━━━━━━━━━━╇━━━━━━━━━━━┩\n",
       "│ \u001b[2mint64\u001b[0m     │ \u001b[2mstring\u001b[0m │ \u001b[2mstring\u001b[0m       │ \u001b[2mstring\u001b[0m   │ \u001b[2mstring\u001b[0m                 │ \u001b[2mstring\u001b[0m │ \u001b[2mfloat64\u001b[0m     │ \u001b[2mfloat64\u001b[0m   │\n",
       "├───────────┼────────┼──────────────┼──────────┼────────────────────────┼────────┼─────────────┼───────────┤\n",
       "│         \u001b[1;36m0\u001b[0m │ \u001b[32mAK    \u001b[0m │ \u001b[32mANCHOR POINT\u001b[0m │ \u001b[32m99556   \u001b[0m │ \u001b[32m23837 NIKOLAI STREET  \u001b[0m │ \u001b[2mNULL\u001b[0m   │ \u001b[1;36m-151.746357\u001b[0m │ \u001b[1;36m59.926617\u001b[0m │\n",
       "│         \u001b[1;36m1\u001b[0m │ \u001b[32mAK    \u001b[0m │ \u001b[32mANCHOR POINT\u001b[0m │ \u001b[32m99556   \u001b[0m │ \u001b[32m24338 MISTY LANE      \u001b[0m │ \u001b[2mNULL\u001b[0m   │ \u001b[1;36m-151.739071\u001b[0m │ \u001b[1;36m59.919594\u001b[0m │\n",
       "│         \u001b[1;36m2\u001b[0m │ \u001b[32mAK    \u001b[0m │ \u001b[32mANCHOR POINT\u001b[0m │ \u001b[32m99556   \u001b[0m │ \u001b[32m24715 STERLING HIGHWAY\u001b[0m │ \u001b[2mNULL\u001b[0m   │ \u001b[1;36m-151.755646\u001b[0m │ \u001b[1;36m59.913984\u001b[0m │\n",
       "│         \u001b[1;36m3\u001b[0m │ \u001b[32mAK    \u001b[0m │ \u001b[32mANCHOR POINT\u001b[0m │ \u001b[32m99556   \u001b[0m │ \u001b[32m24803 INLET COVE LANE \u001b[0m │ \u001b[2mNULL\u001b[0m   │ \u001b[1;36m-151.757118\u001b[0m │ \u001b[1;36m59.912571\u001b[0m │\n",
       "│         \u001b[1;36m4\u001b[0m │ \u001b[32mAK    \u001b[0m │ \u001b[32mANCHOR POINT\u001b[0m │ \u001b[32m99556   \u001b[0m │ \u001b[32m24825 INLET COVE LANE \u001b[0m │ \u001b[2mNULL\u001b[0m   │ \u001b[1;36m-151.757657\u001b[0m │ \u001b[1;36m59.912205\u001b[0m │\n",
       "│         \u001b[1;36m5\u001b[0m │ \u001b[32mAK    \u001b[0m │ \u001b[32mANCHOR POINT\u001b[0m │ \u001b[32m99556   \u001b[0m │ \u001b[32m24845 INLET COVE LANE \u001b[0m │ \u001b[2mNULL\u001b[0m   │ \u001b[1;36m-151.757918\u001b[0m │ \u001b[1;36m59.911979\u001b[0m │\n",
       "│         \u001b[1;36m6\u001b[0m │ \u001b[32mAK    \u001b[0m │ \u001b[32mANCHOR POINT\u001b[0m │ \u001b[32m99556   \u001b[0m │ \u001b[32m24865 INLET COVE LANE \u001b[0m │ \u001b[2mNULL\u001b[0m   │ \u001b[1;36m-151.758861\u001b[0m │ \u001b[1;36m59.911740\u001b[0m │\n",
       "│         \u001b[1;36m7\u001b[0m │ \u001b[32mAK    \u001b[0m │ \u001b[32mANCHOR POINT\u001b[0m │ \u001b[32m99556   \u001b[0m │ \u001b[32m25100 PEPPER ROAD     \u001b[0m │ \u001b[2mNULL\u001b[0m   │ \u001b[1;36m-151.709791\u001b[0m │ \u001b[1;36m59.908129\u001b[0m │\n",
       "│         \u001b[1;36m8\u001b[0m │ \u001b[32mAK    \u001b[0m │ \u001b[32mANCHOR POINT\u001b[0m │ \u001b[32m99556   \u001b[0m │ \u001b[32m25238 STINKBUG STREET \u001b[0m │ \u001b[2mNULL\u001b[0m   │ \u001b[1;36m-151.692157\u001b[0m │ \u001b[1;36m59.906734\u001b[0m │\n",
       "│         \u001b[1;36m9\u001b[0m │ \u001b[32mAK    \u001b[0m │ \u001b[32mANCHOR POINT\u001b[0m │ \u001b[32m99556   \u001b[0m │ \u001b[32m25405 STINKBUG STREET \u001b[0m │ \u001b[2mNULL\u001b[0m   │ \u001b[1;36m-151.695885\u001b[0m │ \u001b[1;36m59.903846\u001b[0m │\n",
       "│         \u001b[2m…\u001b[0m │ \u001b[2m…\u001b[0m      │ \u001b[2m…\u001b[0m            │ \u001b[2m…\u001b[0m        │ \u001b[2m…\u001b[0m                      │ \u001b[2m…\u001b[0m      │           \u001b[2m…\u001b[0m │         \u001b[2m…\u001b[0m │\n",
       "└───────────┴────────┴──────────────┴──────────┴────────────────────────┴────────┴─────────────┴───────────┘"
      ]
     },
     "execution_count": 3,
     "metadata": {},
     "output_type": "execute_result"
    }
   ],
   "source": [
    "conn: DuckDBBackend = ibis.duckdb.connect()\n",
    "clean = conn.read_parquet(\"../../data/alaska-addresses-clean.parquet\")\n",
    "dirty = conn.read_parquet(\"../../data/alaska-addresses-dirty.parquet\")\n",
    "print(clean.count().execute())\n",
    "clean"
   ]
  },
  {
   "cell_type": "code",
   "execution_count": 4,
   "metadata": {},
   "outputs": [
    {
     "name": "stdout",
     "output_type": "stream",
     "text": [
      "992329\n"
     ]
    },
    {
     "data": {
      "text/html": [
       "<pre style=\"white-space:pre;overflow-x:auto;line-height:normal;font-family:Menlo,'DejaVu Sans Mono',consolas,'Courier New',monospace\">┏━━━━━━━━━━━┳━━━━━━━━┳━━━━━━━━━━┳━━━━━━━━━━┳━━━━━━━━━━━━━━━━━━━━┳━━━━━━━━┓\n",
       "┃<span style=\"font-weight: bold\"> record_id </span>┃<span style=\"font-weight: bold\"> state  </span>┃<span style=\"font-weight: bold\"> city     </span>┃<span style=\"font-weight: bold\"> postcode </span>┃<span style=\"font-weight: bold\"> street             </span>┃<span style=\"font-weight: bold\"> unit   </span>┃\n",
       "┡━━━━━━━━━━━╇━━━━━━━━╇━━━━━━━━━━╇━━━━━━━━━━╇━━━━━━━━━━━━━━━━━━━━╇━━━━━━━━┩\n",
       "│ <span style=\"color: #7f7f7f; text-decoration-color: #7f7f7f\">int64</span>     │ <span style=\"color: #7f7f7f; text-decoration-color: #7f7f7f\">string</span> │ <span style=\"color: #7f7f7f; text-decoration-color: #7f7f7f\">string</span>   │ <span style=\"color: #7f7f7f; text-decoration-color: #7f7f7f\">string</span>   │ <span style=\"color: #7f7f7f; text-decoration-color: #7f7f7f\">string</span>             │ <span style=\"color: #7f7f7f; text-decoration-color: #7f7f7f\">string</span> │\n",
       "├───────────┼────────┼──────────┼──────────┼────────────────────┼────────┤\n",
       "│         <span style=\"color: #008080; text-decoration-color: #008080; font-weight: bold\">0</span> │ <span style=\"color: #008000; text-decoration-color: #008000\">AK    </span> │ <span style=\"color: #008000; text-decoration-color: #008000\">ACHORAGE</span> │ <span style=\"color: #008000; text-decoration-color: #008000\">99417   </span> │ <span style=\"color: #008000; text-decoration-color: #008000\">2010 WLEY HARI AVE</span> │ <span style=\"color: #7f7f7f; text-decoration-color: #7f7f7f\">NULL</span>   │\n",
       "│         <span style=\"color: #008080; text-decoration-color: #008080; font-weight: bold\">1</span> │ <span style=\"color: #008000; text-decoration-color: #008000\">AK    </span> │ <span style=\"color: #008000; text-decoration-color: #008000\">ADAK    </span> │ <span style=\"color: #008000; text-decoration-color: #008000\">99546   </span> │ <span style=\"color: #008000; text-decoration-color: #008000\">241 AMCHITKA CIR  </span> │ <span style=\"color: #7f7f7f; text-decoration-color: #7f7f7f\">NULL</span>   │\n",
       "│         <span style=\"color: #008080; text-decoration-color: #008080; font-weight: bold\">2</span> │ <span style=\"color: #008000; text-decoration-color: #008000\">AK    </span> │ <span style=\"color: #008000; text-decoration-color: #008000\">ADAK    </span> │ <span style=\"color: #008000; text-decoration-color: #008000\">99546   </span> │ <span style=\"color: #008000; text-decoration-color: #008000\">24317 SEWARD HWY  </span> │ <span style=\"color: #7f7f7f; text-decoration-color: #7f7f7f\">NULL</span>   │\n",
       "│         <span style=\"color: #008080; text-decoration-color: #008080; font-weight: bold\">3</span> │ <span style=\"color: #008000; text-decoration-color: #008000\">AK    </span> │ <span style=\"color: #008000; text-decoration-color: #008000\">ADAK    </span> │ <span style=\"color: #008000; text-decoration-color: #008000\">99546   </span> │ <span style=\"color: #008000; text-decoration-color: #008000\">351 AURIGA LN     </span> │ <span style=\"color: #7f7f7f; text-decoration-color: #7f7f7f\">NULL</span>   │\n",
       "│         <span style=\"color: #008080; text-decoration-color: #008080; font-weight: bold\">4</span> │ <span style=\"color: #008000; text-decoration-color: #008000\">AK    </span> │ <span style=\"color: #008000; text-decoration-color: #008000\">AKIACHAK</span> │ <span style=\"color: #008000; text-decoration-color: #008000\">99551   </span> │ <span style=\"color: #008000; text-decoration-color: #008000\">12410 HOPA CIR    </span> │ <span style=\"color: #7f7f7f; text-decoration-color: #7f7f7f\">NULL</span>   │\n",
       "│         <span style=\"color: #008080; text-decoration-color: #008080; font-weight: bold\">5</span> │ <span style=\"color: #008000; text-decoration-color: #008000\">AK    </span> │ <span style=\"color: #008000; text-decoration-color: #008000\">AKIACHAK</span> │ <span style=\"color: #008000; text-decoration-color: #008000\">99551   </span> │ <span style=\"color: #008000; text-decoration-color: #008000\">12812 OOMIPK CIR  </span> │ <span style=\"color: #7f7f7f; text-decoration-color: #7f7f7f\">NULL</span>   │\n",
       "│         <span style=\"color: #008080; text-decoration-color: #008080; font-weight: bold\">6</span> │ <span style=\"color: #008000; text-decoration-color: #008000\">AK    </span> │ <span style=\"color: #008000; text-decoration-color: #008000\">AKIACHAK</span> │ <span style=\"color: #008000; text-decoration-color: #008000\">99551   </span> │ <span style=\"color: #008000; text-decoration-color: #008000\">1760 A HEIRLAM DR </span> │ <span style=\"color: #7f7f7f; text-decoration-color: #7f7f7f\">NULL</span>   │\n",
       "│         <span style=\"color: #008080; text-decoration-color: #008080; font-weight: bold\">7</span> │ <span style=\"color: #008000; text-decoration-color: #008000\">AK    </span> │ <span style=\"color: #008000; text-decoration-color: #008000\">AKIACHAK</span> │ <span style=\"color: #008000; text-decoration-color: #008000\">99551   </span> │ <span style=\"color: #008000; text-decoration-color: #008000\">1985 BRANDILYN ST </span> │ <span style=\"color: #7f7f7f; text-decoration-color: #7f7f7f\">NULL</span>   │\n",
       "│         <span style=\"color: #008080; text-decoration-color: #008080; font-weight: bold\">8</span> │ <span style=\"color: #008000; text-decoration-color: #008000\">AK    </span> │ <span style=\"color: #008000; text-decoration-color: #008000\">AKIACHAK</span> │ <span style=\"color: #008000; text-decoration-color: #008000\">99551   </span> │ <span style=\"color: #008000; text-decoration-color: #008000\">2503 LN HONDA DR  </span> │ <span style=\"color: #7f7f7f; text-decoration-color: #7f7f7f\">NULL</span>   │\n",
       "│         <span style=\"color: #008080; text-decoration-color: #008080; font-weight: bold\">9</span> │ <span style=\"color: #008000; text-decoration-color: #008000\">AK    </span> │ <span style=\"color: #008000; text-decoration-color: #008000\">AKIACHAK</span> │ <span style=\"color: #008000; text-decoration-color: #008000\">99551   </span> │ <span style=\"color: #008000; text-decoration-color: #008000\">8731 SULTANA DR   </span> │ <span style=\"color: #7f7f7f; text-decoration-color: #7f7f7f\">NULL</span>   │\n",
       "│         <span style=\"color: #7f7f7f; text-decoration-color: #7f7f7f\">…</span> │ <span style=\"color: #7f7f7f; text-decoration-color: #7f7f7f\">…</span>      │ <span style=\"color: #7f7f7f; text-decoration-color: #7f7f7f\">…</span>        │ <span style=\"color: #7f7f7f; text-decoration-color: #7f7f7f\">…</span>        │ <span style=\"color: #7f7f7f; text-decoration-color: #7f7f7f\">…</span>                  │ <span style=\"color: #7f7f7f; text-decoration-color: #7f7f7f\">…</span>      │\n",
       "└───────────┴────────┴──────────┴──────────┴────────────────────┴────────┘\n",
       "</pre>\n"
      ],
      "text/plain": [
       "┏━━━━━━━━━━━┳━━━━━━━━┳━━━━━━━━━━┳━━━━━━━━━━┳━━━━━━━━━━━━━━━━━━━━┳━━━━━━━━┓\n",
       "┃\u001b[1m \u001b[0m\u001b[1mrecord_id\u001b[0m\u001b[1m \u001b[0m┃\u001b[1m \u001b[0m\u001b[1mstate\u001b[0m\u001b[1m \u001b[0m\u001b[1m \u001b[0m┃\u001b[1m \u001b[0m\u001b[1mcity\u001b[0m\u001b[1m    \u001b[0m\u001b[1m \u001b[0m┃\u001b[1m \u001b[0m\u001b[1mpostcode\u001b[0m\u001b[1m \u001b[0m┃\u001b[1m \u001b[0m\u001b[1mstreet\u001b[0m\u001b[1m            \u001b[0m\u001b[1m \u001b[0m┃\u001b[1m \u001b[0m\u001b[1munit\u001b[0m\u001b[1m  \u001b[0m\u001b[1m \u001b[0m┃\n",
       "┡━━━━━━━━━━━╇━━━━━━━━╇━━━━━━━━━━╇━━━━━━━━━━╇━━━━━━━━━━━━━━━━━━━━╇━━━━━━━━┩\n",
       "│ \u001b[2mint64\u001b[0m     │ \u001b[2mstring\u001b[0m │ \u001b[2mstring\u001b[0m   │ \u001b[2mstring\u001b[0m   │ \u001b[2mstring\u001b[0m             │ \u001b[2mstring\u001b[0m │\n",
       "├───────────┼────────┼──────────┼──────────┼────────────────────┼────────┤\n",
       "│         \u001b[1;36m0\u001b[0m │ \u001b[32mAK    \u001b[0m │ \u001b[32mACHORAGE\u001b[0m │ \u001b[32m99417   \u001b[0m │ \u001b[32m2010 WLEY HARI AVE\u001b[0m │ \u001b[2mNULL\u001b[0m   │\n",
       "│         \u001b[1;36m1\u001b[0m │ \u001b[32mAK    \u001b[0m │ \u001b[32mADAK    \u001b[0m │ \u001b[32m99546   \u001b[0m │ \u001b[32m241 AMCHITKA CIR  \u001b[0m │ \u001b[2mNULL\u001b[0m   │\n",
       "│         \u001b[1;36m2\u001b[0m │ \u001b[32mAK    \u001b[0m │ \u001b[32mADAK    \u001b[0m │ \u001b[32m99546   \u001b[0m │ \u001b[32m24317 SEWARD HWY  \u001b[0m │ \u001b[2mNULL\u001b[0m   │\n",
       "│         \u001b[1;36m3\u001b[0m │ \u001b[32mAK    \u001b[0m │ \u001b[32mADAK    \u001b[0m │ \u001b[32m99546   \u001b[0m │ \u001b[32m351 AURIGA LN     \u001b[0m │ \u001b[2mNULL\u001b[0m   │\n",
       "│         \u001b[1;36m4\u001b[0m │ \u001b[32mAK    \u001b[0m │ \u001b[32mAKIACHAK\u001b[0m │ \u001b[32m99551   \u001b[0m │ \u001b[32m12410 HOPA CIR    \u001b[0m │ \u001b[2mNULL\u001b[0m   │\n",
       "│         \u001b[1;36m5\u001b[0m │ \u001b[32mAK    \u001b[0m │ \u001b[32mAKIACHAK\u001b[0m │ \u001b[32m99551   \u001b[0m │ \u001b[32m12812 OOMIPK CIR  \u001b[0m │ \u001b[2mNULL\u001b[0m   │\n",
       "│         \u001b[1;36m6\u001b[0m │ \u001b[32mAK    \u001b[0m │ \u001b[32mAKIACHAK\u001b[0m │ \u001b[32m99551   \u001b[0m │ \u001b[32m1760 A HEIRLAM DR \u001b[0m │ \u001b[2mNULL\u001b[0m   │\n",
       "│         \u001b[1;36m7\u001b[0m │ \u001b[32mAK    \u001b[0m │ \u001b[32mAKIACHAK\u001b[0m │ \u001b[32m99551   \u001b[0m │ \u001b[32m1985 BRANDILYN ST \u001b[0m │ \u001b[2mNULL\u001b[0m   │\n",
       "│         \u001b[1;36m8\u001b[0m │ \u001b[32mAK    \u001b[0m │ \u001b[32mAKIACHAK\u001b[0m │ \u001b[32m99551   \u001b[0m │ \u001b[32m2503 LN HONDA DR  \u001b[0m │ \u001b[2mNULL\u001b[0m   │\n",
       "│         \u001b[1;36m9\u001b[0m │ \u001b[32mAK    \u001b[0m │ \u001b[32mAKIACHAK\u001b[0m │ \u001b[32m99551   \u001b[0m │ \u001b[32m8731 SULTANA DR   \u001b[0m │ \u001b[2mNULL\u001b[0m   │\n",
       "│         \u001b[2m…\u001b[0m │ \u001b[2m…\u001b[0m      │ \u001b[2m…\u001b[0m        │ \u001b[2m…\u001b[0m        │ \u001b[2m…\u001b[0m                  │ \u001b[2m…\u001b[0m      │\n",
       "└───────────┴────────┴──────────┴──────────┴────────────────────┴────────┘"
      ]
     },
     "execution_count": 4,
     "metadata": {},
     "output_type": "execute_result"
    }
   ],
   "source": [
    "print(dirty.count().execute())\n",
    "dirty"
   ]
  },
  {
   "cell_type": "code",
   "execution_count": 5,
   "metadata": {},
   "outputs": [],
   "source": [
    "def norm_string(s: ibis.ir.StringValue) -> ibis.ir.StringValue:\n",
    "    return mismo.text.norm_whitespace(s).upper().nullif(\"\")\n",
    "\n",
    "\n",
    "normed_strings = ibis.selectors.across(ibis.selectors.of_type(str), norm_string)\n",
    "\n",
    "clean = clean.mutate(normed_strings).cache()\n",
    "dirty = dirty.mutate(normed_strings).cache()"
   ]
  },
  {
   "cell_type": "code",
   "execution_count": 6,
   "metadata": {},
   "outputs": [
    {
     "data": {
      "text/html": [
       "<pre style=\"white-space:pre;overflow-x:auto;line-height:normal;font-family:Menlo,'DejaVu Sans Mono',consolas,'Courier New',monospace\">┏━━━━━━━━━━━┳━━━━━━━━━━┳━━━━━━━━━━━━━━━━━━━━━┳━━━━━━━━━━━┳━━━━━━━┓\n",
       "┃<span style=\"font-weight: bold\"> city      </span>┃<span style=\"font-weight: bold\"> postcode </span>┃<span style=\"font-weight: bold\"> street              </span>┃<span style=\"font-weight: bold\"> unit      </span>┃<span style=\"font-weight: bold\"> n     </span>┃\n",
       "┡━━━━━━━━━━━╇━━━━━━━━━━╇━━━━━━━━━━━━━━━━━━━━━╇━━━━━━━━━━━╇━━━━━━━┩\n",
       "│ <span style=\"color: #7f7f7f; text-decoration-color: #7f7f7f\">string</span>    │ <span style=\"color: #7f7f7f; text-decoration-color: #7f7f7f\">string</span>   │ <span style=\"color: #7f7f7f; text-decoration-color: #7f7f7f\">string</span>              │ <span style=\"color: #7f7f7f; text-decoration-color: #7f7f7f\">string</span>    │ <span style=\"color: #7f7f7f; text-decoration-color: #7f7f7f\">int64</span> │\n",
       "├───────────┼──────────┼─────────────────────┼───────────┼───────┤\n",
       "│ <span style=\"color: #008000; text-decoration-color: #008000\">ANCHORAGE</span> │ <span style=\"color: #008000; text-decoration-color: #008000\">99503   </span> │ <span style=\"color: #008000; text-decoration-color: #008000\">520 E 34TH AVE     </span> │ <span style=\"color: #008000; text-decoration-color: #008000\">UNIT 102 </span> │  <span style=\"color: #008080; text-decoration-color: #008080; font-weight: bold\">1419</span> │\n",
       "│ <span style=\"color: #008000; text-decoration-color: #008000\">ANCHORAGE</span> │ <span style=\"color: #008000; text-decoration-color: #008000\">99503   </span> │ <span style=\"color: #008000; text-decoration-color: #008000\">3801 CENTERPOINT DR</span> │ <span style=\"color: #008000; text-decoration-color: #008000\">UNIT 200 </span> │   <span style=\"color: #008080; text-decoration-color: #008080; font-weight: bold\">769</span> │\n",
       "│ <span style=\"color: #008000; text-decoration-color: #008000\">ANCHORAGE</span> │ <span style=\"color: #008000; text-decoration-color: #008000\">99503   </span> │ <span style=\"color: #008000; text-decoration-color: #008000\">101 W BENSON BLVD  </span> │ <span style=\"color: #008000; text-decoration-color: #008000\">UNIT 503 </span> │   <span style=\"color: #008080; text-decoration-color: #008080; font-weight: bold\">766</span> │\n",
       "│ <span style=\"color: #008000; text-decoration-color: #008000\">ANCHORAGE</span> │ <span style=\"color: #008000; text-decoration-color: #008000\">99503   </span> │ <span style=\"color: #008000; text-decoration-color: #008000\">3333 DENALI ST     </span> │ <span style=\"color: #008000; text-decoration-color: #008000\">UNIT 200 </span> │   <span style=\"color: #008080; text-decoration-color: #008080; font-weight: bold\">586</span> │\n",
       "│ <span style=\"color: #008000; text-decoration-color: #008000\">ANCHORAGE</span> │ <span style=\"color: #008000; text-decoration-color: #008000\">99503   </span> │ <span style=\"color: #008000; text-decoration-color: #008000\">2525 C ST          </span> │ <span style=\"color: #008000; text-decoration-color: #008000\">UNIT 500 </span> │   <span style=\"color: #008080; text-decoration-color: #008080; font-weight: bold\">562</span> │\n",
       "│ <span style=\"color: #008000; text-decoration-color: #008000\">JUNEAU   </span> │ <span style=\"color: #008000; text-decoration-color: #008000\">99801   </span> │ <span style=\"color: #008000; text-decoration-color: #008000\">201 MAIN ST        </span> │ <span style=\"color: #008000; text-decoration-color: #008000\">UNIT 300 </span> │   <span style=\"color: #008080; text-decoration-color: #008080; font-weight: bold\">503</span> │\n",
       "│ <span style=\"color: #008000; text-decoration-color: #008000\">ANCHORAGE</span> │ <span style=\"color: #008000; text-decoration-color: #008000\">99503   </span> │ <span style=\"color: #008000; text-decoration-color: #008000\">101 W BENSON BLVD  </span> │ <span style=\"color: #008000; text-decoration-color: #008000\">UNIT 101 </span> │   <span style=\"color: #008080; text-decoration-color: #008080; font-weight: bold\">434</span> │\n",
       "│ <span style=\"color: #008000; text-decoration-color: #008000\">JUNEAU   </span> │ <span style=\"color: #008000; text-decoration-color: #008000\">99801   </span> │ <span style=\"color: #008000; text-decoration-color: #008000\">211 4TH ST         </span> │ <span style=\"color: #008000; text-decoration-color: #008000\">UNIT 306 </span> │   <span style=\"color: #008080; text-decoration-color: #008080; font-weight: bold\">430</span> │\n",
       "│ <span style=\"color: #008000; text-decoration-color: #008000\">ANCHORAGE</span> │ <span style=\"color: #008000; text-decoration-color: #008000\">99503   </span> │ <span style=\"color: #008000; text-decoration-color: #008000\">2550 DENALI ST     </span> │ <span style=\"color: #008000; text-decoration-color: #008000\">UNIT 1000</span> │   <span style=\"color: #008080; text-decoration-color: #008080; font-weight: bold\">409</span> │\n",
       "│ <span style=\"color: #008000; text-decoration-color: #008000\">JUNEAU   </span> │ <span style=\"color: #008000; text-decoration-color: #008000\">99801   </span> │ <span style=\"color: #008000; text-decoration-color: #008000\">230 S FRANKLIN ST  </span> │ <span style=\"color: #008000; text-decoration-color: #008000\">UNIT 602 </span> │   <span style=\"color: #008080; text-decoration-color: #008080; font-weight: bold\">388</span> │\n",
       "│ <span style=\"color: #7f7f7f; text-decoration-color: #7f7f7f\">…</span>         │ <span style=\"color: #7f7f7f; text-decoration-color: #7f7f7f\">…</span>        │ <span style=\"color: #7f7f7f; text-decoration-color: #7f7f7f\">…</span>                   │ <span style=\"color: #7f7f7f; text-decoration-color: #7f7f7f\">…</span>         │     <span style=\"color: #7f7f7f; text-decoration-color: #7f7f7f\">…</span> │\n",
       "└───────────┴──────────┴─────────────────────┴───────────┴───────┘\n",
       "</pre>\n"
      ],
      "text/plain": [
       "┏━━━━━━━━━━━┳━━━━━━━━━━┳━━━━━━━━━━━━━━━━━━━━━┳━━━━━━━━━━━┳━━━━━━━┓\n",
       "┃\u001b[1m \u001b[0m\u001b[1mcity\u001b[0m\u001b[1m     \u001b[0m\u001b[1m \u001b[0m┃\u001b[1m \u001b[0m\u001b[1mpostcode\u001b[0m\u001b[1m \u001b[0m┃\u001b[1m \u001b[0m\u001b[1mstreet\u001b[0m\u001b[1m             \u001b[0m\u001b[1m \u001b[0m┃\u001b[1m \u001b[0m\u001b[1munit\u001b[0m\u001b[1m     \u001b[0m\u001b[1m \u001b[0m┃\u001b[1m \u001b[0m\u001b[1mn\u001b[0m\u001b[1m    \u001b[0m\u001b[1m \u001b[0m┃\n",
       "┡━━━━━━━━━━━╇━━━━━━━━━━╇━━━━━━━━━━━━━━━━━━━━━╇━━━━━━━━━━━╇━━━━━━━┩\n",
       "│ \u001b[2mstring\u001b[0m    │ \u001b[2mstring\u001b[0m   │ \u001b[2mstring\u001b[0m              │ \u001b[2mstring\u001b[0m    │ \u001b[2mint64\u001b[0m │\n",
       "├───────────┼──────────┼─────────────────────┼───────────┼───────┤\n",
       "│ \u001b[32mANCHORAGE\u001b[0m │ \u001b[32m99503   \u001b[0m │ \u001b[32m520 E 34TH AVE     \u001b[0m │ \u001b[32mUNIT 102 \u001b[0m │  \u001b[1;36m1419\u001b[0m │\n",
       "│ \u001b[32mANCHORAGE\u001b[0m │ \u001b[32m99503   \u001b[0m │ \u001b[32m3801 CENTERPOINT DR\u001b[0m │ \u001b[32mUNIT 200 \u001b[0m │   \u001b[1;36m769\u001b[0m │\n",
       "│ \u001b[32mANCHORAGE\u001b[0m │ \u001b[32m99503   \u001b[0m │ \u001b[32m101 W BENSON BLVD  \u001b[0m │ \u001b[32mUNIT 503 \u001b[0m │   \u001b[1;36m766\u001b[0m │\n",
       "│ \u001b[32mANCHORAGE\u001b[0m │ \u001b[32m99503   \u001b[0m │ \u001b[32m3333 DENALI ST     \u001b[0m │ \u001b[32mUNIT 200 \u001b[0m │   \u001b[1;36m586\u001b[0m │\n",
       "│ \u001b[32mANCHORAGE\u001b[0m │ \u001b[32m99503   \u001b[0m │ \u001b[32m2525 C ST          \u001b[0m │ \u001b[32mUNIT 500 \u001b[0m │   \u001b[1;36m562\u001b[0m │\n",
       "│ \u001b[32mJUNEAU   \u001b[0m │ \u001b[32m99801   \u001b[0m │ \u001b[32m201 MAIN ST        \u001b[0m │ \u001b[32mUNIT 300 \u001b[0m │   \u001b[1;36m503\u001b[0m │\n",
       "│ \u001b[32mANCHORAGE\u001b[0m │ \u001b[32m99503   \u001b[0m │ \u001b[32m101 W BENSON BLVD  \u001b[0m │ \u001b[32mUNIT 101 \u001b[0m │   \u001b[1;36m434\u001b[0m │\n",
       "│ \u001b[32mJUNEAU   \u001b[0m │ \u001b[32m99801   \u001b[0m │ \u001b[32m211 4TH ST         \u001b[0m │ \u001b[32mUNIT 306 \u001b[0m │   \u001b[1;36m430\u001b[0m │\n",
       "│ \u001b[32mANCHORAGE\u001b[0m │ \u001b[32m99503   \u001b[0m │ \u001b[32m2550 DENALI ST     \u001b[0m │ \u001b[32mUNIT 1000\u001b[0m │   \u001b[1;36m409\u001b[0m │\n",
       "│ \u001b[32mJUNEAU   \u001b[0m │ \u001b[32m99801   \u001b[0m │ \u001b[32m230 S FRANKLIN ST  \u001b[0m │ \u001b[32mUNIT 602 \u001b[0m │   \u001b[1;36m388\u001b[0m │\n",
       "│ \u001b[2m…\u001b[0m         │ \u001b[2m…\u001b[0m        │ \u001b[2m…\u001b[0m                   │ \u001b[2m…\u001b[0m         │     \u001b[2m…\u001b[0m │\n",
       "└───────────┴──────────┴─────────────────────┴───────────┴───────┘"
      ]
     },
     "execution_count": 6,
     "metadata": {},
     "output_type": "execute_result"
    }
   ],
   "source": [
    "from mismo import KeyLinker\n",
    "\n",
    "address_linker = KeyLinker(\"city\", \"postcode\", \"street\", \"unit\")\n",
    "address_linker.key_counts(dirty)"
   ]
  },
  {
   "cell_type": "code",
   "execution_count": 7,
   "metadata": {},
   "outputs": [
    {
     "data": {
      "text/plain": [
       "<mismo.linkage._combine.AndJoinConditionsLinkage at 0x128866bd0>"
      ]
     },
     "execution_count": 7,
     "metadata": {},
     "output_type": "execute_result"
    }
   ],
   "source": [
    "many_linkages = [\n",
    "    KeyLinker(\"city\", \"street\", \"unit\").__link__(clean, dirty),\n",
    "    KeyLinker(\"postcode\", \"street\", \"unit\").__link__(clean, dirty),\n",
    "]\n",
    "linkage = mismo.linkage.intersect(many_linkages)\n",
    "linkage"
   ]
  },
  {
   "cell_type": "code",
   "execution_count": 8,
   "metadata": {},
   "outputs": [
    {
     "data": {
      "text/plain": [
       "(KeyLinkage(\n",
       "     keys=(city, street, unit)\n",
       "     nleft=315_659\n",
       "     nright=992_329\n",
       "     nlinks=102\n",
       " ),\n",
       " KeyLinkage(\n",
       "     keys=(postcode, street, unit)\n",
       "     nleft=315_659\n",
       "     nright=992_329\n",
       "     nlinks=102\n",
       " ))"
      ]
     },
     "execution_count": 8,
     "metadata": {},
     "output_type": "execute_result"
    }
   ],
   "source": [
    "linkage.__sublinkages__()"
   ]
  },
  {
   "cell_type": "code",
   "execution_count": 9,
   "metadata": {},
   "outputs": [
    {
     "data": {
      "text/plain": [
       "<mismo.linkage._combine.UnionLinkage at 0x12d4111c0>"
      ]
     },
     "execution_count": 9,
     "metadata": {},
     "output_type": "execute_result"
    }
   ],
   "source": [
    "linkage2 = mismo.linkage.union(\n",
    "    [linkage, KeyLinker(\"city\", _.street[:5], \"unit\").__link__(clean, dirty)]\n",
    ")\n",
    "linkage2"
   ]
  },
  {
   "cell_type": "code",
   "execution_count": 10,
   "metadata": {},
   "outputs": [
    {
     "data": {
      "text/plain": [
       "(<mismo.linkage._combine.AndJoinConditionsLinkage at 0x128866bd0>,\n",
       " KeyLinkage(\n",
       "     keys=(city, _.street[slice(None, 5, None)], unit)\n",
       "     nleft=315_659\n",
       "     nright=992_329\n",
       "     nlinks=3_417\n",
       " ))"
      ]
     },
     "execution_count": 10,
     "metadata": {},
     "output_type": "execute_result"
    }
   ],
   "source": [
    "linkage2.__sublinkages__()"
   ]
  },
  {
   "cell_type": "code",
   "execution_count": 6,
   "metadata": {},
   "outputs": [
    {
     "data": {
      "text/plain": [
       "KeyLinkage(\n",
       "    keys=(city, postcode, street, unit)\n",
       "    nleft=315_659\n",
       "    nright=992_329\n",
       "    nlinks=102\n",
       ")"
      ]
     },
     "execution_count": 6,
     "metadata": {},
     "output_type": "execute_result"
    }
   ],
   "source": [
    "linkage = address_linker.linkage(clean, dirty)\n",
    "linkage"
   ]
  },
  {
   "cell_type": "code",
   "execution_count": 7,
   "metadata": {},
   "outputs": [
    {
     "data": {
      "text/html": [
       "<pre style=\"white-space:pre;overflow-x:auto;line-height:normal;font-family:Menlo,'DejaVu Sans Mono',consolas,'Courier New',monospace\"></pre>\n"
      ],
      "text/plain": []
     },
     "metadata": {},
     "output_type": "display_data"
    },
    {
     "data": {
      "text/html": [
       "<pre style=\"white-space:pre;overflow-x:auto;line-height:normal;font-family:Menlo,'DejaVu Sans Mono',consolas,'Courier New',monospace\"></pre>\n"
      ],
      "text/plain": []
     },
     "metadata": {},
     "output_type": "display_data"
    },
    {
     "data": {
      "text/plain": [
       "(┏━━━━━━━━━━━┳━━━━━━━━┳━━━━━━━━━━━┳━━━━━━━━━━┳━━━━━━━━━━━━━━━━┳━━━━━━━━┓\n",
       " ┃\u001b[1m \u001b[0m\u001b[1mrecord_id\u001b[0m\u001b[1m \u001b[0m┃\u001b[1m \u001b[0m\u001b[1mstate\u001b[0m\u001b[1m \u001b[0m\u001b[1m \u001b[0m┃\u001b[1m \u001b[0m\u001b[1mcity\u001b[0m\u001b[1m     \u001b[0m\u001b[1m \u001b[0m┃\u001b[1m \u001b[0m\u001b[1mpostcode\u001b[0m\u001b[1m \u001b[0m┃\u001b[1m \u001b[0m\u001b[1mstreet\u001b[0m\u001b[1m        \u001b[0m\u001b[1m \u001b[0m┃\u001b[1m \u001b[0m\u001b[1munit\u001b[0m\u001b[1m  \u001b[0m\u001b[1m \u001b[0m┃\n",
       " ┡━━━━━━━━━━━╇━━━━━━━━╇━━━━━━━━━━━╇━━━━━━━━━━╇━━━━━━━━━━━━━━━━╇━━━━━━━━┩\n",
       " │ \u001b[2mint64\u001b[0m     │ \u001b[2mstring\u001b[0m │ \u001b[2mstring\u001b[0m    │ \u001b[2mstring\u001b[0m   │ \u001b[2mstring\u001b[0m         │ \u001b[2mstring\u001b[0m │\n",
       " ├───────────┼────────┼───────────┼──────────┼────────────────┼────────┤\n",
       " │    \u001b[1;36m354101\u001b[0m │ \u001b[32mAK    \u001b[0m │ \u001b[32mANCHORAGE\u001b[0m │ \u001b[32m99508   \u001b[0m │ \u001b[32m4228 LAUREL ST\u001b[0m │ \u001b[2mNULL\u001b[0m   │\n",
       " │    \u001b[1;36m354102\u001b[0m │ \u001b[32mAK    \u001b[0m │ \u001b[32mANCHORAGE\u001b[0m │ \u001b[32m99508   \u001b[0m │ \u001b[32m4228 LAUREL ST\u001b[0m │ \u001b[2mNULL\u001b[0m   │\n",
       " │    \u001b[1;36m354103\u001b[0m │ \u001b[32mAK    \u001b[0m │ \u001b[32mANCHORAGE\u001b[0m │ \u001b[32m99508   \u001b[0m │ \u001b[32m4228 LAUREL ST\u001b[0m │ \u001b[2mNULL\u001b[0m   │\n",
       " │    \u001b[1;36m354104\u001b[0m │ \u001b[32mAK    \u001b[0m │ \u001b[32mANCHORAGE\u001b[0m │ \u001b[32m99508   \u001b[0m │ \u001b[32m4228 LAUREL ST\u001b[0m │ \u001b[2mNULL\u001b[0m   │\n",
       " │    \u001b[1;36m354105\u001b[0m │ \u001b[32mAK    \u001b[0m │ \u001b[32mANCHORAGE\u001b[0m │ \u001b[32m99508   \u001b[0m │ \u001b[32m4228 LAUREL ST\u001b[0m │ \u001b[2mNULL\u001b[0m   │\n",
       " │    \u001b[1;36m354106\u001b[0m │ \u001b[32mAK    \u001b[0m │ \u001b[32mANCHORAGE\u001b[0m │ \u001b[32m99508   \u001b[0m │ \u001b[32m4228 LAUREL ST\u001b[0m │ \u001b[2mNULL\u001b[0m   │\n",
       " │    \u001b[1;36m354107\u001b[0m │ \u001b[32mAK    \u001b[0m │ \u001b[32mANCHORAGE\u001b[0m │ \u001b[32m99508   \u001b[0m │ \u001b[32m4228 LAUREL ST\u001b[0m │ \u001b[2mNULL\u001b[0m   │\n",
       " │    \u001b[1;36m354108\u001b[0m │ \u001b[32mAK    \u001b[0m │ \u001b[32mANCHORAGE\u001b[0m │ \u001b[32m99508   \u001b[0m │ \u001b[32m4228 LAUREL ST\u001b[0m │ \u001b[2mNULL\u001b[0m   │\n",
       " │    \u001b[1;36m354109\u001b[0m │ \u001b[32mAK    \u001b[0m │ \u001b[32mANCHORAGE\u001b[0m │ \u001b[32m99508   \u001b[0m │ \u001b[32m4228 LAUREL ST\u001b[0m │ \u001b[2mNULL\u001b[0m   │\n",
       " │    \u001b[1;36m354110\u001b[0m │ \u001b[32mAK    \u001b[0m │ \u001b[32mANCHORAGE\u001b[0m │ \u001b[32m99508   \u001b[0m │ \u001b[32m4228 LAUREL ST\u001b[0m │ \u001b[2mNULL\u001b[0m   │\n",
       " │         \u001b[2m…\u001b[0m │ \u001b[2m…\u001b[0m      │ \u001b[2m…\u001b[0m         │ \u001b[2m…\u001b[0m        │ \u001b[2m…\u001b[0m              │ \u001b[2m…\u001b[0m      │\n",
       " └───────────┴────────┴───────────┴──────────┴────────────────┴────────┘,\n",
       " ┏━━━━━━━━━━━┳━━━━━━━━┳━━━━━━━━━━━┳━━━━━━━━━━┳━━━━━━━━━━━━━━━━━━━━┳━━━━━━━━┳━━━━━━━━━━━━━┳━━━━━━━━━━━┓\n",
       " ┃\u001b[1m \u001b[0m\u001b[1mrecord_id\u001b[0m\u001b[1m \u001b[0m┃\u001b[1m \u001b[0m\u001b[1mstate\u001b[0m\u001b[1m \u001b[0m\u001b[1m \u001b[0m┃\u001b[1m \u001b[0m\u001b[1mcity\u001b[0m\u001b[1m     \u001b[0m\u001b[1m \u001b[0m┃\u001b[1m \u001b[0m\u001b[1mpostcode\u001b[0m\u001b[1m \u001b[0m┃\u001b[1m \u001b[0m\u001b[1mstreet\u001b[0m\u001b[1m            \u001b[0m\u001b[1m \u001b[0m┃\u001b[1m \u001b[0m\u001b[1munit\u001b[0m\u001b[1m  \u001b[0m\u001b[1m \u001b[0m┃\u001b[1m \u001b[0m\u001b[1mlon\u001b[0m\u001b[1m        \u001b[0m\u001b[1m \u001b[0m┃\u001b[1m \u001b[0m\u001b[1mlat\u001b[0m\u001b[1m      \u001b[0m\u001b[1m \u001b[0m┃\n",
       " ┡━━━━━━━━━━━╇━━━━━━━━╇━━━━━━━━━━━╇━━━━━━━━━━╇━━━━━━━━━━━━━━━━━━━━╇━━━━━━━━╇━━━━━━━━━━━━━╇━━━━━━━━━━━┩\n",
       " │ \u001b[2mint64\u001b[0m     │ \u001b[2mstring\u001b[0m │ \u001b[2mstring\u001b[0m    │ \u001b[2mstring\u001b[0m   │ \u001b[2mstring\u001b[0m             │ \u001b[2mstring\u001b[0m │ \u001b[2mfloat64\u001b[0m     │ \u001b[2mfloat64\u001b[0m   │\n",
       " ├───────────┼────────┼───────────┼──────────┼────────────────────┼────────┼─────────────┼───────────┤\n",
       " │     \u001b[1;36m77116\u001b[0m │ \u001b[32mAK    \u001b[0m │ \u001b[32mANCHORAGE\u001b[0m │ \u001b[32m99508   \u001b[0m │ \u001b[32m4228 LAUREL STREET\u001b[0m │ \u001b[2mNULL\u001b[0m   │ \u001b[1;36m-149.834768\u001b[0m │ \u001b[1;36m61.182255\u001b[0m │\n",
       " └───────────┴────────┴───────────┴──────────┴────────────────────┴────────┴─────────────┴───────────┘)"
      ]
     },
     "execution_count": 7,
     "metadata": {},
     "output_type": "execute_result"
    }
   ],
   "source": [
    "is_laurel = _.street.contains(\"4228 LAUREL\")\n",
    "dirty.filter(is_laurel), clean.filter(is_laurel)"
   ]
  },
  {
   "cell_type": "code",
   "execution_count": 8,
   "metadata": {},
   "outputs": [
    {
     "data": {
      "application/vnd.jupyter.widget-view+json": {
       "model_id": "41b1e3aba76b4556a93193279666069e",
       "version_major": 2,
       "version_minor": 0
      },
      "text/plain": [
       "FloatProgress(value=0.0, layout=Layout(width='auto'), style=ProgressStyle(bar_color='black'))"
      ]
     },
     "metadata": {},
     "output_type": "display_data"
    },
    {
     "data": {
      "application/vnd.jupyter.widget-view+json": {
       "model_id": "995a8673ae3b4999aa8fc4825339bfdd",
       "version_major": 2,
       "version_minor": 0
      },
      "text/plain": [
       "FloatProgress(value=0.0, layout=Layout(width='auto'), style=ProgressStyle(bar_color='black'))"
      ]
     },
     "metadata": {},
     "output_type": "display_data"
    },
    {
     "data": {
      "text/html": [
       "<pre style=\"white-space:pre;overflow-x:auto;line-height:normal;font-family:Menlo,'DejaVu Sans Mono',consolas,'Courier New',monospace\">┏━━━━━━━━━━━┳━━━━━━━━┳━━━━━━━━━━━━━━┳━━━━━━━━━━┳━━━━━━━━━━━━━━━━━━━━━━━━┳━━━━━━━━┳━━━━━━━━━━━━━┳━━━━━━━━━━━┳━━━━━━━━━━━━━━━━━━━━━━━━━┓\n",
       "┃<span style=\"font-weight: bold\"> record_id </span>┃<span style=\"font-weight: bold\"> state  </span>┃<span style=\"font-weight: bold\"> city         </span>┃<span style=\"font-weight: bold\"> postcode </span>┃<span style=\"font-weight: bold\"> street                 </span>┃<span style=\"font-weight: bold\"> unit   </span>┃<span style=\"font-weight: bold\"> lon         </span>┃<span style=\"font-weight: bold\"> lat       </span>┃<span style=\"font-weight: bold\"> trigrams                </span>┃\n",
       "┡━━━━━━━━━━━╇━━━━━━━━╇━━━━━━━━━━━━━━╇━━━━━━━━━━╇━━━━━━━━━━━━━━━━━━━━━━━━╇━━━━━━━━╇━━━━━━━━━━━━━╇━━━━━━━━━━━╇━━━━━━━━━━━━━━━━━━━━━━━━━┩\n",
       "│ <span style=\"color: #7f7f7f; text-decoration-color: #7f7f7f\">int64</span>     │ <span style=\"color: #7f7f7f; text-decoration-color: #7f7f7f\">string</span> │ <span style=\"color: #7f7f7f; text-decoration-color: #7f7f7f\">string</span>       │ <span style=\"color: #7f7f7f; text-decoration-color: #7f7f7f\">string</span>   │ <span style=\"color: #7f7f7f; text-decoration-color: #7f7f7f\">string</span>                 │ <span style=\"color: #7f7f7f; text-decoration-color: #7f7f7f\">string</span> │ <span style=\"color: #7f7f7f; text-decoration-color: #7f7f7f\">float64</span>     │ <span style=\"color: #7f7f7f; text-decoration-color: #7f7f7f\">float64</span>   │ <span style=\"color: #7f7f7f; text-decoration-color: #7f7f7f\">array&lt;string&gt;</span>           │\n",
       "├───────────┼────────┼──────────────┼──────────┼────────────────────────┼────────┼─────────────┼───────────┼─────────────────────────┤\n",
       "│         <span style=\"color: #008080; text-decoration-color: #008080; font-weight: bold\">0</span> │ <span style=\"color: #008000; text-decoration-color: #008000\">AK    </span> │ <span style=\"color: #008000; text-decoration-color: #008000\">ANCHOR POINT</span> │ <span style=\"color: #008000; text-decoration-color: #008000\">99556   </span> │ <span style=\"color: #008000; text-decoration-color: #008000\">23837 NIKOLAI STREET  </span> │ <span style=\"color: #7f7f7f; text-decoration-color: #7f7f7f\">NULL</span>   │ <span style=\"color: #008080; text-decoration-color: #008080; font-weight: bold\">-151.746357</span> │ <span style=\"color: #008080; text-decoration-color: #008080; font-weight: bold\">59.926617</span> │ <span style=\"font-weight: bold\">[</span><span style=\"color: #008000; text-decoration-color: #008000\">'STR'</span>, <span style=\"color: #008000; text-decoration-color: #008000\">'NIK'</span>, <span style=\"color: #808000; text-decoration-color: #808000\">...</span> +<span style=\"color: #008080; text-decoration-color: #008080; font-weight: bold\">20</span><span style=\"font-weight: bold\">]</span> │\n",
       "│         <span style=\"color: #008080; text-decoration-color: #008080; font-weight: bold\">1</span> │ <span style=\"color: #008000; text-decoration-color: #008000\">AK    </span> │ <span style=\"color: #008000; text-decoration-color: #008000\">ANCHOR POINT</span> │ <span style=\"color: #008000; text-decoration-color: #008000\">99556   </span> │ <span style=\"color: #008000; text-decoration-color: #008000\">24338 MISTY LANE      </span> │ <span style=\"color: #7f7f7f; text-decoration-color: #7f7f7f\">NULL</span>   │ <span style=\"color: #008080; text-decoration-color: #008080; font-weight: bold\">-151.739071</span> │ <span style=\"color: #008080; text-decoration-color: #008080; font-weight: bold\">59.919594</span> │ <span style=\"font-weight: bold\">[</span><span style=\"color: #008000; text-decoration-color: #008000\">'ANE'</span>, <span style=\"color: #008000; text-decoration-color: #008000\">'LAN'</span>, <span style=\"color: #808000; text-decoration-color: #808000\">...</span> +<span style=\"color: #008080; text-decoration-color: #008080; font-weight: bold\">16</span><span style=\"font-weight: bold\">]</span> │\n",
       "│         <span style=\"color: #008080; text-decoration-color: #008080; font-weight: bold\">2</span> │ <span style=\"color: #008000; text-decoration-color: #008000\">AK    </span> │ <span style=\"color: #008000; text-decoration-color: #008000\">ANCHOR POINT</span> │ <span style=\"color: #008000; text-decoration-color: #008000\">99556   </span> │ <span style=\"color: #008000; text-decoration-color: #008000\">24715 STERLING HIGHWAY</span> │ <span style=\"color: #7f7f7f; text-decoration-color: #7f7f7f\">NULL</span>   │ <span style=\"color: #008080; text-decoration-color: #008080; font-weight: bold\">-151.755646</span> │ <span style=\"color: #008080; text-decoration-color: #008080; font-weight: bold\">59.913984</span> │ <span style=\"font-weight: bold\">[</span><span style=\"color: #008000; text-decoration-color: #008000\">'WAY'</span>, <span style=\"color: #008000; text-decoration-color: #008000\">'GHW'</span>, <span style=\"color: #808000; text-decoration-color: #808000\">...</span> +<span style=\"color: #008080; text-decoration-color: #008080; font-weight: bold\">22</span><span style=\"font-weight: bold\">]</span> │\n",
       "│         <span style=\"color: #008080; text-decoration-color: #008080; font-weight: bold\">3</span> │ <span style=\"color: #008000; text-decoration-color: #008000\">AK    </span> │ <span style=\"color: #008000; text-decoration-color: #008000\">ANCHOR POINT</span> │ <span style=\"color: #008000; text-decoration-color: #008000\">99556   </span> │ <span style=\"color: #008000; text-decoration-color: #008000\">24803 INLET COVE LANE </span> │ <span style=\"color: #7f7f7f; text-decoration-color: #7f7f7f\">NULL</span>   │ <span style=\"color: #008080; text-decoration-color: #008080; font-weight: bold\">-151.757118</span> │ <span style=\"color: #008080; text-decoration-color: #008080; font-weight: bold\">59.912571</span> │ <span style=\"font-weight: bold\">[</span><span style=\"color: #008000; text-decoration-color: #008000\">'ANE'</span>, <span style=\"color: #008000; text-decoration-color: #008000\">'LAN'</span>, <span style=\"color: #808000; text-decoration-color: #808000\">...</span> +<span style=\"color: #008080; text-decoration-color: #008080; font-weight: bold\">18</span><span style=\"font-weight: bold\">]</span> │\n",
       "│         <span style=\"color: #008080; text-decoration-color: #008080; font-weight: bold\">4</span> │ <span style=\"color: #008000; text-decoration-color: #008000\">AK    </span> │ <span style=\"color: #008000; text-decoration-color: #008000\">ANCHOR POINT</span> │ <span style=\"color: #008000; text-decoration-color: #008000\">99556   </span> │ <span style=\"color: #008000; text-decoration-color: #008000\">24825 INLET COVE LANE </span> │ <span style=\"color: #7f7f7f; text-decoration-color: #7f7f7f\">NULL</span>   │ <span style=\"color: #008080; text-decoration-color: #008080; font-weight: bold\">-151.757657</span> │ <span style=\"color: #008080; text-decoration-color: #008080; font-weight: bold\">59.912205</span> │ <span style=\"font-weight: bold\">[</span><span style=\"color: #008000; text-decoration-color: #008000\">'ANE'</span>, <span style=\"color: #008000; text-decoration-color: #008000\">'LAN'</span>, <span style=\"color: #808000; text-decoration-color: #808000\">...</span> +<span style=\"color: #008080; text-decoration-color: #008080; font-weight: bold\">18</span><span style=\"font-weight: bold\">]</span> │\n",
       "│         <span style=\"color: #008080; text-decoration-color: #008080; font-weight: bold\">5</span> │ <span style=\"color: #008000; text-decoration-color: #008000\">AK    </span> │ <span style=\"color: #008000; text-decoration-color: #008000\">ANCHOR POINT</span> │ <span style=\"color: #008000; text-decoration-color: #008000\">99556   </span> │ <span style=\"color: #008000; text-decoration-color: #008000\">24845 INLET COVE LANE </span> │ <span style=\"color: #7f7f7f; text-decoration-color: #7f7f7f\">NULL</span>   │ <span style=\"color: #008080; text-decoration-color: #008080; font-weight: bold\">-151.757918</span> │ <span style=\"color: #008080; text-decoration-color: #008080; font-weight: bold\">59.911979</span> │ <span style=\"font-weight: bold\">[</span><span style=\"color: #008000; text-decoration-color: #008000\">'ANE'</span>, <span style=\"color: #008000; text-decoration-color: #008000\">'LAN'</span>, <span style=\"color: #808000; text-decoration-color: #808000\">...</span> +<span style=\"color: #008080; text-decoration-color: #008080; font-weight: bold\">18</span><span style=\"font-weight: bold\">]</span> │\n",
       "│         <span style=\"color: #008080; text-decoration-color: #008080; font-weight: bold\">6</span> │ <span style=\"color: #008000; text-decoration-color: #008000\">AK    </span> │ <span style=\"color: #008000; text-decoration-color: #008000\">ANCHOR POINT</span> │ <span style=\"color: #008000; text-decoration-color: #008000\">99556   </span> │ <span style=\"color: #008000; text-decoration-color: #008000\">24865 INLET COVE LANE </span> │ <span style=\"color: #7f7f7f; text-decoration-color: #7f7f7f\">NULL</span>   │ <span style=\"color: #008080; text-decoration-color: #008080; font-weight: bold\">-151.758861</span> │ <span style=\"color: #008080; text-decoration-color: #008080; font-weight: bold\">59.911740</span> │ <span style=\"font-weight: bold\">[</span><span style=\"color: #008000; text-decoration-color: #008000\">'ANE'</span>, <span style=\"color: #008000; text-decoration-color: #008000\">'LAN'</span>, <span style=\"color: #808000; text-decoration-color: #808000\">...</span> +<span style=\"color: #008080; text-decoration-color: #008080; font-weight: bold\">18</span><span style=\"font-weight: bold\">]</span> │\n",
       "│         <span style=\"color: #008080; text-decoration-color: #008080; font-weight: bold\">7</span> │ <span style=\"color: #008000; text-decoration-color: #008000\">AK    </span> │ <span style=\"color: #008000; text-decoration-color: #008000\">ANCHOR POINT</span> │ <span style=\"color: #008000; text-decoration-color: #008000\">99556   </span> │ <span style=\"color: #008000; text-decoration-color: #008000\">25100 PEPPER ROAD     </span> │ <span style=\"color: #7f7f7f; text-decoration-color: #7f7f7f\">NULL</span>   │ <span style=\"color: #008080; text-decoration-color: #008080; font-weight: bold\">-151.709791</span> │ <span style=\"color: #008080; text-decoration-color: #008080; font-weight: bold\">59.908129</span> │ <span style=\"font-weight: bold\">[</span><span style=\"color: #008000; text-decoration-color: #008000\">'OAD'</span>, <span style=\"color: #008000; text-decoration-color: #008000\">'ROA'</span>, <span style=\"color: #808000; text-decoration-color: #808000\">...</span> +<span style=\"color: #008080; text-decoration-color: #008080; font-weight: bold\">17</span><span style=\"font-weight: bold\">]</span> │\n",
       "│         <span style=\"color: #008080; text-decoration-color: #008080; font-weight: bold\">8</span> │ <span style=\"color: #008000; text-decoration-color: #008000\">AK    </span> │ <span style=\"color: #008000; text-decoration-color: #008000\">ANCHOR POINT</span> │ <span style=\"color: #008000; text-decoration-color: #008000\">99556   </span> │ <span style=\"color: #008000; text-decoration-color: #008000\">25238 STINKBUG STREET </span> │ <span style=\"color: #7f7f7f; text-decoration-color: #7f7f7f\">NULL</span>   │ <span style=\"color: #008080; text-decoration-color: #008080; font-weight: bold\">-151.692157</span> │ <span style=\"color: #008080; text-decoration-color: #008080; font-weight: bold\">59.906734</span> │ <span style=\"font-weight: bold\">[</span><span style=\"color: #008000; text-decoration-color: #008000\">'BUG'</span>, <span style=\"color: #008000; text-decoration-color: #008000\">'TIN'</span>, <span style=\"color: #808000; text-decoration-color: #808000\">...</span> +<span style=\"color: #008080; text-decoration-color: #008080; font-weight: bold\">21</span><span style=\"font-weight: bold\">]</span> │\n",
       "│         <span style=\"color: #008080; text-decoration-color: #008080; font-weight: bold\">9</span> │ <span style=\"color: #008000; text-decoration-color: #008000\">AK    </span> │ <span style=\"color: #008000; text-decoration-color: #008000\">ANCHOR POINT</span> │ <span style=\"color: #008000; text-decoration-color: #008000\">99556   </span> │ <span style=\"color: #008000; text-decoration-color: #008000\">25405 STINKBUG STREET </span> │ <span style=\"color: #7f7f7f; text-decoration-color: #7f7f7f\">NULL</span>   │ <span style=\"color: #008080; text-decoration-color: #008080; font-weight: bold\">-151.695885</span> │ <span style=\"color: #008080; text-decoration-color: #008080; font-weight: bold\">59.903846</span> │ <span style=\"font-weight: bold\">[</span><span style=\"color: #008000; text-decoration-color: #008000\">'STR'</span>, <span style=\"color: #008000; text-decoration-color: #008000\">'BUG'</span>, <span style=\"color: #808000; text-decoration-color: #808000\">...</span> +<span style=\"color: #008080; text-decoration-color: #008080; font-weight: bold\">21</span><span style=\"font-weight: bold\">]</span> │\n",
       "│         <span style=\"color: #7f7f7f; text-decoration-color: #7f7f7f\">…</span> │ <span style=\"color: #7f7f7f; text-decoration-color: #7f7f7f\">…</span>      │ <span style=\"color: #7f7f7f; text-decoration-color: #7f7f7f\">…</span>            │ <span style=\"color: #7f7f7f; text-decoration-color: #7f7f7f\">…</span>        │ <span style=\"color: #7f7f7f; text-decoration-color: #7f7f7f\">…</span>                      │ <span style=\"color: #7f7f7f; text-decoration-color: #7f7f7f\">…</span>      │           <span style=\"color: #7f7f7f; text-decoration-color: #7f7f7f\">…</span> │         <span style=\"color: #7f7f7f; text-decoration-color: #7f7f7f\">…</span> │ <span style=\"color: #7f7f7f; text-decoration-color: #7f7f7f\">…</span>                       │\n",
       "└───────────┴────────┴──────────────┴──────────┴────────────────────────┴────────┴─────────────┴───────────┴─────────────────────────┘\n",
       "</pre>\n"
      ],
      "text/plain": [
       "┏━━━━━━━━━━━┳━━━━━━━━┳━━━━━━━━━━━━━━┳━━━━━━━━━━┳━━━━━━━━━━━━━━━━━━━━━━━━┳━━━━━━━━┳━━━━━━━━━━━━━┳━━━━━━━━━━━┳━━━━━━━━━━━━━━━━━━━━━━━━━┓\n",
       "┃\u001b[1m \u001b[0m\u001b[1mrecord_id\u001b[0m\u001b[1m \u001b[0m┃\u001b[1m \u001b[0m\u001b[1mstate\u001b[0m\u001b[1m \u001b[0m\u001b[1m \u001b[0m┃\u001b[1m \u001b[0m\u001b[1mcity\u001b[0m\u001b[1m        \u001b[0m\u001b[1m \u001b[0m┃\u001b[1m \u001b[0m\u001b[1mpostcode\u001b[0m\u001b[1m \u001b[0m┃\u001b[1m \u001b[0m\u001b[1mstreet\u001b[0m\u001b[1m                \u001b[0m\u001b[1m \u001b[0m┃\u001b[1m \u001b[0m\u001b[1munit\u001b[0m\u001b[1m  \u001b[0m\u001b[1m \u001b[0m┃\u001b[1m \u001b[0m\u001b[1mlon\u001b[0m\u001b[1m        \u001b[0m\u001b[1m \u001b[0m┃\u001b[1m \u001b[0m\u001b[1mlat\u001b[0m\u001b[1m      \u001b[0m\u001b[1m \u001b[0m┃\u001b[1m \u001b[0m\u001b[1mtrigrams\u001b[0m\u001b[1m               \u001b[0m\u001b[1m \u001b[0m┃\n",
       "┡━━━━━━━━━━━╇━━━━━━━━╇━━━━━━━━━━━━━━╇━━━━━━━━━━╇━━━━━━━━━━━━━━━━━━━━━━━━╇━━━━━━━━╇━━━━━━━━━━━━━╇━━━━━━━━━━━╇━━━━━━━━━━━━━━━━━━━━━━━━━┩\n",
       "│ \u001b[2mint64\u001b[0m     │ \u001b[2mstring\u001b[0m │ \u001b[2mstring\u001b[0m       │ \u001b[2mstring\u001b[0m   │ \u001b[2mstring\u001b[0m                 │ \u001b[2mstring\u001b[0m │ \u001b[2mfloat64\u001b[0m     │ \u001b[2mfloat64\u001b[0m   │ \u001b[2marray<string>\u001b[0m           │\n",
       "├───────────┼────────┼──────────────┼──────────┼────────────────────────┼────────┼─────────────┼───────────┼─────────────────────────┤\n",
       "│         \u001b[1;36m0\u001b[0m │ \u001b[32mAK    \u001b[0m │ \u001b[32mANCHOR POINT\u001b[0m │ \u001b[32m99556   \u001b[0m │ \u001b[32m23837 NIKOLAI STREET  \u001b[0m │ \u001b[2mNULL\u001b[0m   │ \u001b[1;36m-151.746357\u001b[0m │ \u001b[1;36m59.926617\u001b[0m │ \u001b[1m[\u001b[0m\u001b[32m'STR'\u001b[0m, \u001b[32m'NIK'\u001b[0m, \u001b[33m...\u001b[0m +\u001b[1;36m20\u001b[0m\u001b[1m]\u001b[0m │\n",
       "│         \u001b[1;36m1\u001b[0m │ \u001b[32mAK    \u001b[0m │ \u001b[32mANCHOR POINT\u001b[0m │ \u001b[32m99556   \u001b[0m │ \u001b[32m24338 MISTY LANE      \u001b[0m │ \u001b[2mNULL\u001b[0m   │ \u001b[1;36m-151.739071\u001b[0m │ \u001b[1;36m59.919594\u001b[0m │ \u001b[1m[\u001b[0m\u001b[32m'ANE'\u001b[0m, \u001b[32m'LAN'\u001b[0m, \u001b[33m...\u001b[0m +\u001b[1;36m16\u001b[0m\u001b[1m]\u001b[0m │\n",
       "│         \u001b[1;36m2\u001b[0m │ \u001b[32mAK    \u001b[0m │ \u001b[32mANCHOR POINT\u001b[0m │ \u001b[32m99556   \u001b[0m │ \u001b[32m24715 STERLING HIGHWAY\u001b[0m │ \u001b[2mNULL\u001b[0m   │ \u001b[1;36m-151.755646\u001b[0m │ \u001b[1;36m59.913984\u001b[0m │ \u001b[1m[\u001b[0m\u001b[32m'WAY'\u001b[0m, \u001b[32m'GHW'\u001b[0m, \u001b[33m...\u001b[0m +\u001b[1;36m22\u001b[0m\u001b[1m]\u001b[0m │\n",
       "│         \u001b[1;36m3\u001b[0m │ \u001b[32mAK    \u001b[0m │ \u001b[32mANCHOR POINT\u001b[0m │ \u001b[32m99556   \u001b[0m │ \u001b[32m24803 INLET COVE LANE \u001b[0m │ \u001b[2mNULL\u001b[0m   │ \u001b[1;36m-151.757118\u001b[0m │ \u001b[1;36m59.912571\u001b[0m │ \u001b[1m[\u001b[0m\u001b[32m'ANE'\u001b[0m, \u001b[32m'LAN'\u001b[0m, \u001b[33m...\u001b[0m +\u001b[1;36m18\u001b[0m\u001b[1m]\u001b[0m │\n",
       "│         \u001b[1;36m4\u001b[0m │ \u001b[32mAK    \u001b[0m │ \u001b[32mANCHOR POINT\u001b[0m │ \u001b[32m99556   \u001b[0m │ \u001b[32m24825 INLET COVE LANE \u001b[0m │ \u001b[2mNULL\u001b[0m   │ \u001b[1;36m-151.757657\u001b[0m │ \u001b[1;36m59.912205\u001b[0m │ \u001b[1m[\u001b[0m\u001b[32m'ANE'\u001b[0m, \u001b[32m'LAN'\u001b[0m, \u001b[33m...\u001b[0m +\u001b[1;36m18\u001b[0m\u001b[1m]\u001b[0m │\n",
       "│         \u001b[1;36m5\u001b[0m │ \u001b[32mAK    \u001b[0m │ \u001b[32mANCHOR POINT\u001b[0m │ \u001b[32m99556   \u001b[0m │ \u001b[32m24845 INLET COVE LANE \u001b[0m │ \u001b[2mNULL\u001b[0m   │ \u001b[1;36m-151.757918\u001b[0m │ \u001b[1;36m59.911979\u001b[0m │ \u001b[1m[\u001b[0m\u001b[32m'ANE'\u001b[0m, \u001b[32m'LAN'\u001b[0m, \u001b[33m...\u001b[0m +\u001b[1;36m18\u001b[0m\u001b[1m]\u001b[0m │\n",
       "│         \u001b[1;36m6\u001b[0m │ \u001b[32mAK    \u001b[0m │ \u001b[32mANCHOR POINT\u001b[0m │ \u001b[32m99556   \u001b[0m │ \u001b[32m24865 INLET COVE LANE \u001b[0m │ \u001b[2mNULL\u001b[0m   │ \u001b[1;36m-151.758861\u001b[0m │ \u001b[1;36m59.911740\u001b[0m │ \u001b[1m[\u001b[0m\u001b[32m'ANE'\u001b[0m, \u001b[32m'LAN'\u001b[0m, \u001b[33m...\u001b[0m +\u001b[1;36m18\u001b[0m\u001b[1m]\u001b[0m │\n",
       "│         \u001b[1;36m7\u001b[0m │ \u001b[32mAK    \u001b[0m │ \u001b[32mANCHOR POINT\u001b[0m │ \u001b[32m99556   \u001b[0m │ \u001b[32m25100 PEPPER ROAD     \u001b[0m │ \u001b[2mNULL\u001b[0m   │ \u001b[1;36m-151.709791\u001b[0m │ \u001b[1;36m59.908129\u001b[0m │ \u001b[1m[\u001b[0m\u001b[32m'OAD'\u001b[0m, \u001b[32m'ROA'\u001b[0m, \u001b[33m...\u001b[0m +\u001b[1;36m17\u001b[0m\u001b[1m]\u001b[0m │\n",
       "│         \u001b[1;36m8\u001b[0m │ \u001b[32mAK    \u001b[0m │ \u001b[32mANCHOR POINT\u001b[0m │ \u001b[32m99556   \u001b[0m │ \u001b[32m25238 STINKBUG STREET \u001b[0m │ \u001b[2mNULL\u001b[0m   │ \u001b[1;36m-151.692157\u001b[0m │ \u001b[1;36m59.906734\u001b[0m │ \u001b[1m[\u001b[0m\u001b[32m'BUG'\u001b[0m, \u001b[32m'TIN'\u001b[0m, \u001b[33m...\u001b[0m +\u001b[1;36m21\u001b[0m\u001b[1m]\u001b[0m │\n",
       "│         \u001b[1;36m9\u001b[0m │ \u001b[32mAK    \u001b[0m │ \u001b[32mANCHOR POINT\u001b[0m │ \u001b[32m99556   \u001b[0m │ \u001b[32m25405 STINKBUG STREET \u001b[0m │ \u001b[2mNULL\u001b[0m   │ \u001b[1;36m-151.695885\u001b[0m │ \u001b[1;36m59.903846\u001b[0m │ \u001b[1m[\u001b[0m\u001b[32m'STR'\u001b[0m, \u001b[32m'BUG'\u001b[0m, \u001b[33m...\u001b[0m +\u001b[1;36m21\u001b[0m\u001b[1m]\u001b[0m │\n",
       "│         \u001b[2m…\u001b[0m │ \u001b[2m…\u001b[0m      │ \u001b[2m…\u001b[0m            │ \u001b[2m…\u001b[0m        │ \u001b[2m…\u001b[0m                      │ \u001b[2m…\u001b[0m      │           \u001b[2m…\u001b[0m │         \u001b[2m…\u001b[0m │ \u001b[2m…\u001b[0m                       │\n",
       "└───────────┴────────┴──────────────┴──────────┴────────────────────────┴────────┴─────────────┴───────────┴─────────────────────────┘"
      ]
     },
     "execution_count": 8,
     "metadata": {},
     "output_type": "execute_result"
    }
   ],
   "source": [
    "def value_trigrams(s: ibis.ir.StringValue) -> ibis.ir.ArrayColumn:\n",
    "    return (\n",
    "        mismo.text.tokenize(s).map(lambda token: mismo.text.ngrams(token, 3)).flatten()\n",
    "    )\n",
    "\n",
    "\n",
    "def trigrams(t: ibis.Table) -> ibis.ir.ArrayColumn:\n",
    "    return (\n",
    "        ibis.array(\n",
    "            [\n",
    "                value_trigrams(t.city),\n",
    "                value_trigrams(t.postcode),\n",
    "                value_trigrams(t.street),\n",
    "            ]\n",
    "        )\n",
    "        .flatten()\n",
    "        .unique()\n",
    "        .name(\"trigrams\")\n",
    "    )\n",
    "\n",
    "\n",
    "clean = clean.mutate(trigrams(clean)).cache()\n",
    "dirty = dirty.mutate(trigrams(dirty)).cache()\n",
    "clean"
   ]
  },
  {
   "cell_type": "code",
   "execution_count": 35,
   "metadata": {},
   "outputs": [
    {
     "data": {
      "text/html": [
       "<pre style=\"white-space:pre;overflow-x:auto;line-height:normal;font-family:Menlo,'DejaVu Sans Mono',consolas,'Courier New',monospace\">┏━━━━━━━━┳━━━━━━━━━━━┳━━━━━━━━━━┳━━━━━━━━━━━━━━━━━━━━━━━┳━━━━━━━┓\n",
       "┃<span style=\"font-weight: bold\"> state  </span>┃<span style=\"font-weight: bold\"> city      </span>┃<span style=\"font-weight: bold\"> postcode </span>┃<span style=\"font-weight: bold\"> street                </span>┃<span style=\"font-weight: bold\"> n     </span>┃\n",
       "┡━━━━━━━━╇━━━━━━━━━━━╇━━━━━━━━━━╇━━━━━━━━━━━━━━━━━━━━━━━╇━━━━━━━┩\n",
       "│ <span style=\"color: #7f7f7f; text-decoration-color: #7f7f7f\">string</span> │ <span style=\"color: #7f7f7f; text-decoration-color: #7f7f7f\">string</span>    │ <span style=\"color: #7f7f7f; text-decoration-color: #7f7f7f\">string</span>   │ <span style=\"color: #7f7f7f; text-decoration-color: #7f7f7f\">string</span>                │ <span style=\"color: #7f7f7f; text-decoration-color: #7f7f7f\">int64</span> │\n",
       "├────────┼───────────┼──────────┼───────────────────────┼───────┤\n",
       "│ <span style=\"color: #008000; text-decoration-color: #008000\">AK    </span> │ <span style=\"color: #008000; text-decoration-color: #008000\">ANCHORAGE</span> │ <span style=\"color: #008000; text-decoration-color: #008000\">99503   </span> │ <span style=\"color: #008000; text-decoration-color: #008000\">1003 CHUGACH WAY     </span> │  <span style=\"color: #008080; text-decoration-color: #008080; font-weight: bold\">4107</span> │\n",
       "│ <span style=\"color: #008000; text-decoration-color: #008000\">AK    </span> │ <span style=\"color: #008000; text-decoration-color: #008000\">ANCHORAGE</span> │ <span style=\"color: #008000; text-decoration-color: #008000\">99515   </span> │ <span style=\"color: #008000; text-decoration-color: #008000\">2200 MINERVA WAY     </span> │  <span style=\"color: #008080; text-decoration-color: #008080; font-weight: bold\">3120</span> │\n",
       "│ <span style=\"color: #008000; text-decoration-color: #008000\">AK    </span> │ <span style=\"color: #008000; text-decoration-color: #008000\">FAIRBANKS</span> │ <span style=\"color: #008000; text-decoration-color: #008000\">99701   </span> │ <span style=\"color: #008000; text-decoration-color: #008000\">1516 GILLAM WAY      </span> │  <span style=\"color: #008080; text-decoration-color: #008080; font-weight: bold\">2262</span> │\n",
       "│ <span style=\"color: #008000; text-decoration-color: #008000\">AK    </span> │ <span style=\"color: #008000; text-decoration-color: #008000\">ANCHORAGE</span> │ <span style=\"color: #008000; text-decoration-color: #008000\">99515   </span> │ <span style=\"color: #008000; text-decoration-color: #008000\">9600 MORNINGSIDE LOOP</span> │  <span style=\"color: #008080; text-decoration-color: #008080; font-weight: bold\">1740</span> │\n",
       "│ <span style=\"color: #008000; text-decoration-color: #008000\">AK    </span> │ <span style=\"color: #008000; text-decoration-color: #008000\">ANCHORAGE</span> │ <span style=\"color: #008000; text-decoration-color: #008000\">99515   </span> │ <span style=\"color: #008000; text-decoration-color: #008000\">9540 MORNINGSIDE LOOP</span> │  <span style=\"color: #008080; text-decoration-color: #008080; font-weight: bold\">1480</span> │\n",
       "│ <span style=\"color: #008000; text-decoration-color: #008000\">AK    </span> │ <span style=\"color: #008000; text-decoration-color: #008000\">JUNEAU   </span> │ <span style=\"color: #008000; text-decoration-color: #008000\">99801   </span> │ <span style=\"color: #008000; text-decoration-color: #008000\">2800 POSTAL WAY      </span> │  <span style=\"color: #008080; text-decoration-color: #008080; font-weight: bold\">1012</span> │\n",
       "│ <span style=\"color: #008000; text-decoration-color: #008000\">AK    </span> │ <span style=\"color: #008000; text-decoration-color: #008000\">PALMER   </span> │ <span style=\"color: #008000; text-decoration-color: #008000\">99645   </span> │ <span style=\"color: #008000; text-decoration-color: #008000\">1150 S COLONY WAY    </span> │   <span style=\"color: #008080; text-decoration-color: #008080; font-weight: bold\">897</span> │\n",
       "│ <span style=\"color: #008000; text-decoration-color: #008000\">AK    </span> │ <span style=\"color: #008000; text-decoration-color: #008000\">ANCHORAGE</span> │ <span style=\"color: #008000; text-decoration-color: #008000\">99515   </span> │ <span style=\"color: #008000; text-decoration-color: #008000\">9710 MORNINGSIDE LOOP</span> │   <span style=\"color: #008080; text-decoration-color: #008080; font-weight: bold\">860</span> │\n",
       "│ <span style=\"color: #008000; text-decoration-color: #008000\">AK    </span> │ <span style=\"color: #008000; text-decoration-color: #008000\">ANCHORAGE</span> │ <span style=\"color: #008000; text-decoration-color: #008000\">99518   </span> │ <span style=\"color: #008000; text-decoration-color: #008000\">7422 FOXRIDGE WAY    </span> │   <span style=\"color: #008080; text-decoration-color: #008080; font-weight: bold\">840</span> │\n",
       "│ <span style=\"color: #008000; text-decoration-color: #008000\">AK    </span> │ <span style=\"color: #008000; text-decoration-color: #008000\">ANCHORAGE</span> │ <span style=\"color: #008000; text-decoration-color: #008000\">99515   </span> │ <span style=\"color: #008000; text-decoration-color: #008000\">2100 MINERVA WAY     </span> │   <span style=\"color: #008080; text-decoration-color: #008080; font-weight: bold\">744</span> │\n",
       "│ <span style=\"color: #7f7f7f; text-decoration-color: #7f7f7f\">…</span>      │ <span style=\"color: #7f7f7f; text-decoration-color: #7f7f7f\">…</span>         │ <span style=\"color: #7f7f7f; text-decoration-color: #7f7f7f\">…</span>        │ <span style=\"color: #7f7f7f; text-decoration-color: #7f7f7f\">…</span>                     │     <span style=\"color: #7f7f7f; text-decoration-color: #7f7f7f\">…</span> │\n",
       "└────────┴───────────┴──────────┴───────────────────────┴───────┘\n",
       "</pre>\n"
      ],
      "text/plain": [
       "┏━━━━━━━━┳━━━━━━━━━━━┳━━━━━━━━━━┳━━━━━━━━━━━━━━━━━━━━━━━┳━━━━━━━┓\n",
       "┃\u001b[1m \u001b[0m\u001b[1mstate\u001b[0m\u001b[1m \u001b[0m\u001b[1m \u001b[0m┃\u001b[1m \u001b[0m\u001b[1mcity\u001b[0m\u001b[1m     \u001b[0m\u001b[1m \u001b[0m┃\u001b[1m \u001b[0m\u001b[1mpostcode\u001b[0m\u001b[1m \u001b[0m┃\u001b[1m \u001b[0m\u001b[1mstreet\u001b[0m\u001b[1m               \u001b[0m\u001b[1m \u001b[0m┃\u001b[1m \u001b[0m\u001b[1mn\u001b[0m\u001b[1m    \u001b[0m\u001b[1m \u001b[0m┃\n",
       "┡━━━━━━━━╇━━━━━━━━━━━╇━━━━━━━━━━╇━━━━━━━━━━━━━━━━━━━━━━━╇━━━━━━━┩\n",
       "│ \u001b[2mstring\u001b[0m │ \u001b[2mstring\u001b[0m    │ \u001b[2mstring\u001b[0m   │ \u001b[2mstring\u001b[0m                │ \u001b[2mint64\u001b[0m │\n",
       "├────────┼───────────┼──────────┼───────────────────────┼───────┤\n",
       "│ \u001b[32mAK    \u001b[0m │ \u001b[32mANCHORAGE\u001b[0m │ \u001b[32m99503   \u001b[0m │ \u001b[32m1003 CHUGACH WAY     \u001b[0m │  \u001b[1;36m4107\u001b[0m │\n",
       "│ \u001b[32mAK    \u001b[0m │ \u001b[32mANCHORAGE\u001b[0m │ \u001b[32m99515   \u001b[0m │ \u001b[32m2200 MINERVA WAY     \u001b[0m │  \u001b[1;36m3120\u001b[0m │\n",
       "│ \u001b[32mAK    \u001b[0m │ \u001b[32mFAIRBANKS\u001b[0m │ \u001b[32m99701   \u001b[0m │ \u001b[32m1516 GILLAM WAY      \u001b[0m │  \u001b[1;36m2262\u001b[0m │\n",
       "│ \u001b[32mAK    \u001b[0m │ \u001b[32mANCHORAGE\u001b[0m │ \u001b[32m99515   \u001b[0m │ \u001b[32m9600 MORNINGSIDE LOOP\u001b[0m │  \u001b[1;36m1740\u001b[0m │\n",
       "│ \u001b[32mAK    \u001b[0m │ \u001b[32mANCHORAGE\u001b[0m │ \u001b[32m99515   \u001b[0m │ \u001b[32m9540 MORNINGSIDE LOOP\u001b[0m │  \u001b[1;36m1480\u001b[0m │\n",
       "│ \u001b[32mAK    \u001b[0m │ \u001b[32mJUNEAU   \u001b[0m │ \u001b[32m99801   \u001b[0m │ \u001b[32m2800 POSTAL WAY      \u001b[0m │  \u001b[1;36m1012\u001b[0m │\n",
       "│ \u001b[32mAK    \u001b[0m │ \u001b[32mPALMER   \u001b[0m │ \u001b[32m99645   \u001b[0m │ \u001b[32m1150 S COLONY WAY    \u001b[0m │   \u001b[1;36m897\u001b[0m │\n",
       "│ \u001b[32mAK    \u001b[0m │ \u001b[32mANCHORAGE\u001b[0m │ \u001b[32m99515   \u001b[0m │ \u001b[32m9710 MORNINGSIDE LOOP\u001b[0m │   \u001b[1;36m860\u001b[0m │\n",
       "│ \u001b[32mAK    \u001b[0m │ \u001b[32mANCHORAGE\u001b[0m │ \u001b[32m99518   \u001b[0m │ \u001b[32m7422 FOXRIDGE WAY    \u001b[0m │   \u001b[1;36m840\u001b[0m │\n",
       "│ \u001b[32mAK    \u001b[0m │ \u001b[32mANCHORAGE\u001b[0m │ \u001b[32m99515   \u001b[0m │ \u001b[32m2100 MINERVA WAY     \u001b[0m │   \u001b[1;36m744\u001b[0m │\n",
       "│ \u001b[2m…\u001b[0m      │ \u001b[2m…\u001b[0m         │ \u001b[2m…\u001b[0m        │ \u001b[2m…\u001b[0m                     │     \u001b[2m…\u001b[0m │\n",
       "└────────┴───────────┴──────────┴───────────────────────┴───────┘"
      ]
     },
     "execution_count": 35,
     "metadata": {},
     "output_type": "execute_result"
    }
   ],
   "source": [
    "easy_linkage = mismo.KeyLinker(\"state\", \"city\", \"postcode\", \"street\")\n",
    "easy_linkage.pair_counts(clean, dirty)"
   ]
  },
  {
   "cell_type": "code",
   "execution_count": 16,
   "metadata": {},
   "outputs": [
    {
     "data": {
      "text/html": [
       "<pre style=\"white-space:pre;overflow-x:auto;line-height:normal;font-family:Menlo,'DejaVu Sans Mono',consolas,'Courier New',monospace\">┏━━━━━━━━┳━━━━━━━━━━━┳━━━━━━━━━━┳━━━━━━━━━━━━━━━━━━━━━━━━━━━┳━━━━━━━┳━━━━━━━━━━━━━━━━━━━━━━━━━━━━━━━━━━━━━┓\n",
       "┃<span style=\"font-weight: bold\"> state  </span>┃<span style=\"font-weight: bold\"> city      </span>┃<span style=\"font-weight: bold\"> postcode </span>┃<span style=\"font-weight: bold\"> street                    </span>┃<span style=\"font-weight: bold\"> n     </span>┃<span style=\"font-weight: bold\"> units                               </span>┃\n",
       "┡━━━━━━━━╇━━━━━━━━━━━╇━━━━━━━━━━╇━━━━━━━━━━━━━━━━━━━━━━━━━━━╇━━━━━━━╇━━━━━━━━━━━━━━━━━━━━━━━━━━━━━━━━━━━━━┩\n",
       "│ <span style=\"color: #7f7f7f; text-decoration-color: #7f7f7f\">string</span> │ <span style=\"color: #7f7f7f; text-decoration-color: #7f7f7f\">string</span>    │ <span style=\"color: #7f7f7f; text-decoration-color: #7f7f7f\">string</span>   │ <span style=\"color: #7f7f7f; text-decoration-color: #7f7f7f\">string</span>                    │ <span style=\"color: #7f7f7f; text-decoration-color: #7f7f7f\">int64</span> │ <span style=\"color: #7f7f7f; text-decoration-color: #7f7f7f\">array&lt;string&gt;</span>                       │\n",
       "├────────┼───────────┼──────────┼───────────────────────────┼───────┼─────────────────────────────────────┤\n",
       "│ <span style=\"color: #008000; text-decoration-color: #008000\">AK    </span> │ <span style=\"color: #008000; text-decoration-color: #008000\">VALDEZ   </span> │ <span style=\"color: #008000; text-decoration-color: #008000\">99686   </span> │ <span style=\"color: #008000; text-decoration-color: #008000\">300 N HARBOR DRIVE       </span> │   <span style=\"color: #008080; text-decoration-color: #008080; font-weight: bold\">616</span> │ <span style=\"font-weight: bold\">[</span><span style=\"color: #008000; text-decoration-color: #008000\">'PIER A'</span>, <span style=\"color: #008000; text-decoration-color: #008000\">'PIER B'</span>, <span style=\"color: #808000; text-decoration-color: #808000\">...</span> +<span style=\"color: #008080; text-decoration-color: #008080; font-weight: bold\">613</span><span style=\"font-weight: bold\">]</span>      │\n",
       "│ <span style=\"color: #008000; text-decoration-color: #008000\">AK    </span> │ <span style=\"color: #008000; text-decoration-color: #008000\">ANCHORAGE</span> │ <span style=\"color: #008000; text-decoration-color: #008000\">99515   </span> │ <span style=\"color: #008000; text-decoration-color: #008000\">1200 W DIMOND BOULEVARD  </span> │   <span style=\"color: #008080; text-decoration-color: #008080; font-weight: bold\">523</span> │ <span style=\"font-weight: bold\">[</span><span style=\"color: #008000; text-decoration-color: #008000\">'MICRO'</span>, <span style=\"color: #008000; text-decoration-color: #008000\">'TRLR 1001'</span>, <span style=\"color: #808000; text-decoration-color: #808000\">...</span> +<span style=\"color: #008080; text-decoration-color: #008080; font-weight: bold\">520</span><span style=\"font-weight: bold\">]</span>    │\n",
       "│ <span style=\"color: #008000; text-decoration-color: #008000\">AK    </span> │ <span style=\"color: #008000; text-decoration-color: #008000\">ANCHORAGE</span> │ <span style=\"color: #008000; text-decoration-color: #008000\">99504   </span> │ <span style=\"color: #008000; text-decoration-color: #008000\">2221 MULDOON ROAD        </span> │   <span style=\"color: #008080; text-decoration-color: #008080; font-weight: bold\">473</span> │ <span style=\"font-weight: bold\">[</span><span style=\"color: #008000; text-decoration-color: #008000\">'TRLR 1'</span>, <span style=\"color: #008000; text-decoration-color: #008000\">'TRLR 10'</span>, <span style=\"color: #808000; text-decoration-color: #808000\">...</span> +<span style=\"color: #008080; text-decoration-color: #008080; font-weight: bold\">470</span><span style=\"font-weight: bold\">]</span>     │\n",
       "│ <span style=\"color: #008000; text-decoration-color: #008000\">AK    </span> │ <span style=\"color: #008000; text-decoration-color: #008000\">ANCHORAGE</span> │ <span style=\"color: #008000; text-decoration-color: #008000\">99501   </span> │ <span style=\"color: #008000; text-decoration-color: #008000\">905 RICHARDSON VISTA ROAD</span> │   <span style=\"color: #008080; text-decoration-color: #008080; font-weight: bold\">419</span> │ <span style=\"font-weight: bold\">[</span><span style=\"color: #008000; text-decoration-color: #008000\">'APT'</span>, <span style=\"color: #008000; text-decoration-color: #008000\">'APT 1'</span>, <span style=\"color: #808000; text-decoration-color: #808000\">...</span> +<span style=\"color: #008080; text-decoration-color: #008080; font-weight: bold\">417</span><span style=\"font-weight: bold\">]</span>          │\n",
       "│ <span style=\"color: #008000; text-decoration-color: #008000\">AK    </span> │ <span style=\"color: #008000; text-decoration-color: #008000\">ANCHORAGE</span> │ <span style=\"color: #008000; text-decoration-color: #008000\">99508   </span> │ <span style=\"color: #008000; text-decoration-color: #008000\">3240 PENLAND PARKWAY     </span> │   <span style=\"color: #008080; text-decoration-color: #008080; font-weight: bold\">391</span> │ <span style=\"font-weight: bold\">[</span><span style=\"color: #008000; text-decoration-color: #008000\">'TRLR 100'</span>, <span style=\"color: #008000; text-decoration-color: #008000\">'TRLR 101'</span>, <span style=\"color: #808000; text-decoration-color: #808000\">...</span> +<span style=\"color: #008080; text-decoration-color: #008080; font-weight: bold\">388</span><span style=\"font-weight: bold\">]</span>  │\n",
       "│ <span style=\"color: #008000; text-decoration-color: #008000\">AK    </span> │ <span style=\"color: #008000; text-decoration-color: #008000\">ANCHORAGE</span> │ <span style=\"color: #008000; text-decoration-color: #008000\">99504   </span> │ <span style=\"color: #008000; text-decoration-color: #008000\">5901 E 6TH AVENUE        </span> │   <span style=\"color: #008080; text-decoration-color: #008080; font-weight: bold\">359</span> │ <span style=\"font-weight: bold\">[</span><span style=\"color: #008000; text-decoration-color: #008000\">'TRLR 1'</span>, <span style=\"color: #008000; text-decoration-color: #008000\">'TRLR 10'</span>, <span style=\"color: #808000; text-decoration-color: #808000\">...</span> +<span style=\"color: #008080; text-decoration-color: #008080; font-weight: bold\">356</span><span style=\"font-weight: bold\">]</span>     │\n",
       "│ <span style=\"color: #008000; text-decoration-color: #008000\">AK    </span> │ <span style=\"color: #008000; text-decoration-color: #008000\">ANCHORAGE</span> │ <span style=\"color: #008000; text-decoration-color: #008000\">99507   </span> │ <span style=\"color: #008000; text-decoration-color: #008000\">9499 BRAYTON DRIVE       </span> │   <span style=\"color: #008080; text-decoration-color: #008080; font-weight: bold\">314</span> │ <span style=\"font-weight: bold\">[</span><span style=\"color: #008000; text-decoration-color: #008000\">'79'</span>, <span style=\"color: #008000; text-decoration-color: #008000\">'TRLR 1'</span>, <span style=\"color: #808000; text-decoration-color: #808000\">...</span> +<span style=\"color: #008080; text-decoration-color: #008080; font-weight: bold\">311</span><span style=\"font-weight: bold\">]</span>          │\n",
       "│ <span style=\"color: #008000; text-decoration-color: #008000\">AK    </span> │ <span style=\"color: #008000; text-decoration-color: #008000\">JUNEAU   </span> │ <span style=\"color: #008000; text-decoration-color: #008000\">99801   </span> │ <span style=\"color: #008000; text-decoration-color: #008000\">6590 GLACIER HIGHWAY     </span> │   <span style=\"color: #008080; text-decoration-color: #008080; font-weight: bold\">301</span> │ <span style=\"font-weight: bold\">[</span><span style=\"color: #008000; text-decoration-color: #008000\">'1'</span>, <span style=\"color: #008000; text-decoration-color: #008000\">'10'</span>, <span style=\"color: #808000; text-decoration-color: #808000\">...</span> +<span style=\"color: #008080; text-decoration-color: #008080; font-weight: bold\">298</span><span style=\"font-weight: bold\">]</span>               │\n",
       "│ <span style=\"color: #008000; text-decoration-color: #008000\">AK    </span> │ <span style=\"color: #008000; text-decoration-color: #008000\">ANCHORAGE</span> │ <span style=\"color: #008000; text-decoration-color: #008000\">99504   </span> │ <span style=\"color: #008000; text-decoration-color: #008000\">1001 BONIFACE PARKWAY    </span> │   <span style=\"color: #008080; text-decoration-color: #008080; font-weight: bold\">221</span> │ <span style=\"font-weight: bold\">[</span><span style=\"color: #008000; text-decoration-color: #008000\">'TRLR 10E1'</span>, <span style=\"color: #008000; text-decoration-color: #008000\">'TRLR 10G'</span>, <span style=\"color: #808000; text-decoration-color: #808000\">...</span> +<span style=\"color: #008080; text-decoration-color: #008080; font-weight: bold\">218</span><span style=\"font-weight: bold\">]</span> │\n",
       "│ <span style=\"color: #008000; text-decoration-color: #008000\">AK    </span> │ <span style=\"color: #008000; text-decoration-color: #008000\">VALDEZ   </span> │ <span style=\"color: #008000; text-decoration-color: #008000\">99686   </span> │ <span style=\"color: #008000; text-decoration-color: #008000\">315 ATIGUN DRIVE         </span> │   <span style=\"color: #008080; text-decoration-color: #008080; font-weight: bold\">218</span> │ <span style=\"font-weight: bold\">[</span><span style=\"color: #008000; text-decoration-color: #008000\">'SPACE 1'</span>, <span style=\"color: #008000; text-decoration-color: #008000\">'SPACE 10'</span>, <span style=\"color: #808000; text-decoration-color: #808000\">...</span> +<span style=\"color: #008080; text-decoration-color: #008080; font-weight: bold\">215</span><span style=\"font-weight: bold\">]</span>   │\n",
       "│ <span style=\"color: #7f7f7f; text-decoration-color: #7f7f7f\">…</span>      │ <span style=\"color: #7f7f7f; text-decoration-color: #7f7f7f\">…</span>         │ <span style=\"color: #7f7f7f; text-decoration-color: #7f7f7f\">…</span>        │ <span style=\"color: #7f7f7f; text-decoration-color: #7f7f7f\">…</span>                         │     <span style=\"color: #7f7f7f; text-decoration-color: #7f7f7f\">…</span> │ <span style=\"color: #7f7f7f; text-decoration-color: #7f7f7f\">…</span>                                   │\n",
       "└────────┴───────────┴──────────┴───────────────────────────┴───────┴─────────────────────────────────────┘\n",
       "</pre>\n"
      ],
      "text/plain": [
       "┏━━━━━━━━┳━━━━━━━━━━━┳━━━━━━━━━━┳━━━━━━━━━━━━━━━━━━━━━━━━━━━┳━━━━━━━┳━━━━━━━━━━━━━━━━━━━━━━━━━━━━━━━━━━━━━┓\n",
       "┃\u001b[1m \u001b[0m\u001b[1mstate\u001b[0m\u001b[1m \u001b[0m\u001b[1m \u001b[0m┃\u001b[1m \u001b[0m\u001b[1mcity\u001b[0m\u001b[1m     \u001b[0m\u001b[1m \u001b[0m┃\u001b[1m \u001b[0m\u001b[1mpostcode\u001b[0m\u001b[1m \u001b[0m┃\u001b[1m \u001b[0m\u001b[1mstreet\u001b[0m\u001b[1m                   \u001b[0m\u001b[1m \u001b[0m┃\u001b[1m \u001b[0m\u001b[1mn\u001b[0m\u001b[1m    \u001b[0m\u001b[1m \u001b[0m┃\u001b[1m \u001b[0m\u001b[1munits\u001b[0m\u001b[1m                              \u001b[0m\u001b[1m \u001b[0m┃\n",
       "┡━━━━━━━━╇━━━━━━━━━━━╇━━━━━━━━━━╇━━━━━━━━━━━━━━━━━━━━━━━━━━━╇━━━━━━━╇━━━━━━━━━━━━━━━━━━━━━━━━━━━━━━━━━━━━━┩\n",
       "│ \u001b[2mstring\u001b[0m │ \u001b[2mstring\u001b[0m    │ \u001b[2mstring\u001b[0m   │ \u001b[2mstring\u001b[0m                    │ \u001b[2mint64\u001b[0m │ \u001b[2marray<string>\u001b[0m                       │\n",
       "├────────┼───────────┼──────────┼───────────────────────────┼───────┼─────────────────────────────────────┤\n",
       "│ \u001b[32mAK    \u001b[0m │ \u001b[32mVALDEZ   \u001b[0m │ \u001b[32m99686   \u001b[0m │ \u001b[32m300 N HARBOR DRIVE       \u001b[0m │   \u001b[1;36m616\u001b[0m │ \u001b[1m[\u001b[0m\u001b[32m'PIER A'\u001b[0m, \u001b[32m'PIER B'\u001b[0m, \u001b[33m...\u001b[0m +\u001b[1;36m613\u001b[0m\u001b[1m]\u001b[0m      │\n",
       "│ \u001b[32mAK    \u001b[0m │ \u001b[32mANCHORAGE\u001b[0m │ \u001b[32m99515   \u001b[0m │ \u001b[32m1200 W DIMOND BOULEVARD  \u001b[0m │   \u001b[1;36m523\u001b[0m │ \u001b[1m[\u001b[0m\u001b[32m'MICRO'\u001b[0m, \u001b[32m'TRLR 1001'\u001b[0m, \u001b[33m...\u001b[0m +\u001b[1;36m520\u001b[0m\u001b[1m]\u001b[0m    │\n",
       "│ \u001b[32mAK    \u001b[0m │ \u001b[32mANCHORAGE\u001b[0m │ \u001b[32m99504   \u001b[0m │ \u001b[32m2221 MULDOON ROAD        \u001b[0m │   \u001b[1;36m473\u001b[0m │ \u001b[1m[\u001b[0m\u001b[32m'TRLR 1'\u001b[0m, \u001b[32m'TRLR 10'\u001b[0m, \u001b[33m...\u001b[0m +\u001b[1;36m470\u001b[0m\u001b[1m]\u001b[0m     │\n",
       "│ \u001b[32mAK    \u001b[0m │ \u001b[32mANCHORAGE\u001b[0m │ \u001b[32m99501   \u001b[0m │ \u001b[32m905 RICHARDSON VISTA ROAD\u001b[0m │   \u001b[1;36m419\u001b[0m │ \u001b[1m[\u001b[0m\u001b[32m'APT'\u001b[0m, \u001b[32m'APT 1'\u001b[0m, \u001b[33m...\u001b[0m +\u001b[1;36m417\u001b[0m\u001b[1m]\u001b[0m          │\n",
       "│ \u001b[32mAK    \u001b[0m │ \u001b[32mANCHORAGE\u001b[0m │ \u001b[32m99508   \u001b[0m │ \u001b[32m3240 PENLAND PARKWAY     \u001b[0m │   \u001b[1;36m391\u001b[0m │ \u001b[1m[\u001b[0m\u001b[32m'TRLR 100'\u001b[0m, \u001b[32m'TRLR 101'\u001b[0m, \u001b[33m...\u001b[0m +\u001b[1;36m388\u001b[0m\u001b[1m]\u001b[0m  │\n",
       "│ \u001b[32mAK    \u001b[0m │ \u001b[32mANCHORAGE\u001b[0m │ \u001b[32m99504   \u001b[0m │ \u001b[32m5901 E 6TH AVENUE        \u001b[0m │   \u001b[1;36m359\u001b[0m │ \u001b[1m[\u001b[0m\u001b[32m'TRLR 1'\u001b[0m, \u001b[32m'TRLR 10'\u001b[0m, \u001b[33m...\u001b[0m +\u001b[1;36m356\u001b[0m\u001b[1m]\u001b[0m     │\n",
       "│ \u001b[32mAK    \u001b[0m │ \u001b[32mANCHORAGE\u001b[0m │ \u001b[32m99507   \u001b[0m │ \u001b[32m9499 BRAYTON DRIVE       \u001b[0m │   \u001b[1;36m314\u001b[0m │ \u001b[1m[\u001b[0m\u001b[32m'79'\u001b[0m, \u001b[32m'TRLR 1'\u001b[0m, \u001b[33m...\u001b[0m +\u001b[1;36m311\u001b[0m\u001b[1m]\u001b[0m          │\n",
       "│ \u001b[32mAK    \u001b[0m │ \u001b[32mJUNEAU   \u001b[0m │ \u001b[32m99801   \u001b[0m │ \u001b[32m6590 GLACIER HIGHWAY     \u001b[0m │   \u001b[1;36m301\u001b[0m │ \u001b[1m[\u001b[0m\u001b[32m'1'\u001b[0m, \u001b[32m'10'\u001b[0m, \u001b[33m...\u001b[0m +\u001b[1;36m298\u001b[0m\u001b[1m]\u001b[0m               │\n",
       "│ \u001b[32mAK    \u001b[0m │ \u001b[32mANCHORAGE\u001b[0m │ \u001b[32m99504   \u001b[0m │ \u001b[32m1001 BONIFACE PARKWAY    \u001b[0m │   \u001b[1;36m221\u001b[0m │ \u001b[1m[\u001b[0m\u001b[32m'TRLR 10E1'\u001b[0m, \u001b[32m'TRLR 10G'\u001b[0m, \u001b[33m...\u001b[0m +\u001b[1;36m218\u001b[0m\u001b[1m]\u001b[0m │\n",
       "│ \u001b[32mAK    \u001b[0m │ \u001b[32mVALDEZ   \u001b[0m │ \u001b[32m99686   \u001b[0m │ \u001b[32m315 ATIGUN DRIVE         \u001b[0m │   \u001b[1;36m218\u001b[0m │ \u001b[1m[\u001b[0m\u001b[32m'SPACE 1'\u001b[0m, \u001b[32m'SPACE 10'\u001b[0m, \u001b[33m...\u001b[0m +\u001b[1;36m215\u001b[0m\u001b[1m]\u001b[0m   │\n",
       "│ \u001b[2m…\u001b[0m      │ \u001b[2m…\u001b[0m         │ \u001b[2m…\u001b[0m        │ \u001b[2m…\u001b[0m                         │     \u001b[2m…\u001b[0m │ \u001b[2m…\u001b[0m                                   │\n",
       "└────────┴───────────┴──────────┴───────────────────────────┴───────┴─────────────────────────────────────┘"
      ]
     },
     "execution_count": 16,
     "metadata": {},
     "output_type": "execute_result"
    }
   ],
   "source": [
    "clean.group_by(\n",
    "    \"state\",\n",
    "    \"city\",\n",
    "    \"postcode\",\n",
    "    \"street\",\n",
    ").agg(\n",
    "    n=_.count(),\n",
    "    units=_.unit.collect(),\n",
    ").order_by(_.n.desc())"
   ]
  },
  {
   "cell_type": "code",
   "execution_count": 10,
   "metadata": {},
   "outputs": [
    {
     "data": {
      "text/html": [
       "<pre style=\"white-space:pre;overflow-x:auto;line-height:normal;font-family:Menlo,'DejaVu Sans Mono',consolas,'Courier New',monospace\">┏━━━━━━━━━┳━━━━━━━━━━━┳━━━━━━━━━━━━━━━━━━━━━━━━━━━━━━┓\n",
       "┃<span style=\"font-weight: bold\"> trigram </span>┃<span style=\"font-weight: bold\"> n_records </span>┃<span style=\"font-weight: bold\"> record_ids                   </span>┃\n",
       "┡━━━━━━━━━╇━━━━━━━━━━━╇━━━━━━━━━━━━━━━━━━━━━━━━━━━━━━┩\n",
       "│ <span style=\"color: #7f7f7f; text-decoration-color: #7f7f7f\">string</span>  │ <span style=\"color: #7f7f7f; text-decoration-color: #7f7f7f\">int64</span>     │ <span style=\"color: #7f7f7f; text-decoration-color: #7f7f7f\">array&lt;int64&gt;</span>                 │\n",
       "├─────────┼───────────┼──────────────────────────────┤\n",
       "│ <span style=\"color: #008000; text-decoration-color: #008000\">STY    </span> │       <span style=\"color: #008080; text-decoration-color: #008080; font-weight: bold\">447</span> │ <span style=\"font-weight: bold\">[</span><span style=\"color: #008080; text-decoration-color: #008080; font-weight: bold\">122880</span>, <span style=\"color: #008080; text-decoration-color: #008080; font-weight: bold\">245970</span>, <span style=\"color: #808000; text-decoration-color: #808000\">...</span> +<span style=\"color: #008080; text-decoration-color: #008080; font-weight: bold\">445</span><span style=\"font-weight: bold\">]</span>   │\n",
       "│ <span style=\"color: #008000; text-decoration-color: #008000\">DIN    </span> │      <span style=\"color: #008080; text-decoration-color: #008080; font-weight: bold\">1269</span> │ <span style=\"font-weight: bold\">[</span><span style=\"color: #008080; text-decoration-color: #008080; font-weight: bold\">122880</span>, <span style=\"color: #008080; text-decoration-color: #008080; font-weight: bold\">122881</span>, <span style=\"color: #808000; text-decoration-color: #808000\">...</span> +<span style=\"color: #008080; text-decoration-color: #008080; font-weight: bold\">1267</span><span style=\"font-weight: bold\">]</span>  │\n",
       "│ <span style=\"color: #008000; text-decoration-color: #008000\">572    </span> │       <span style=\"color: #008080; text-decoration-color: #008080; font-weight: bold\">703</span> │ <span style=\"font-weight: bold\">[</span><span style=\"color: #008080; text-decoration-color: #008080; font-weight: bold\">122880</span>, <span style=\"color: #008080; text-decoration-color: #008080; font-weight: bold\">122881</span>, <span style=\"color: #808000; text-decoration-color: #808000\">...</span> +<span style=\"color: #008080; text-decoration-color: #008080; font-weight: bold\">701</span><span style=\"font-weight: bold\">]</span>   │\n",
       "│ <span style=\"color: #008000; text-decoration-color: #008000\">741    </span> │       <span style=\"color: #008080; text-decoration-color: #008080; font-weight: bold\">697</span> │ <span style=\"font-weight: bold\">[</span><span style=\"color: #008080; text-decoration-color: #008080; font-weight: bold\">122885</span>, <span style=\"color: #008080; text-decoration-color: #008080; font-weight: bold\">247288</span>, <span style=\"color: #808000; text-decoration-color: #808000\">...</span> +<span style=\"color: #008080; text-decoration-color: #008080; font-weight: bold\">695</span><span style=\"font-weight: bold\">]</span>   │\n",
       "│ <span style=\"color: #008000; text-decoration-color: #008000\">DRI    </span> │     <span style=\"color: #008080; text-decoration-color: #008080; font-weight: bold\">70660</span> │ <span style=\"font-weight: bold\">[</span><span style=\"color: #008080; text-decoration-color: #008080; font-weight: bold\">122891</span>, <span style=\"color: #008080; text-decoration-color: #008080; font-weight: bold\">122892</span>, <span style=\"color: #808000; text-decoration-color: #808000\">...</span> +<span style=\"color: #008080; text-decoration-color: #008080; font-weight: bold\">70658</span><span style=\"font-weight: bold\">]</span> │\n",
       "│ <span style=\"color: #008000; text-decoration-color: #008000\">357    </span> │       <span style=\"color: #008080; text-decoration-color: #008080; font-weight: bold\">573</span> │ <span style=\"font-weight: bold\">[</span><span style=\"color: #008080; text-decoration-color: #008080; font-weight: bold\">122901</span>, <span style=\"color: #008080; text-decoration-color: #008080; font-weight: bold\">123000</span>, <span style=\"color: #808000; text-decoration-color: #808000\">...</span> +<span style=\"color: #008080; text-decoration-color: #008080; font-weight: bold\">571</span><span style=\"font-weight: bold\">]</span>   │\n",
       "│ <span style=\"color: #008000; text-decoration-color: #008000\">662    </span> │       <span style=\"color: #008080; text-decoration-color: #008080; font-weight: bold\">421</span> │ <span style=\"font-weight: bold\">[</span><span style=\"color: #008080; text-decoration-color: #008080; font-weight: bold\">122912</span>, <span style=\"color: #008080; text-decoration-color: #008080; font-weight: bold\">246592</span>, <span style=\"color: #808000; text-decoration-color: #808000\">...</span> +<span style=\"color: #008080; text-decoration-color: #008080; font-weight: bold\">419</span><span style=\"font-weight: bold\">]</span>   │\n",
       "│ <span style=\"color: #008000; text-decoration-color: #008000\">NUG    </span> │       <span style=\"color: #008080; text-decoration-color: #008080; font-weight: bold\">193</span> │ <span style=\"font-weight: bold\">[</span><span style=\"color: #008080; text-decoration-color: #008080; font-weight: bold\">122912</span>, <span style=\"color: #008080; text-decoration-color: #008080; font-weight: bold\">122914</span>, <span style=\"color: #808000; text-decoration-color: #808000\">...</span> +<span style=\"color: #008080; text-decoration-color: #008080; font-weight: bold\">191</span><span style=\"font-weight: bold\">]</span>   │\n",
       "│ <span style=\"color: #008000; text-decoration-color: #008000\">380    </span> │      <span style=\"color: #008080; text-decoration-color: #008080; font-weight: bold\">1263</span> │ <span style=\"font-weight: bold\">[</span><span style=\"color: #008080; text-decoration-color: #008080; font-weight: bold\">122916</span>, <span style=\"color: #008080; text-decoration-color: #008080; font-weight: bold\">122970</span>, <span style=\"color: #808000; text-decoration-color: #808000\">...</span> +<span style=\"color: #008080; text-decoration-color: #008080; font-weight: bold\">1261</span><span style=\"font-weight: bold\">]</span>  │\n",
       "│ <span style=\"color: #008000; text-decoration-color: #008000\">391    </span> │       <span style=\"color: #008080; text-decoration-color: #008080; font-weight: bold\">735</span> │ <span style=\"font-weight: bold\">[</span><span style=\"color: #008080; text-decoration-color: #008080; font-weight: bold\">122919</span>, <span style=\"color: #008080; text-decoration-color: #008080; font-weight: bold\">122972</span>, <span style=\"color: #808000; text-decoration-color: #808000\">...</span> +<span style=\"color: #008080; text-decoration-color: #008080; font-weight: bold\">733</span><span style=\"font-weight: bold\">]</span>   │\n",
       "│ <span style=\"color: #7f7f7f; text-decoration-color: #7f7f7f\">…</span>       │         <span style=\"color: #7f7f7f; text-decoration-color: #7f7f7f\">…</span> │ <span style=\"color: #7f7f7f; text-decoration-color: #7f7f7f\">…</span>                            │\n",
       "└─────────┴───────────┴──────────────────────────────┘\n",
       "</pre>\n"
      ],
      "text/plain": [
       "┏━━━━━━━━━┳━━━━━━━━━━━┳━━━━━━━━━━━━━━━━━━━━━━━━━━━━━━┓\n",
       "┃\u001b[1m \u001b[0m\u001b[1mtrigram\u001b[0m\u001b[1m \u001b[0m┃\u001b[1m \u001b[0m\u001b[1mn_records\u001b[0m\u001b[1m \u001b[0m┃\u001b[1m \u001b[0m\u001b[1mrecord_ids\u001b[0m\u001b[1m                  \u001b[0m\u001b[1m \u001b[0m┃\n",
       "┡━━━━━━━━━╇━━━━━━━━━━━╇━━━━━━━━━━━━━━━━━━━━━━━━━━━━━━┩\n",
       "│ \u001b[2mstring\u001b[0m  │ \u001b[2mint64\u001b[0m     │ \u001b[2marray<int64>\u001b[0m                 │\n",
       "├─────────┼───────────┼──────────────────────────────┤\n",
       "│ \u001b[32mSTY    \u001b[0m │       \u001b[1;36m447\u001b[0m │ \u001b[1m[\u001b[0m\u001b[1;36m122880\u001b[0m, \u001b[1;36m245970\u001b[0m, \u001b[33m...\u001b[0m +\u001b[1;36m445\u001b[0m\u001b[1m]\u001b[0m   │\n",
       "│ \u001b[32mDIN    \u001b[0m │      \u001b[1;36m1269\u001b[0m │ \u001b[1m[\u001b[0m\u001b[1;36m122880\u001b[0m, \u001b[1;36m122881\u001b[0m, \u001b[33m...\u001b[0m +\u001b[1;36m1267\u001b[0m\u001b[1m]\u001b[0m  │\n",
       "│ \u001b[32m572    \u001b[0m │       \u001b[1;36m703\u001b[0m │ \u001b[1m[\u001b[0m\u001b[1;36m122880\u001b[0m, \u001b[1;36m122881\u001b[0m, \u001b[33m...\u001b[0m +\u001b[1;36m701\u001b[0m\u001b[1m]\u001b[0m   │\n",
       "│ \u001b[32m741    \u001b[0m │       \u001b[1;36m697\u001b[0m │ \u001b[1m[\u001b[0m\u001b[1;36m122885\u001b[0m, \u001b[1;36m247288\u001b[0m, \u001b[33m...\u001b[0m +\u001b[1;36m695\u001b[0m\u001b[1m]\u001b[0m   │\n",
       "│ \u001b[32mDRI    \u001b[0m │     \u001b[1;36m70660\u001b[0m │ \u001b[1m[\u001b[0m\u001b[1;36m122891\u001b[0m, \u001b[1;36m122892\u001b[0m, \u001b[33m...\u001b[0m +\u001b[1;36m70658\u001b[0m\u001b[1m]\u001b[0m │\n",
       "│ \u001b[32m357    \u001b[0m │       \u001b[1;36m573\u001b[0m │ \u001b[1m[\u001b[0m\u001b[1;36m122901\u001b[0m, \u001b[1;36m123000\u001b[0m, \u001b[33m...\u001b[0m +\u001b[1;36m571\u001b[0m\u001b[1m]\u001b[0m   │\n",
       "│ \u001b[32m662    \u001b[0m │       \u001b[1;36m421\u001b[0m │ \u001b[1m[\u001b[0m\u001b[1;36m122912\u001b[0m, \u001b[1;36m246592\u001b[0m, \u001b[33m...\u001b[0m +\u001b[1;36m419\u001b[0m\u001b[1m]\u001b[0m   │\n",
       "│ \u001b[32mNUG    \u001b[0m │       \u001b[1;36m193\u001b[0m │ \u001b[1m[\u001b[0m\u001b[1;36m122912\u001b[0m, \u001b[1;36m122914\u001b[0m, \u001b[33m...\u001b[0m +\u001b[1;36m191\u001b[0m\u001b[1m]\u001b[0m   │\n",
       "│ \u001b[32m380    \u001b[0m │      \u001b[1;36m1263\u001b[0m │ \u001b[1m[\u001b[0m\u001b[1;36m122916\u001b[0m, \u001b[1;36m122970\u001b[0m, \u001b[33m...\u001b[0m +\u001b[1;36m1261\u001b[0m\u001b[1m]\u001b[0m  │\n",
       "│ \u001b[32m391    \u001b[0m │       \u001b[1;36m735\u001b[0m │ \u001b[1m[\u001b[0m\u001b[1;36m122919\u001b[0m, \u001b[1;36m122972\u001b[0m, \u001b[33m...\u001b[0m +\u001b[1;36m733\u001b[0m\u001b[1m]\u001b[0m   │\n",
       "│ \u001b[2m…\u001b[0m       │         \u001b[2m…\u001b[0m │ \u001b[2m…\u001b[0m                            │\n",
       "└─────────┴───────────┴──────────────────────────────┘"
      ]
     },
     "execution_count": 10,
     "metadata": {},
     "output_type": "execute_result"
    }
   ],
   "source": [
    "def trigram_to_record_ids(t: ibis.Table) -> ibis.Table:\n",
    "    counts_table = (\n",
    "        t.select(\"record_id\", t.trigrams.unnest().name(\"trigram\"))\n",
    "        .group_by(\"trigram\")\n",
    "        .agg(\n",
    "            n_records=_.count(),\n",
    "            record_ids=_.record_id.collect(),\n",
    "        )\n",
    "    )\n",
    "    counts_table = counts_table.cache()\n",
    "    return counts_table\n",
    "\n",
    "\n",
    "trigrams_clean = trigram_to_record_ids(clean)\n",
    "trigrams_dirty = trigram_to_record_ids(dirty)\n",
    "trigrams_clean"
   ]
  },
  {
   "cell_type": "code",
   "execution_count": 19,
   "metadata": {},
   "outputs": [
    {
     "data": {
      "text/html": [
       "<pre style=\"white-space:pre;overflow-x:auto;line-height:normal;font-family:Menlo,'DejaVu Sans Mono',consolas,'Courier New',monospace\">┏━━━━━━━━━┳━━━━━━━━━━━┳━━━━━━━━━━━━━━━━━━━━━━━━━━━┓\n",
       "┃<span style=\"font-weight: bold\"> trigram </span>┃<span style=\"font-weight: bold\"> n_records </span>┃<span style=\"font-weight: bold\"> record_ids                </span>┃\n",
       "┡━━━━━━━━━╇━━━━━━━━━━━╇━━━━━━━━━━━━━━━━━━━━━━━━━━━┩\n",
       "│ <span style=\"color: #7f7f7f; text-decoration-color: #7f7f7f\">string</span>  │ <span style=\"color: #7f7f7f; text-decoration-color: #7f7f7f\">int64</span>     │ <span style=\"color: #7f7f7f; text-decoration-color: #7f7f7f\">array&lt;int64&gt;</span>              │\n",
       "├─────────┼───────────┼───────────────────────────┤\n",
       "│ <span style=\"color: #008000; text-decoration-color: #008000\">JUS    </span> │        <span style=\"color: #008080; text-decoration-color: #008080; font-weight: bold\">64</span> │ <span style=\"font-weight: bold\">[</span><span style=\"color: #008080; text-decoration-color: #008080; font-weight: bold\">122968</span>, <span style=\"color: #008080; text-decoration-color: #008080; font-weight: bold\">122970</span>, <span style=\"color: #808000; text-decoration-color: #808000\">...</span> +<span style=\"color: #008080; text-decoration-color: #008080; font-weight: bold\">62</span><span style=\"font-weight: bold\">]</span> │\n",
       "│ <span style=\"color: #008000; text-decoration-color: #008000\">HSI    </span> │         <span style=\"color: #008080; text-decoration-color: #008080; font-weight: bold\">6</span> │ <span style=\"font-weight: bold\">[</span><span style=\"color: #008080; text-decoration-color: #008080; font-weight: bold\">247366</span>, <span style=\"color: #008080; text-decoration-color: #008080; font-weight: bold\">247439</span>, <span style=\"color: #808000; text-decoration-color: #808000\">...</span> +<span style=\"color: #008080; text-decoration-color: #008080; font-weight: bold\">4</span><span style=\"font-weight: bold\">]</span>  │\n",
       "│ <span style=\"color: #008000; text-decoration-color: #008000\">AEL    </span> │        <span style=\"color: #008080; text-decoration-color: #008080; font-weight: bold\">92</span> │ <span style=\"font-weight: bold\">[</span><span style=\"color: #008080; text-decoration-color: #008080; font-weight: bold\">247898</span>, <span style=\"color: #008080; text-decoration-color: #008080; font-weight: bold\">247995</span>, <span style=\"color: #808000; text-decoration-color: #808000\">...</span> +<span style=\"color: #008080; text-decoration-color: #008080; font-weight: bold\">90</span><span style=\"font-weight: bold\">]</span> │\n",
       "│ <span style=\"color: #008000; text-decoration-color: #008000\">HAE    </span> │        <span style=\"color: #008080; text-decoration-color: #008080; font-weight: bold\">73</span> │ <span style=\"font-weight: bold\">[</span><span style=\"color: #008080; text-decoration-color: #008080; font-weight: bold\">247898</span>, <span style=\"color: #008080; text-decoration-color: #008080; font-weight: bold\">247995</span>, <span style=\"color: #808000; text-decoration-color: #808000\">...</span> +<span style=\"color: #008080; text-decoration-color: #008080; font-weight: bold\">71</span><span style=\"font-weight: bold\">]</span> │\n",
       "│ <span style=\"color: #008000; text-decoration-color: #008000\">BUF    </span> │        <span style=\"color: #008080; text-decoration-color: #008080; font-weight: bold\">79</span> │ <span style=\"font-weight: bold\">[</span><span style=\"color: #008080; text-decoration-color: #008080; font-weight: bold\">248017</span>, <span style=\"color: #008080; text-decoration-color: #008080; font-weight: bold\">248043</span>, <span style=\"color: #808000; text-decoration-color: #808000\">...</span> +<span style=\"color: #008080; text-decoration-color: #008080; font-weight: bold\">77</span><span style=\"font-weight: bold\">]</span> │\n",
       "│ <span style=\"color: #008000; text-decoration-color: #008000\">RR-    </span> │         <span style=\"color: #008080; text-decoration-color: #008080; font-weight: bold\">2</span> │ <span style=\"font-weight: bold\">[</span><span style=\"color: #008080; text-decoration-color: #008080; font-weight: bold\">250529</span>, <span style=\"color: #008080; text-decoration-color: #008080; font-weight: bold\">250530</span><span style=\"font-weight: bold\">]</span>          │\n",
       "│ <span style=\"color: #008000; text-decoration-color: #008000\">HEU    </span> │         <span style=\"color: #008080; text-decoration-color: #008080; font-weight: bold\">4</span> │ <span style=\"font-weight: bold\">[</span><span style=\"color: #008080; text-decoration-color: #008080; font-weight: bold\">250747</span>, <span style=\"color: #008080; text-decoration-color: #008080; font-weight: bold\">250748</span>, <span style=\"color: #808000; text-decoration-color: #808000\">...</span> +<span style=\"color: #008080; text-decoration-color: #008080; font-weight: bold\">2</span><span style=\"font-weight: bold\">]</span>  │\n",
       "│ <span style=\"color: #008000; text-decoration-color: #008000\">BUD    </span> │        <span style=\"color: #008080; text-decoration-color: #008080; font-weight: bold\">91</span> │ <span style=\"font-weight: bold\">[</span><span style=\"color: #008080; text-decoration-color: #008080; font-weight: bold\">250883</span>, <span style=\"color: #008080; text-decoration-color: #008080; font-weight: bold\">268506</span>, <span style=\"color: #808000; text-decoration-color: #808000\">...</span> +<span style=\"color: #008080; text-decoration-color: #008080; font-weight: bold\">89</span><span style=\"font-weight: bold\">]</span> │\n",
       "│ <span style=\"color: #008000; text-decoration-color: #008000\">NOX    </span> │        <span style=\"color: #008080; text-decoration-color: #008080; font-weight: bold\">54</span> │ <span style=\"font-weight: bold\">[</span><span style=\"color: #008080; text-decoration-color: #008080; font-weight: bold\">250894</span>, <span style=\"color: #008080; text-decoration-color: #008080; font-weight: bold\">158607</span>, <span style=\"color: #808000; text-decoration-color: #808000\">...</span> +<span style=\"color: #008080; text-decoration-color: #008080; font-weight: bold\">52</span><span style=\"font-weight: bold\">]</span> │\n",
       "│ <span style=\"color: #008000; text-decoration-color: #008000\">EYV    </span> │        <span style=\"color: #008080; text-decoration-color: #008080; font-weight: bold\">11</span> │ <span style=\"font-weight: bold\">[</span><span style=\"color: #008080; text-decoration-color: #008080; font-weight: bold\">251334</span>, <span style=\"color: #008080; text-decoration-color: #008080; font-weight: bold\">251336</span>, <span style=\"color: #808000; text-decoration-color: #808000\">...</span> +<span style=\"color: #008080; text-decoration-color: #008080; font-weight: bold\">9</span><span style=\"font-weight: bold\">]</span>  │\n",
       "│ <span style=\"color: #7f7f7f; text-decoration-color: #7f7f7f\">…</span>       │         <span style=\"color: #7f7f7f; text-decoration-color: #7f7f7f\">…</span> │ <span style=\"color: #7f7f7f; text-decoration-color: #7f7f7f\">…</span>                         │\n",
       "└─────────┴───────────┴───────────────────────────┘\n",
       "</pre>\n"
      ],
      "text/plain": [
       "┏━━━━━━━━━┳━━━━━━━━━━━┳━━━━━━━━━━━━━━━━━━━━━━━━━━━┓\n",
       "┃\u001b[1m \u001b[0m\u001b[1mtrigram\u001b[0m\u001b[1m \u001b[0m┃\u001b[1m \u001b[0m\u001b[1mn_records\u001b[0m\u001b[1m \u001b[0m┃\u001b[1m \u001b[0m\u001b[1mrecord_ids\u001b[0m\u001b[1m               \u001b[0m\u001b[1m \u001b[0m┃\n",
       "┡━━━━━━━━━╇━━━━━━━━━━━╇━━━━━━━━━━━━━━━━━━━━━━━━━━━┩\n",
       "│ \u001b[2mstring\u001b[0m  │ \u001b[2mint64\u001b[0m     │ \u001b[2marray<int64>\u001b[0m              │\n",
       "├─────────┼───────────┼───────────────────────────┤\n",
       "│ \u001b[32mJUS    \u001b[0m │        \u001b[1;36m64\u001b[0m │ \u001b[1m[\u001b[0m\u001b[1;36m122968\u001b[0m, \u001b[1;36m122970\u001b[0m, \u001b[33m...\u001b[0m +\u001b[1;36m62\u001b[0m\u001b[1m]\u001b[0m │\n",
       "│ \u001b[32mHSI    \u001b[0m │         \u001b[1;36m6\u001b[0m │ \u001b[1m[\u001b[0m\u001b[1;36m247366\u001b[0m, \u001b[1;36m247439\u001b[0m, \u001b[33m...\u001b[0m +\u001b[1;36m4\u001b[0m\u001b[1m]\u001b[0m  │\n",
       "│ \u001b[32mAEL    \u001b[0m │        \u001b[1;36m92\u001b[0m │ \u001b[1m[\u001b[0m\u001b[1;36m247898\u001b[0m, \u001b[1;36m247995\u001b[0m, \u001b[33m...\u001b[0m +\u001b[1;36m90\u001b[0m\u001b[1m]\u001b[0m │\n",
       "│ \u001b[32mHAE    \u001b[0m │        \u001b[1;36m73\u001b[0m │ \u001b[1m[\u001b[0m\u001b[1;36m247898\u001b[0m, \u001b[1;36m247995\u001b[0m, \u001b[33m...\u001b[0m +\u001b[1;36m71\u001b[0m\u001b[1m]\u001b[0m │\n",
       "│ \u001b[32mBUF    \u001b[0m │        \u001b[1;36m79\u001b[0m │ \u001b[1m[\u001b[0m\u001b[1;36m248017\u001b[0m, \u001b[1;36m248043\u001b[0m, \u001b[33m...\u001b[0m +\u001b[1;36m77\u001b[0m\u001b[1m]\u001b[0m │\n",
       "│ \u001b[32mRR-    \u001b[0m │         \u001b[1;36m2\u001b[0m │ \u001b[1m[\u001b[0m\u001b[1;36m250529\u001b[0m, \u001b[1;36m250530\u001b[0m\u001b[1m]\u001b[0m          │\n",
       "│ \u001b[32mHEU    \u001b[0m │         \u001b[1;36m4\u001b[0m │ \u001b[1m[\u001b[0m\u001b[1;36m250747\u001b[0m, \u001b[1;36m250748\u001b[0m, \u001b[33m...\u001b[0m +\u001b[1;36m2\u001b[0m\u001b[1m]\u001b[0m  │\n",
       "│ \u001b[32mBUD    \u001b[0m │        \u001b[1;36m91\u001b[0m │ \u001b[1m[\u001b[0m\u001b[1;36m250883\u001b[0m, \u001b[1;36m268506\u001b[0m, \u001b[33m...\u001b[0m +\u001b[1;36m89\u001b[0m\u001b[1m]\u001b[0m │\n",
       "│ \u001b[32mNOX    \u001b[0m │        \u001b[1;36m54\u001b[0m │ \u001b[1m[\u001b[0m\u001b[1;36m250894\u001b[0m, \u001b[1;36m158607\u001b[0m, \u001b[33m...\u001b[0m +\u001b[1;36m52\u001b[0m\u001b[1m]\u001b[0m │\n",
       "│ \u001b[32mEYV    \u001b[0m │        \u001b[1;36m11\u001b[0m │ \u001b[1m[\u001b[0m\u001b[1;36m251334\u001b[0m, \u001b[1;36m251336\u001b[0m, \u001b[33m...\u001b[0m +\u001b[1;36m9\u001b[0m\u001b[1m]\u001b[0m  │\n",
       "│ \u001b[2m…\u001b[0m       │         \u001b[2m…\u001b[0m │ \u001b[2m…\u001b[0m                         │\n",
       "└─────────┴───────────┴───────────────────────────┘"
      ]
     },
     "execution_count": 19,
     "metadata": {},
     "output_type": "execute_result"
    }
   ],
   "source": [
    "def rare_trigrams(t: ibis.Table, threshold: int) -> ibis.Table:\n",
    "    return t.filter(_.n_records < threshold)\n",
    "\n",
    "\n",
    "trigrams_clean_rare = rare_trigrams(trigrams_clean, 100)\n",
    "trigrams_dirty_rare = rare_trigrams(trigrams_dirty, 100)\n",
    "trigrams_clean_rare"
   ]
  },
  {
   "cell_type": "code",
   "execution_count": 20,
   "metadata": {},
   "outputs": [
    {
     "data": {
      "text/html": [
       "<pre style=\"white-space:pre;overflow-x:auto;line-height:normal;font-family:Menlo,'DejaVu Sans Mono',consolas,'Courier New',monospace\">┏━━━━━━━━━┳━━━━━━━━━━━━━┳━━━━━━━━━━━━━━━━━━━━━━━━━━━┳━━━━━━━━━━━━━┳━━━━━━━━━━━━━━━━━━━━━━━━━━━┓\n",
       "┃<span style=\"font-weight: bold\"> trigram </span>┃<span style=\"font-weight: bold\"> n_records_l </span>┃<span style=\"font-weight: bold\"> record_ids_l              </span>┃<span style=\"font-weight: bold\"> n_records_r </span>┃<span style=\"font-weight: bold\"> record_ids_r              </span>┃\n",
       "┡━━━━━━━━━╇━━━━━━━━━━━━━╇━━━━━━━━━━━━━━━━━━━━━━━━━━━╇━━━━━━━━━━━━━╇━━━━━━━━━━━━━━━━━━━━━━━━━━━┩\n",
       "│ <span style=\"color: #7f7f7f; text-decoration-color: #7f7f7f\">string</span>  │ <span style=\"color: #7f7f7f; text-decoration-color: #7f7f7f\">int64</span>       │ <span style=\"color: #7f7f7f; text-decoration-color: #7f7f7f\">array&lt;int64&gt;</span>              │ <span style=\"color: #7f7f7f; text-decoration-color: #7f7f7f\">int64</span>       │ <span style=\"color: #7f7f7f; text-decoration-color: #7f7f7f\">array&lt;int64&gt;</span>              │\n",
       "├─────────┼─────────────┼───────────────────────────┼─────────────┼───────────────────────────┤\n",
       "│ <span style=\"color: #008000; text-decoration-color: #008000\">TYS    </span> │          <span style=\"color: #008080; text-decoration-color: #008080; font-weight: bold\">22</span> │ <span style=\"font-weight: bold\">[</span><span style=\"color: #008080; text-decoration-color: #008080; font-weight: bold\">122880</span>, <span style=\"color: #008080; text-decoration-color: #008080; font-weight: bold\">296764</span>, <span style=\"color: #808000; text-decoration-color: #808000\">...</span> +<span style=\"color: #008080; text-decoration-color: #008080; font-weight: bold\">20</span><span style=\"font-weight: bold\">]</span> │          <span style=\"color: #008080; text-decoration-color: #008080; font-weight: bold\">54</span> │ <span style=\"font-weight: bold\">[</span><span style=\"color: #008080; text-decoration-color: #008080; font-weight: bold\">617538</span>, <span style=\"color: #008080; text-decoration-color: #008080; font-weight: bold\">617539</span>, <span style=\"color: #808000; text-decoration-color: #808000\">...</span> +<span style=\"color: #008080; text-decoration-color: #008080; font-weight: bold\">52</span><span style=\"font-weight: bold\">]</span> │\n",
       "│ <span style=\"color: #008000; text-decoration-color: #008000\">09T    </span> │           <span style=\"color: #008080; text-decoration-color: #008080; font-weight: bold\">1</span> │ <span style=\"font-weight: bold\">[</span><span style=\"color: #008080; text-decoration-color: #008080; font-weight: bold\">210386</span><span style=\"font-weight: bold\">]</span>                  │          <span style=\"color: #008080; text-decoration-color: #008080; font-weight: bold\">18</span> │ <span style=\"font-weight: bold\">[</span><span style=\"color: #008080; text-decoration-color: #008080; font-weight: bold\">990886</span>, <span style=\"color: #008080; text-decoration-color: #008080; font-weight: bold\">969410</span>, <span style=\"color: #808000; text-decoration-color: #808000\">...</span> +<span style=\"color: #008080; text-decoration-color: #008080; font-weight: bold\">16</span><span style=\"font-weight: bold\">]</span> │\n",
       "│ <span style=\"color: #008000; text-decoration-color: #008000\">01S    </span> │          <span style=\"color: #008080; text-decoration-color: #008080; font-weight: bold\">10</span> │ <span style=\"font-weight: bold\">[</span><span style=\"color: #008080; text-decoration-color: #008080; font-weight: bold\">165789</span>, <span style=\"color: #008080; text-decoration-color: #008080; font-weight: bold\">165790</span>, <span style=\"color: #808000; text-decoration-color: #808000\">...</span> +<span style=\"color: #008080; text-decoration-color: #008080; font-weight: bold\">8</span><span style=\"font-weight: bold\">]</span>  │          <span style=\"color: #008080; text-decoration-color: #008080; font-weight: bold\">30</span> │ <span style=\"font-weight: bold\">[</span><span style=\"color: #008080; text-decoration-color: #008080; font-weight: bold\">990935</span>, <span style=\"color: #008080; text-decoration-color: #008080; font-weight: bold\">990936</span>, <span style=\"color: #808000; text-decoration-color: #808000\">...</span> +<span style=\"color: #008080; text-decoration-color: #008080; font-weight: bold\">28</span><span style=\"font-weight: bold\">]</span> │\n",
       "│ <span style=\"color: #008000; text-decoration-color: #008000\">ONL    </span> │          <span style=\"color: #008080; text-decoration-color: #008080; font-weight: bold\">46</span> │ <span style=\"font-weight: bold\">[</span><span style=\"color: #008080; text-decoration-color: #008080; font-weight: bold\">196105</span>, <span style=\"color: #008080; text-decoration-color: #008080; font-weight: bold\">229980</span>, <span style=\"color: #808000; text-decoration-color: #808000\">...</span> +<span style=\"color: #008080; text-decoration-color: #008080; font-weight: bold\">44</span><span style=\"font-weight: bold\">]</span> │          <span style=\"color: #008080; text-decoration-color: #008080; font-weight: bold\">15</span> │ <span style=\"font-weight: bold\">[</span><span style=\"color: #008080; text-decoration-color: #008080; font-weight: bold\">991126</span>, <span style=\"color: #008080; text-decoration-color: #008080; font-weight: bold\">991127</span>, <span style=\"color: #808000; text-decoration-color: #808000\">...</span> +<span style=\"color: #008080; text-decoration-color: #008080; font-weight: bold\">13</span><span style=\"font-weight: bold\">]</span> │\n",
       "│ <span style=\"color: #008000; text-decoration-color: #008000\">ILR    </span> │          <span style=\"color: #008080; text-decoration-color: #008080; font-weight: bold\">52</span> │ <span style=\"font-weight: bold\">[</span><span style=\"color: #008080; text-decoration-color: #008080; font-weight: bold\">297942</span>, <span style=\"color: #008080; text-decoration-color: #008080; font-weight: bold\">299406</span>, <span style=\"color: #808000; text-decoration-color: #808000\">...</span> +<span style=\"color: #008080; text-decoration-color: #008080; font-weight: bold\">50</span><span style=\"font-weight: bold\">]</span> │          <span style=\"color: #008080; text-decoration-color: #008080; font-weight: bold\">34</span> │ <span style=\"font-weight: bold\">[</span><span style=\"color: #008080; text-decoration-color: #008080; font-weight: bold\">991377</span>, <span style=\"color: #008080; text-decoration-color: #008080; font-weight: bold\">929079</span>, <span style=\"color: #808000; text-decoration-color: #808000\">...</span> +<span style=\"color: #008080; text-decoration-color: #008080; font-weight: bold\">32</span><span style=\"font-weight: bold\">]</span> │\n",
       "│ <span style=\"color: #008000; text-decoration-color: #008000\">STS    </span> │          <span style=\"color: #008080; text-decoration-color: #008080; font-weight: bold\">23</span> │ <span style=\"font-weight: bold\">[</span><span style=\"color: #008080; text-decoration-color: #008080; font-weight: bold\">248491</span>, <span style=\"color: #008080; text-decoration-color: #008080; font-weight: bold\">248536</span>, <span style=\"color: #808000; text-decoration-color: #808000\">...</span> +<span style=\"color: #008080; text-decoration-color: #008080; font-weight: bold\">21</span><span style=\"font-weight: bold\">]</span> │          <span style=\"color: #008080; text-decoration-color: #008080; font-weight: bold\">41</span> │ <span style=\"font-weight: bold\">[</span><span style=\"color: #008080; text-decoration-color: #008080; font-weight: bold\">991672</span>, <span style=\"color: #008080; text-decoration-color: #008080; font-weight: bold\">991673</span>, <span style=\"color: #808000; text-decoration-color: #808000\">...</span> +<span style=\"color: #008080; text-decoration-color: #008080; font-weight: bold\">39</span><span style=\"font-weight: bold\">]</span> │\n",
       "│ <span style=\"color: #008000; text-decoration-color: #008000\">HTI    </span> │          <span style=\"color: #008080; text-decoration-color: #008080; font-weight: bold\">30</span> │ <span style=\"font-weight: bold\">[</span><span style=\"color: #008080; text-decoration-color: #008080; font-weight: bold\">291302</span>, <span style=\"color: #008080; text-decoration-color: #008080; font-weight: bold\">291323</span>, <span style=\"color: #808000; text-decoration-color: #808000\">...</span> +<span style=\"color: #008080; text-decoration-color: #008080; font-weight: bold\">28</span><span style=\"font-weight: bold\">]</span> │          <span style=\"color: #008080; text-decoration-color: #008080; font-weight: bold\">37</span> │ <span style=\"font-weight: bold\">[</span><span style=\"color: #008080; text-decoration-color: #008080; font-weight: bold\">991783</span>, <span style=\"color: #008080; text-decoration-color: #008080; font-weight: bold\">991784</span>, <span style=\"color: #808000; text-decoration-color: #808000\">...</span> +<span style=\"color: #008080; text-decoration-color: #008080; font-weight: bold\">35</span><span style=\"font-weight: bold\">]</span> │\n",
       "│ <span style=\"color: #008000; text-decoration-color: #008000\">EMB    </span> │          <span style=\"color: #008080; text-decoration-color: #008080; font-weight: bold\">55</span> │ <span style=\"font-weight: bold\">[</span><span style=\"color: #008080; text-decoration-color: #008080; font-weight: bold\">137194</span>, <span style=\"color: #008080; text-decoration-color: #008080; font-weight: bold\">138812</span>, <span style=\"color: #808000; text-decoration-color: #808000\">...</span> +<span style=\"color: #008080; text-decoration-color: #008080; font-weight: bold\">53</span><span style=\"font-weight: bold\">]</span> │          <span style=\"color: #008080; text-decoration-color: #008080; font-weight: bold\">91</span> │ <span style=\"font-weight: bold\">[</span><span style=\"color: #008080; text-decoration-color: #008080; font-weight: bold\">992018</span>, <span style=\"color: #008080; text-decoration-color: #008080; font-weight: bold\">992019</span>, <span style=\"color: #808000; text-decoration-color: #808000\">...</span> +<span style=\"color: #008080; text-decoration-color: #008080; font-weight: bold\">89</span><span style=\"font-weight: bold\">]</span> │\n",
       "│ <span style=\"color: #008000; text-decoration-color: #008000\">YAW    </span> │           <span style=\"color: #008080; text-decoration-color: #008080; font-weight: bold\">2</span> │ <span style=\"font-weight: bold\">[</span><span style=\"color: #008080; text-decoration-color: #008080; font-weight: bold\">255632</span>, <span style=\"color: #008080; text-decoration-color: #008080; font-weight: bold\">258411</span><span style=\"font-weight: bold\">]</span>          │           <span style=\"color: #008080; text-decoration-color: #008080; font-weight: bold\">1</span> │ <span style=\"font-weight: bold\">[</span><span style=\"color: #008080; text-decoration-color: #008080; font-weight: bold\">992163</span><span style=\"font-weight: bold\">]</span>                  │\n",
       "│ <span style=\"color: #008000; text-decoration-color: #008000\">ALU    </span> │          <span style=\"color: #008080; text-decoration-color: #008080; font-weight: bold\">81</span> │ <span style=\"font-weight: bold\">[</span><span style=\"color: #008080; text-decoration-color: #008080; font-weight: bold\">261882</span>, <span style=\"color: #008080; text-decoration-color: #008080; font-weight: bold\">261910</span>, <span style=\"color: #808000; text-decoration-color: #808000\">...</span> +<span style=\"color: #008080; text-decoration-color: #008080; font-weight: bold\">79</span><span style=\"font-weight: bold\">]</span> │          <span style=\"color: #008080; text-decoration-color: #008080; font-weight: bold\">73</span> │ <span style=\"font-weight: bold\">[</span><span style=\"color: #008080; text-decoration-color: #008080; font-weight: bold\">395637</span>, <span style=\"color: #008080; text-decoration-color: #008080; font-weight: bold\">395638</span>, <span style=\"color: #808000; text-decoration-color: #808000\">...</span> +<span style=\"color: #008080; text-decoration-color: #008080; font-weight: bold\">71</span><span style=\"font-weight: bold\">]</span> │\n",
       "│ <span style=\"color: #7f7f7f; text-decoration-color: #7f7f7f\">…</span>       │           <span style=\"color: #7f7f7f; text-decoration-color: #7f7f7f\">…</span> │ <span style=\"color: #7f7f7f; text-decoration-color: #7f7f7f\">…</span>                         │           <span style=\"color: #7f7f7f; text-decoration-color: #7f7f7f\">…</span> │ <span style=\"color: #7f7f7f; text-decoration-color: #7f7f7f\">…</span>                         │\n",
       "└─────────┴─────────────┴───────────────────────────┴─────────────┴───────────────────────────┘\n",
       "</pre>\n"
      ],
      "text/plain": [
       "┏━━━━━━━━━┳━━━━━━━━━━━━━┳━━━━━━━━━━━━━━━━━━━━━━━━━━━┳━━━━━━━━━━━━━┳━━━━━━━━━━━━━━━━━━━━━━━━━━━┓\n",
       "┃\u001b[1m \u001b[0m\u001b[1mtrigram\u001b[0m\u001b[1m \u001b[0m┃\u001b[1m \u001b[0m\u001b[1mn_records_l\u001b[0m\u001b[1m \u001b[0m┃\u001b[1m \u001b[0m\u001b[1mrecord_ids_l\u001b[0m\u001b[1m             \u001b[0m\u001b[1m \u001b[0m┃\u001b[1m \u001b[0m\u001b[1mn_records_r\u001b[0m\u001b[1m \u001b[0m┃\u001b[1m \u001b[0m\u001b[1mrecord_ids_r\u001b[0m\u001b[1m             \u001b[0m\u001b[1m \u001b[0m┃\n",
       "┡━━━━━━━━━╇━━━━━━━━━━━━━╇━━━━━━━━━━━━━━━━━━━━━━━━━━━╇━━━━━━━━━━━━━╇━━━━━━━━━━━━━━━━━━━━━━━━━━━┩\n",
       "│ \u001b[2mstring\u001b[0m  │ \u001b[2mint64\u001b[0m       │ \u001b[2marray<int64>\u001b[0m              │ \u001b[2mint64\u001b[0m       │ \u001b[2marray<int64>\u001b[0m              │\n",
       "├─────────┼─────────────┼───────────────────────────┼─────────────┼───────────────────────────┤\n",
       "│ \u001b[32mTYS    \u001b[0m │          \u001b[1;36m22\u001b[0m │ \u001b[1m[\u001b[0m\u001b[1;36m122880\u001b[0m, \u001b[1;36m296764\u001b[0m, \u001b[33m...\u001b[0m +\u001b[1;36m20\u001b[0m\u001b[1m]\u001b[0m │          \u001b[1;36m54\u001b[0m │ \u001b[1m[\u001b[0m\u001b[1;36m617538\u001b[0m, \u001b[1;36m617539\u001b[0m, \u001b[33m...\u001b[0m +\u001b[1;36m52\u001b[0m\u001b[1m]\u001b[0m │\n",
       "│ \u001b[32m09T    \u001b[0m │           \u001b[1;36m1\u001b[0m │ \u001b[1m[\u001b[0m\u001b[1;36m210386\u001b[0m\u001b[1m]\u001b[0m                  │          \u001b[1;36m18\u001b[0m │ \u001b[1m[\u001b[0m\u001b[1;36m990886\u001b[0m, \u001b[1;36m969410\u001b[0m, \u001b[33m...\u001b[0m +\u001b[1;36m16\u001b[0m\u001b[1m]\u001b[0m │\n",
       "│ \u001b[32m01S    \u001b[0m │          \u001b[1;36m10\u001b[0m │ \u001b[1m[\u001b[0m\u001b[1;36m165789\u001b[0m, \u001b[1;36m165790\u001b[0m, \u001b[33m...\u001b[0m +\u001b[1;36m8\u001b[0m\u001b[1m]\u001b[0m  │          \u001b[1;36m30\u001b[0m │ \u001b[1m[\u001b[0m\u001b[1;36m990935\u001b[0m, \u001b[1;36m990936\u001b[0m, \u001b[33m...\u001b[0m +\u001b[1;36m28\u001b[0m\u001b[1m]\u001b[0m │\n",
       "│ \u001b[32mONL    \u001b[0m │          \u001b[1;36m46\u001b[0m │ \u001b[1m[\u001b[0m\u001b[1;36m196105\u001b[0m, \u001b[1;36m229980\u001b[0m, \u001b[33m...\u001b[0m +\u001b[1;36m44\u001b[0m\u001b[1m]\u001b[0m │          \u001b[1;36m15\u001b[0m │ \u001b[1m[\u001b[0m\u001b[1;36m991126\u001b[0m, \u001b[1;36m991127\u001b[0m, \u001b[33m...\u001b[0m +\u001b[1;36m13\u001b[0m\u001b[1m]\u001b[0m │\n",
       "│ \u001b[32mILR    \u001b[0m │          \u001b[1;36m52\u001b[0m │ \u001b[1m[\u001b[0m\u001b[1;36m297942\u001b[0m, \u001b[1;36m299406\u001b[0m, \u001b[33m...\u001b[0m +\u001b[1;36m50\u001b[0m\u001b[1m]\u001b[0m │          \u001b[1;36m34\u001b[0m │ \u001b[1m[\u001b[0m\u001b[1;36m991377\u001b[0m, \u001b[1;36m929079\u001b[0m, \u001b[33m...\u001b[0m +\u001b[1;36m32\u001b[0m\u001b[1m]\u001b[0m │\n",
       "│ \u001b[32mSTS    \u001b[0m │          \u001b[1;36m23\u001b[0m │ \u001b[1m[\u001b[0m\u001b[1;36m248491\u001b[0m, \u001b[1;36m248536\u001b[0m, \u001b[33m...\u001b[0m +\u001b[1;36m21\u001b[0m\u001b[1m]\u001b[0m │          \u001b[1;36m41\u001b[0m │ \u001b[1m[\u001b[0m\u001b[1;36m991672\u001b[0m, \u001b[1;36m991673\u001b[0m, \u001b[33m...\u001b[0m +\u001b[1;36m39\u001b[0m\u001b[1m]\u001b[0m │\n",
       "│ \u001b[32mHTI    \u001b[0m │          \u001b[1;36m30\u001b[0m │ \u001b[1m[\u001b[0m\u001b[1;36m291302\u001b[0m, \u001b[1;36m291323\u001b[0m, \u001b[33m...\u001b[0m +\u001b[1;36m28\u001b[0m\u001b[1m]\u001b[0m │          \u001b[1;36m37\u001b[0m │ \u001b[1m[\u001b[0m\u001b[1;36m991783\u001b[0m, \u001b[1;36m991784\u001b[0m, \u001b[33m...\u001b[0m +\u001b[1;36m35\u001b[0m\u001b[1m]\u001b[0m │\n",
       "│ \u001b[32mEMB    \u001b[0m │          \u001b[1;36m55\u001b[0m │ \u001b[1m[\u001b[0m\u001b[1;36m137194\u001b[0m, \u001b[1;36m138812\u001b[0m, \u001b[33m...\u001b[0m +\u001b[1;36m53\u001b[0m\u001b[1m]\u001b[0m │          \u001b[1;36m91\u001b[0m │ \u001b[1m[\u001b[0m\u001b[1;36m992018\u001b[0m, \u001b[1;36m992019\u001b[0m, \u001b[33m...\u001b[0m +\u001b[1;36m89\u001b[0m\u001b[1m]\u001b[0m │\n",
       "│ \u001b[32mYAW    \u001b[0m │           \u001b[1;36m2\u001b[0m │ \u001b[1m[\u001b[0m\u001b[1;36m255632\u001b[0m, \u001b[1;36m258411\u001b[0m\u001b[1m]\u001b[0m          │           \u001b[1;36m1\u001b[0m │ \u001b[1m[\u001b[0m\u001b[1;36m992163\u001b[0m\u001b[1m]\u001b[0m                  │\n",
       "│ \u001b[32mALU    \u001b[0m │          \u001b[1;36m81\u001b[0m │ \u001b[1m[\u001b[0m\u001b[1;36m261882\u001b[0m, \u001b[1;36m261910\u001b[0m, \u001b[33m...\u001b[0m +\u001b[1;36m79\u001b[0m\u001b[1m]\u001b[0m │          \u001b[1;36m73\u001b[0m │ \u001b[1m[\u001b[0m\u001b[1;36m395637\u001b[0m, \u001b[1;36m395638\u001b[0m, \u001b[33m...\u001b[0m +\u001b[1;36m71\u001b[0m\u001b[1m]\u001b[0m │\n",
       "│ \u001b[2m…\u001b[0m       │           \u001b[2m…\u001b[0m │ \u001b[2m…\u001b[0m                         │           \u001b[2m…\u001b[0m │ \u001b[2m…\u001b[0m                         │\n",
       "└─────────┴─────────────┴───────────────────────────┴─────────────┴───────────────────────────┘"
      ]
     },
     "execution_count": 20,
     "metadata": {},
     "output_type": "execute_result"
    }
   ],
   "source": [
    "join_table = ibis.join(\n",
    "    trigrams_clean_rare,\n",
    "    trigrams_dirty_rare,\n",
    "    how=\"inner\",\n",
    "    predicates=\"trigram\",\n",
    "    lname=\"{name}_l\",\n",
    "    rname=\"{name}_r\",\n",
    ")\n",
    "join_table"
   ]
  },
  {
   "cell_type": "code",
   "execution_count": 26,
   "metadata": {},
   "outputs": [
    {
     "data": {
      "text/html": [
       "<pre style=\"white-space:pre;overflow-x:auto;line-height:normal;font-family:Menlo,'DejaVu Sans Mono',consolas,'Courier New',monospace\"></pre>\n"
      ],
      "text/plain": []
     },
     "metadata": {},
     "output_type": "display_data"
    },
    {
     "name": "stdout",
     "output_type": "stream",
     "text": [
      "┌───────┐\n",
      "│ \u001b[1;36m56920\u001b[0m │\n",
      "└───────┘\n"
     ]
    },
    {
     "data": {
      "text/html": [
       "<pre style=\"white-space:pre;overflow-x:auto;line-height:normal;font-family:Menlo,'DejaVu Sans Mono',consolas,'Courier New',monospace\">┏━━━━━━━━━┳━━━━━━━━━━━━━┳━━━━━━━━━━━━━┓\n",
       "┃<span style=\"font-weight: bold\"> trigram </span>┃<span style=\"font-weight: bold\"> record_id_l </span>┃<span style=\"font-weight: bold\"> record_id_r </span>┃\n",
       "┡━━━━━━━━━╇━━━━━━━━━━━━━╇━━━━━━━━━━━━━┩\n",
       "│ <span style=\"color: #7f7f7f; text-decoration-color: #7f7f7f\">string</span>  │ <span style=\"color: #7f7f7f; text-decoration-color: #7f7f7f\">int64</span>       │ <span style=\"color: #7f7f7f; text-decoration-color: #7f7f7f\">int64</span>       │\n",
       "├─────────┼─────────────┼─────────────┤\n",
       "│ <span style=\"color: #008000; text-decoration-color: #008000\">TYS    </span> │      <span style=\"color: #008080; text-decoration-color: #008080; font-weight: bold\">122880</span> │      <span style=\"color: #008080; text-decoration-color: #008080; font-weight: bold\">617538</span> │\n",
       "│ <span style=\"color: #008000; text-decoration-color: #008000\">TYS    </span> │      <span style=\"color: #008080; text-decoration-color: #008080; font-weight: bold\">296764</span> │      <span style=\"color: #008080; text-decoration-color: #008080; font-weight: bold\">617539</span> │\n",
       "│ <span style=\"color: #008000; text-decoration-color: #008000\">TYS    </span> │      <span style=\"color: #008080; text-decoration-color: #008080; font-weight: bold\">203272</span> │      <span style=\"color: #008080; text-decoration-color: #008080; font-weight: bold\">617540</span> │\n",
       "│ <span style=\"color: #008000; text-decoration-color: #008000\">TYS    </span> │      <span style=\"color: #008080; text-decoration-color: #008080; font-weight: bold\">203290</span> │      <span style=\"color: #008080; text-decoration-color: #008080; font-weight: bold\">617541</span> │\n",
       "│ <span style=\"color: #008000; text-decoration-color: #008000\">TYS    </span> │      <span style=\"color: #008080; text-decoration-color: #008080; font-weight: bold\">203292</span> │      <span style=\"color: #008080; text-decoration-color: #008080; font-weight: bold\">617542</span> │\n",
       "│ <span style=\"color: #008000; text-decoration-color: #008000\">TYS    </span> │      <span style=\"color: #008080; text-decoration-color: #008080; font-weight: bold\">203312</span> │      <span style=\"color: #008080; text-decoration-color: #008080; font-weight: bold\">617543</span> │\n",
       "│ <span style=\"color: #008000; text-decoration-color: #008000\">TYS    </span> │      <span style=\"color: #008080; text-decoration-color: #008080; font-weight: bold\">203320</span> │      <span style=\"color: #008080; text-decoration-color: #008080; font-weight: bold\">617544</span> │\n",
       "│ <span style=\"color: #008000; text-decoration-color: #008000\">TYS    </span> │      <span style=\"color: #008080; text-decoration-color: #008080; font-weight: bold\">203322</span> │      <span style=\"color: #008080; text-decoration-color: #008080; font-weight: bold\">617545</span> │\n",
       "│ <span style=\"color: #008000; text-decoration-color: #008000\">TYS    </span> │      <span style=\"color: #008080; text-decoration-color: #008080; font-weight: bold\">203324</span> │      <span style=\"color: #008080; text-decoration-color: #008080; font-weight: bold\">617546</span> │\n",
       "│ <span style=\"color: #008000; text-decoration-color: #008000\">TYS    </span> │      <span style=\"color: #008080; text-decoration-color: #008080; font-weight: bold\">122863</span> │      <span style=\"color: #008080; text-decoration-color: #008080; font-weight: bold\">617547</span> │\n",
       "│ <span style=\"color: #7f7f7f; text-decoration-color: #7f7f7f\">…</span>       │           <span style=\"color: #7f7f7f; text-decoration-color: #7f7f7f\">…</span> │           <span style=\"color: #7f7f7f; text-decoration-color: #7f7f7f\">…</span> │\n",
       "└─────────┴─────────────┴─────────────┘\n",
       "</pre>\n"
      ],
      "text/plain": [
       "┏━━━━━━━━━┳━━━━━━━━━━━━━┳━━━━━━━━━━━━━┓\n",
       "┃\u001b[1m \u001b[0m\u001b[1mtrigram\u001b[0m\u001b[1m \u001b[0m┃\u001b[1m \u001b[0m\u001b[1mrecord_id_l\u001b[0m\u001b[1m \u001b[0m┃\u001b[1m \u001b[0m\u001b[1mrecord_id_r\u001b[0m\u001b[1m \u001b[0m┃\n",
       "┡━━━━━━━━━╇━━━━━━━━━━━━━╇━━━━━━━━━━━━━┩\n",
       "│ \u001b[2mstring\u001b[0m  │ \u001b[2mint64\u001b[0m       │ \u001b[2mint64\u001b[0m       │\n",
       "├─────────┼─────────────┼─────────────┤\n",
       "│ \u001b[32mTYS    \u001b[0m │      \u001b[1;36m122880\u001b[0m │      \u001b[1;36m617538\u001b[0m │\n",
       "│ \u001b[32mTYS    \u001b[0m │      \u001b[1;36m296764\u001b[0m │      \u001b[1;36m617539\u001b[0m │\n",
       "│ \u001b[32mTYS    \u001b[0m │      \u001b[1;36m203272\u001b[0m │      \u001b[1;36m617540\u001b[0m │\n",
       "│ \u001b[32mTYS    \u001b[0m │      \u001b[1;36m203290\u001b[0m │      \u001b[1;36m617541\u001b[0m │\n",
       "│ \u001b[32mTYS    \u001b[0m │      \u001b[1;36m203292\u001b[0m │      \u001b[1;36m617542\u001b[0m │\n",
       "│ \u001b[32mTYS    \u001b[0m │      \u001b[1;36m203312\u001b[0m │      \u001b[1;36m617543\u001b[0m │\n",
       "│ \u001b[32mTYS    \u001b[0m │      \u001b[1;36m203320\u001b[0m │      \u001b[1;36m617544\u001b[0m │\n",
       "│ \u001b[32mTYS    \u001b[0m │      \u001b[1;36m203322\u001b[0m │      \u001b[1;36m617545\u001b[0m │\n",
       "│ \u001b[32mTYS    \u001b[0m │      \u001b[1;36m203324\u001b[0m │      \u001b[1;36m617546\u001b[0m │\n",
       "│ \u001b[32mTYS    \u001b[0m │      \u001b[1;36m122863\u001b[0m │      \u001b[1;36m617547\u001b[0m │\n",
       "│ \u001b[2m…\u001b[0m       │           \u001b[2m…\u001b[0m │           \u001b[2m…\u001b[0m │\n",
       "└─────────┴─────────────┴─────────────┘"
      ]
     },
     "execution_count": 26,
     "metadata": {},
     "output_type": "execute_result"
    }
   ],
   "source": [
    "links = join_table.select(\n",
    "    \"trigram\",\n",
    "    record_id_l=_.record_ids_l.unnest(),\n",
    "    record_id_r=_.record_ids_r.unnest(),\n",
    ")\n",
    "print(links.count())\n",
    "links"
   ]
  },
  {
   "cell_type": "code",
   "execution_count": 97,
   "metadata": {},
   "outputs": [
    {
     "data": {
      "text/plain": [
       "LinkTableLinkage(\n",
       "    left=315_659,\n",
       "    right=992_329,\n",
       "    links=56_920,\n",
       ")"
      ]
     },
     "execution_count": 97,
     "metadata": {},
     "output_type": "execute_result"
    }
   ],
   "source": [
    "trigram_linkage = mismo.linkage.LinkTableLinkage(clean, dirty, links)\n",
    "trigram_linkage = trigram_linkage.cache()\n",
    "trigram_linkage"
   ]
  },
  {
   "cell_type": "code",
   "execution_count": 98,
   "metadata": {},
   "outputs": [
    {
     "ename": "TypeError",
     "evalue": "LinksTable._swap_perspective() takes 1 positional argument but 2 were given",
     "output_type": "error",
     "traceback": [
      "\u001b[0;31m---------------------------------------------------------------------------\u001b[0m",
      "\u001b[0;31mTypeError\u001b[0m                                 Traceback (most recent call last)",
      "Cell \u001b[0;32mIn[98], line 1\u001b[0m\n\u001b[0;32m----> 1\u001b[0m \u001b[43mtrigram_linkage\u001b[49m\u001b[38;5;241;43m.\u001b[39;49m\u001b[43mlinks\u001b[49m\u001b[38;5;241;43m.\u001b[39;49m\u001b[43mwith_left\u001b[49m\u001b[43m(\u001b[49m\u001b[43m)\u001b[49m\u001b[38;5;241;43m.\u001b[39;49m\u001b[43mwith_right\u001b[49m\u001b[43m(\u001b[49m\u001b[43m)\u001b[49m\n",
      "File \u001b[0;32m~/code/mismo/mismo/types/_links_table.py:37\u001b[0m, in \u001b[0;36mLinksTable.with_right\u001b[0;34m(self)\u001b[0m\n\u001b[1;32m     35\u001b[0m \u001b[38;5;28;01mdef\u001b[39;00m\u001b[38;5;250m \u001b[39m\u001b[38;5;21mwith_right\u001b[39m(\u001b[38;5;28mself\u001b[39m) \u001b[38;5;241m-\u001b[39m\u001b[38;5;241m>\u001b[39m _typing\u001b[38;5;241m.\u001b[39mSelf:\n\u001b[1;32m     36\u001b[0m \u001b[38;5;250m    \u001b[39m\u001b[38;5;124;03m\"\"\"Join the right table to this table of links.\"\"\"\u001b[39;00m\n\u001b[0;32m---> 37\u001b[0m     right_renamed \u001b[38;5;241m=\u001b[39m \u001b[38;5;28;43mself\u001b[39;49m\u001b[38;5;241;43m.\u001b[39;49m\u001b[43mright_\u001b[49m\u001b[38;5;241m.\u001b[39mrename(\u001b[38;5;124m\"\u001b[39m\u001b[38;5;132;01m{name}\u001b[39;00m\u001b[38;5;124m_r\u001b[39m\u001b[38;5;124m\"\u001b[39m)\n\u001b[1;32m     38\u001b[0m     joined \u001b[38;5;241m=\u001b[39m \u001b[38;5;28mself\u001b[39m\u001b[38;5;241m.\u001b[39minner_join(right_renamed, \u001b[38;5;124m\"\u001b[39m\u001b[38;5;124mrecord_id_r\u001b[39m\u001b[38;5;124m\"\u001b[39m)\n\u001b[1;32m     39\u001b[0m     \u001b[38;5;28;01mreturn\u001b[39;00m \u001b[38;5;28mself\u001b[39m\u001b[38;5;241m.\u001b[39m\u001b[38;5;18m__class__\u001b[39m(joined, left\u001b[38;5;241m=\u001b[39m\u001b[38;5;28mself\u001b[39m\u001b[38;5;241m.\u001b[39m_left_raw, right\u001b[38;5;241m=\u001b[39m\u001b[38;5;28mself\u001b[39m\u001b[38;5;241m.\u001b[39m_right_raw)\n",
      "File \u001b[0;32m~/code/mismo/mismo/types/_links_table.py:50\u001b[0m, in \u001b[0;36mLinksTable.right_\u001b[0;34m(self)\u001b[0m\n\u001b[1;32m     46\u001b[0m \u001b[38;5;129m@property\u001b[39m\n\u001b[1;32m     47\u001b[0m \u001b[38;5;28;01mdef\u001b[39;00m\u001b[38;5;250m \u001b[39m\u001b[38;5;21mright_\u001b[39m(\u001b[38;5;28mself\u001b[39m) \u001b[38;5;241m-\u001b[39m\u001b[38;5;241m>\u001b[39m LinkedTable:\n\u001b[1;32m     48\u001b[0m \u001b[38;5;250m    \u001b[39m\u001b[38;5;124;03m\"\"\"The right table.\"\"\"\u001b[39;00m\n\u001b[1;32m     49\u001b[0m     \u001b[38;5;28;01mreturn\u001b[39;00m LinkedTable(\n\u001b[0;32m---> 50\u001b[0m         \u001b[38;5;28mself\u001b[39m\u001b[38;5;241m.\u001b[39m_right_raw, other\u001b[38;5;241m=\u001b[39m\u001b[38;5;28mself\u001b[39m\u001b[38;5;241m.\u001b[39m_left_raw, links\u001b[38;5;241m=\u001b[39m\u001b[38;5;28;43mself\u001b[39;49m\u001b[38;5;241;43m.\u001b[39;49m\u001b[43m_swap_perspective\u001b[49m\u001b[43m(\u001b[49m\u001b[38;5;28;43mself\u001b[39;49m\u001b[43m)\u001b[49m\n\u001b[1;32m     51\u001b[0m     )\n",
      "\u001b[0;31mTypeError\u001b[0m: LinksTable._swap_perspective() takes 1 positional argument but 2 were given"
     ]
    }
   ],
   "source": [
    "trigram_linkage.links.with_left().with_right()"
   ]
  },
  {
   "cell_type": "code",
   "execution_count": 91,
   "metadata": {},
   "outputs": [
    {
     "data": {
      "text/html": [
       "<pre style=\"white-space:pre;overflow-x:auto;line-height:normal;font-family:Menlo,'DejaVu Sans Mono',consolas,'Courier New',monospace\"></pre>\n"
      ],
      "text/plain": []
     },
     "metadata": {},
     "output_type": "display_data"
    },
    {
     "data": {
      "text/html": [
       "<pre style=\"white-space:pre;overflow-x:auto;line-height:normal;font-family:Menlo,'DejaVu Sans Mono',consolas,'Courier New',monospace\"></pre>\n"
      ],
      "text/plain": []
     },
     "metadata": {},
     "output_type": "display_data"
    },
    {
     "data": {
      "text/html": [
       "<pre style=\"white-space:pre;overflow-x:auto;line-height:normal;font-family:Menlo,'DejaVu Sans Mono',consolas,'Courier New',monospace\"></pre>\n"
      ],
      "text/plain": []
     },
     "metadata": {},
     "output_type": "display_data"
    },
    {
     "data": {
      "text/plain": [
       "(┌────────┐\n",
       " │ \u001b[1;36m315659\u001b[0m │\n",
       " └────────┘,\n",
       " ┌────────┐\n",
       " │ \u001b[1;36m315659\u001b[0m │\n",
       " └────────┘,\n",
       " ┌────────┐\n",
       " │ \u001b[1;36m315659\u001b[0m │\n",
       " └────────┘)"
      ]
     },
     "execution_count": 91,
     "metadata": {},
     "output_type": "execute_result"
    }
   ],
   "source": [
    "clean.count(), trigram_linkage.left.count(), trigram_linkage.left.with_n_links().count()"
   ]
  },
  {
   "cell_type": "code",
   "execution_count": 93,
   "metadata": {},
   "outputs": [
    {
     "data": {
      "text/html": [
       "<pre style=\"white-space:pre;overflow-x:auto;line-height:normal;font-family:Menlo,'DejaVu Sans Mono',consolas,'Courier New',monospace\">┏━━━━━━━━━━━┳━━━━━━━━┳━━━━━━━━━━━━━━┳━━━━━━━━━━┳━━━━━━━━━━━━━━━━━━━━━━━━┳━━━━━━━━┳━━━━━━━━━━━━━┳━━━━━━━━━━━┳━━━━━━━━━━━━━━━━━━━━━━━━━┳━━━━━━━━━┓\n",
       "┃<span style=\"font-weight: bold\"> record_id </span>┃<span style=\"font-weight: bold\"> state  </span>┃<span style=\"font-weight: bold\"> city         </span>┃<span style=\"font-weight: bold\"> postcode </span>┃<span style=\"font-weight: bold\"> street                 </span>┃<span style=\"font-weight: bold\"> unit   </span>┃<span style=\"font-weight: bold\"> lon         </span>┃<span style=\"font-weight: bold\"> lat       </span>┃<span style=\"font-weight: bold\"> trigrams                </span>┃<span style=\"font-weight: bold\"> n_links </span>┃\n",
       "┡━━━━━━━━━━━╇━━━━━━━━╇━━━━━━━━━━━━━━╇━━━━━━━━━━╇━━━━━━━━━━━━━━━━━━━━━━━━╇━━━━━━━━╇━━━━━━━━━━━━━╇━━━━━━━━━━━╇━━━━━━━━━━━━━━━━━━━━━━━━━╇━━━━━━━━━┩\n",
       "│ <span style=\"color: #7f7f7f; text-decoration-color: #7f7f7f\">int64</span>     │ <span style=\"color: #7f7f7f; text-decoration-color: #7f7f7f\">string</span> │ <span style=\"color: #7f7f7f; text-decoration-color: #7f7f7f\">string</span>       │ <span style=\"color: #7f7f7f; text-decoration-color: #7f7f7f\">string</span>   │ <span style=\"color: #7f7f7f; text-decoration-color: #7f7f7f\">string</span>                 │ <span style=\"color: #7f7f7f; text-decoration-color: #7f7f7f\">string</span> │ <span style=\"color: #7f7f7f; text-decoration-color: #7f7f7f\">float64</span>     │ <span style=\"color: #7f7f7f; text-decoration-color: #7f7f7f\">float64</span>   │ <span style=\"color: #7f7f7f; text-decoration-color: #7f7f7f\">array&lt;string&gt;</span>           │ <span style=\"color: #7f7f7f; text-decoration-color: #7f7f7f\">int64</span>   │\n",
       "├───────────┼────────┼──────────────┼──────────┼────────────────────────┼────────┼─────────────┼───────────┼─────────────────────────┼─────────┤\n",
       "│         <span style=\"color: #008080; text-decoration-color: #008080; font-weight: bold\">0</span> │ <span style=\"color: #008000; text-decoration-color: #008000\">AK    </span> │ <span style=\"color: #008000; text-decoration-color: #008000\">ANCHOR POINT</span> │ <span style=\"color: #008000; text-decoration-color: #008000\">99556   </span> │ <span style=\"color: #008000; text-decoration-color: #008000\">23837 NIKOLAI STREET  </span> │ <span style=\"color: #7f7f7f; text-decoration-color: #7f7f7f\">NULL</span>   │ <span style=\"color: #008080; text-decoration-color: #008080; font-weight: bold\">-151.746357</span> │ <span style=\"color: #008080; text-decoration-color: #008080; font-weight: bold\">59.926617</span> │ <span style=\"font-weight: bold\">[</span><span style=\"color: #008000; text-decoration-color: #008000\">'STR'</span>, <span style=\"color: #008000; text-decoration-color: #008000\">'NIK'</span>, <span style=\"color: #808000; text-decoration-color: #808000\">...</span> +<span style=\"color: #008080; text-decoration-color: #008080; font-weight: bold\">20</span><span style=\"font-weight: bold\">]</span> │       <span style=\"color: #008080; text-decoration-color: #008080; font-weight: bold\">0</span> │\n",
       "│         <span style=\"color: #008080; text-decoration-color: #008080; font-weight: bold\">1</span> │ <span style=\"color: #008000; text-decoration-color: #008000\">AK    </span> │ <span style=\"color: #008000; text-decoration-color: #008000\">ANCHOR POINT</span> │ <span style=\"color: #008000; text-decoration-color: #008000\">99556   </span> │ <span style=\"color: #008000; text-decoration-color: #008000\">24338 MISTY LANE      </span> │ <span style=\"color: #7f7f7f; text-decoration-color: #7f7f7f\">NULL</span>   │ <span style=\"color: #008080; text-decoration-color: #008080; font-weight: bold\">-151.739071</span> │ <span style=\"color: #008080; text-decoration-color: #008080; font-weight: bold\">59.919594</span> │ <span style=\"font-weight: bold\">[</span><span style=\"color: #008000; text-decoration-color: #008000\">'ANE'</span>, <span style=\"color: #008000; text-decoration-color: #008000\">'LAN'</span>, <span style=\"color: #808000; text-decoration-color: #808000\">...</span> +<span style=\"color: #008080; text-decoration-color: #008080; font-weight: bold\">16</span><span style=\"font-weight: bold\">]</span> │       <span style=\"color: #008080; text-decoration-color: #008080; font-weight: bold\">0</span> │\n",
       "│         <span style=\"color: #008080; text-decoration-color: #008080; font-weight: bold\">2</span> │ <span style=\"color: #008000; text-decoration-color: #008000\">AK    </span> │ <span style=\"color: #008000; text-decoration-color: #008000\">ANCHOR POINT</span> │ <span style=\"color: #008000; text-decoration-color: #008000\">99556   </span> │ <span style=\"color: #008000; text-decoration-color: #008000\">24715 STERLING HIGHWAY</span> │ <span style=\"color: #7f7f7f; text-decoration-color: #7f7f7f\">NULL</span>   │ <span style=\"color: #008080; text-decoration-color: #008080; font-weight: bold\">-151.755646</span> │ <span style=\"color: #008080; text-decoration-color: #008080; font-weight: bold\">59.913984</span> │ <span style=\"font-weight: bold\">[</span><span style=\"color: #008000; text-decoration-color: #008000\">'WAY'</span>, <span style=\"color: #008000; text-decoration-color: #008000\">'GHW'</span>, <span style=\"color: #808000; text-decoration-color: #808000\">...</span> +<span style=\"color: #008080; text-decoration-color: #008080; font-weight: bold\">22</span><span style=\"font-weight: bold\">]</span> │       <span style=\"color: #008080; text-decoration-color: #008080; font-weight: bold\">0</span> │\n",
       "│         <span style=\"color: #008080; text-decoration-color: #008080; font-weight: bold\">3</span> │ <span style=\"color: #008000; text-decoration-color: #008000\">AK    </span> │ <span style=\"color: #008000; text-decoration-color: #008000\">ANCHOR POINT</span> │ <span style=\"color: #008000; text-decoration-color: #008000\">99556   </span> │ <span style=\"color: #008000; text-decoration-color: #008000\">24803 INLET COVE LANE </span> │ <span style=\"color: #7f7f7f; text-decoration-color: #7f7f7f\">NULL</span>   │ <span style=\"color: #008080; text-decoration-color: #008080; font-weight: bold\">-151.757118</span> │ <span style=\"color: #008080; text-decoration-color: #008080; font-weight: bold\">59.912571</span> │ <span style=\"font-weight: bold\">[</span><span style=\"color: #008000; text-decoration-color: #008000\">'ANE'</span>, <span style=\"color: #008000; text-decoration-color: #008000\">'LAN'</span>, <span style=\"color: #808000; text-decoration-color: #808000\">...</span> +<span style=\"color: #008080; text-decoration-color: #008080; font-weight: bold\">18</span><span style=\"font-weight: bold\">]</span> │       <span style=\"color: #008080; text-decoration-color: #008080; font-weight: bold\">0</span> │\n",
       "│         <span style=\"color: #008080; text-decoration-color: #008080; font-weight: bold\">4</span> │ <span style=\"color: #008000; text-decoration-color: #008000\">AK    </span> │ <span style=\"color: #008000; text-decoration-color: #008000\">ANCHOR POINT</span> │ <span style=\"color: #008000; text-decoration-color: #008000\">99556   </span> │ <span style=\"color: #008000; text-decoration-color: #008000\">24825 INLET COVE LANE </span> │ <span style=\"color: #7f7f7f; text-decoration-color: #7f7f7f\">NULL</span>   │ <span style=\"color: #008080; text-decoration-color: #008080; font-weight: bold\">-151.757657</span> │ <span style=\"color: #008080; text-decoration-color: #008080; font-weight: bold\">59.912205</span> │ <span style=\"font-weight: bold\">[</span><span style=\"color: #008000; text-decoration-color: #008000\">'ANE'</span>, <span style=\"color: #008000; text-decoration-color: #008000\">'LAN'</span>, <span style=\"color: #808000; text-decoration-color: #808000\">...</span> +<span style=\"color: #008080; text-decoration-color: #008080; font-weight: bold\">18</span><span style=\"font-weight: bold\">]</span> │       <span style=\"color: #008080; text-decoration-color: #008080; font-weight: bold\">0</span> │\n",
       "│         <span style=\"color: #008080; text-decoration-color: #008080; font-weight: bold\">5</span> │ <span style=\"color: #008000; text-decoration-color: #008000\">AK    </span> │ <span style=\"color: #008000; text-decoration-color: #008000\">ANCHOR POINT</span> │ <span style=\"color: #008000; text-decoration-color: #008000\">99556   </span> │ <span style=\"color: #008000; text-decoration-color: #008000\">24845 INLET COVE LANE </span> │ <span style=\"color: #7f7f7f; text-decoration-color: #7f7f7f\">NULL</span>   │ <span style=\"color: #008080; text-decoration-color: #008080; font-weight: bold\">-151.757918</span> │ <span style=\"color: #008080; text-decoration-color: #008080; font-weight: bold\">59.911979</span> │ <span style=\"font-weight: bold\">[</span><span style=\"color: #008000; text-decoration-color: #008000\">'ANE'</span>, <span style=\"color: #008000; text-decoration-color: #008000\">'LAN'</span>, <span style=\"color: #808000; text-decoration-color: #808000\">...</span> +<span style=\"color: #008080; text-decoration-color: #008080; font-weight: bold\">18</span><span style=\"font-weight: bold\">]</span> │       <span style=\"color: #008080; text-decoration-color: #008080; font-weight: bold\">0</span> │\n",
       "│         <span style=\"color: #008080; text-decoration-color: #008080; font-weight: bold\">6</span> │ <span style=\"color: #008000; text-decoration-color: #008000\">AK    </span> │ <span style=\"color: #008000; text-decoration-color: #008000\">ANCHOR POINT</span> │ <span style=\"color: #008000; text-decoration-color: #008000\">99556   </span> │ <span style=\"color: #008000; text-decoration-color: #008000\">24865 INLET COVE LANE </span> │ <span style=\"color: #7f7f7f; text-decoration-color: #7f7f7f\">NULL</span>   │ <span style=\"color: #008080; text-decoration-color: #008080; font-weight: bold\">-151.758861</span> │ <span style=\"color: #008080; text-decoration-color: #008080; font-weight: bold\">59.911740</span> │ <span style=\"font-weight: bold\">[</span><span style=\"color: #008000; text-decoration-color: #008000\">'ANE'</span>, <span style=\"color: #008000; text-decoration-color: #008000\">'LAN'</span>, <span style=\"color: #808000; text-decoration-color: #808000\">...</span> +<span style=\"color: #008080; text-decoration-color: #008080; font-weight: bold\">18</span><span style=\"font-weight: bold\">]</span> │       <span style=\"color: #008080; text-decoration-color: #008080; font-weight: bold\">0</span> │\n",
       "│         <span style=\"color: #008080; text-decoration-color: #008080; font-weight: bold\">7</span> │ <span style=\"color: #008000; text-decoration-color: #008000\">AK    </span> │ <span style=\"color: #008000; text-decoration-color: #008000\">ANCHOR POINT</span> │ <span style=\"color: #008000; text-decoration-color: #008000\">99556   </span> │ <span style=\"color: #008000; text-decoration-color: #008000\">25100 PEPPER ROAD     </span> │ <span style=\"color: #7f7f7f; text-decoration-color: #7f7f7f\">NULL</span>   │ <span style=\"color: #008080; text-decoration-color: #008080; font-weight: bold\">-151.709791</span> │ <span style=\"color: #008080; text-decoration-color: #008080; font-weight: bold\">59.908129</span> │ <span style=\"font-weight: bold\">[</span><span style=\"color: #008000; text-decoration-color: #008000\">'OAD'</span>, <span style=\"color: #008000; text-decoration-color: #008000\">'ROA'</span>, <span style=\"color: #808000; text-decoration-color: #808000\">...</span> +<span style=\"color: #008080; text-decoration-color: #008080; font-weight: bold\">17</span><span style=\"font-weight: bold\">]</span> │       <span style=\"color: #008080; text-decoration-color: #008080; font-weight: bold\">0</span> │\n",
       "│         <span style=\"color: #008080; text-decoration-color: #008080; font-weight: bold\">8</span> │ <span style=\"color: #008000; text-decoration-color: #008000\">AK    </span> │ <span style=\"color: #008000; text-decoration-color: #008000\">ANCHOR POINT</span> │ <span style=\"color: #008000; text-decoration-color: #008000\">99556   </span> │ <span style=\"color: #008000; text-decoration-color: #008000\">25238 STINKBUG STREET </span> │ <span style=\"color: #7f7f7f; text-decoration-color: #7f7f7f\">NULL</span>   │ <span style=\"color: #008080; text-decoration-color: #008080; font-weight: bold\">-151.692157</span> │ <span style=\"color: #008080; text-decoration-color: #008080; font-weight: bold\">59.906734</span> │ <span style=\"font-weight: bold\">[</span><span style=\"color: #008000; text-decoration-color: #008000\">'BUG'</span>, <span style=\"color: #008000; text-decoration-color: #008000\">'TIN'</span>, <span style=\"color: #808000; text-decoration-color: #808000\">...</span> +<span style=\"color: #008080; text-decoration-color: #008080; font-weight: bold\">21</span><span style=\"font-weight: bold\">]</span> │       <span style=\"color: #008080; text-decoration-color: #008080; font-weight: bold\">0</span> │\n",
       "│         <span style=\"color: #008080; text-decoration-color: #008080; font-weight: bold\">9</span> │ <span style=\"color: #008000; text-decoration-color: #008000\">AK    </span> │ <span style=\"color: #008000; text-decoration-color: #008000\">ANCHOR POINT</span> │ <span style=\"color: #008000; text-decoration-color: #008000\">99556   </span> │ <span style=\"color: #008000; text-decoration-color: #008000\">25405 STINKBUG STREET </span> │ <span style=\"color: #7f7f7f; text-decoration-color: #7f7f7f\">NULL</span>   │ <span style=\"color: #008080; text-decoration-color: #008080; font-weight: bold\">-151.695885</span> │ <span style=\"color: #008080; text-decoration-color: #008080; font-weight: bold\">59.903846</span> │ <span style=\"font-weight: bold\">[</span><span style=\"color: #008000; text-decoration-color: #008000\">'STR'</span>, <span style=\"color: #008000; text-decoration-color: #008000\">'BUG'</span>, <span style=\"color: #808000; text-decoration-color: #808000\">...</span> +<span style=\"color: #008080; text-decoration-color: #008080; font-weight: bold\">21</span><span style=\"font-weight: bold\">]</span> │       <span style=\"color: #008080; text-decoration-color: #008080; font-weight: bold\">0</span> │\n",
       "│         <span style=\"color: #7f7f7f; text-decoration-color: #7f7f7f\">…</span> │ <span style=\"color: #7f7f7f; text-decoration-color: #7f7f7f\">…</span>      │ <span style=\"color: #7f7f7f; text-decoration-color: #7f7f7f\">…</span>            │ <span style=\"color: #7f7f7f; text-decoration-color: #7f7f7f\">…</span>        │ <span style=\"color: #7f7f7f; text-decoration-color: #7f7f7f\">…</span>                      │ <span style=\"color: #7f7f7f; text-decoration-color: #7f7f7f\">…</span>      │           <span style=\"color: #7f7f7f; text-decoration-color: #7f7f7f\">…</span> │         <span style=\"color: #7f7f7f; text-decoration-color: #7f7f7f\">…</span> │ <span style=\"color: #7f7f7f; text-decoration-color: #7f7f7f\">…</span>                       │       <span style=\"color: #7f7f7f; text-decoration-color: #7f7f7f\">…</span> │\n",
       "└───────────┴────────┴──────────────┴──────────┴────────────────────────┴────────┴─────────────┴───────────┴─────────────────────────┴─────────┘\n",
       "</pre>\n"
      ],
      "text/plain": [
       "┏━━━━━━━━━━━┳━━━━━━━━┳━━━━━━━━━━━━━━┳━━━━━━━━━━┳━━━━━━━━━━━━━━━━━━━━━━━━┳━━━━━━━━┳━━━━━━━━━━━━━┳━━━━━━━━━━━┳━━━━━━━━━━━━━━━━━━━━━━━━━┳━━━━━━━━━┓\n",
       "┃\u001b[1m \u001b[0m\u001b[1mrecord_id\u001b[0m\u001b[1m \u001b[0m┃\u001b[1m \u001b[0m\u001b[1mstate\u001b[0m\u001b[1m \u001b[0m\u001b[1m \u001b[0m┃\u001b[1m \u001b[0m\u001b[1mcity\u001b[0m\u001b[1m        \u001b[0m\u001b[1m \u001b[0m┃\u001b[1m \u001b[0m\u001b[1mpostcode\u001b[0m\u001b[1m \u001b[0m┃\u001b[1m \u001b[0m\u001b[1mstreet\u001b[0m\u001b[1m                \u001b[0m\u001b[1m \u001b[0m┃\u001b[1m \u001b[0m\u001b[1munit\u001b[0m\u001b[1m  \u001b[0m\u001b[1m \u001b[0m┃\u001b[1m \u001b[0m\u001b[1mlon\u001b[0m\u001b[1m        \u001b[0m\u001b[1m \u001b[0m┃\u001b[1m \u001b[0m\u001b[1mlat\u001b[0m\u001b[1m      \u001b[0m\u001b[1m \u001b[0m┃\u001b[1m \u001b[0m\u001b[1mtrigrams\u001b[0m\u001b[1m               \u001b[0m\u001b[1m \u001b[0m┃\u001b[1m \u001b[0m\u001b[1mn_links\u001b[0m\u001b[1m \u001b[0m┃\n",
       "┡━━━━━━━━━━━╇━━━━━━━━╇━━━━━━━━━━━━━━╇━━━━━━━━━━╇━━━━━━━━━━━━━━━━━━━━━━━━╇━━━━━━━━╇━━━━━━━━━━━━━╇━━━━━━━━━━━╇━━━━━━━━━━━━━━━━━━━━━━━━━╇━━━━━━━━━┩\n",
       "│ \u001b[2mint64\u001b[0m     │ \u001b[2mstring\u001b[0m │ \u001b[2mstring\u001b[0m       │ \u001b[2mstring\u001b[0m   │ \u001b[2mstring\u001b[0m                 │ \u001b[2mstring\u001b[0m │ \u001b[2mfloat64\u001b[0m     │ \u001b[2mfloat64\u001b[0m   │ \u001b[2marray<string>\u001b[0m           │ \u001b[2mint64\u001b[0m   │\n",
       "├───────────┼────────┼──────────────┼──────────┼────────────────────────┼────────┼─────────────┼───────────┼─────────────────────────┼─────────┤\n",
       "│         \u001b[1;36m0\u001b[0m │ \u001b[32mAK    \u001b[0m │ \u001b[32mANCHOR POINT\u001b[0m │ \u001b[32m99556   \u001b[0m │ \u001b[32m23837 NIKOLAI STREET  \u001b[0m │ \u001b[2mNULL\u001b[0m   │ \u001b[1;36m-151.746357\u001b[0m │ \u001b[1;36m59.926617\u001b[0m │ \u001b[1m[\u001b[0m\u001b[32m'STR'\u001b[0m, \u001b[32m'NIK'\u001b[0m, \u001b[33m...\u001b[0m +\u001b[1;36m20\u001b[0m\u001b[1m]\u001b[0m │       \u001b[1;36m0\u001b[0m │\n",
       "│         \u001b[1;36m1\u001b[0m │ \u001b[32mAK    \u001b[0m │ \u001b[32mANCHOR POINT\u001b[0m │ \u001b[32m99556   \u001b[0m │ \u001b[32m24338 MISTY LANE      \u001b[0m │ \u001b[2mNULL\u001b[0m   │ \u001b[1;36m-151.739071\u001b[0m │ \u001b[1;36m59.919594\u001b[0m │ \u001b[1m[\u001b[0m\u001b[32m'ANE'\u001b[0m, \u001b[32m'LAN'\u001b[0m, \u001b[33m...\u001b[0m +\u001b[1;36m16\u001b[0m\u001b[1m]\u001b[0m │       \u001b[1;36m0\u001b[0m │\n",
       "│         \u001b[1;36m2\u001b[0m │ \u001b[32mAK    \u001b[0m │ \u001b[32mANCHOR POINT\u001b[0m │ \u001b[32m99556   \u001b[0m │ \u001b[32m24715 STERLING HIGHWAY\u001b[0m │ \u001b[2mNULL\u001b[0m   │ \u001b[1;36m-151.755646\u001b[0m │ \u001b[1;36m59.913984\u001b[0m │ \u001b[1m[\u001b[0m\u001b[32m'WAY'\u001b[0m, \u001b[32m'GHW'\u001b[0m, \u001b[33m...\u001b[0m +\u001b[1;36m22\u001b[0m\u001b[1m]\u001b[0m │       \u001b[1;36m0\u001b[0m │\n",
       "│         \u001b[1;36m3\u001b[0m │ \u001b[32mAK    \u001b[0m │ \u001b[32mANCHOR POINT\u001b[0m │ \u001b[32m99556   \u001b[0m │ \u001b[32m24803 INLET COVE LANE \u001b[0m │ \u001b[2mNULL\u001b[0m   │ \u001b[1;36m-151.757118\u001b[0m │ \u001b[1;36m59.912571\u001b[0m │ \u001b[1m[\u001b[0m\u001b[32m'ANE'\u001b[0m, \u001b[32m'LAN'\u001b[0m, \u001b[33m...\u001b[0m +\u001b[1;36m18\u001b[0m\u001b[1m]\u001b[0m │       \u001b[1;36m0\u001b[0m │\n",
       "│         \u001b[1;36m4\u001b[0m │ \u001b[32mAK    \u001b[0m │ \u001b[32mANCHOR POINT\u001b[0m │ \u001b[32m99556   \u001b[0m │ \u001b[32m24825 INLET COVE LANE \u001b[0m │ \u001b[2mNULL\u001b[0m   │ \u001b[1;36m-151.757657\u001b[0m │ \u001b[1;36m59.912205\u001b[0m │ \u001b[1m[\u001b[0m\u001b[32m'ANE'\u001b[0m, \u001b[32m'LAN'\u001b[0m, \u001b[33m...\u001b[0m +\u001b[1;36m18\u001b[0m\u001b[1m]\u001b[0m │       \u001b[1;36m0\u001b[0m │\n",
       "│         \u001b[1;36m5\u001b[0m │ \u001b[32mAK    \u001b[0m │ \u001b[32mANCHOR POINT\u001b[0m │ \u001b[32m99556   \u001b[0m │ \u001b[32m24845 INLET COVE LANE \u001b[0m │ \u001b[2mNULL\u001b[0m   │ \u001b[1;36m-151.757918\u001b[0m │ \u001b[1;36m59.911979\u001b[0m │ \u001b[1m[\u001b[0m\u001b[32m'ANE'\u001b[0m, \u001b[32m'LAN'\u001b[0m, \u001b[33m...\u001b[0m +\u001b[1;36m18\u001b[0m\u001b[1m]\u001b[0m │       \u001b[1;36m0\u001b[0m │\n",
       "│         \u001b[1;36m6\u001b[0m │ \u001b[32mAK    \u001b[0m │ \u001b[32mANCHOR POINT\u001b[0m │ \u001b[32m99556   \u001b[0m │ \u001b[32m24865 INLET COVE LANE \u001b[0m │ \u001b[2mNULL\u001b[0m   │ \u001b[1;36m-151.758861\u001b[0m │ \u001b[1;36m59.911740\u001b[0m │ \u001b[1m[\u001b[0m\u001b[32m'ANE'\u001b[0m, \u001b[32m'LAN'\u001b[0m, \u001b[33m...\u001b[0m +\u001b[1;36m18\u001b[0m\u001b[1m]\u001b[0m │       \u001b[1;36m0\u001b[0m │\n",
       "│         \u001b[1;36m7\u001b[0m │ \u001b[32mAK    \u001b[0m │ \u001b[32mANCHOR POINT\u001b[0m │ \u001b[32m99556   \u001b[0m │ \u001b[32m25100 PEPPER ROAD     \u001b[0m │ \u001b[2mNULL\u001b[0m   │ \u001b[1;36m-151.709791\u001b[0m │ \u001b[1;36m59.908129\u001b[0m │ \u001b[1m[\u001b[0m\u001b[32m'OAD'\u001b[0m, \u001b[32m'ROA'\u001b[0m, \u001b[33m...\u001b[0m +\u001b[1;36m17\u001b[0m\u001b[1m]\u001b[0m │       \u001b[1;36m0\u001b[0m │\n",
       "│         \u001b[1;36m8\u001b[0m │ \u001b[32mAK    \u001b[0m │ \u001b[32mANCHOR POINT\u001b[0m │ \u001b[32m99556   \u001b[0m │ \u001b[32m25238 STINKBUG STREET \u001b[0m │ \u001b[2mNULL\u001b[0m   │ \u001b[1;36m-151.692157\u001b[0m │ \u001b[1;36m59.906734\u001b[0m │ \u001b[1m[\u001b[0m\u001b[32m'BUG'\u001b[0m, \u001b[32m'TIN'\u001b[0m, \u001b[33m...\u001b[0m +\u001b[1;36m21\u001b[0m\u001b[1m]\u001b[0m │       \u001b[1;36m0\u001b[0m │\n",
       "│         \u001b[1;36m9\u001b[0m │ \u001b[32mAK    \u001b[0m │ \u001b[32mANCHOR POINT\u001b[0m │ \u001b[32m99556   \u001b[0m │ \u001b[32m25405 STINKBUG STREET \u001b[0m │ \u001b[2mNULL\u001b[0m   │ \u001b[1;36m-151.695885\u001b[0m │ \u001b[1;36m59.903846\u001b[0m │ \u001b[1m[\u001b[0m\u001b[32m'STR'\u001b[0m, \u001b[32m'BUG'\u001b[0m, \u001b[33m...\u001b[0m +\u001b[1;36m21\u001b[0m\u001b[1m]\u001b[0m │       \u001b[1;36m0\u001b[0m │\n",
       "│         \u001b[2m…\u001b[0m │ \u001b[2m…\u001b[0m      │ \u001b[2m…\u001b[0m            │ \u001b[2m…\u001b[0m        │ \u001b[2m…\u001b[0m                      │ \u001b[2m…\u001b[0m      │           \u001b[2m…\u001b[0m │         \u001b[2m…\u001b[0m │ \u001b[2m…\u001b[0m                       │       \u001b[2m…\u001b[0m │\n",
       "└───────────┴────────┴──────────────┴──────────┴────────────────────────┴────────┴─────────────┴───────────┴─────────────────────────┴─────────┘"
      ]
     },
     "execution_count": 93,
     "metadata": {},
     "output_type": "execute_result"
    }
   ],
   "source": [
    "trigram_linkage.left.with_n_links()"
   ]
  },
  {
   "cell_type": "code",
   "execution_count": 94,
   "metadata": {},
   "outputs": [
    {
     "data": {
      "text/html": [
       "<pre style=\"white-space:pre;overflow-x:auto;line-height:normal;font-family:Menlo,'DejaVu Sans Mono',consolas,'Courier New',monospace\">┏━━━━━━━━━┳━━━━━━━━━━━━━━━┓\n",
       "┃<span style=\"font-weight: bold\"> n_links </span>┃<span style=\"font-weight: bold\"> n_links_count </span>┃\n",
       "┡━━━━━━━━━╇━━━━━━━━━━━━━━━┩\n",
       "│ <span style=\"color: #7f7f7f; text-decoration-color: #7f7f7f\">int64</span>   │ <span style=\"color: #7f7f7f; text-decoration-color: #7f7f7f\">int64</span>         │\n",
       "├─────────┼───────────────┤\n",
       "│       <span style=\"color: #008080; text-decoration-color: #008080; font-weight: bold\">0</span> │        <span style=\"color: #008080; text-decoration-color: #008080; font-weight: bold\">295003</span> │\n",
       "│       <span style=\"color: #008080; text-decoration-color: #008080; font-weight: bold\">1</span> │         <span style=\"color: #008080; text-decoration-color: #008080; font-weight: bold\">17179</span> │\n",
       "│       <span style=\"color: #008080; text-decoration-color: #008080; font-weight: bold\">2</span> │          <span style=\"color: #008080; text-decoration-color: #008080; font-weight: bold\">3158</span> │\n",
       "│       <span style=\"color: #008080; text-decoration-color: #008080; font-weight: bold\">3</span> │           <span style=\"color: #008080; text-decoration-color: #008080; font-weight: bold\">279</span> │\n",
       "│       <span style=\"color: #008080; text-decoration-color: #008080; font-weight: bold\">4</span> │            <span style=\"color: #008080; text-decoration-color: #008080; font-weight: bold\">39</span> │\n",
       "│       <span style=\"color: #008080; text-decoration-color: #008080; font-weight: bold\">5</span> │             <span style=\"color: #008080; text-decoration-color: #008080; font-weight: bold\">1</span> │\n",
       "└─────────┴───────────────┘\n",
       "</pre>\n"
      ],
      "text/plain": [
       "┏━━━━━━━━━┳━━━━━━━━━━━━━━━┓\n",
       "┃\u001b[1m \u001b[0m\u001b[1mn_links\u001b[0m\u001b[1m \u001b[0m┃\u001b[1m \u001b[0m\u001b[1mn_links_count\u001b[0m\u001b[1m \u001b[0m┃\n",
       "┡━━━━━━━━━╇━━━━━━━━━━━━━━━┩\n",
       "│ \u001b[2mint64\u001b[0m   │ \u001b[2mint64\u001b[0m         │\n",
       "├─────────┼───────────────┤\n",
       "│       \u001b[1;36m0\u001b[0m │        \u001b[1;36m295003\u001b[0m │\n",
       "│       \u001b[1;36m1\u001b[0m │         \u001b[1;36m17179\u001b[0m │\n",
       "│       \u001b[1;36m2\u001b[0m │          \u001b[1;36m3158\u001b[0m │\n",
       "│       \u001b[1;36m3\u001b[0m │           \u001b[1;36m279\u001b[0m │\n",
       "│       \u001b[1;36m4\u001b[0m │            \u001b[1;36m39\u001b[0m │\n",
       "│       \u001b[1;36m5\u001b[0m │             \u001b[1;36m1\u001b[0m │\n",
       "└─────────┴───────────────┘"
      ]
     },
     "execution_count": 94,
     "metadata": {},
     "output_type": "execute_result"
    }
   ],
   "source": [
    "trigram_linkage.left.with_n_links().n_links.topk(10)"
   ]
  },
  {
   "cell_type": "code",
   "execution_count": 89,
   "metadata": {},
   "outputs": [
    {
     "data": {
      "text/html": [
       "<pre style=\"white-space:pre;overflow-x:auto;line-height:normal;font-family:Menlo,'DejaVu Sans Mono',consolas,'Courier New',monospace\"></pre>\n"
      ],
      "text/plain": []
     },
     "metadata": {},
     "output_type": "display_data"
    },
    {
     "data": {
      "text/plain": [
       "┌────────┐\n",
       "│ \u001b[1;36m315659\u001b[0m │\n",
       "└────────┘"
      ]
     },
     "execution_count": 89,
     "metadata": {},
     "output_type": "execute_result"
    }
   ],
   "source": [
    "trigram_linkage.left.count()"
   ]
  },
  {
   "cell_type": "code",
   "execution_count": 96,
   "metadata": {},
   "outputs": [
    {
     "name": "stdout",
     "output_type": "stream",
     "text": [
      "28164\n"
     ]
    },
    {
     "data": {
      "text/html": [
       "<pre style=\"white-space:pre;overflow-x:auto;line-height:normal;font-family:Menlo,'DejaVu Sans Mono',consolas,'Courier New',monospace\">┏━━━━━━━━━┳━━━━━━━━━━━┓\n",
       "┃<span style=\"font-weight: bold\"> n_links </span>┃<span style=\"font-weight: bold\"> n_records </span>┃\n",
       "┡━━━━━━━━━╇━━━━━━━━━━━┩\n",
       "│ <span style=\"color: #7f7f7f; text-decoration-color: #7f7f7f\">int64</span>   │ <span style=\"color: #7f7f7f; text-decoration-color: #7f7f7f\">int64</span>     │\n",
       "├─────────┼───────────┤\n",
       "│       <span style=\"color: #008080; text-decoration-color: #008080; font-weight: bold\">3</span> │       <span style=\"color: #008080; text-decoration-color: #008080; font-weight: bold\">279</span> │\n",
       "│       <span style=\"color: #008080; text-decoration-color: #008080; font-weight: bold\">1</span> │     <span style=\"color: #008080; text-decoration-color: #008080; font-weight: bold\">17179</span> │\n",
       "│       <span style=\"color: #008080; text-decoration-color: #008080; font-weight: bold\">0</span> │      <span style=\"color: #008080; text-decoration-color: #008080; font-weight: bold\">7507</span> │\n",
       "│       <span style=\"color: #008080; text-decoration-color: #008080; font-weight: bold\">4</span> │        <span style=\"color: #008080; text-decoration-color: #008080; font-weight: bold\">39</span> │\n",
       "│   <span style=\"color: #008080; text-decoration-color: #008080; font-weight: bold\">16486</span> │         <span style=\"color: #008080; text-decoration-color: #008080; font-weight: bold\">0</span> │\n",
       "│       <span style=\"color: #008080; text-decoration-color: #008080; font-weight: bold\">5</span> │         <span style=\"color: #008080; text-decoration-color: #008080; font-weight: bold\">1</span> │\n",
       "│       <span style=\"color: #008080; text-decoration-color: #008080; font-weight: bold\">2</span> │      <span style=\"color: #008080; text-decoration-color: #008080; font-weight: bold\">3158</span> │\n",
       "└─────────┴───────────┘\n",
       "</pre>\n"
      ],
      "text/plain": [
       "┏━━━━━━━━━┳━━━━━━━━━━━┓\n",
       "┃\u001b[1m \u001b[0m\u001b[1mn_links\u001b[0m\u001b[1m \u001b[0m┃\u001b[1m \u001b[0m\u001b[1mn_records\u001b[0m\u001b[1m \u001b[0m┃\n",
       "┡━━━━━━━━━╇━━━━━━━━━━━┩\n",
       "│ \u001b[2mint64\u001b[0m   │ \u001b[2mint64\u001b[0m     │\n",
       "├─────────┼───────────┤\n",
       "│       \u001b[1;36m3\u001b[0m │       \u001b[1;36m279\u001b[0m │\n",
       "│       \u001b[1;36m1\u001b[0m │     \u001b[1;36m17179\u001b[0m │\n",
       "│       \u001b[1;36m0\u001b[0m │      \u001b[1;36m7507\u001b[0m │\n",
       "│       \u001b[1;36m4\u001b[0m │        \u001b[1;36m39\u001b[0m │\n",
       "│   \u001b[1;36m16486\u001b[0m │         \u001b[1;36m0\u001b[0m │\n",
       "│       \u001b[1;36m5\u001b[0m │         \u001b[1;36m1\u001b[0m │\n",
       "│       \u001b[1;36m2\u001b[0m │      \u001b[1;36m3158\u001b[0m │\n",
       "└─────────┴───────────┘"
      ]
     },
     "execution_count": 96,
     "metadata": {},
     "output_type": "execute_result"
    }
   ],
   "source": [
    "trigram_linkage.left.link_counts()"
   ]
  },
  {
   "cell_type": "code",
   "execution_count": 50,
   "metadata": {},
   "outputs": [
    {
     "data": {
      "text/html": [
       "<pre style=\"white-space:pre;overflow-x:auto;line-height:normal;font-family:Menlo,'DejaVu Sans Mono',consolas,'Courier New',monospace\">┏━━━━━━━━━━━┳━━━━━━━━━━━┳━━━━━━━━━━━┳━━━━━━━━━━━━━┳━━━━━━━━━━━━┳━━━━━━━━━━━━┳━━━━━━━━━━━━━┳━━━━━━━━━━━━━┳━━━━━━━━━┳━━━━━━━━━┳━━━━━━━━━━━━━━━━━━━━━━━━┳━━━━━━━━━━━━━━━━━━━━━┳━━━━━━━━━┳━━━━━━━━━━━━━━━━━━━━━━━━━┳━━━━━━━━━━━━━━━━━━━━━━━━━┳━━━━━━━━┳━━━━━━━━┓\n",
       "┃<span style=\"font-weight: bold\"> city_l    </span>┃<span style=\"font-weight: bold\"> city_r    </span>┃<span style=\"font-weight: bold\"> lat_l     </span>┃<span style=\"font-weight: bold\"> lon_l       </span>┃<span style=\"font-weight: bold\"> postcode_l </span>┃<span style=\"font-weight: bold\"> postcode_r </span>┃<span style=\"font-weight: bold\"> record_id_l </span>┃<span style=\"font-weight: bold\"> record_id_r </span>┃<span style=\"font-weight: bold\"> state_l </span>┃<span style=\"font-weight: bold\"> state_r </span>┃<span style=\"font-weight: bold\"> street_l               </span>┃<span style=\"font-weight: bold\"> street_r            </span>┃<span style=\"font-weight: bold\"> trigram </span>┃<span style=\"font-weight: bold\"> trigrams_l              </span>┃<span style=\"font-weight: bold\"> trigrams_r              </span>┃<span style=\"font-weight: bold\"> unit_l </span>┃<span style=\"font-weight: bold\"> unit_r </span>┃\n",
       "┡━━━━━━━━━━━╇━━━━━━━━━━━╇━━━━━━━━━━━╇━━━━━━━━━━━━━╇━━━━━━━━━━━━╇━━━━━━━━━━━━╇━━━━━━━━━━━━━╇━━━━━━━━━━━━━╇━━━━━━━━━╇━━━━━━━━━╇━━━━━━━━━━━━━━━━━━━━━━━━╇━━━━━━━━━━━━━━━━━━━━━╇━━━━━━━━━╇━━━━━━━━━━━━━━━━━━━━━━━━━╇━━━━━━━━━━━━━━━━━━━━━━━━━╇━━━━━━━━╇━━━━━━━━┩\n",
       "│ <span style=\"color: #7f7f7f; text-decoration-color: #7f7f7f\">string</span>    │ <span style=\"color: #7f7f7f; text-decoration-color: #7f7f7f\">string</span>    │ <span style=\"color: #7f7f7f; text-decoration-color: #7f7f7f\">float64</span>   │ <span style=\"color: #7f7f7f; text-decoration-color: #7f7f7f\">float64</span>     │ <span style=\"color: #7f7f7f; text-decoration-color: #7f7f7f\">string</span>     │ <span style=\"color: #7f7f7f; text-decoration-color: #7f7f7f\">string</span>     │ <span style=\"color: #7f7f7f; text-decoration-color: #7f7f7f\">int64</span>       │ <span style=\"color: #7f7f7f; text-decoration-color: #7f7f7f\">int64</span>       │ <span style=\"color: #7f7f7f; text-decoration-color: #7f7f7f\">string</span>  │ <span style=\"color: #7f7f7f; text-decoration-color: #7f7f7f\">string</span>  │ <span style=\"color: #7f7f7f; text-decoration-color: #7f7f7f\">string</span>                 │ <span style=\"color: #7f7f7f; text-decoration-color: #7f7f7f\">string</span>              │ <span style=\"color: #7f7f7f; text-decoration-color: #7f7f7f\">string</span>  │ <span style=\"color: #7f7f7f; text-decoration-color: #7f7f7f\">array&lt;string&gt;</span>           │ <span style=\"color: #7f7f7f; text-decoration-color: #7f7f7f\">array&lt;string&gt;</span>           │ <span style=\"color: #7f7f7f; text-decoration-color: #7f7f7f\">string</span> │ <span style=\"color: #7f7f7f; text-decoration-color: #7f7f7f\">string</span> │\n",
       "├───────────┼───────────┼───────────┼─────────────┼────────────┼────────────┼─────────────┼─────────────┼─────────┼─────────┼────────────────────────┼─────────────────────┼─────────┼─────────────────────────┼─────────────────────────┼────────┼────────┤\n",
       "│ <span style=\"color: #008000; text-decoration-color: #008000\">ANCHORAGE</span> │ <span style=\"color: #008000; text-decoration-color: #008000\">ANCHORAGE</span> │ <span style=\"color: #008080; text-decoration-color: #008080; font-weight: bold\">61.187445</span> │ <span style=\"color: #008080; text-decoration-color: #008080; font-weight: bold\">-149.724311</span> │ <span style=\"color: #008000; text-decoration-color: #008000\">99504     </span> │ <span style=\"color: #008000; text-decoration-color: #008000\">99504     </span> │       <span style=\"color: #008080; text-decoration-color: #008080; font-weight: bold\">49141</span> │      <span style=\"color: #008080; text-decoration-color: #008080; font-weight: bold\">247399</span> │ <span style=\"color: #008000; text-decoration-color: #008000\">AK     </span> │ <span style=\"color: #008000; text-decoration-color: #008000\">AK     </span> │ <span style=\"color: #008000; text-decoration-color: #008000\">8400 RAGGED TOP CIRCLE</span> │ <span style=\"color: #008000; text-decoration-color: #008000\">8321 RAGGED TOP CIR</span> │ <span style=\"color: #008000; text-decoration-color: #008000\">AGG    </span> │ <span style=\"font-weight: bold\">[</span><span style=\"color: #008000; text-decoration-color: #008000\">'IRC'</span>, <span style=\"color: #008000; text-decoration-color: #008000\">'CIR'</span>, <span style=\"color: #808000; text-decoration-color: #808000\">...</span> +<span style=\"color: #008080; text-decoration-color: #008080; font-weight: bold\">18</span><span style=\"font-weight: bold\">]</span> │ <span style=\"font-weight: bold\">[</span><span style=\"color: #008000; text-decoration-color: #008000\">'CIR'</span>, <span style=\"color: #008000; text-decoration-color: #008000\">'GGE'</span>, <span style=\"color: #808000; text-decoration-color: #808000\">...</span> +<span style=\"color: #008080; text-decoration-color: #008080; font-weight: bold\">15</span><span style=\"font-weight: bold\">]</span> │ <span style=\"color: #7f7f7f; text-decoration-color: #7f7f7f\">NULL</span>   │ <span style=\"color: #7f7f7f; text-decoration-color: #7f7f7f\">NULL</span>   │\n",
       "│ <span style=\"color: #008000; text-decoration-color: #008000\">ANCHORAGE</span> │ <span style=\"color: #008000; text-decoration-color: #008000\">ANCHORAGE</span> │ <span style=\"color: #008080; text-decoration-color: #008080; font-weight: bold\">61.187609</span> │ <span style=\"color: #008080; text-decoration-color: #008080; font-weight: bold\">-149.724384</span> │ <span style=\"color: #008000; text-decoration-color: #008000\">99504     </span> │ <span style=\"color: #008000; text-decoration-color: #008000\">99504     </span> │       <span style=\"color: #008080; text-decoration-color: #008080; font-weight: bold\">49155</span> │      <span style=\"color: #008080; text-decoration-color: #008080; font-weight: bold\">247400</span> │ <span style=\"color: #008000; text-decoration-color: #008000\">AK     </span> │ <span style=\"color: #008000; text-decoration-color: #008000\">AK     </span> │ <span style=\"color: #008000; text-decoration-color: #008000\">8401 RAGGED TOP CIRCLE</span> │ <span style=\"color: #008000; text-decoration-color: #008000\">8321 RAGGED TOP CIR</span> │ <span style=\"color: #008000; text-decoration-color: #008000\">AGG    </span> │ <span style=\"font-weight: bold\">[</span><span style=\"color: #008000; text-decoration-color: #008000\">'IRC'</span>, <span style=\"color: #008000; text-decoration-color: #008000\">'CIR'</span>, <span style=\"color: #808000; text-decoration-color: #808000\">...</span> +<span style=\"color: #008080; text-decoration-color: #008080; font-weight: bold\">18</span><span style=\"font-weight: bold\">]</span> │ <span style=\"font-weight: bold\">[</span><span style=\"color: #008000; text-decoration-color: #008000\">'CIR'</span>, <span style=\"color: #008000; text-decoration-color: #008000\">'GGE'</span>, <span style=\"color: #808000; text-decoration-color: #808000\">...</span> +<span style=\"color: #008080; text-decoration-color: #008080; font-weight: bold\">15</span><span style=\"font-weight: bold\">]</span> │ <span style=\"color: #7f7f7f; text-decoration-color: #7f7f7f\">NULL</span>   │ <span style=\"color: #7f7f7f; text-decoration-color: #7f7f7f\">NULL</span>   │\n",
       "│ <span style=\"color: #008000; text-decoration-color: #008000\">ANCHORAGE</span> │ <span style=\"color: #008000; text-decoration-color: #008000\">ANCHORAGE</span> │ <span style=\"color: #008080; text-decoration-color: #008080; font-weight: bold\">61.187424</span> │ <span style=\"color: #008080; text-decoration-color: #008080; font-weight: bold\">-149.724106</span> │ <span style=\"color: #008000; text-decoration-color: #008000\">99504     </span> │ <span style=\"color: #008000; text-decoration-color: #008000\">99504     </span> │       <span style=\"color: #008080; text-decoration-color: #008080; font-weight: bold\">49185</span> │      <span style=\"color: #008080; text-decoration-color: #008080; font-weight: bold\">247401</span> │ <span style=\"color: #008000; text-decoration-color: #008000\">AK     </span> │ <span style=\"color: #008000; text-decoration-color: #008000\">AK     </span> │ <span style=\"color: #008000; text-decoration-color: #008000\">8410 RAGGED TOP CIRCLE</span> │ <span style=\"color: #008000; text-decoration-color: #008000\">8321 RAGGED TOP CIR</span> │ <span style=\"color: #008000; text-decoration-color: #008000\">AGG    </span> │ <span style=\"font-weight: bold\">[</span><span style=\"color: #008000; text-decoration-color: #008000\">'IRC'</span>, <span style=\"color: #008000; text-decoration-color: #008000\">'CIR'</span>, <span style=\"color: #808000; text-decoration-color: #808000\">...</span> +<span style=\"color: #008080; text-decoration-color: #008080; font-weight: bold\">18</span><span style=\"font-weight: bold\">]</span> │ <span style=\"font-weight: bold\">[</span><span style=\"color: #008000; text-decoration-color: #008000\">'CIR'</span>, <span style=\"color: #008000; text-decoration-color: #008000\">'GGE'</span>, <span style=\"color: #808000; text-decoration-color: #808000\">...</span> +<span style=\"color: #008080; text-decoration-color: #008080; font-weight: bold\">15</span><span style=\"font-weight: bold\">]</span> │ <span style=\"color: #7f7f7f; text-decoration-color: #7f7f7f\">NULL</span>   │ <span style=\"color: #7f7f7f; text-decoration-color: #7f7f7f\">NULL</span>   │\n",
       "│ <span style=\"color: #008000; text-decoration-color: #008000\">ANCHORAGE</span> │ <span style=\"color: #008000; text-decoration-color: #008000\">ANCHORAGE</span> │ <span style=\"color: #008080; text-decoration-color: #008080; font-weight: bold\">61.187590</span> │ <span style=\"color: #008080; text-decoration-color: #008080; font-weight: bold\">-149.724190</span> │ <span style=\"color: #008000; text-decoration-color: #008000\">99504     </span> │ <span style=\"color: #008000; text-decoration-color: #008000\">99504     </span> │       <span style=\"color: #008080; text-decoration-color: #008080; font-weight: bold\">49196</span> │      <span style=\"color: #008080; text-decoration-color: #008080; font-weight: bold\">247402</span> │ <span style=\"color: #008000; text-decoration-color: #008000\">AK     </span> │ <span style=\"color: #008000; text-decoration-color: #008000\">AK     </span> │ <span style=\"color: #008000; text-decoration-color: #008000\">8411 RAGGED TOP CIRCLE</span> │ <span style=\"color: #008000; text-decoration-color: #008000\">8321 RAGGED TOP CIR</span> │ <span style=\"color: #008000; text-decoration-color: #008000\">AGG    </span> │ <span style=\"font-weight: bold\">[</span><span style=\"color: #008000; text-decoration-color: #008000\">'IRC'</span>, <span style=\"color: #008000; text-decoration-color: #008000\">'CIR'</span>, <span style=\"color: #808000; text-decoration-color: #808000\">...</span> +<span style=\"color: #008080; text-decoration-color: #008080; font-weight: bold\">18</span><span style=\"font-weight: bold\">]</span> │ <span style=\"font-weight: bold\">[</span><span style=\"color: #008000; text-decoration-color: #008000\">'CIR'</span>, <span style=\"color: #008000; text-decoration-color: #008000\">'GGE'</span>, <span style=\"color: #808000; text-decoration-color: #808000\">...</span> +<span style=\"color: #008080; text-decoration-color: #008080; font-weight: bold\">15</span><span style=\"font-weight: bold\">]</span> │ <span style=\"color: #7f7f7f; text-decoration-color: #7f7f7f\">NULL</span>   │ <span style=\"color: #7f7f7f; text-decoration-color: #7f7f7f\">NULL</span>   │\n",
       "│ <span style=\"color: #008000; text-decoration-color: #008000\">ANCHORAGE</span> │ <span style=\"color: #008000; text-decoration-color: #008000\">ANCHORAGE</span> │ <span style=\"color: #008080; text-decoration-color: #008080; font-weight: bold\">61.187404</span> │ <span style=\"color: #008080; text-decoration-color: #008080; font-weight: bold\">-149.723910</span> │ <span style=\"color: #008000; text-decoration-color: #008000\">99504     </span> │ <span style=\"color: #008000; text-decoration-color: #008000\">99504     </span> │       <span style=\"color: #008080; text-decoration-color: #008080; font-weight: bold\">49227</span> │      <span style=\"color: #008080; text-decoration-color: #008080; font-weight: bold\">247485</span> │ <span style=\"color: #008000; text-decoration-color: #008000\">AK     </span> │ <span style=\"color: #008000; text-decoration-color: #008000\">AK     </span> │ <span style=\"color: #008000; text-decoration-color: #008000\">8420 RAGGED TOP CIRCLE</span> │ <span style=\"color: #008000; text-decoration-color: #008000\">8340 RAGGED TOP CIR</span> │ <span style=\"color: #008000; text-decoration-color: #008000\">AGG    </span> │ <span style=\"font-weight: bold\">[</span><span style=\"color: #008000; text-decoration-color: #008000\">'IRC'</span>, <span style=\"color: #008000; text-decoration-color: #008000\">'CIR'</span>, <span style=\"color: #808000; text-decoration-color: #808000\">...</span> +<span style=\"color: #008080; text-decoration-color: #008080; font-weight: bold\">18</span><span style=\"font-weight: bold\">]</span> │ <span style=\"font-weight: bold\">[</span><span style=\"color: #008000; text-decoration-color: #008000\">'CIR'</span>, <span style=\"color: #008000; text-decoration-color: #008000\">'GGE'</span>, <span style=\"color: #808000; text-decoration-color: #808000\">...</span> +<span style=\"color: #008080; text-decoration-color: #008080; font-weight: bold\">15</span><span style=\"font-weight: bold\">]</span> │ <span style=\"color: #7f7f7f; text-decoration-color: #7f7f7f\">NULL</span>   │ <span style=\"color: #7f7f7f; text-decoration-color: #7f7f7f\">NULL</span>   │\n",
       "│ <span style=\"color: #008000; text-decoration-color: #008000\">ANCHORAGE</span> │ <span style=\"color: #008000; text-decoration-color: #008000\">ANCHORAGE</span> │ <span style=\"color: #008080; text-decoration-color: #008080; font-weight: bold\">61.187630</span> │ <span style=\"color: #008080; text-decoration-color: #008080; font-weight: bold\">-149.723971</span> │ <span style=\"color: #008000; text-decoration-color: #008000\">99504     </span> │ <span style=\"color: #008000; text-decoration-color: #008000\">99504     </span> │       <span style=\"color: #008080; text-decoration-color: #008080; font-weight: bold\">49244</span> │      <span style=\"color: #008080; text-decoration-color: #008080; font-weight: bold\">247486</span> │ <span style=\"color: #008000; text-decoration-color: #008000\">AK     </span> │ <span style=\"color: #008000; text-decoration-color: #008000\">AK     </span> │ <span style=\"color: #008000; text-decoration-color: #008000\">8421 RAGGED TOP CIRCLE</span> │ <span style=\"color: #008000; text-decoration-color: #008000\">8340 RAGGED TOP CIR</span> │ <span style=\"color: #008000; text-decoration-color: #008000\">AGG    </span> │ <span style=\"font-weight: bold\">[</span><span style=\"color: #008000; text-decoration-color: #008000\">'IRC'</span>, <span style=\"color: #008000; text-decoration-color: #008000\">'CIR'</span>, <span style=\"color: #808000; text-decoration-color: #808000\">...</span> +<span style=\"color: #008080; text-decoration-color: #008080; font-weight: bold\">18</span><span style=\"font-weight: bold\">]</span> │ <span style=\"font-weight: bold\">[</span><span style=\"color: #008000; text-decoration-color: #008000\">'CIR'</span>, <span style=\"color: #008000; text-decoration-color: #008000\">'GGE'</span>, <span style=\"color: #808000; text-decoration-color: #808000\">...</span> +<span style=\"color: #008080; text-decoration-color: #008080; font-weight: bold\">15</span><span style=\"font-weight: bold\">]</span> │ <span style=\"color: #7f7f7f; text-decoration-color: #7f7f7f\">NULL</span>   │ <span style=\"color: #7f7f7f; text-decoration-color: #7f7f7f\">NULL</span>   │\n",
       "│ <span style=\"color: #008000; text-decoration-color: #008000\">ANCHORAGE</span> │ <span style=\"color: #008000; text-decoration-color: #008000\">ANCHORAGE</span> │ <span style=\"color: #008080; text-decoration-color: #008080; font-weight: bold\">61.187387</span> │ <span style=\"color: #008080; text-decoration-color: #008080; font-weight: bold\">-149.723743</span> │ <span style=\"color: #008000; text-decoration-color: #008000\">99504     </span> │ <span style=\"color: #008000; text-decoration-color: #008000\">99504     </span> │       <span style=\"color: #008080; text-decoration-color: #008080; font-weight: bold\">49279</span> │      <span style=\"color: #008080; text-decoration-color: #008080; font-weight: bold\">247487</span> │ <span style=\"color: #008000; text-decoration-color: #008000\">AK     </span> │ <span style=\"color: #008000; text-decoration-color: #008000\">AK     </span> │ <span style=\"color: #008000; text-decoration-color: #008000\">8430 RAGGED TOP CIRCLE</span> │ <span style=\"color: #008000; text-decoration-color: #008000\">8340 RAGGED TOP CIR</span> │ <span style=\"color: #008000; text-decoration-color: #008000\">AGG    </span> │ <span style=\"font-weight: bold\">[</span><span style=\"color: #008000; text-decoration-color: #008000\">'IRC'</span>, <span style=\"color: #008000; text-decoration-color: #008000\">'CIR'</span>, <span style=\"color: #808000; text-decoration-color: #808000\">...</span> +<span style=\"color: #008080; text-decoration-color: #008080; font-weight: bold\">18</span><span style=\"font-weight: bold\">]</span> │ <span style=\"font-weight: bold\">[</span><span style=\"color: #008000; text-decoration-color: #008000\">'CIR'</span>, <span style=\"color: #008000; text-decoration-color: #008000\">'GGE'</span>, <span style=\"color: #808000; text-decoration-color: #808000\">...</span> +<span style=\"color: #008080; text-decoration-color: #008080; font-weight: bold\">15</span><span style=\"font-weight: bold\">]</span> │ <span style=\"color: #7f7f7f; text-decoration-color: #7f7f7f\">NULL</span>   │ <span style=\"color: #7f7f7f; text-decoration-color: #7f7f7f\">NULL</span>   │\n",
       "│ <span style=\"color: #008000; text-decoration-color: #008000\">ANCHORAGE</span> │ <span style=\"color: #008000; text-decoration-color: #008000\">ANCHORAGE</span> │ <span style=\"color: #008080; text-decoration-color: #008080; font-weight: bold\">61.187686</span> │ <span style=\"color: #008080; text-decoration-color: #008080; font-weight: bold\">-149.723754</span> │ <span style=\"color: #008000; text-decoration-color: #008000\">99504     </span> │ <span style=\"color: #008000; text-decoration-color: #008000\">99504     </span> │       <span style=\"color: #008080; text-decoration-color: #008080; font-weight: bold\">49291</span> │      <span style=\"color: #008080; text-decoration-color: #008080; font-weight: bold\">247532</span> │ <span style=\"color: #008000; text-decoration-color: #008000\">AK     </span> │ <span style=\"color: #008000; text-decoration-color: #008000\">AK     </span> │ <span style=\"color: #008000; text-decoration-color: #008000\">8431 RAGGED TOP CIRCLE</span> │ <span style=\"color: #008000; text-decoration-color: #008000\">8351 RAGGED TOP CIR</span> │ <span style=\"color: #008000; text-decoration-color: #008000\">AGG    </span> │ <span style=\"font-weight: bold\">[</span><span style=\"color: #008000; text-decoration-color: #008000\">'IRC'</span>, <span style=\"color: #008000; text-decoration-color: #008000\">'CIR'</span>, <span style=\"color: #808000; text-decoration-color: #808000\">...</span> +<span style=\"color: #008080; text-decoration-color: #008080; font-weight: bold\">18</span><span style=\"font-weight: bold\">]</span> │ <span style=\"font-weight: bold\">[</span><span style=\"color: #008000; text-decoration-color: #008000\">'CIR'</span>, <span style=\"color: #008000; text-decoration-color: #008000\">'GGE'</span>, <span style=\"color: #808000; text-decoration-color: #808000\">...</span> +<span style=\"color: #008080; text-decoration-color: #008080; font-weight: bold\">15</span><span style=\"font-weight: bold\">]</span> │ <span style=\"color: #7f7f7f; text-decoration-color: #7f7f7f\">NULL</span>   │ <span style=\"color: #7f7f7f; text-decoration-color: #7f7f7f\">NULL</span>   │\n",
       "│ <span style=\"color: #008000; text-decoration-color: #008000\">ANCHORAGE</span> │ <span style=\"color: #008000; text-decoration-color: #008000\">ANCHORAGE</span> │ <span style=\"color: #008080; text-decoration-color: #008080; font-weight: bold\">61.187371</span> │ <span style=\"color: #008080; text-decoration-color: #008080; font-weight: bold\">-149.723576</span> │ <span style=\"color: #008000; text-decoration-color: #008000\">99504     </span> │ <span style=\"color: #008000; text-decoration-color: #008000\">99504     </span> │       <span style=\"color: #008080; text-decoration-color: #008080; font-weight: bold\">49308</span> │      <span style=\"color: #008080; text-decoration-color: #008080; font-weight: bold\">247533</span> │ <span style=\"color: #008000; text-decoration-color: #008000\">AK     </span> │ <span style=\"color: #008000; text-decoration-color: #008000\">AK     </span> │ <span style=\"color: #008000; text-decoration-color: #008000\">8440 RAGGED TOP CIRCLE</span> │ <span style=\"color: #008000; text-decoration-color: #008000\">8360 RAGGED TOP CIR</span> │ <span style=\"color: #008000; text-decoration-color: #008000\">AGG    </span> │ <span style=\"font-weight: bold\">[</span><span style=\"color: #008000; text-decoration-color: #008000\">'IRC'</span>, <span style=\"color: #008000; text-decoration-color: #008000\">'CIR'</span>, <span style=\"color: #808000; text-decoration-color: #808000\">...</span> +<span style=\"color: #008080; text-decoration-color: #008080; font-weight: bold\">18</span><span style=\"font-weight: bold\">]</span> │ <span style=\"font-weight: bold\">[</span><span style=\"color: #008000; text-decoration-color: #008000\">'CIR'</span>, <span style=\"color: #008000; text-decoration-color: #008000\">'GGE'</span>, <span style=\"color: #808000; text-decoration-color: #808000\">...</span> +<span style=\"color: #008080; text-decoration-color: #008080; font-weight: bold\">15</span><span style=\"font-weight: bold\">]</span> │ <span style=\"color: #7f7f7f; text-decoration-color: #7f7f7f\">NULL</span>   │ <span style=\"color: #7f7f7f; text-decoration-color: #7f7f7f\">NULL</span>   │\n",
       "│ <span style=\"color: #008000; text-decoration-color: #008000\">ANCHORAGE</span> │ <span style=\"color: #008000; text-decoration-color: #008000\">ANCHORAGE</span> │ <span style=\"color: #008080; text-decoration-color: #008080; font-weight: bold\">61.187706</span> │ <span style=\"color: #008080; text-decoration-color: #008080; font-weight: bold\">-149.723582</span> │ <span style=\"color: #008000; text-decoration-color: #008000\">99504     </span> │ <span style=\"color: #008000; text-decoration-color: #008000\">99504     </span> │       <span style=\"color: #008080; text-decoration-color: #008080; font-weight: bold\">49316</span> │      <span style=\"color: #008080; text-decoration-color: #008080; font-weight: bold\">247534</span> │ <span style=\"color: #008000; text-decoration-color: #008000\">AK     </span> │ <span style=\"color: #008000; text-decoration-color: #008000\">AK     </span> │ <span style=\"color: #008000; text-decoration-color: #008000\">8441 RAGGED TOP CIRCLE</span> │ <span style=\"color: #008000; text-decoration-color: #008000\">8360 RAGGED TOP CIR</span> │ <span style=\"color: #008000; text-decoration-color: #008000\">AGG    </span> │ <span style=\"font-weight: bold\">[</span><span style=\"color: #008000; text-decoration-color: #008000\">'IRC'</span>, <span style=\"color: #008000; text-decoration-color: #008000\">'CIR'</span>, <span style=\"color: #808000; text-decoration-color: #808000\">...</span> +<span style=\"color: #008080; text-decoration-color: #008080; font-weight: bold\">18</span><span style=\"font-weight: bold\">]</span> │ <span style=\"font-weight: bold\">[</span><span style=\"color: #008000; text-decoration-color: #008000\">'CIR'</span>, <span style=\"color: #008000; text-decoration-color: #008000\">'GGE'</span>, <span style=\"color: #808000; text-decoration-color: #808000\">...</span> +<span style=\"color: #008080; text-decoration-color: #008080; font-weight: bold\">15</span><span style=\"font-weight: bold\">]</span> │ <span style=\"color: #7f7f7f; text-decoration-color: #7f7f7f\">NULL</span>   │ <span style=\"color: #7f7f7f; text-decoration-color: #7f7f7f\">NULL</span>   │\n",
       "│ <span style=\"color: #7f7f7f; text-decoration-color: #7f7f7f\">…</span>         │ <span style=\"color: #7f7f7f; text-decoration-color: #7f7f7f\">…</span>         │         <span style=\"color: #7f7f7f; text-decoration-color: #7f7f7f\">…</span> │           <span style=\"color: #7f7f7f; text-decoration-color: #7f7f7f\">…</span> │ <span style=\"color: #7f7f7f; text-decoration-color: #7f7f7f\">…</span>          │ <span style=\"color: #7f7f7f; text-decoration-color: #7f7f7f\">…</span>          │           <span style=\"color: #7f7f7f; text-decoration-color: #7f7f7f\">…</span> │           <span style=\"color: #7f7f7f; text-decoration-color: #7f7f7f\">…</span> │ <span style=\"color: #7f7f7f; text-decoration-color: #7f7f7f\">…</span>       │ <span style=\"color: #7f7f7f; text-decoration-color: #7f7f7f\">…</span>       │ <span style=\"color: #7f7f7f; text-decoration-color: #7f7f7f\">…</span>                      │ <span style=\"color: #7f7f7f; text-decoration-color: #7f7f7f\">…</span>                   │ <span style=\"color: #7f7f7f; text-decoration-color: #7f7f7f\">…</span>       │ <span style=\"color: #7f7f7f; text-decoration-color: #7f7f7f\">…</span>                       │ <span style=\"color: #7f7f7f; text-decoration-color: #7f7f7f\">…</span>                       │ <span style=\"color: #7f7f7f; text-decoration-color: #7f7f7f\">…</span>      │ <span style=\"color: #7f7f7f; text-decoration-color: #7f7f7f\">…</span>      │\n",
       "└───────────┴───────────┴───────────┴─────────────┴────────────┴────────────┴─────────────┴─────────────┴─────────┴─────────┴────────────────────────┴─────────────────────┴─────────┴─────────────────────────┴─────────────────────────┴────────┴────────┘\n",
       "</pre>\n"
      ],
      "text/plain": [
       "┏━━━━━━━━━━━┳━━━━━━━━━━━┳━━━━━━━━━━━┳━━━━━━━━━━━━━┳━━━━━━━━━━━━┳━━━━━━━━━━━━┳━━━━━━━━━━━━━┳━━━━━━━━━━━━━┳━━━━━━━━━┳━━━━━━━━━┳━━━━━━━━━━━━━━━━━━━━━━━━┳━━━━━━━━━━━━━━━━━━━━━┳━━━━━━━━━┳━━━━━━━━━━━━━━━━━━━━━━━━━┳━━━━━━━━━━━━━━━━━━━━━━━━━┳━━━━━━━━┳━━━━━━━━┓\n",
       "┃\u001b[1m \u001b[0m\u001b[1mcity_l\u001b[0m\u001b[1m   \u001b[0m\u001b[1m \u001b[0m┃\u001b[1m \u001b[0m\u001b[1mcity_r\u001b[0m\u001b[1m   \u001b[0m\u001b[1m \u001b[0m┃\u001b[1m \u001b[0m\u001b[1mlat_l\u001b[0m\u001b[1m    \u001b[0m\u001b[1m \u001b[0m┃\u001b[1m \u001b[0m\u001b[1mlon_l\u001b[0m\u001b[1m      \u001b[0m\u001b[1m \u001b[0m┃\u001b[1m \u001b[0m\u001b[1mpostcode_l\u001b[0m\u001b[1m \u001b[0m┃\u001b[1m \u001b[0m\u001b[1mpostcode_r\u001b[0m\u001b[1m \u001b[0m┃\u001b[1m \u001b[0m\u001b[1mrecord_id_l\u001b[0m\u001b[1m \u001b[0m┃\u001b[1m \u001b[0m\u001b[1mrecord_id_r\u001b[0m\u001b[1m \u001b[0m┃\u001b[1m \u001b[0m\u001b[1mstate_l\u001b[0m\u001b[1m \u001b[0m┃\u001b[1m \u001b[0m\u001b[1mstate_r\u001b[0m\u001b[1m \u001b[0m┃\u001b[1m \u001b[0m\u001b[1mstreet_l\u001b[0m\u001b[1m              \u001b[0m\u001b[1m \u001b[0m┃\u001b[1m \u001b[0m\u001b[1mstreet_r\u001b[0m\u001b[1m           \u001b[0m\u001b[1m \u001b[0m┃\u001b[1m \u001b[0m\u001b[1mtrigram\u001b[0m\u001b[1m \u001b[0m┃\u001b[1m \u001b[0m\u001b[1mtrigrams_l\u001b[0m\u001b[1m             \u001b[0m\u001b[1m \u001b[0m┃\u001b[1m \u001b[0m\u001b[1mtrigrams_r\u001b[0m\u001b[1m             \u001b[0m\u001b[1m \u001b[0m┃\u001b[1m \u001b[0m\u001b[1munit_l\u001b[0m\u001b[1m \u001b[0m┃\u001b[1m \u001b[0m\u001b[1munit_r\u001b[0m\u001b[1m \u001b[0m┃\n",
       "┡━━━━━━━━━━━╇━━━━━━━━━━━╇━━━━━━━━━━━╇━━━━━━━━━━━━━╇━━━━━━━━━━━━╇━━━━━━━━━━━━╇━━━━━━━━━━━━━╇━━━━━━━━━━━━━╇━━━━━━━━━╇━━━━━━━━━╇━━━━━━━━━━━━━━━━━━━━━━━━╇━━━━━━━━━━━━━━━━━━━━━╇━━━━━━━━━╇━━━━━━━━━━━━━━━━━━━━━━━━━╇━━━━━━━━━━━━━━━━━━━━━━━━━╇━━━━━━━━╇━━━━━━━━┩\n",
       "│ \u001b[2mstring\u001b[0m    │ \u001b[2mstring\u001b[0m    │ \u001b[2mfloat64\u001b[0m   │ \u001b[2mfloat64\u001b[0m     │ \u001b[2mstring\u001b[0m     │ \u001b[2mstring\u001b[0m     │ \u001b[2mint64\u001b[0m       │ \u001b[2mint64\u001b[0m       │ \u001b[2mstring\u001b[0m  │ \u001b[2mstring\u001b[0m  │ \u001b[2mstring\u001b[0m                 │ \u001b[2mstring\u001b[0m              │ \u001b[2mstring\u001b[0m  │ \u001b[2marray<string>\u001b[0m           │ \u001b[2marray<string>\u001b[0m           │ \u001b[2mstring\u001b[0m │ \u001b[2mstring\u001b[0m │\n",
       "├───────────┼───────────┼───────────┼─────────────┼────────────┼────────────┼─────────────┼─────────────┼─────────┼─────────┼────────────────────────┼─────────────────────┼─────────┼─────────────────────────┼─────────────────────────┼────────┼────────┤\n",
       "│ \u001b[32mANCHORAGE\u001b[0m │ \u001b[32mANCHORAGE\u001b[0m │ \u001b[1;36m61.187445\u001b[0m │ \u001b[1;36m-149.724311\u001b[0m │ \u001b[32m99504     \u001b[0m │ \u001b[32m99504     \u001b[0m │       \u001b[1;36m49141\u001b[0m │      \u001b[1;36m247399\u001b[0m │ \u001b[32mAK     \u001b[0m │ \u001b[32mAK     \u001b[0m │ \u001b[32m8400 RAGGED TOP CIRCLE\u001b[0m │ \u001b[32m8321 RAGGED TOP CIR\u001b[0m │ \u001b[32mAGG    \u001b[0m │ \u001b[1m[\u001b[0m\u001b[32m'IRC'\u001b[0m, \u001b[32m'CIR'\u001b[0m, \u001b[33m...\u001b[0m +\u001b[1;36m18\u001b[0m\u001b[1m]\u001b[0m │ \u001b[1m[\u001b[0m\u001b[32m'CIR'\u001b[0m, \u001b[32m'GGE'\u001b[0m, \u001b[33m...\u001b[0m +\u001b[1;36m15\u001b[0m\u001b[1m]\u001b[0m │ \u001b[2mNULL\u001b[0m   │ \u001b[2mNULL\u001b[0m   │\n",
       "│ \u001b[32mANCHORAGE\u001b[0m │ \u001b[32mANCHORAGE\u001b[0m │ \u001b[1;36m61.187609\u001b[0m │ \u001b[1;36m-149.724384\u001b[0m │ \u001b[32m99504     \u001b[0m │ \u001b[32m99504     \u001b[0m │       \u001b[1;36m49155\u001b[0m │      \u001b[1;36m247400\u001b[0m │ \u001b[32mAK     \u001b[0m │ \u001b[32mAK     \u001b[0m │ \u001b[32m8401 RAGGED TOP CIRCLE\u001b[0m │ \u001b[32m8321 RAGGED TOP CIR\u001b[0m │ \u001b[32mAGG    \u001b[0m │ \u001b[1m[\u001b[0m\u001b[32m'IRC'\u001b[0m, \u001b[32m'CIR'\u001b[0m, \u001b[33m...\u001b[0m +\u001b[1;36m18\u001b[0m\u001b[1m]\u001b[0m │ \u001b[1m[\u001b[0m\u001b[32m'CIR'\u001b[0m, \u001b[32m'GGE'\u001b[0m, \u001b[33m...\u001b[0m +\u001b[1;36m15\u001b[0m\u001b[1m]\u001b[0m │ \u001b[2mNULL\u001b[0m   │ \u001b[2mNULL\u001b[0m   │\n",
       "│ \u001b[32mANCHORAGE\u001b[0m │ \u001b[32mANCHORAGE\u001b[0m │ \u001b[1;36m61.187424\u001b[0m │ \u001b[1;36m-149.724106\u001b[0m │ \u001b[32m99504     \u001b[0m │ \u001b[32m99504     \u001b[0m │       \u001b[1;36m49185\u001b[0m │      \u001b[1;36m247401\u001b[0m │ \u001b[32mAK     \u001b[0m │ \u001b[32mAK     \u001b[0m │ \u001b[32m8410 RAGGED TOP CIRCLE\u001b[0m │ \u001b[32m8321 RAGGED TOP CIR\u001b[0m │ \u001b[32mAGG    \u001b[0m │ \u001b[1m[\u001b[0m\u001b[32m'IRC'\u001b[0m, \u001b[32m'CIR'\u001b[0m, \u001b[33m...\u001b[0m +\u001b[1;36m18\u001b[0m\u001b[1m]\u001b[0m │ \u001b[1m[\u001b[0m\u001b[32m'CIR'\u001b[0m, \u001b[32m'GGE'\u001b[0m, \u001b[33m...\u001b[0m +\u001b[1;36m15\u001b[0m\u001b[1m]\u001b[0m │ \u001b[2mNULL\u001b[0m   │ \u001b[2mNULL\u001b[0m   │\n",
       "│ \u001b[32mANCHORAGE\u001b[0m │ \u001b[32mANCHORAGE\u001b[0m │ \u001b[1;36m61.187590\u001b[0m │ \u001b[1;36m-149.724190\u001b[0m │ \u001b[32m99504     \u001b[0m │ \u001b[32m99504     \u001b[0m │       \u001b[1;36m49196\u001b[0m │      \u001b[1;36m247402\u001b[0m │ \u001b[32mAK     \u001b[0m │ \u001b[32mAK     \u001b[0m │ \u001b[32m8411 RAGGED TOP CIRCLE\u001b[0m │ \u001b[32m8321 RAGGED TOP CIR\u001b[0m │ \u001b[32mAGG    \u001b[0m │ \u001b[1m[\u001b[0m\u001b[32m'IRC'\u001b[0m, \u001b[32m'CIR'\u001b[0m, \u001b[33m...\u001b[0m +\u001b[1;36m18\u001b[0m\u001b[1m]\u001b[0m │ \u001b[1m[\u001b[0m\u001b[32m'CIR'\u001b[0m, \u001b[32m'GGE'\u001b[0m, \u001b[33m...\u001b[0m +\u001b[1;36m15\u001b[0m\u001b[1m]\u001b[0m │ \u001b[2mNULL\u001b[0m   │ \u001b[2mNULL\u001b[0m   │\n",
       "│ \u001b[32mANCHORAGE\u001b[0m │ \u001b[32mANCHORAGE\u001b[0m │ \u001b[1;36m61.187404\u001b[0m │ \u001b[1;36m-149.723910\u001b[0m │ \u001b[32m99504     \u001b[0m │ \u001b[32m99504     \u001b[0m │       \u001b[1;36m49227\u001b[0m │      \u001b[1;36m247485\u001b[0m │ \u001b[32mAK     \u001b[0m │ \u001b[32mAK     \u001b[0m │ \u001b[32m8420 RAGGED TOP CIRCLE\u001b[0m │ \u001b[32m8340 RAGGED TOP CIR\u001b[0m │ \u001b[32mAGG    \u001b[0m │ \u001b[1m[\u001b[0m\u001b[32m'IRC'\u001b[0m, \u001b[32m'CIR'\u001b[0m, \u001b[33m...\u001b[0m +\u001b[1;36m18\u001b[0m\u001b[1m]\u001b[0m │ \u001b[1m[\u001b[0m\u001b[32m'CIR'\u001b[0m, \u001b[32m'GGE'\u001b[0m, \u001b[33m...\u001b[0m +\u001b[1;36m15\u001b[0m\u001b[1m]\u001b[0m │ \u001b[2mNULL\u001b[0m   │ \u001b[2mNULL\u001b[0m   │\n",
       "│ \u001b[32mANCHORAGE\u001b[0m │ \u001b[32mANCHORAGE\u001b[0m │ \u001b[1;36m61.187630\u001b[0m │ \u001b[1;36m-149.723971\u001b[0m │ \u001b[32m99504     \u001b[0m │ \u001b[32m99504     \u001b[0m │       \u001b[1;36m49244\u001b[0m │      \u001b[1;36m247486\u001b[0m │ \u001b[32mAK     \u001b[0m │ \u001b[32mAK     \u001b[0m │ \u001b[32m8421 RAGGED TOP CIRCLE\u001b[0m │ \u001b[32m8340 RAGGED TOP CIR\u001b[0m │ \u001b[32mAGG    \u001b[0m │ \u001b[1m[\u001b[0m\u001b[32m'IRC'\u001b[0m, \u001b[32m'CIR'\u001b[0m, \u001b[33m...\u001b[0m +\u001b[1;36m18\u001b[0m\u001b[1m]\u001b[0m │ \u001b[1m[\u001b[0m\u001b[32m'CIR'\u001b[0m, \u001b[32m'GGE'\u001b[0m, \u001b[33m...\u001b[0m +\u001b[1;36m15\u001b[0m\u001b[1m]\u001b[0m │ \u001b[2mNULL\u001b[0m   │ \u001b[2mNULL\u001b[0m   │\n",
       "│ \u001b[32mANCHORAGE\u001b[0m │ \u001b[32mANCHORAGE\u001b[0m │ \u001b[1;36m61.187387\u001b[0m │ \u001b[1;36m-149.723743\u001b[0m │ \u001b[32m99504     \u001b[0m │ \u001b[32m99504     \u001b[0m │       \u001b[1;36m49279\u001b[0m │      \u001b[1;36m247487\u001b[0m │ \u001b[32mAK     \u001b[0m │ \u001b[32mAK     \u001b[0m │ \u001b[32m8430 RAGGED TOP CIRCLE\u001b[0m │ \u001b[32m8340 RAGGED TOP CIR\u001b[0m │ \u001b[32mAGG    \u001b[0m │ \u001b[1m[\u001b[0m\u001b[32m'IRC'\u001b[0m, \u001b[32m'CIR'\u001b[0m, \u001b[33m...\u001b[0m +\u001b[1;36m18\u001b[0m\u001b[1m]\u001b[0m │ \u001b[1m[\u001b[0m\u001b[32m'CIR'\u001b[0m, \u001b[32m'GGE'\u001b[0m, \u001b[33m...\u001b[0m +\u001b[1;36m15\u001b[0m\u001b[1m]\u001b[0m │ \u001b[2mNULL\u001b[0m   │ \u001b[2mNULL\u001b[0m   │\n",
       "│ \u001b[32mANCHORAGE\u001b[0m │ \u001b[32mANCHORAGE\u001b[0m │ \u001b[1;36m61.187686\u001b[0m │ \u001b[1;36m-149.723754\u001b[0m │ \u001b[32m99504     \u001b[0m │ \u001b[32m99504     \u001b[0m │       \u001b[1;36m49291\u001b[0m │      \u001b[1;36m247532\u001b[0m │ \u001b[32mAK     \u001b[0m │ \u001b[32mAK     \u001b[0m │ \u001b[32m8431 RAGGED TOP CIRCLE\u001b[0m │ \u001b[32m8351 RAGGED TOP CIR\u001b[0m │ \u001b[32mAGG    \u001b[0m │ \u001b[1m[\u001b[0m\u001b[32m'IRC'\u001b[0m, \u001b[32m'CIR'\u001b[0m, \u001b[33m...\u001b[0m +\u001b[1;36m18\u001b[0m\u001b[1m]\u001b[0m │ \u001b[1m[\u001b[0m\u001b[32m'CIR'\u001b[0m, \u001b[32m'GGE'\u001b[0m, \u001b[33m...\u001b[0m +\u001b[1;36m15\u001b[0m\u001b[1m]\u001b[0m │ \u001b[2mNULL\u001b[0m   │ \u001b[2mNULL\u001b[0m   │\n",
       "│ \u001b[32mANCHORAGE\u001b[0m │ \u001b[32mANCHORAGE\u001b[0m │ \u001b[1;36m61.187371\u001b[0m │ \u001b[1;36m-149.723576\u001b[0m │ \u001b[32m99504     \u001b[0m │ \u001b[32m99504     \u001b[0m │       \u001b[1;36m49308\u001b[0m │      \u001b[1;36m247533\u001b[0m │ \u001b[32mAK     \u001b[0m │ \u001b[32mAK     \u001b[0m │ \u001b[32m8440 RAGGED TOP CIRCLE\u001b[0m │ \u001b[32m8360 RAGGED TOP CIR\u001b[0m │ \u001b[32mAGG    \u001b[0m │ \u001b[1m[\u001b[0m\u001b[32m'IRC'\u001b[0m, \u001b[32m'CIR'\u001b[0m, \u001b[33m...\u001b[0m +\u001b[1;36m18\u001b[0m\u001b[1m]\u001b[0m │ \u001b[1m[\u001b[0m\u001b[32m'CIR'\u001b[0m, \u001b[32m'GGE'\u001b[0m, \u001b[33m...\u001b[0m +\u001b[1;36m15\u001b[0m\u001b[1m]\u001b[0m │ \u001b[2mNULL\u001b[0m   │ \u001b[2mNULL\u001b[0m   │\n",
       "│ \u001b[32mANCHORAGE\u001b[0m │ \u001b[32mANCHORAGE\u001b[0m │ \u001b[1;36m61.187706\u001b[0m │ \u001b[1;36m-149.723582\u001b[0m │ \u001b[32m99504     \u001b[0m │ \u001b[32m99504     \u001b[0m │       \u001b[1;36m49316\u001b[0m │      \u001b[1;36m247534\u001b[0m │ \u001b[32mAK     \u001b[0m │ \u001b[32mAK     \u001b[0m │ \u001b[32m8441 RAGGED TOP CIRCLE\u001b[0m │ \u001b[32m8360 RAGGED TOP CIR\u001b[0m │ \u001b[32mAGG    \u001b[0m │ \u001b[1m[\u001b[0m\u001b[32m'IRC'\u001b[0m, \u001b[32m'CIR'\u001b[0m, \u001b[33m...\u001b[0m +\u001b[1;36m18\u001b[0m\u001b[1m]\u001b[0m │ \u001b[1m[\u001b[0m\u001b[32m'CIR'\u001b[0m, \u001b[32m'GGE'\u001b[0m, \u001b[33m...\u001b[0m +\u001b[1;36m15\u001b[0m\u001b[1m]\u001b[0m │ \u001b[2mNULL\u001b[0m   │ \u001b[2mNULL\u001b[0m   │\n",
       "│ \u001b[2m…\u001b[0m         │ \u001b[2m…\u001b[0m         │         \u001b[2m…\u001b[0m │           \u001b[2m…\u001b[0m │ \u001b[2m…\u001b[0m          │ \u001b[2m…\u001b[0m          │           \u001b[2m…\u001b[0m │           \u001b[2m…\u001b[0m │ \u001b[2m…\u001b[0m       │ \u001b[2m…\u001b[0m       │ \u001b[2m…\u001b[0m                      │ \u001b[2m…\u001b[0m                   │ \u001b[2m…\u001b[0m       │ \u001b[2m…\u001b[0m                       │ \u001b[2m…\u001b[0m                       │ \u001b[2m…\u001b[0m      │ \u001b[2m…\u001b[0m      │\n",
       "└───────────┴───────────┴───────────┴─────────────┴────────────┴────────────┴─────────────┴─────────────┴─────────┴─────────┴────────────────────────┴─────────────────────┴─────────┴─────────────────────────┴─────────────────────────┴────────┴────────┘"
      ]
     },
     "execution_count": 50,
     "metadata": {},
     "output_type": "execute_result"
    }
   ],
   "source": [
    "links_full = trigram_linkage.links.with_left().with_right()\n",
    "links_full = links_full.select(sorted(links_full.columns))\n",
    "links_full\n"
   ]
  },
  {
   "cell_type": "code",
   "execution_count": 46,
   "metadata": {},
   "outputs": [
    {
     "data": {
      "text/html": [
       "<pre style=\"white-space:pre;overflow-x:auto;line-height:normal;font-family:Menlo,'DejaVu Sans Mono',consolas,'Courier New',monospace\">┏━━━━━━━━━━━━━┳━━━━━━━━━━━━━┳━━━━━━━━━━━┳━━━━━━━━━━━━━┳━━━━━━━━━━━━┳━━━━━━━━━━━━┳━━━━━━━━━━━━━┳━━━━━━━━━━━━━━━━━━━┳━━━━━━━━━━━━━┳━━━━━━━━━━━━━━━━━━━┳━━━━━━━━━┳━━━━━━━━━┳━━━━━━━━━━━━━━━━━━━━━━┳━━━━━━━━━━━━━━━━━━━┳━━━━━━━━━┳━━━━━━━━━━━━━━━━━━━━━━━━━┳━━━━━━━━━━━━━━━━━━━━━━━━━┳━━━━━━━━┳━━━━━━━━┳━━━━━━━━━━┓\n",
       "┃<span style=\"font-weight: bold\"> city_l      </span>┃<span style=\"font-weight: bold\"> city_r      </span>┃<span style=\"font-weight: bold\"> lat_l     </span>┃<span style=\"font-weight: bold\"> lon_l       </span>┃<span style=\"font-weight: bold\"> postcode_l </span>┃<span style=\"font-weight: bold\"> postcode_r </span>┃<span style=\"font-weight: bold\"> record_id_l </span>┃<span style=\"font-weight: bold\"> record_id_l_right </span>┃<span style=\"font-weight: bold\"> record_id_r </span>┃<span style=\"font-weight: bold\"> record_id_r_right </span>┃<span style=\"font-weight: bold\"> state_l </span>┃<span style=\"font-weight: bold\"> state_r </span>┃<span style=\"font-weight: bold\"> street_l             </span>┃<span style=\"font-weight: bold\"> street_r          </span>┃<span style=\"font-weight: bold\"> trigram </span>┃<span style=\"font-weight: bold\"> trigrams_l              </span>┃<span style=\"font-weight: bold\"> trigrams_r              </span>┃<span style=\"font-weight: bold\"> unit_l </span>┃<span style=\"font-weight: bold\"> unit_r </span>┃<span style=\"font-weight: bold\"> jaccard  </span>┃\n",
       "┡━━━━━━━━━━━━━╇━━━━━━━━━━━━━╇━━━━━━━━━━━╇━━━━━━━━━━━━━╇━━━━━━━━━━━━╇━━━━━━━━━━━━╇━━━━━━━━━━━━━╇━━━━━━━━━━━━━━━━━━━╇━━━━━━━━━━━━━╇━━━━━━━━━━━━━━━━━━━╇━━━━━━━━━╇━━━━━━━━━╇━━━━━━━━━━━━━━━━━━━━━━╇━━━━━━━━━━━━━━━━━━━╇━━━━━━━━━╇━━━━━━━━━━━━━━━━━━━━━━━━━╇━━━━━━━━━━━━━━━━━━━━━━━━━╇━━━━━━━━╇━━━━━━━━╇━━━━━━━━━━┩\n",
       "│ <span style=\"color: #7f7f7f; text-decoration-color: #7f7f7f\">string</span>      │ <span style=\"color: #7f7f7f; text-decoration-color: #7f7f7f\">string</span>      │ <span style=\"color: #7f7f7f; text-decoration-color: #7f7f7f\">float64</span>   │ <span style=\"color: #7f7f7f; text-decoration-color: #7f7f7f\">float64</span>     │ <span style=\"color: #7f7f7f; text-decoration-color: #7f7f7f\">string</span>     │ <span style=\"color: #7f7f7f; text-decoration-color: #7f7f7f\">string</span>     │ <span style=\"color: #7f7f7f; text-decoration-color: #7f7f7f\">int64</span>       │ <span style=\"color: #7f7f7f; text-decoration-color: #7f7f7f\">int64</span>             │ <span style=\"color: #7f7f7f; text-decoration-color: #7f7f7f\">int64</span>       │ <span style=\"color: #7f7f7f; text-decoration-color: #7f7f7f\">int64</span>             │ <span style=\"color: #7f7f7f; text-decoration-color: #7f7f7f\">string</span>  │ <span style=\"color: #7f7f7f; text-decoration-color: #7f7f7f\">string</span>  │ <span style=\"color: #7f7f7f; text-decoration-color: #7f7f7f\">string</span>               │ <span style=\"color: #7f7f7f; text-decoration-color: #7f7f7f\">string</span>            │ <span style=\"color: #7f7f7f; text-decoration-color: #7f7f7f\">string</span>  │ <span style=\"color: #7f7f7f; text-decoration-color: #7f7f7f\">array&lt;string&gt;</span>           │ <span style=\"color: #7f7f7f; text-decoration-color: #7f7f7f\">array&lt;string&gt;</span>           │ <span style=\"color: #7f7f7f; text-decoration-color: #7f7f7f\">string</span> │ <span style=\"color: #7f7f7f; text-decoration-color: #7f7f7f\">string</span> │ <span style=\"color: #7f7f7f; text-decoration-color: #7f7f7f\">float64</span>  │\n",
       "├─────────────┼─────────────┼───────────┼─────────────┼────────────┼────────────┼─────────────┼───────────────────┼─────────────┼───────────────────┼─────────┼─────────┼──────────────────────┼───────────────────┼─────────┼─────────────────────────┼─────────────────────────┼────────┼────────┼──────────┤\n",
       "│ <span style=\"color: #008000; text-decoration-color: #008000\">EAGLE RIVER</span> │ <span style=\"color: #008000; text-decoration-color: #008000\">EAGLE RIVER</span> │ <span style=\"color: #008080; text-decoration-color: #008080; font-weight: bold\">61.277189</span> │ <span style=\"color: #008080; text-decoration-color: #008080; font-weight: bold\">-149.371916</span> │ <span style=\"color: #008000; text-decoration-color: #008000\">99577     </span> │ <span style=\"color: #008000; text-decoration-color: #008000\">99577     </span> │      <span style=\"color: #008080; text-decoration-color: #008080; font-weight: bold\">135092</span> │            <span style=\"color: #008080; text-decoration-color: #008080; font-weight: bold\">135092</span> │      <span style=\"color: #008080; text-decoration-color: #008080; font-weight: bold\">600173</span> │            <span style=\"color: #008080; text-decoration-color: #008080; font-weight: bold\">600173</span> │ <span style=\"color: #008000; text-decoration-color: #008000\">AK     </span> │ <span style=\"color: #008000; text-decoration-color: #008000\">AK     </span> │ <span style=\"color: #008000; text-decoration-color: #008000\">6270 MAGNAVIEW DRIVE</span> │ <span style=\"color: #008000; text-decoration-color: #008000\">6270 MAGNAVIEW DR</span> │ <span style=\"color: #008000; text-decoration-color: #008000\">GNA    </span> │ <span style=\"font-weight: bold\">[</span><span style=\"color: #008000; text-decoration-color: #008000\">'VIE'</span>, <span style=\"color: #008000; text-decoration-color: #008000\">'IEW'</span>, <span style=\"color: #808000; text-decoration-color: #808000\">...</span> +<span style=\"color: #008080; text-decoration-color: #008080; font-weight: bold\">17</span><span style=\"font-weight: bold\">]</span> │ <span style=\"font-weight: bold\">[</span><span style=\"color: #008000; text-decoration-color: #008000\">'VIE'</span>, <span style=\"color: #008000; text-decoration-color: #008000\">'IEW'</span>, <span style=\"color: #808000; text-decoration-color: #808000\">...</span> +<span style=\"color: #008080; text-decoration-color: #008080; font-weight: bold\">16</span><span style=\"font-weight: bold\">]</span> │ <span style=\"color: #7f7f7f; text-decoration-color: #7f7f7f\">NULL</span>   │ <span style=\"color: #7f7f7f; text-decoration-color: #7f7f7f\">NULL</span>   │ <span style=\"color: #008080; text-decoration-color: #008080; font-weight: bold\">0.947368</span> │\n",
       "│ <span style=\"color: #008000; text-decoration-color: #008000\">ANCHORAGE  </span> │ <span style=\"color: #008000; text-decoration-color: #008000\">ANCHORAGE  </span> │ <span style=\"color: #008080; text-decoration-color: #008080; font-weight: bold\">61.119973</span> │ <span style=\"color: #008080; text-decoration-color: #008080; font-weight: bold\">-149.889473</span> │ <span style=\"color: #008000; text-decoration-color: #008000\">99515     </span> │ <span style=\"color: #008000; text-decoration-color: #008000\">99515     </span> │       <span style=\"color: #008080; text-decoration-color: #008080; font-weight: bold\">83053</span> │             <span style=\"color: #008080; text-decoration-color: #008080; font-weight: bold\">83053</span> │      <span style=\"color: #008080; text-decoration-color: #008080; font-weight: bold\">406614</span> │            <span style=\"color: #008080; text-decoration-color: #008080; font-weight: bold\">406614</span> │ <span style=\"color: #008000; text-decoration-color: #008000\">AK     </span> │ <span style=\"color: #008000; text-decoration-color: #008000\">AK     </span> │ <span style=\"color: #008000; text-decoration-color: #008000\">11150 SUKDU WAY     </span> │ <span style=\"color: #008000; text-decoration-color: #008000\">11150 SUKDU      </span> │ <span style=\"color: #008000; text-decoration-color: #008000\">SUK    </span> │ <span style=\"font-weight: bold\">[</span><span style=\"color: #008000; text-decoration-color: #008000\">'WAY'</span>, <span style=\"color: #008000; text-decoration-color: #008000\">'KDU'</span>, <span style=\"color: #808000; text-decoration-color: #808000\">...</span> +<span style=\"color: #008080; text-decoration-color: #008080; font-weight: bold\">15</span><span style=\"font-weight: bold\">]</span> │ <span style=\"font-weight: bold\">[</span><span style=\"color: #008000; text-decoration-color: #008000\">'KDU'</span>, <span style=\"color: #008000; text-decoration-color: #008000\">'UKD'</span>, <span style=\"color: #808000; text-decoration-color: #808000\">...</span> +<span style=\"color: #008080; text-decoration-color: #008080; font-weight: bold\">14</span><span style=\"font-weight: bold\">]</span> │ <span style=\"color: #7f7f7f; text-decoration-color: #7f7f7f\">NULL</span>   │ <span style=\"color: #7f7f7f; text-decoration-color: #7f7f7f\">NULL</span>   │ <span style=\"color: #008080; text-decoration-color: #008080; font-weight: bold\">0.941176</span> │\n",
       "│ <span style=\"color: #008000; text-decoration-color: #008000\">EAGLE RIVER</span> │ <span style=\"color: #008000; text-decoration-color: #008000\">EAGLE RIVER</span> │ <span style=\"color: #008080; text-decoration-color: #008080; font-weight: bold\">61.258928</span> │ <span style=\"color: #008080; text-decoration-color: #008080; font-weight: bold\">-149.466730</span> │ <span style=\"color: #008000; text-decoration-color: #008000\">99577     </span> │ <span style=\"color: #008000; text-decoration-color: #008000\">99577     </span> │      <span style=\"color: #008080; text-decoration-color: #008080; font-weight: bold\">134972</span> │            <span style=\"color: #008080; text-decoration-color: #008080; font-weight: bold\">134972</span> │      <span style=\"color: #008080; text-decoration-color: #008080; font-weight: bold\">599755</span> │            <span style=\"color: #008080; text-decoration-color: #008080; font-weight: bold\">599755</span> │ <span style=\"color: #008000; text-decoration-color: #008000\">AK     </span> │ <span style=\"color: #008000; text-decoration-color: #008000\">AK     </span> │ <span style=\"color: #008000; text-decoration-color: #008000\">4241 ELKHORN DRIVE  </span> │ <span style=\"color: #008000; text-decoration-color: #008000\">4241 ELKHORN DR  </span> │ <span style=\"color: #008000; text-decoration-color: #008000\">KHO    </span> │ <span style=\"font-weight: bold\">[</span><span style=\"color: #008000; text-decoration-color: #008000\">'ORN'</span>, <span style=\"color: #008000; text-decoration-color: #008000\">'LKH'</span>, <span style=\"color: #808000; text-decoration-color: #808000\">...</span> +<span style=\"color: #008080; text-decoration-color: #008080; font-weight: bold\">15</span><span style=\"font-weight: bold\">]</span> │ <span style=\"font-weight: bold\">[</span><span style=\"color: #008000; text-decoration-color: #008000\">'ORN'</span>, <span style=\"color: #008000; text-decoration-color: #008000\">'LKH'</span>, <span style=\"color: #808000; text-decoration-color: #808000\">...</span> +<span style=\"color: #008080; text-decoration-color: #008080; font-weight: bold\">14</span><span style=\"font-weight: bold\">]</span> │ <span style=\"color: #7f7f7f; text-decoration-color: #7f7f7f\">NULL</span>   │ <span style=\"color: #7f7f7f; text-decoration-color: #7f7f7f\">NULL</span>   │ <span style=\"color: #008080; text-decoration-color: #008080; font-weight: bold\">0.941176</span> │\n",
       "│ <span style=\"color: #008000; text-decoration-color: #008000\">ANCHORAGE  </span> │ <span style=\"color: #008000; text-decoration-color: #008000\">ANCHORAGE  </span> │ <span style=\"color: #008080; text-decoration-color: #008080; font-weight: bold\">61.119973</span> │ <span style=\"color: #008080; text-decoration-color: #008080; font-weight: bold\">-149.889473</span> │ <span style=\"color: #008000; text-decoration-color: #008000\">99515     </span> │ <span style=\"color: #008000; text-decoration-color: #008000\">99515     </span> │       <span style=\"color: #008080; text-decoration-color: #008080; font-weight: bold\">83053</span> │             <span style=\"color: #008080; text-decoration-color: #008080; font-weight: bold\">83053</span> │      <span style=\"color: #008080; text-decoration-color: #008080; font-weight: bold\">406614</span> │            <span style=\"color: #008080; text-decoration-color: #008080; font-weight: bold\">406614</span> │ <span style=\"color: #008000; text-decoration-color: #008000\">AK     </span> │ <span style=\"color: #008000; text-decoration-color: #008000\">AK     </span> │ <span style=\"color: #008000; text-decoration-color: #008000\">11150 SUKDU WAY     </span> │ <span style=\"color: #008000; text-decoration-color: #008000\">11150 SUKDU      </span> │ <span style=\"color: #008000; text-decoration-color: #008000\">KDU    </span> │ <span style=\"font-weight: bold\">[</span><span style=\"color: #008000; text-decoration-color: #008000\">'WAY'</span>, <span style=\"color: #008000; text-decoration-color: #008000\">'KDU'</span>, <span style=\"color: #808000; text-decoration-color: #808000\">...</span> +<span style=\"color: #008080; text-decoration-color: #008080; font-weight: bold\">15</span><span style=\"font-weight: bold\">]</span> │ <span style=\"font-weight: bold\">[</span><span style=\"color: #008000; text-decoration-color: #008000\">'KDU'</span>, <span style=\"color: #008000; text-decoration-color: #008000\">'UKD'</span>, <span style=\"color: #808000; text-decoration-color: #808000\">...</span> +<span style=\"color: #008080; text-decoration-color: #008080; font-weight: bold\">14</span><span style=\"font-weight: bold\">]</span> │ <span style=\"color: #7f7f7f; text-decoration-color: #7f7f7f\">NULL</span>   │ <span style=\"color: #7f7f7f; text-decoration-color: #7f7f7f\">NULL</span>   │ <span style=\"color: #008080; text-decoration-color: #008080; font-weight: bold\">0.941176</span> │\n",
       "│ <span style=\"color: #008000; text-decoration-color: #008000\">EAGLE RIVER</span> │ <span style=\"color: #008000; text-decoration-color: #008000\">EAGLE RIVER</span> │ <span style=\"color: #008080; text-decoration-color: #008080; font-weight: bold\">61.309331</span> │ <span style=\"color: #008080; text-decoration-color: #008080; font-weight: bold\">-149.552227</span> │ <span style=\"color: #008000; text-decoration-color: #008000\">99577     </span> │ <span style=\"color: #008000; text-decoration-color: #008000\">99577     </span> │      <span style=\"color: #008080; text-decoration-color: #008080; font-weight: bold\">135979</span> │            <span style=\"color: #008080; text-decoration-color: #008080; font-weight: bold\">135979</span> │      <span style=\"color: #008080; text-decoration-color: #008080; font-weight: bold\">601878</span> │            <span style=\"color: #008080; text-decoration-color: #008080; font-weight: bold\">601878</span> │ <span style=\"color: #008000; text-decoration-color: #008000\">AK     </span> │ <span style=\"color: #008000; text-decoration-color: #008000\">AK     </span> │ <span style=\"color: #008000; text-decoration-color: #008000\">9823 DINAAKA DRIVE  </span> │ <span style=\"color: #008000; text-decoration-color: #008000\">9823 DINAAKA DR  </span> │ <span style=\"color: #008000; text-decoration-color: #008000\">AAK    </span> │ <span style=\"font-weight: bold\">[</span><span style=\"color: #008000; text-decoration-color: #008000\">'NAA'</span>, <span style=\"color: #008000; text-decoration-color: #008000\">'AAK'</span>, <span style=\"color: #808000; text-decoration-color: #808000\">...</span> +<span style=\"color: #008080; text-decoration-color: #008080; font-weight: bold\">15</span><span style=\"font-weight: bold\">]</span> │ <span style=\"font-weight: bold\">[</span><span style=\"color: #008000; text-decoration-color: #008000\">'NAA'</span>, <span style=\"color: #008000; text-decoration-color: #008000\">'AAK'</span>, <span style=\"color: #808000; text-decoration-color: #808000\">...</span> +<span style=\"color: #008080; text-decoration-color: #008080; font-weight: bold\">14</span><span style=\"font-weight: bold\">]</span> │ <span style=\"color: #7f7f7f; text-decoration-color: #7f7f7f\">NULL</span>   │ <span style=\"color: #7f7f7f; text-decoration-color: #7f7f7f\">NULL</span>   │ <span style=\"color: #008080; text-decoration-color: #008080; font-weight: bold\">0.941176</span> │\n",
       "│ <span style=\"color: #008000; text-decoration-color: #008000\">EAGLE RIVER</span> │ <span style=\"color: #008000; text-decoration-color: #008000\">EAGLE RIVER</span> │ <span style=\"color: #008080; text-decoration-color: #008080; font-weight: bold\">61.308055</span> │ <span style=\"color: #008080; text-decoration-color: #008080; font-weight: bold\">-149.553310</span> │ <span style=\"color: #008000; text-decoration-color: #008000\">99577     </span> │ <span style=\"color: #008000; text-decoration-color: #008000\">99577     </span> │      <span style=\"color: #008080; text-decoration-color: #008080; font-weight: bold\">135913</span> │            <span style=\"color: #008080; text-decoration-color: #008080; font-weight: bold\">135913</span> │      <span style=\"color: #008080; text-decoration-color: #008080; font-weight: bold\">601731</span> │            <span style=\"color: #008080; text-decoration-color: #008080; font-weight: bold\">601731</span> │ <span style=\"color: #008000; text-decoration-color: #008000\">AK     </span> │ <span style=\"color: #008000; text-decoration-color: #008000\">AK     </span> │ <span style=\"color: #008000; text-decoration-color: #008000\">9706 DINAAKA DRIVE  </span> │ <span style=\"color: #008000; text-decoration-color: #008000\">9706 DINAAKA DR  </span> │ <span style=\"color: #008000; text-decoration-color: #008000\">AAK    </span> │ <span style=\"font-weight: bold\">[</span><span style=\"color: #008000; text-decoration-color: #008000\">'NAA'</span>, <span style=\"color: #008000; text-decoration-color: #008000\">'AKA'</span>, <span style=\"color: #808000; text-decoration-color: #808000\">...</span> +<span style=\"color: #008080; text-decoration-color: #008080; font-weight: bold\">15</span><span style=\"font-weight: bold\">]</span> │ <span style=\"font-weight: bold\">[</span><span style=\"color: #008000; text-decoration-color: #008000\">'NAA'</span>, <span style=\"color: #008000; text-decoration-color: #008000\">'AKA'</span>, <span style=\"color: #808000; text-decoration-color: #808000\">...</span> +<span style=\"color: #008080; text-decoration-color: #008080; font-weight: bold\">14</span><span style=\"font-weight: bold\">]</span> │ <span style=\"color: #7f7f7f; text-decoration-color: #7f7f7f\">NULL</span>   │ <span style=\"color: #7f7f7f; text-decoration-color: #7f7f7f\">NULL</span>   │ <span style=\"color: #008080; text-decoration-color: #008080; font-weight: bold\">0.941176</span> │\n",
       "│ <span style=\"color: #008000; text-decoration-color: #008000\">EAGLE RIVER</span> │ <span style=\"color: #008000; text-decoration-color: #008000\">EAGLE RIVER</span> │ <span style=\"color: #008080; text-decoration-color: #008080; font-weight: bold\">61.258928</span> │ <span style=\"color: #008080; text-decoration-color: #008080; font-weight: bold\">-149.466730</span> │ <span style=\"color: #008000; text-decoration-color: #008000\">99577     </span> │ <span style=\"color: #008000; text-decoration-color: #008000\">99577     </span> │      <span style=\"color: #008080; text-decoration-color: #008080; font-weight: bold\">134972</span> │            <span style=\"color: #008080; text-decoration-color: #008080; font-weight: bold\">134972</span> │      <span style=\"color: #008080; text-decoration-color: #008080; font-weight: bold\">599763</span> │            <span style=\"color: #008080; text-decoration-color: #008080; font-weight: bold\">599763</span> │ <span style=\"color: #008000; text-decoration-color: #008000\">AK     </span> │ <span style=\"color: #008000; text-decoration-color: #008000\">AK     </span> │ <span style=\"color: #008000; text-decoration-color: #008000\">4241 ELKHORN DRIVE  </span> │ <span style=\"color: #008000; text-decoration-color: #008000\">4241 ELKHORN DR  </span> │ <span style=\"color: #008000; text-decoration-color: #008000\">LKH    </span> │ <span style=\"font-weight: bold\">[</span><span style=\"color: #008000; text-decoration-color: #008000\">'ORN'</span>, <span style=\"color: #008000; text-decoration-color: #008000\">'LKH'</span>, <span style=\"color: #808000; text-decoration-color: #808000\">...</span> +<span style=\"color: #008080; text-decoration-color: #008080; font-weight: bold\">15</span><span style=\"font-weight: bold\">]</span> │ <span style=\"font-weight: bold\">[</span><span style=\"color: #008000; text-decoration-color: #008000\">'ORN'</span>, <span style=\"color: #008000; text-decoration-color: #008000\">'LKH'</span>, <span style=\"color: #808000; text-decoration-color: #808000\">...</span> +<span style=\"color: #008080; text-decoration-color: #008080; font-weight: bold\">14</span><span style=\"font-weight: bold\">]</span> │ <span style=\"color: #7f7f7f; text-decoration-color: #7f7f7f\">NULL</span>   │ <span style=\"color: #7f7f7f; text-decoration-color: #7f7f7f\">NULL</span>   │ <span style=\"color: #008080; text-decoration-color: #008080; font-weight: bold\">0.941176</span> │\n",
       "│ <span style=\"color: #008000; text-decoration-color: #008000\">ANCHORAGE  </span> │ <span style=\"color: #008000; text-decoration-color: #008000\">ANCHORAGE  </span> │ <span style=\"color: #008080; text-decoration-color: #008080; font-weight: bold\">61.119973</span> │ <span style=\"color: #008080; text-decoration-color: #008080; font-weight: bold\">-149.889473</span> │ <span style=\"color: #008000; text-decoration-color: #008000\">99515     </span> │ <span style=\"color: #008000; text-decoration-color: #008000\">99515     </span> │       <span style=\"color: #008080; text-decoration-color: #008080; font-weight: bold\">83053</span> │             <span style=\"color: #008080; text-decoration-color: #008080; font-weight: bold\">83053</span> │      <span style=\"color: #008080; text-decoration-color: #008080; font-weight: bold\">406614</span> │            <span style=\"color: #008080; text-decoration-color: #008080; font-weight: bold\">406614</span> │ <span style=\"color: #008000; text-decoration-color: #008000\">AK     </span> │ <span style=\"color: #008000; text-decoration-color: #008000\">AK     </span> │ <span style=\"color: #008000; text-decoration-color: #008000\">11150 SUKDU WAY     </span> │ <span style=\"color: #008000; text-decoration-color: #008000\">11150 SUKDU      </span> │ <span style=\"color: #008000; text-decoration-color: #008000\">UKD    </span> │ <span style=\"font-weight: bold\">[</span><span style=\"color: #008000; text-decoration-color: #008000\">'WAY'</span>, <span style=\"color: #008000; text-decoration-color: #008000\">'KDU'</span>, <span style=\"color: #808000; text-decoration-color: #808000\">...</span> +<span style=\"color: #008080; text-decoration-color: #008080; font-weight: bold\">15</span><span style=\"font-weight: bold\">]</span> │ <span style=\"font-weight: bold\">[</span><span style=\"color: #008000; text-decoration-color: #008000\">'KDU'</span>, <span style=\"color: #008000; text-decoration-color: #008000\">'UKD'</span>, <span style=\"color: #808000; text-decoration-color: #808000\">...</span> +<span style=\"color: #008080; text-decoration-color: #008080; font-weight: bold\">14</span><span style=\"font-weight: bold\">]</span> │ <span style=\"color: #7f7f7f; text-decoration-color: #7f7f7f\">NULL</span>   │ <span style=\"color: #7f7f7f; text-decoration-color: #7f7f7f\">NULL</span>   │ <span style=\"color: #008080; text-decoration-color: #008080; font-weight: bold\">0.941176</span> │\n",
       "│ <span style=\"color: #008000; text-decoration-color: #008000\">EAGLE RIVER</span> │ <span style=\"color: #008000; text-decoration-color: #008000\">EAGLE RIVER</span> │ <span style=\"color: #008080; text-decoration-color: #008080; font-weight: bold\">61.254310</span> │ <span style=\"color: #008080; text-decoration-color: #008080; font-weight: bold\">-149.290293</span> │ <span style=\"color: #008000; text-decoration-color: #008000\">99577     </span> │ <span style=\"color: #008000; text-decoration-color: #008000\">99577     </span> │      <span style=\"color: #008080; text-decoration-color: #008080; font-weight: bold\">134918</span> │            <span style=\"color: #008080; text-decoration-color: #008080; font-weight: bold\">134918</span> │      <span style=\"color: #008080; text-decoration-color: #008080; font-weight: bold\">599655</span> │            <span style=\"color: #008080; text-decoration-color: #008080; font-weight: bold\">599655</span> │ <span style=\"color: #008000; text-decoration-color: #008000\">AK     </span> │ <span style=\"color: #008000; text-decoration-color: #008000\">AK     </span> │ <span style=\"color: #008000; text-decoration-color: #008000\">3851 MARIAH DRIVE   </span> │ <span style=\"color: #008000; text-decoration-color: #008000\">3851 MARIAH DR   </span> │ <span style=\"color: #008000; text-decoration-color: #008000\">IAH    </span> │ <span style=\"font-weight: bold\">[</span><span style=\"color: #008000; text-decoration-color: #008000\">'IAH'</span>, <span style=\"color: #008000; text-decoration-color: #008000\">'ARI'</span>, <span style=\"color: #808000; text-decoration-color: #808000\">...</span> +<span style=\"color: #008080; text-decoration-color: #008080; font-weight: bold\">14</span><span style=\"font-weight: bold\">]</span> │ <span style=\"font-weight: bold\">[</span><span style=\"color: #008000; text-decoration-color: #008000\">'IAH'</span>, <span style=\"color: #008000; text-decoration-color: #008000\">'ARI'</span>, <span style=\"color: #808000; text-decoration-color: #808000\">...</span> +<span style=\"color: #008080; text-decoration-color: #008080; font-weight: bold\">13</span><span style=\"font-weight: bold\">]</span> │ <span style=\"color: #7f7f7f; text-decoration-color: #7f7f7f\">NULL</span>   │ <span style=\"color: #7f7f7f; text-decoration-color: #7f7f7f\">NULL</span>   │ <span style=\"color: #008080; text-decoration-color: #008080; font-weight: bold\">0.937500</span> │\n",
       "│ <span style=\"color: #008000; text-decoration-color: #008000\">NORTH POLE </span> │ <span style=\"color: #008000; text-decoration-color: #008000\">NORTH POLE </span> │ <span style=\"color: #008080; text-decoration-color: #008080; font-weight: bold\">64.748797</span> │ <span style=\"color: #008080; text-decoration-color: #008080; font-weight: bold\">-147.331063</span> │ <span style=\"color: #008000; text-decoration-color: #008000\">99705     </span> │ <span style=\"color: #008000; text-decoration-color: #008000\">99705     </span> │      <span style=\"color: #008080; text-decoration-color: #008080; font-weight: bold\">235597</span> │            <span style=\"color: #008080; text-decoration-color: #008080; font-weight: bold\">235597</span> │      <span style=\"color: #008080; text-decoration-color: #008080; font-weight: bold\">834046</span> │            <span style=\"color: #008080; text-decoration-color: #008080; font-weight: bold\">834046</span> │ <span style=\"color: #008000; text-decoration-color: #008000\">AK     </span> │ <span style=\"color: #008000; text-decoration-color: #008000\">AK     </span> │ <span style=\"color: #008000; text-decoration-color: #008000\">705 OUIDA WAY       </span> │ <span style=\"color: #008000; text-decoration-color: #008000\">526 OUIDA WAY    </span> │ <span style=\"color: #008000; text-decoration-color: #008000\">UID    </span> │ <span style=\"font-weight: bold\">[</span><span style=\"color: #008000; text-decoration-color: #008000\">'WAY'</span>, <span style=\"color: #008000; text-decoration-color: #008000\">'IDA'</span>, <span style=\"color: #808000; text-decoration-color: #808000\">...</span> +<span style=\"color: #008080; text-decoration-color: #008080; font-weight: bold\">10</span><span style=\"font-weight: bold\">]</span> │ <span style=\"font-weight: bold\">[</span><span style=\"color: #008000; text-decoration-color: #008000\">'WAY'</span>, <span style=\"color: #008000; text-decoration-color: #008000\">'IDA'</span>, <span style=\"color: #808000; text-decoration-color: #808000\">...</span> +<span style=\"color: #008080; text-decoration-color: #008080; font-weight: bold\">11</span><span style=\"font-weight: bold\">]</span> │ <span style=\"color: #7f7f7f; text-decoration-color: #7f7f7f\">NULL</span>   │ <span style=\"color: #008000; text-decoration-color: #008000\">UNIT 2</span> │ <span style=\"color: #008080; text-decoration-color: #008080; font-weight: bold\">0.923077</span> │\n",
       "│ <span style=\"color: #7f7f7f; text-decoration-color: #7f7f7f\">…</span>           │ <span style=\"color: #7f7f7f; text-decoration-color: #7f7f7f\">…</span>           │         <span style=\"color: #7f7f7f; text-decoration-color: #7f7f7f\">…</span> │           <span style=\"color: #7f7f7f; text-decoration-color: #7f7f7f\">…</span> │ <span style=\"color: #7f7f7f; text-decoration-color: #7f7f7f\">…</span>          │ <span style=\"color: #7f7f7f; text-decoration-color: #7f7f7f\">…</span>          │           <span style=\"color: #7f7f7f; text-decoration-color: #7f7f7f\">…</span> │                 <span style=\"color: #7f7f7f; text-decoration-color: #7f7f7f\">…</span> │           <span style=\"color: #7f7f7f; text-decoration-color: #7f7f7f\">…</span> │                 <span style=\"color: #7f7f7f; text-decoration-color: #7f7f7f\">…</span> │ <span style=\"color: #7f7f7f; text-decoration-color: #7f7f7f\">…</span>       │ <span style=\"color: #7f7f7f; text-decoration-color: #7f7f7f\">…</span>       │ <span style=\"color: #7f7f7f; text-decoration-color: #7f7f7f\">…</span>                    │ <span style=\"color: #7f7f7f; text-decoration-color: #7f7f7f\">…</span>                 │ <span style=\"color: #7f7f7f; text-decoration-color: #7f7f7f\">…</span>       │ <span style=\"color: #7f7f7f; text-decoration-color: #7f7f7f\">…</span>                       │ <span style=\"color: #7f7f7f; text-decoration-color: #7f7f7f\">…</span>                       │ <span style=\"color: #7f7f7f; text-decoration-color: #7f7f7f\">…</span>      │ <span style=\"color: #7f7f7f; text-decoration-color: #7f7f7f\">…</span>      │        <span style=\"color: #7f7f7f; text-decoration-color: #7f7f7f\">…</span> │\n",
       "└─────────────┴─────────────┴───────────┴─────────────┴────────────┴────────────┴─────────────┴───────────────────┴─────────────┴───────────────────┴─────────┴─────────┴──────────────────────┴───────────────────┴─────────┴─────────────────────────┴─────────────────────────┴────────┴────────┴──────────┘\n",
       "</pre>\n"
      ],
      "text/plain": [
       "┏━━━━━━━━━━━━━┳━━━━━━━━━━━━━┳━━━━━━━━━━━┳━━━━━━━━━━━━━┳━━━━━━━━━━━━┳━━━━━━━━━━━━┳━━━━━━━━━━━━━┳━━━━━━━━━━━━━━━━━━━┳━━━━━━━━━━━━━┳━━━━━━━━━━━━━━━━━━━┳━━━━━━━━━┳━━━━━━━━━┳━━━━━━━━━━━━━━━━━━━━━━┳━━━━━━━━━━━━━━━━━━━┳━━━━━━━━━┳━━━━━━━━━━━━━━━━━━━━━━━━━┳━━━━━━━━━━━━━━━━━━━━━━━━━┳━━━━━━━━┳━━━━━━━━┳━━━━━━━━━━┓\n",
       "┃\u001b[1m \u001b[0m\u001b[1mcity_l\u001b[0m\u001b[1m     \u001b[0m\u001b[1m \u001b[0m┃\u001b[1m \u001b[0m\u001b[1mcity_r\u001b[0m\u001b[1m     \u001b[0m\u001b[1m \u001b[0m┃\u001b[1m \u001b[0m\u001b[1mlat_l\u001b[0m\u001b[1m    \u001b[0m\u001b[1m \u001b[0m┃\u001b[1m \u001b[0m\u001b[1mlon_l\u001b[0m\u001b[1m      \u001b[0m\u001b[1m \u001b[0m┃\u001b[1m \u001b[0m\u001b[1mpostcode_l\u001b[0m\u001b[1m \u001b[0m┃\u001b[1m \u001b[0m\u001b[1mpostcode_r\u001b[0m\u001b[1m \u001b[0m┃\u001b[1m \u001b[0m\u001b[1mrecord_id_l\u001b[0m\u001b[1m \u001b[0m┃\u001b[1m \u001b[0m\u001b[1mrecord_id_l_right\u001b[0m\u001b[1m \u001b[0m┃\u001b[1m \u001b[0m\u001b[1mrecord_id_r\u001b[0m\u001b[1m \u001b[0m┃\u001b[1m \u001b[0m\u001b[1mrecord_id_r_right\u001b[0m\u001b[1m \u001b[0m┃\u001b[1m \u001b[0m\u001b[1mstate_l\u001b[0m\u001b[1m \u001b[0m┃\u001b[1m \u001b[0m\u001b[1mstate_r\u001b[0m\u001b[1m \u001b[0m┃\u001b[1m \u001b[0m\u001b[1mstreet_l\u001b[0m\u001b[1m            \u001b[0m\u001b[1m \u001b[0m┃\u001b[1m \u001b[0m\u001b[1mstreet_r\u001b[0m\u001b[1m         \u001b[0m\u001b[1m \u001b[0m┃\u001b[1m \u001b[0m\u001b[1mtrigram\u001b[0m\u001b[1m \u001b[0m┃\u001b[1m \u001b[0m\u001b[1mtrigrams_l\u001b[0m\u001b[1m             \u001b[0m\u001b[1m \u001b[0m┃\u001b[1m \u001b[0m\u001b[1mtrigrams_r\u001b[0m\u001b[1m             \u001b[0m\u001b[1m \u001b[0m┃\u001b[1m \u001b[0m\u001b[1munit_l\u001b[0m\u001b[1m \u001b[0m┃\u001b[1m \u001b[0m\u001b[1munit_r\u001b[0m\u001b[1m \u001b[0m┃\u001b[1m \u001b[0m\u001b[1mjaccard\u001b[0m\u001b[1m \u001b[0m\u001b[1m \u001b[0m┃\n",
       "┡━━━━━━━━━━━━━╇━━━━━━━━━━━━━╇━━━━━━━━━━━╇━━━━━━━━━━━━━╇━━━━━━━━━━━━╇━━━━━━━━━━━━╇━━━━━━━━━━━━━╇━━━━━━━━━━━━━━━━━━━╇━━━━━━━━━━━━━╇━━━━━━━━━━━━━━━━━━━╇━━━━━━━━━╇━━━━━━━━━╇━━━━━━━━━━━━━━━━━━━━━━╇━━━━━━━━━━━━━━━━━━━╇━━━━━━━━━╇━━━━━━━━━━━━━━━━━━━━━━━━━╇━━━━━━━━━━━━━━━━━━━━━━━━━╇━━━━━━━━╇━━━━━━━━╇━━━━━━━━━━┩\n",
       "│ \u001b[2mstring\u001b[0m      │ \u001b[2mstring\u001b[0m      │ \u001b[2mfloat64\u001b[0m   │ \u001b[2mfloat64\u001b[0m     │ \u001b[2mstring\u001b[0m     │ \u001b[2mstring\u001b[0m     │ \u001b[2mint64\u001b[0m       │ \u001b[2mint64\u001b[0m             │ \u001b[2mint64\u001b[0m       │ \u001b[2mint64\u001b[0m             │ \u001b[2mstring\u001b[0m  │ \u001b[2mstring\u001b[0m  │ \u001b[2mstring\u001b[0m               │ \u001b[2mstring\u001b[0m            │ \u001b[2mstring\u001b[0m  │ \u001b[2marray<string>\u001b[0m           │ \u001b[2marray<string>\u001b[0m           │ \u001b[2mstring\u001b[0m │ \u001b[2mstring\u001b[0m │ \u001b[2mfloat64\u001b[0m  │\n",
       "├─────────────┼─────────────┼───────────┼─────────────┼────────────┼────────────┼─────────────┼───────────────────┼─────────────┼───────────────────┼─────────┼─────────┼──────────────────────┼───────────────────┼─────────┼─────────────────────────┼─────────────────────────┼────────┼────────┼──────────┤\n",
       "│ \u001b[32mEAGLE RIVER\u001b[0m │ \u001b[32mEAGLE RIVER\u001b[0m │ \u001b[1;36m61.277189\u001b[0m │ \u001b[1;36m-149.371916\u001b[0m │ \u001b[32m99577     \u001b[0m │ \u001b[32m99577     \u001b[0m │      \u001b[1;36m135092\u001b[0m │            \u001b[1;36m135092\u001b[0m │      \u001b[1;36m600173\u001b[0m │            \u001b[1;36m600173\u001b[0m │ \u001b[32mAK     \u001b[0m │ \u001b[32mAK     \u001b[0m │ \u001b[32m6270 MAGNAVIEW DRIVE\u001b[0m │ \u001b[32m6270 MAGNAVIEW DR\u001b[0m │ \u001b[32mGNA    \u001b[0m │ \u001b[1m[\u001b[0m\u001b[32m'VIE'\u001b[0m, \u001b[32m'IEW'\u001b[0m, \u001b[33m...\u001b[0m +\u001b[1;36m17\u001b[0m\u001b[1m]\u001b[0m │ \u001b[1m[\u001b[0m\u001b[32m'VIE'\u001b[0m, \u001b[32m'IEW'\u001b[0m, \u001b[33m...\u001b[0m +\u001b[1;36m16\u001b[0m\u001b[1m]\u001b[0m │ \u001b[2mNULL\u001b[0m   │ \u001b[2mNULL\u001b[0m   │ \u001b[1;36m0.947368\u001b[0m │\n",
       "│ \u001b[32mANCHORAGE  \u001b[0m │ \u001b[32mANCHORAGE  \u001b[0m │ \u001b[1;36m61.119973\u001b[0m │ \u001b[1;36m-149.889473\u001b[0m │ \u001b[32m99515     \u001b[0m │ \u001b[32m99515     \u001b[0m │       \u001b[1;36m83053\u001b[0m │             \u001b[1;36m83053\u001b[0m │      \u001b[1;36m406614\u001b[0m │            \u001b[1;36m406614\u001b[0m │ \u001b[32mAK     \u001b[0m │ \u001b[32mAK     \u001b[0m │ \u001b[32m11150 SUKDU WAY     \u001b[0m │ \u001b[32m11150 SUKDU      \u001b[0m │ \u001b[32mSUK    \u001b[0m │ \u001b[1m[\u001b[0m\u001b[32m'WAY'\u001b[0m, \u001b[32m'KDU'\u001b[0m, \u001b[33m...\u001b[0m +\u001b[1;36m15\u001b[0m\u001b[1m]\u001b[0m │ \u001b[1m[\u001b[0m\u001b[32m'KDU'\u001b[0m, \u001b[32m'UKD'\u001b[0m, \u001b[33m...\u001b[0m +\u001b[1;36m14\u001b[0m\u001b[1m]\u001b[0m │ \u001b[2mNULL\u001b[0m   │ \u001b[2mNULL\u001b[0m   │ \u001b[1;36m0.941176\u001b[0m │\n",
       "│ \u001b[32mEAGLE RIVER\u001b[0m │ \u001b[32mEAGLE RIVER\u001b[0m │ \u001b[1;36m61.258928\u001b[0m │ \u001b[1;36m-149.466730\u001b[0m │ \u001b[32m99577     \u001b[0m │ \u001b[32m99577     \u001b[0m │      \u001b[1;36m134972\u001b[0m │            \u001b[1;36m134972\u001b[0m │      \u001b[1;36m599755\u001b[0m │            \u001b[1;36m599755\u001b[0m │ \u001b[32mAK     \u001b[0m │ \u001b[32mAK     \u001b[0m │ \u001b[32m4241 ELKHORN DRIVE  \u001b[0m │ \u001b[32m4241 ELKHORN DR  \u001b[0m │ \u001b[32mKHO    \u001b[0m │ \u001b[1m[\u001b[0m\u001b[32m'ORN'\u001b[0m, \u001b[32m'LKH'\u001b[0m, \u001b[33m...\u001b[0m +\u001b[1;36m15\u001b[0m\u001b[1m]\u001b[0m │ \u001b[1m[\u001b[0m\u001b[32m'ORN'\u001b[0m, \u001b[32m'LKH'\u001b[0m, \u001b[33m...\u001b[0m +\u001b[1;36m14\u001b[0m\u001b[1m]\u001b[0m │ \u001b[2mNULL\u001b[0m   │ \u001b[2mNULL\u001b[0m   │ \u001b[1;36m0.941176\u001b[0m │\n",
       "│ \u001b[32mANCHORAGE  \u001b[0m │ \u001b[32mANCHORAGE  \u001b[0m │ \u001b[1;36m61.119973\u001b[0m │ \u001b[1;36m-149.889473\u001b[0m │ \u001b[32m99515     \u001b[0m │ \u001b[32m99515     \u001b[0m │       \u001b[1;36m83053\u001b[0m │             \u001b[1;36m83053\u001b[0m │      \u001b[1;36m406614\u001b[0m │            \u001b[1;36m406614\u001b[0m │ \u001b[32mAK     \u001b[0m │ \u001b[32mAK     \u001b[0m │ \u001b[32m11150 SUKDU WAY     \u001b[0m │ \u001b[32m11150 SUKDU      \u001b[0m │ \u001b[32mKDU    \u001b[0m │ \u001b[1m[\u001b[0m\u001b[32m'WAY'\u001b[0m, \u001b[32m'KDU'\u001b[0m, \u001b[33m...\u001b[0m +\u001b[1;36m15\u001b[0m\u001b[1m]\u001b[0m │ \u001b[1m[\u001b[0m\u001b[32m'KDU'\u001b[0m, \u001b[32m'UKD'\u001b[0m, \u001b[33m...\u001b[0m +\u001b[1;36m14\u001b[0m\u001b[1m]\u001b[0m │ \u001b[2mNULL\u001b[0m   │ \u001b[2mNULL\u001b[0m   │ \u001b[1;36m0.941176\u001b[0m │\n",
       "│ \u001b[32mEAGLE RIVER\u001b[0m │ \u001b[32mEAGLE RIVER\u001b[0m │ \u001b[1;36m61.309331\u001b[0m │ \u001b[1;36m-149.552227\u001b[0m │ \u001b[32m99577     \u001b[0m │ \u001b[32m99577     \u001b[0m │      \u001b[1;36m135979\u001b[0m │            \u001b[1;36m135979\u001b[0m │      \u001b[1;36m601878\u001b[0m │            \u001b[1;36m601878\u001b[0m │ \u001b[32mAK     \u001b[0m │ \u001b[32mAK     \u001b[0m │ \u001b[32m9823 DINAAKA DRIVE  \u001b[0m │ \u001b[32m9823 DINAAKA DR  \u001b[0m │ \u001b[32mAAK    \u001b[0m │ \u001b[1m[\u001b[0m\u001b[32m'NAA'\u001b[0m, \u001b[32m'AAK'\u001b[0m, \u001b[33m...\u001b[0m +\u001b[1;36m15\u001b[0m\u001b[1m]\u001b[0m │ \u001b[1m[\u001b[0m\u001b[32m'NAA'\u001b[0m, \u001b[32m'AAK'\u001b[0m, \u001b[33m...\u001b[0m +\u001b[1;36m14\u001b[0m\u001b[1m]\u001b[0m │ \u001b[2mNULL\u001b[0m   │ \u001b[2mNULL\u001b[0m   │ \u001b[1;36m0.941176\u001b[0m │\n",
       "│ \u001b[32mEAGLE RIVER\u001b[0m │ \u001b[32mEAGLE RIVER\u001b[0m │ \u001b[1;36m61.308055\u001b[0m │ \u001b[1;36m-149.553310\u001b[0m │ \u001b[32m99577     \u001b[0m │ \u001b[32m99577     \u001b[0m │      \u001b[1;36m135913\u001b[0m │            \u001b[1;36m135913\u001b[0m │      \u001b[1;36m601731\u001b[0m │            \u001b[1;36m601731\u001b[0m │ \u001b[32mAK     \u001b[0m │ \u001b[32mAK     \u001b[0m │ \u001b[32m9706 DINAAKA DRIVE  \u001b[0m │ \u001b[32m9706 DINAAKA DR  \u001b[0m │ \u001b[32mAAK    \u001b[0m │ \u001b[1m[\u001b[0m\u001b[32m'NAA'\u001b[0m, \u001b[32m'AKA'\u001b[0m, \u001b[33m...\u001b[0m +\u001b[1;36m15\u001b[0m\u001b[1m]\u001b[0m │ \u001b[1m[\u001b[0m\u001b[32m'NAA'\u001b[0m, \u001b[32m'AKA'\u001b[0m, \u001b[33m...\u001b[0m +\u001b[1;36m14\u001b[0m\u001b[1m]\u001b[0m │ \u001b[2mNULL\u001b[0m   │ \u001b[2mNULL\u001b[0m   │ \u001b[1;36m0.941176\u001b[0m │\n",
       "│ \u001b[32mEAGLE RIVER\u001b[0m │ \u001b[32mEAGLE RIVER\u001b[0m │ \u001b[1;36m61.258928\u001b[0m │ \u001b[1;36m-149.466730\u001b[0m │ \u001b[32m99577     \u001b[0m │ \u001b[32m99577     \u001b[0m │      \u001b[1;36m134972\u001b[0m │            \u001b[1;36m134972\u001b[0m │      \u001b[1;36m599763\u001b[0m │            \u001b[1;36m599763\u001b[0m │ \u001b[32mAK     \u001b[0m │ \u001b[32mAK     \u001b[0m │ \u001b[32m4241 ELKHORN DRIVE  \u001b[0m │ \u001b[32m4241 ELKHORN DR  \u001b[0m │ \u001b[32mLKH    \u001b[0m │ \u001b[1m[\u001b[0m\u001b[32m'ORN'\u001b[0m, \u001b[32m'LKH'\u001b[0m, \u001b[33m...\u001b[0m +\u001b[1;36m15\u001b[0m\u001b[1m]\u001b[0m │ \u001b[1m[\u001b[0m\u001b[32m'ORN'\u001b[0m, \u001b[32m'LKH'\u001b[0m, \u001b[33m...\u001b[0m +\u001b[1;36m14\u001b[0m\u001b[1m]\u001b[0m │ \u001b[2mNULL\u001b[0m   │ \u001b[2mNULL\u001b[0m   │ \u001b[1;36m0.941176\u001b[0m │\n",
       "│ \u001b[32mANCHORAGE  \u001b[0m │ \u001b[32mANCHORAGE  \u001b[0m │ \u001b[1;36m61.119973\u001b[0m │ \u001b[1;36m-149.889473\u001b[0m │ \u001b[32m99515     \u001b[0m │ \u001b[32m99515     \u001b[0m │       \u001b[1;36m83053\u001b[0m │             \u001b[1;36m83053\u001b[0m │      \u001b[1;36m406614\u001b[0m │            \u001b[1;36m406614\u001b[0m │ \u001b[32mAK     \u001b[0m │ \u001b[32mAK     \u001b[0m │ \u001b[32m11150 SUKDU WAY     \u001b[0m │ \u001b[32m11150 SUKDU      \u001b[0m │ \u001b[32mUKD    \u001b[0m │ \u001b[1m[\u001b[0m\u001b[32m'WAY'\u001b[0m, \u001b[32m'KDU'\u001b[0m, \u001b[33m...\u001b[0m +\u001b[1;36m15\u001b[0m\u001b[1m]\u001b[0m │ \u001b[1m[\u001b[0m\u001b[32m'KDU'\u001b[0m, \u001b[32m'UKD'\u001b[0m, \u001b[33m...\u001b[0m +\u001b[1;36m14\u001b[0m\u001b[1m]\u001b[0m │ \u001b[2mNULL\u001b[0m   │ \u001b[2mNULL\u001b[0m   │ \u001b[1;36m0.941176\u001b[0m │\n",
       "│ \u001b[32mEAGLE RIVER\u001b[0m │ \u001b[32mEAGLE RIVER\u001b[0m │ \u001b[1;36m61.254310\u001b[0m │ \u001b[1;36m-149.290293\u001b[0m │ \u001b[32m99577     \u001b[0m │ \u001b[32m99577     \u001b[0m │      \u001b[1;36m134918\u001b[0m │            \u001b[1;36m134918\u001b[0m │      \u001b[1;36m599655\u001b[0m │            \u001b[1;36m599655\u001b[0m │ \u001b[32mAK     \u001b[0m │ \u001b[32mAK     \u001b[0m │ \u001b[32m3851 MARIAH DRIVE   \u001b[0m │ \u001b[32m3851 MARIAH DR   \u001b[0m │ \u001b[32mIAH    \u001b[0m │ \u001b[1m[\u001b[0m\u001b[32m'IAH'\u001b[0m, \u001b[32m'ARI'\u001b[0m, \u001b[33m...\u001b[0m +\u001b[1;36m14\u001b[0m\u001b[1m]\u001b[0m │ \u001b[1m[\u001b[0m\u001b[32m'IAH'\u001b[0m, \u001b[32m'ARI'\u001b[0m, \u001b[33m...\u001b[0m +\u001b[1;36m13\u001b[0m\u001b[1m]\u001b[0m │ \u001b[2mNULL\u001b[0m   │ \u001b[2mNULL\u001b[0m   │ \u001b[1;36m0.937500\u001b[0m │\n",
       "│ \u001b[32mNORTH POLE \u001b[0m │ \u001b[32mNORTH POLE \u001b[0m │ \u001b[1;36m64.748797\u001b[0m │ \u001b[1;36m-147.331063\u001b[0m │ \u001b[32m99705     \u001b[0m │ \u001b[32m99705     \u001b[0m │      \u001b[1;36m235597\u001b[0m │            \u001b[1;36m235597\u001b[0m │      \u001b[1;36m834046\u001b[0m │            \u001b[1;36m834046\u001b[0m │ \u001b[32mAK     \u001b[0m │ \u001b[32mAK     \u001b[0m │ \u001b[32m705 OUIDA WAY       \u001b[0m │ \u001b[32m526 OUIDA WAY    \u001b[0m │ \u001b[32mUID    \u001b[0m │ \u001b[1m[\u001b[0m\u001b[32m'WAY'\u001b[0m, \u001b[32m'IDA'\u001b[0m, \u001b[33m...\u001b[0m +\u001b[1;36m10\u001b[0m\u001b[1m]\u001b[0m │ \u001b[1m[\u001b[0m\u001b[32m'WAY'\u001b[0m, \u001b[32m'IDA'\u001b[0m, \u001b[33m...\u001b[0m +\u001b[1;36m11\u001b[0m\u001b[1m]\u001b[0m │ \u001b[2mNULL\u001b[0m   │ \u001b[32mUNIT 2\u001b[0m │ \u001b[1;36m0.923077\u001b[0m │\n",
       "│ \u001b[2m…\u001b[0m           │ \u001b[2m…\u001b[0m           │         \u001b[2m…\u001b[0m │           \u001b[2m…\u001b[0m │ \u001b[2m…\u001b[0m          │ \u001b[2m…\u001b[0m          │           \u001b[2m…\u001b[0m │                 \u001b[2m…\u001b[0m │           \u001b[2m…\u001b[0m │                 \u001b[2m…\u001b[0m │ \u001b[2m…\u001b[0m       │ \u001b[2m…\u001b[0m       │ \u001b[2m…\u001b[0m                    │ \u001b[2m…\u001b[0m                 │ \u001b[2m…\u001b[0m       │ \u001b[2m…\u001b[0m                       │ \u001b[2m…\u001b[0m                       │ \u001b[2m…\u001b[0m      │ \u001b[2m…\u001b[0m      │        \u001b[2m…\u001b[0m │\n",
       "└─────────────┴─────────────┴───────────┴─────────────┴────────────┴────────────┴─────────────┴───────────────────┴─────────────┴───────────────────┴─────────┴─────────┴──────────────────────┴───────────────────┴─────────┴─────────────────────────┴─────────────────────────┴────────┴────────┴──────────┘"
      ]
     },
     "execution_count": 46,
     "metadata": {},
     "output_type": "execute_result"
    }
   ],
   "source": [
    "links_full.mutate(jaccard=mismo.sets.jaccard(_.trigrams_l, _.trigrams_r)).order_by(\n",
    "    _.jaccard.desc()\n",
    ").filter(\n",
    "    _.jaccard < 1,\n",
    "    _.jaccard > 0.5,\n",
    ")"
   ]
  },
  {
   "cell_type": "code",
   "execution_count": 43,
   "metadata": {},
   "outputs": [
    {
     "data": {
      "text/html": [
       "\n",
       "<style>\n",
       "  #altair-viz-de0eb9b8801b47d193ee71f77e3d764d.vega-embed {\n",
       "    width: 100%;\n",
       "    display: flex;\n",
       "  }\n",
       "\n",
       "  #altair-viz-de0eb9b8801b47d193ee71f77e3d764d.vega-embed details,\n",
       "  #altair-viz-de0eb9b8801b47d193ee71f77e3d764d.vega-embed details summary {\n",
       "    position: relative;\n",
       "  }\n",
       "</style>\n",
       "<div id=\"altair-viz-de0eb9b8801b47d193ee71f77e3d764d\"></div>\n",
       "<script type=\"text/javascript\">\n",
       "  var VEGA_DEBUG = (typeof VEGA_DEBUG == \"undefined\") ? {} : VEGA_DEBUG;\n",
       "  (function(spec, embedOpt){\n",
       "    let outputDiv = document.currentScript.previousElementSibling;\n",
       "    if (outputDiv.id !== \"altair-viz-de0eb9b8801b47d193ee71f77e3d764d\") {\n",
       "      outputDiv = document.getElementById(\"altair-viz-de0eb9b8801b47d193ee71f77e3d764d\");\n",
       "    }\n",
       "\n",
       "    const paths = {\n",
       "      \"vega\": \"https://cdn.jsdelivr.net/npm/vega@5?noext\",\n",
       "      \"vega-lib\": \"https://cdn.jsdelivr.net/npm/vega-lib?noext\",\n",
       "      \"vega-lite\": \"https://cdn.jsdelivr.net/npm/vega-lite@5.20.1?noext\",\n",
       "      \"vega-embed\": \"https://cdn.jsdelivr.net/npm/vega-embed@6?noext\",\n",
       "    };\n",
       "\n",
       "    function maybeLoadScript(lib, version) {\n",
       "      var key = `${lib.replace(\"-\", \"\")}_version`;\n",
       "      return (VEGA_DEBUG[key] == version) ?\n",
       "        Promise.resolve(paths[lib]) :\n",
       "        new Promise(function(resolve, reject) {\n",
       "          var s = document.createElement('script');\n",
       "          document.getElementsByTagName(\"head\")[0].appendChild(s);\n",
       "          s.async = true;\n",
       "          s.onload = () => {\n",
       "            VEGA_DEBUG[key] = version;\n",
       "            return resolve(paths[lib]);\n",
       "          };\n",
       "          s.onerror = () => reject(`Error loading script: ${paths[lib]}`);\n",
       "          s.src = paths[lib];\n",
       "        });\n",
       "    }\n",
       "\n",
       "    function showError(err) {\n",
       "      outputDiv.innerHTML = `<div class=\"error\" style=\"color:red;\">${err}</div>`;\n",
       "      throw err;\n",
       "    }\n",
       "\n",
       "    function displayChart(vegaEmbed) {\n",
       "      vegaEmbed(outputDiv, spec, embedOpt)\n",
       "        .catch(err => showError(`Javascript Error: ${err.message}<br>This usually means there's a typo in your chart specification. See the javascript console for the full traceback.`));\n",
       "    }\n",
       "\n",
       "    if(typeof define === \"function\" && define.amd) {\n",
       "      requirejs.config({paths});\n",
       "      let deps = [\"vega-embed\"];\n",
       "      require(deps, displayChart, err => showError(`Error loading script: ${err.message}`));\n",
       "    } else {\n",
       "      maybeLoadScript(\"vega\", \"5\")\n",
       "        .then(() => maybeLoadScript(\"vega-lite\", \"5.20.1\"))\n",
       "        .then(() => maybeLoadScript(\"vega-embed\", \"6\"))\n",
       "        .catch(showError)\n",
       "        .then(() => displayChart(vegaEmbed));\n",
       "    }\n",
       "  })({\"config\": {\"view\": {\"continuousWidth\": 300, \"continuousHeight\": 300}}, \"hconcat\": [{\"data\": {\"name\": \"data-883757662148165fc2727b8ef32361ff\"}, \"mark\": {\"type\": \"bar\"}, \"encoding\": {\"tooltip\": [{\"field\": \"n_records\", \"format\": \",\", \"title\": [\"Number of Records\", \"(315_659 total)\"], \"type\": \"quantitative\"}, {\"field\": \"frac_records\", \"format\": \".2%\", \"title\": \"Fraction of Records\", \"type\": \"quantitative\"}, {\"field\": \"n_links\", \"title\": \"Number of Links\", \"type\": \"ordinal\"}], \"x\": {\"field\": \"n_links\", \"sort\": \"x\", \"title\": \"Number of Links\", \"type\": \"ordinal\"}, \"y\": {\"field\": \"n_records\", \"scale\": {\"type\": \"symlog\"}, \"title\": [\"Number of Records\", \"(315_659 total)\"], \"type\": \"quantitative\"}}, \"title\": {\"text\": \"Left Table\", \"anchor\": \"middle\"}, \"width\": {\"step\": 12}}, {\"data\": {\"name\": \"data-257abea5a98f208265456d67a7a16b1b\"}, \"mark\": {\"type\": \"bar\"}, \"encoding\": {\"tooltip\": [{\"field\": \"n_records\", \"format\": \",\", \"title\": [\"Number of Records\", \"(1_394_335 total)\"], \"type\": \"quantitative\"}, {\"field\": \"frac_records\", \"format\": \".2%\", \"title\": \"Fraction of Records\", \"type\": \"quantitative\"}, {\"field\": \"n_links\", \"title\": \"Number of Links\", \"type\": \"ordinal\"}], \"x\": {\"field\": \"n_links\", \"sort\": \"x\", \"title\": \"Number of Links\", \"type\": \"ordinal\"}, \"y\": {\"field\": \"n_records\", \"scale\": {\"type\": \"symlog\"}, \"title\": [\"Number of Records\", \"(1_394_335 total)\"], \"type\": \"quantitative\"}}, \"title\": {\"text\": \"Right Table\", \"anchor\": \"middle\"}, \"width\": {\"step\": 12}}], \"title\": {\"text\": \"Number of Records by Link Count\", \"anchor\": \"middle\", \"subtitle\": \"eg '315_651 records had 0 links, 1 had 1 links, ...'\"}, \"$schema\": \"https://vega.github.io/schema/vega-lite/v5.20.1.json\", \"datasets\": {\"data-883757662148165fc2727b8ef32361ff\": [{\"n_records\": 1, \"n_links\": 59, \"frac_records\": 3.167975568572415e-06}, {\"n_records\": 1, \"n_links\": 22, \"frac_records\": 3.167975568572415e-06}, {\"n_records\": 2, \"n_links\": 7, \"frac_records\": 6.33595113714483e-06}, {\"n_records\": 3, \"n_links\": 2, \"frac_records\": 9.503926705717245e-06}, {\"n_records\": 1, \"n_links\": 1, \"frac_records\": 3.167975568572415e-06}, {\"n_records\": 315651, \"n_links\": 0, \"frac_records\": 0.9999746561954515}], \"data-257abea5a98f208265456d67a7a16b1b\": [{\"n_records\": 102, \"n_links\": 1, \"frac_records\": 7.315315186092295e-05}, {\"n_records\": 1394233, \"n_links\": 0, \"frac_records\": 0.999926846848139}]}}, {\"mode\": \"vega-lite\"});\n",
       "</script>"
      ],
      "text/plain": [
       "alt.HConcatChart(...)"
      ]
     },
     "execution_count": 43,
     "metadata": {},
     "output_type": "execute_result"
    }
   ],
   "source": [
    "linkage.link_counts_chart()"
   ]
  },
  {
   "cell_type": "code",
   "execution_count": 8,
   "metadata": {},
   "outputs": [
    {
     "data": {
      "text/html": [
       "<pre style=\"white-space:pre;overflow-x:auto;line-height:normal;font-family:Menlo,'DejaVu Sans Mono',consolas,'Courier New',monospace\"></pre>\n"
      ],
      "text/plain": []
     },
     "metadata": {},
     "output_type": "display_data"
    },
    {
     "data": {
      "text/plain": [
       "┌────────┐\n",
       "│ \u001b[1;36m429374\u001b[0m │\n",
       "└────────┘"
      ]
     },
     "execution_count": 8,
     "metadata": {},
     "output_type": "execute_result"
    }
   ],
   "source": [
    "linkage.links.count()"
   ]
  },
  {
   "cell_type": "code",
   "execution_count": null,
   "metadata": {},
   "outputs": [
    {
     "data": {
      "text/plain": [
       "[(<function mismo.block._key_linkage_combined._all_are_key_linkages(*linkages: 'BaseLinkage') -> 'bool'>,\n",
       "  <function mismo.block._key_linkage_combined.register_combiners.<locals>.<lambda>(*linkages)>),\n",
       " (<function mismo.linkage._combine.Combiner.__init__.<locals>.<lambda>(*x)>,\n",
       "  <function mismo.linkage._combine.Union.default(first: 'BaseLinkage', *linkages: 'BaseLinkage') -> 'BaseLinkage'>)]"
      ]
     },
     "execution_count": 9,
     "metadata": {},
     "output_type": "execute_result"
    }
   ],
   "source": [
    "mismo.linkage.union.implementations"
   ]
  },
  {
   "cell_type": "code",
   "execution_count": 11,
   "metadata": {},
   "outputs": [
    {
     "data": {
      "text/plain": [
       "<mismo.block._key_linkage_combined.UnionKeyLinkage at 0x11efe39e0>"
      ]
     },
     "execution_count": 11,
     "metadata": {},
     "output_type": "execute_result"
    }
   ],
   "source": [
    "mismo.linkage.union(linkage, linkage)"
   ]
  },
  {
   "cell_type": "markdown",
   "metadata": {},
   "source": [
    "Let's clean this up a bit:\n",
    "- clean up whitespace\n",
    "- convert the `classes` column to actual arrays (they really represent sets).\n",
    "  Each element in `classes` is a 4-character IPC technical code that is like a tag\n",
    "  for the patent. Similar patents will have similar tags.\n",
    "- convert `coauthors` into a sorted list of tokens.\n",
    "\n",
    "Of course, this sort of cleaning only happens after a lot of exploring the\n",
    "data manually. This isn't anything in particular to record linkage,\n",
    "but this needs to happen for any sort of data analysis.\n",
    "\n",
    "If you're not familiar with Ibis, this is useful to give you a sense\n",
    "of what it's API is like. Mismo tries to just use Ibis's API whenever possible,\n",
    "and doesn't re-invent the wheel.\n"
   ]
  },
  {
   "cell_type": "code",
   "execution_count": null,
   "metadata": {},
   "outputs": [],
   "source": [
    "from mismo.text import norm_whitespace\n",
    "\n",
    "\n",
    "def clean_names(names: ir.StringValue) -> ir.StringValue:\n",
    "    names = norm_whitespace(names)\n",
    "    names = names.upper()\n",
    "    # Only want to keep letters, numbers, and spaces\n",
    "    names = names.re_replace(\"[^0-9A-Z ]\", \"\")\n",
    "    # Some company names have \"NV\" or \"BV\" in them, which is a Dutch\n",
    "    # classification of businesses sort of like LLC vs Corporation in the US.\n",
    "    # These seem to just be noise and don't help us distinguish between\n",
    "    # different companies, so we want to remove them.\n",
    "    # However, sometimes the names are ill-formed or have other junk in them\n",
    "    # like \"philipsN V\" or \"philipsN.V.\"\n",
    "    names = names.re_replace(r\"B\\s*V\", \"\")\n",
    "    names = names.re_replace(r\"N\\s*V\", \"\")\n",
    "    # Also remove other common stopwords that usually just add noise\n",
    "    names = names.re_replace(r\"\\bCO\\b\", \"\")\n",
    "    names = names.re_replace(r\"\\bCORP\\b\", \"\")\n",
    "    names = names.re_replace(r\"\\bLTD\\b\", \"\")\n",
    "    names = names.re_replace(r\"\\bINC\\b\", \"\")\n",
    "    names = names.re_replace(r\"\\bLLC\\b\", \"\")\n",
    "    names = names.re_replace(r\"\\bNL\\b\", \"\")\n",
    "    # Now have to do whitespace fixup again\n",
    "    names = norm_whitespace(names)\n",
    "    return names\n",
    "\n",
    "\n",
    "def clean_coauthors(s: ir.StringValue) -> ir.ArrayValue:\n",
    "    \"\"\"Turn a 'list' of coauthors into a sorted array of cleaned name tokens.\n",
    "\n",
    "    The raw string looks like:\n",
    "    \"DAVID E  SNYDER**THOMAS D  LYSTER\"\n",
    "    With \"**\" as the separator. However, entire names are not always useful\n",
    "    to differentiate between people: there are some records where a coauthor is\n",
    "    listed as \"ALKEMA DUURT PIETER WILLEM\" and another as \"ALKEMA DUURT\".\n",
    "    These are probably the same person, but if we compared entire names with each other\n",
    "    that would be a false negative. So instead we turn this into a sorted array of\n",
    "    name tokens, eg for the example above:\n",
    "    [\"DAVID\", \"E\", \"SNYDER\", \"THOMAS\", \"D\", \"LYSTER\"].\n",
    "\n",
    "    Except we also want to remove initials and other stopwords like \"VAN\"\n",
    "    so scrub all tokens less than 3 characters long.\n",
    "    \"\"\"\n",
    "    s = s.upper().nullif(\"NONE\").replace(\"**\", \" \")\n",
    "    s = norm_whitespace(s)\n",
    "    return s.split(\" \").unique().sort().filter(lambda x: x.length() >= 3)\n",
    "\n",
    "\n",
    "def clean_classes(s: ir.StringValue) -> ir.ArrayValue:\n",
    "    return s.upper().split(\"**\").map(norm_whitespace).sort()\n",
    "\n",
    "\n",
    "cleaned_names = clean_names(_.name)\n",
    "\n",
    "featured = patents.select(\n",
    "    \"record_id\",\n",
    "    \"label_true\",\n",
    "    \"name_true\",\n",
    "    \"name\",\n",
    "    name_cleaned=cleaned_names,\n",
    "    name_tokens=cleaned_names.split(\" \").map(norm_whitespace).sort(),\n",
    "    latitude=_.latitude.nullif(0),\n",
    "    longitude=_.longitude.nullif(0),\n",
    "    coauthors=clean_coauthors(patents.coauthors),\n",
    "    classes=clean_classes(patents.classes),\n",
    ")\n",
    "featured"
   ]
  },
  {
   "cell_type": "markdown",
   "metadata": {},
   "source": [
    "OK, now it's time to block! This is where we generate comparisons between records.\n",
    "If we were naive and generated all possible comparisons from N record,\n",
    "you would end up with N^2 comparisons. For our small dataset of ~2000 records\n",
    "we would be able to get away with this, but for datasets much larger than this\n",
    "it would be infeasible.\n",
    "\n",
    "For blocking, we specify an collection of `Blocker`s. A Blocker is just\n",
    "a callable of the form `Table, Table, **kwargs -> Table` that takes in two tables\n",
    "and returns a table of pairs of records for further processing."
   ]
  },
  {
   "cell_type": "code",
   "execution_count": null,
   "metadata": {},
   "outputs": [],
   "source": [
    "name_blocker = mismo.block.ConditionBlocker(\n",
    "    lambda left, right, **_kwargs: left.name_cleaned[0:3] == right.name_cleaned[0:3],\n",
    "    name=\"Name First 3\",\n",
    ")\n",
    "name_blocker(featured, featured)"
   ]
  },
  {
   "cell_type": "markdown",
   "metadata": {},
   "source": [
    "The result of that was the two tables joined together, with a `_l` added\n",
    "to all the columns from the left table, and a `_r` added to all the columns\n",
    "from the right table.\n",
    "\n",
    "By using this simple API, Blockers are easily composable and extendable.\n",
    "For example, we can make an ensemble Blocker that takes multiple\n",
    "other blockers, and returns the union of all their pairs."
   ]
  },
  {
   "cell_type": "code",
   "execution_count": null,
   "metadata": {},
   "outputs": [],
   "source": [
    "sub_blockers = [\n",
    "    name_blocker,\n",
    "    # Often, you want to look at pairs where records share some key.\n",
    "    # There is KeyBlocker for this. This is equivalent to\n",
    "    # `lambda left, right: left.coauthors == right.coauthors`\n",
    "    mismo.block.KeyBlocker(\"coauthors\", name=\"Coauthors Exact\"),\n",
    "    # You can also pass in deferreds for more complex logic.\n",
    "    # And notice that the .unnest() actually changes the cardinality of the\n",
    "    # key column, but the KeyBlocker can handle this.\n",
    "    # Here, we are finding pairs where the arrays of classes have at least\n",
    "    # one in common.\n",
    "    mismo.block.KeyBlocker(_.classes.unnest(), name=\"Any Class\"),\n",
    "    # CoordinateBlocker is merely a class that implements a __call__ method,\n",
    "    # which makes it a callable similar to the lambda above.\n",
    "    # You can implement your own blockers by implementing __call__ for\n",
    "    # any class. You could do complex logic in there, like\n",
    "    # - Dropping any null records\n",
    "    # - Using a UDF to computing the doublemetaphone of the name on the fly.\n",
    "    # - Using a UDF to do an approximate-nearest-neighbor search in a vector database\n",
    "    # - whatever you want! As long as it follows the required signature.\n",
    "    mismo.lib.geo.CoordinateBlocker(\n",
    "        distance_km=10, name=\"Coordinates Close\", lat=\"latitude\", lon=\"longitude\"\n",
    "    ),\n",
    "]\n",
    "# If you didn't care about the names of the rules, you could also just pass\n",
    "# in the blockers directly, eg `rules=[\"classes\", _.name_cleaned[0:3], ...]`.\n",
    "\n",
    "featured = featured.cache()\n",
    "# by passing in `labels=True`, an additional column `blocking_rules` is added\n",
    "# to the output that shows which rules were used to generate each pair.\n",
    "# This is slower, but later we want to see how many pairs each rule generated.\n",
    "blocker = mismo.block.UnionBlocker(*sub_blockers, labels=True)\n",
    "blocked = blocker(featured, featured)\n",
    "blocked = blocked.cache()\n",
    "blocked"
   ]
  },
  {
   "cell_type": "code",
   "execution_count": null,
   "metadata": {},
   "outputs": [],
   "source": [
    "blocked.blocking_rules.unnest().value_counts()"
   ]
  },
  {
   "cell_type": "markdown",
   "metadata": {},
   "source": [
    "By blocking, we reduced the number of needed pairs by a large factor.\n",
    "In larger datasets, and with better blocking rules, this would be even more!"
   ]
  },
  {
   "cell_type": "code",
   "execution_count": null,
   "metadata": {},
   "outputs": [],
   "source": [
    "n_comparisons = blocked.count().execute()\n",
    "n_naive = mismo.block.n_naive_comparisons(featured)\n",
    "reduction_ratio = n_comparisons / n_naive\n",
    "n_naive, n_comparisons, reduction_ratio"
   ]
  },
  {
   "cell_type": "markdown",
   "metadata": {},
   "source": [
    "We can also inspect which blocking rules were most to blame for the generated\n",
    "pairs. If some rules generate a huge amount of comparisons, it might be worth\n",
    "trying to make them more restrictive so we get better performance. Or, if some\n",
    "blocking rules aren't generating any comparisons, that might be an indication\n",
    "that we have a bug in there somewhere."
   ]
  },
  {
   "cell_type": "code",
   "execution_count": null,
   "metadata": {},
   "outputs": [],
   "source": [
    "mismo.block.upset_chart(blocked)"
   ]
  },
  {
   "cell_type": "markdown",
   "metadata": {},
   "source": [
    "OK, now that we have our candidate pairs generated, let's actually do the\n",
    "comparing of pairs.\n",
    "\n",
    "In Mismo, similar to blocking, we use a single `PComparer` protocol to do all\n",
    "comparisons. A `PComparer` is simply a callable of the form `Table, **kwargs -> Table`\n",
    "that takes a table of blocked record pairs and returns a modified version.\n",
    "Typical things a `PComparer` might do include\n",
    "\n",
    "- Dropping some comparisons that are definitely not matches.\n",
    "- Adding a score column for how much some feature matches, eg how well\n",
    "  the address matches.\n",
    "- Combining these individual per-feature scores into an overall score for the pair.\n",
    "\n",
    "Here, we use one of the most common methods using LevelComparers,\n",
    "each of which represents a measurement of similarity based on some dimension\n",
    "(eg \"location\", \"name\", \"price\", etc).\n",
    "Each LevelComparer is composed of MatchLevels, which represent discrete levels of agreement\n",
    "(eg \"exactly\", \"within 100km\", \"one or both values null\", etc)"
   ]
  },
  {
   "cell_type": "code",
   "execution_count": null,
   "metadata": {},
   "outputs": [],
   "source": [
    "from mismo.compare import LevelComparer, MatchLevel\n",
    "from mismo.lib.geo import distance_km\n",
    "from mismo.sets import jaccard\n",
    "\n",
    "\n",
    "class NameMatchLevel(MatchLevel):\n",
    "    EXACT = 0\n",
    "    SHARE_1_TOKEN = 1\n",
    "    SHARE_2_PLUS_TOKENS = 2\n",
    "    ELSE = 3\n",
    "\n",
    "\n",
    "name_comparison = LevelComparer(\n",
    "    name=\"Name\",\n",
    "    levels=NameMatchLevel,\n",
    "    cases=[\n",
    "        (_.name_cleaned_l == _.name_cleaned_r, NameMatchLevel.EXACT),\n",
    "        (\n",
    "            _.name_tokens_l.intersect(_.name_tokens_r).length() == 1,\n",
    "            NameMatchLevel.SHARE_1_TOKEN,\n",
    "        ),\n",
    "        (\n",
    "            _.name_tokens_l.intersect(_.name_tokens_r).length() >= 2,\n",
    "            NameMatchLevel.SHARE_2_PLUS_TOKENS,\n",
    "        ),\n",
    "        (True, NameMatchLevel.ELSE),\n",
    "    ],\n",
    ")\n",
    "\n",
    "\n",
    "class ClassMatchLevel(MatchLevel):\n",
    "    EXACT = 0\n",
    "    SHARE_1_CLASS = 1\n",
    "    SHARE_2_PLUS_CLASSES = 2\n",
    "    ELSE = 3\n",
    "\n",
    "\n",
    "classes_comparison = LevelComparer(\n",
    "    name=\"Classes\",\n",
    "    levels=ClassMatchLevel,\n",
    "    cases=[\n",
    "        (_.classes_l == _.classes_r, ClassMatchLevel.EXACT),\n",
    "        (\n",
    "            _.classes_l.intersect(_.classes_r).length() == 1,\n",
    "            ClassMatchLevel.SHARE_1_CLASS,\n",
    "        ),\n",
    "        (\n",
    "            _.classes_l.intersect(_.classes_r).length() >= 2,\n",
    "            ClassMatchLevel.SHARE_2_PLUS_CLASSES,\n",
    "        ),\n",
    "        (True, ClassMatchLevel.ELSE),\n",
    "    ],\n",
    ")\n",
    "\n",
    "\n",
    "class CoauthorMatchLevel(MatchLevel):\n",
    "    JACCARD_50 = 0\n",
    "    JACCARD_25 = 1\n",
    "    JACCARD_10 = 2\n",
    "    JACCARD_02 = 3\n",
    "    ELSE = 4\n",
    "\n",
    "\n",
    "coauthors_comparison = LevelComparer(\n",
    "    name=\"Coauthors\",\n",
    "    levels=CoauthorMatchLevel,\n",
    "    cases=[\n",
    "        (jaccard(_.coauthors_l, _.coauthors_r) >= 0.5, CoauthorMatchLevel.JACCARD_50),\n",
    "        (jaccard(_.coauthors_l, _.coauthors_r) >= 0.25, CoauthorMatchLevel.JACCARD_25),\n",
    "        (jaccard(_.coauthors_l, _.coauthors_r) >= 0.1, CoauthorMatchLevel.JACCARD_10),\n",
    "        (jaccard(_.coauthors_l, _.coauthors_r) >= 0.02, CoauthorMatchLevel.JACCARD_02),\n",
    "        (True, CoauthorMatchLevel.ELSE),\n",
    "    ],\n",
    ")\n",
    "\n",
    "\n",
    "class CoordMatchLevel(MatchLevel):\n",
    "    EXACT = 0\n",
    "    WITHIN_10KM = 1\n",
    "    WITHIN_100KM = 2\n",
    "    BOTH_MISSING = 3\n",
    "    ONE_MISSING = 4\n",
    "    ELSE = 5\n",
    "\n",
    "\n",
    "coords_comparison = LevelComparer(\n",
    "    name=\"Coords\",\n",
    "    levels=CoordMatchLevel,\n",
    "    cases=[\n",
    "        (_.latitude_l == _.latitude_r, CoordMatchLevel.EXACT),\n",
    "        (\n",
    "            distance_km(\n",
    "                lat1=_.latitude_l,\n",
    "                lon1=_.longitude_l,\n",
    "                lat2=_.latitude_r,\n",
    "                lon2=_.longitude_r,\n",
    "            )\n",
    "            <= 10,\n",
    "            CoordMatchLevel.WITHIN_10KM,\n",
    "        ),\n",
    "        (\n",
    "            distance_km(\n",
    "                lat1=_.latitude_l,\n",
    "                lon1=_.longitude_l,\n",
    "                lat2=_.latitude_r,\n",
    "                lon2=_.longitude_r,\n",
    "            )\n",
    "            <= 100,\n",
    "            CoordMatchLevel.WITHIN_100KM,\n",
    "        ),\n",
    "        (\n",
    "            ibis.and_(\n",
    "                _.latitude_l.isnull() | _.longitude_l.isnull(),\n",
    "                _.latitude_r.isnull() | _.longitude_r.isnull(),\n",
    "            ),\n",
    "            CoordMatchLevel.BOTH_MISSING,\n",
    "        ),\n",
    "        (\n",
    "            ibis.or_(\n",
    "                _.latitude_l.isnull() | _.longitude_l.isnull(),\n",
    "                _.latitude_r.isnull() | _.longitude_r.isnull(),\n",
    "            ),\n",
    "            CoordMatchLevel.ONE_MISSING,\n",
    "        ),\n",
    "        (True, CoordMatchLevel.ELSE),\n",
    "    ],\n",
    ")\n",
    "\n",
    "comparers = [\n",
    "    name_comparison,\n",
    "    classes_comparison,\n",
    "    coauthors_comparison,\n",
    "    coords_comparison,\n",
    "]\n",
    "\n",
    "compared = blocked\n",
    "for comp in comparers:\n",
    "    compared = comp(compared)\n",
    "compared = compared.cache()\n",
    "compared"
   ]
  },
  {
   "cell_type": "markdown",
   "metadata": {},
   "source": [
    "The result above is the blocked table, with a column added for every `Comparer`.\n",
    "The value of each column is the level that the record pair matched at.\n",
    "For example, there is now a \"Name\" column,\n",
    "filled with values like \"exact\", \"share 1 token\", etc.\n",
    "\n",
    "Now that we have our features, we can use the Fellegi-Sunter model to train weights\n",
    "for each of these features. This is a probabilistic model that is based on the concept\n",
    "of odds. When you see an exact match on name, that increases the odds of a match\n",
    "by some amount, maybe 10x. When you see a non-match on name, that decreases the odds\n",
    "of a match by some amount, maybe 0.1x. We can either train this from labeled data,\n",
    "or we can use unlabeled data using an algorithm called \"Expectation Maximization\"."
   ]
  },
  {
   "cell_type": "code",
   "execution_count": null,
   "metadata": {},
   "outputs": [],
   "source": [
    "weights = mismo.fs.train_using_em(comparers, featured, featured, max_pairs=100_000)\n",
    "# Can save and load weights\n",
    "# weights.to_json(\"weights.json\")\n",
    "# weights = ComparisonWeights.from_json(\"weights.json\")\n",
    "weights.plot()"
   ]
  },
  {
   "cell_type": "markdown",
   "metadata": {},
   "source": [
    "In the above plot, you can see the odds for \"share 1 class\" and \"share 2+ classes\"\n",
    "are nearly the same. That doesn't quite make sense, and might be an indicator\n",
    "that we should look more into this to see if there is a problem with the features\n",
    "that we are using. But for now let's just move on.\n",
    "\n",
    "Use the weights to score the record pairs, finding the odds for each\n",
    "`Comparer`, and then combining them into an overall odds for the record pair."
   ]
  },
  {
   "cell_type": "code",
   "execution_count": null,
   "metadata": {},
   "outputs": [],
   "source": [
    "scored = weights.score_compared(compared)\n",
    "scored = scored.cache()\n",
    "scored"
   ]
  },
  {
   "cell_type": "markdown",
   "metadata": {},
   "source": [
    "We can plot these compared pairs.\n",
    "We can see which comparison levels are most common,\n",
    "which occur together,\n",
    "which lead to matches, and which lead to non-matches.\n",
    "\n",
    "The exact match levels have the highest odds, and the\n",
    "else levels have the lowest. The other levels are somewhere in between."
   ]
  },
  {
   "cell_type": "code",
   "execution_count": null,
   "metadata": {},
   "outputs": [],
   "source": [
    "mismo.compare.compared_dashboard(compared, comparers=comparers, weights=weights)"
   ]
  },
  {
   "cell_type": "markdown",
   "metadata": {},
   "source": [
    "It looks like an odds of 50 seems to separate the pairs between non-matches\n",
    "and matches.\n",
    "If I hover over the above chart, I can see that pretty much all the \"else\" comparisons\n",
    "are in the low cluster, and all the \"exact\" comparisons are in the high cluster."
   ]
  },
  {
   "cell_type": "code",
   "execution_count": null,
   "metadata": {},
   "outputs": [],
   "source": [
    "odds_threshold = 50\n",
    "(scored.odds >= odds_threshold).value_counts()"
   ]
  },
  {
   "cell_type": "markdown",
   "metadata": {},
   "source": [
    "Let's be really picky and only take the most likely matches as true matches, and\n",
    "then perform connected components to label each patent with its inventor:"
   ]
  },
  {
   "cell_type": "code",
   "execution_count": null,
   "metadata": {},
   "outputs": [],
   "source": [
    "links = scored[_.odds >= odds_threshold]\n",
    "links = links.cache()\n",
    "print(links.count().execute())\n",
    "labeled = mismo.cluster.connected_components(links=links, records=featured)\n",
    "labeled = labeled.relocate(\"component\", after=\"label_true\").order_by(\"component\")\n",
    "print(labeled.count().execute())\n",
    "labeled"
   ]
  },
  {
   "cell_type": "markdown",
   "metadata": {},
   "source": [
    "Now let's evaluate how good our labeling is. Mismo wraps all of the evaluation\n",
    "metrics from sklearn, so we can use them with Ibis Tables."
   ]
  },
  {
   "cell_type": "code",
   "execution_count": null,
   "metadata": {},
   "outputs": [],
   "source": [
    "labels_true = labeled.select(\"record_id\", label=_.label_true)\n",
    "labels_pred = labeled.select(\"record_id\", label=_.component)\n",
    "print(mismo.cluster.adjusted_rand_score(labels_true, labels_pred))\n",
    "print(mismo.cluster.homogeneity_score(labels_true, labels_pred))\n",
    "print(mismo.cluster.completeness_score(labels_true, labels_pred))"
   ]
  }
 ],
 "metadata": {
  "kernelspec": {
   "display_name": ".venv",
   "language": "python",
   "name": "python3"
  },
  "language_info": {
   "codemirror_mode": {
    "name": "ipython",
    "version": 3
   },
   "file_extension": ".py",
   "mimetype": "text/x-python",
   "name": "python",
   "nbconvert_exporter": "python",
   "pygments_lexer": "ipython3",
   "version": "3.12.2"
  },
  "orig_nbformat": 4
 },
 "nbformat": 4,
 "nbformat_minor": 2
}
