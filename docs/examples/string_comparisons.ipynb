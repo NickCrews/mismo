{
 "cells": [
  {
   "cell_type": "code",
   "execution_count": 1,
   "id": "b429d6cb7344eb9b",
   "metadata": {
    "ExecuteTime": {
     "end_time": "2024-10-08T11:49:41.837527Z",
     "start_time": "2024-10-08T11:49:40.220699Z"
    }
   },
   "outputs": [],
   "source": [
    "from __future__ import annotations\n",
    "\n",
    "import ibis\n",
    "\n",
    "from mismo.block import KeyBlocker\n",
    "from mismo.playdata import load_febrl1\n",
    "\n",
    "ibis.options.interactive = True\n",
    "records, links = load_febrl1()"
   ]
  },
  {
   "cell_type": "code",
   "execution_count": 2,
   "id": "dc4c76bbe1ed06cd",
   "metadata": {
    "ExecuteTime": {
     "end_time": "2024-10-08T11:49:41.885620Z",
     "start_time": "2024-10-08T11:49:41.883245Z"
    }
   },
   "outputs": [],
   "source": [
    "from mismo.cluster import connected_components\n",
    "from mismo.eda import string_comparator_score_chart, string_comparator_scores"
   ]
  },
  {
   "cell_type": "code",
   "execution_count": 3,
   "id": "e550096046e0e505",
   "metadata": {
    "ExecuteTime": {
     "end_time": "2024-10-08T11:49:42.275798Z",
     "start_time": "2024-10-08T11:49:42.098545Z"
    }
   },
   "outputs": [],
   "source": [
    "connected = connected_components(links=links, records=records)"
   ]
  },
  {
   "cell_type": "code",
   "execution_count": 4,
   "id": "4501165142736034",
   "metadata": {
    "ExecuteTime": {
     "end_time": "2024-10-08T11:49:42.368218Z",
     "start_time": "2024-10-08T11:49:42.343046Z"
    }
   },
   "outputs": [],
   "source": [
    "blocked = KeyBlocker(\"component\")(connected, connected)"
   ]
  },
  {
   "cell_type": "code",
   "execution_count": 5,
   "id": "3ba075261fce1d8c",
   "metadata": {
    "ExecuteTime": {
     "end_time": "2024-10-08T11:49:42.671277Z",
     "start_time": "2024-10-08T11:49:42.568748Z"
    }
   },
   "outputs": [],
   "source": [
    "scores = string_comparator_scores(blocked.limit(20), \"surname_l\", \"surname_r\")"
   ]
  },
  {
   "cell_type": "code",
   "execution_count": 6,
   "id": "ecd02caad29c4a7c",
   "metadata": {
    "ExecuteTime": {
     "end_time": "2024-10-08T11:49:42.861466Z",
     "start_time": "2024-10-08T11:49:42.859012Z"
    }
   },
   "outputs": [],
   "source": []
  },
  {
   "cell_type": "code",
   "execution_count": 7,
   "id": "e384caf06edc8179",
   "metadata": {
    "ExecuteTime": {
     "end_time": "2024-10-08T11:49:43.169968Z",
     "start_time": "2024-10-08T11:49:43.065416Z"
    }
   },
   "outputs": [
    {
     "data": {
      "text/html": [
       "\n",
       "<style>\n",
       "  #altair-viz-a6bd24b6c09e482ea9240e14b5fa1d0c.vega-embed {\n",
       "    width: 100%;\n",
       "    display: flex;\n",
       "  }\n",
       "\n",
       "  #altair-viz-a6bd24b6c09e482ea9240e14b5fa1d0c.vega-embed details,\n",
       "  #altair-viz-a6bd24b6c09e482ea9240e14b5fa1d0c.vega-embed details summary {\n",
       "    position: relative;\n",
       "  }\n",
       "</style>\n",
       "<div id=\"altair-viz-a6bd24b6c09e482ea9240e14b5fa1d0c\"></div>\n",
       "<script type=\"text/javascript\">\n",
       "  var VEGA_DEBUG = (typeof VEGA_DEBUG == \"undefined\") ? {} : VEGA_DEBUG;\n",
       "  (function(spec, embedOpt){\n",
       "    let outputDiv = document.currentScript.previousElementSibling;\n",
       "    if (outputDiv.id !== \"altair-viz-a6bd24b6c09e482ea9240e14b5fa1d0c\") {\n",
       "      outputDiv = document.getElementById(\"altair-viz-a6bd24b6c09e482ea9240e14b5fa1d0c\");\n",
       "    }\n",
       "    const paths = {\n",
       "      \"vega\": \"https://cdn.jsdelivr.net/npm/vega@5?noext\",\n",
       "      \"vega-lib\": \"https://cdn.jsdelivr.net/npm/vega-lib?noext\",\n",
       "      \"vega-lite\": \"https://cdn.jsdelivr.net/npm/vega-lite@5.20.1?noext\",\n",
       "      \"vega-embed\": \"https://cdn.jsdelivr.net/npm/vega-embed@6?noext\",\n",
       "    };\n",
       "\n",
       "    function maybeLoadScript(lib, version) {\n",
       "      var key = `${lib.replace(\"-\", \"\")}_version`;\n",
       "      return (VEGA_DEBUG[key] == version) ?\n",
       "        Promise.resolve(paths[lib]) :\n",
       "        new Promise(function(resolve, reject) {\n",
       "          var s = document.createElement('script');\n",
       "          document.getElementsByTagName(\"head\")[0].appendChild(s);\n",
       "          s.async = true;\n",
       "          s.onload = () => {\n",
       "            VEGA_DEBUG[key] = version;\n",
       "            return resolve(paths[lib]);\n",
       "          };\n",
       "          s.onerror = () => reject(`Error loading script: ${paths[lib]}`);\n",
       "          s.src = paths[lib];\n",
       "        });\n",
       "    }\n",
       "\n",
       "    function showError(err) {\n",
       "      outputDiv.innerHTML = `<div class=\"error\" style=\"color:red;\">${err}</div>`;\n",
       "      throw err;\n",
       "    }\n",
       "\n",
       "    function displayChart(vegaEmbed) {\n",
       "      vegaEmbed(outputDiv, spec, embedOpt)\n",
       "        .catch(err => showError(`Javascript Error: ${err.message}<br>This usually means there's a typo in your chart specification. See the javascript console for the full traceback.`));\n",
       "    }\n",
       "\n",
       "    if(typeof define === \"function\" && define.amd) {\n",
       "      requirejs.config({paths});\n",
       "      require([\"vega-embed\"], displayChart, err => showError(`Error loading script: ${err.message}`));\n",
       "    } else {\n",
       "      maybeLoadScript(\"vega\", \"5\")\n",
       "        .then(() => maybeLoadScript(\"vega-lite\", \"5.20.1\"))\n",
       "        .then(() => maybeLoadScript(\"vega-embed\", \"6\"))\n",
       "        .catch(showError)\n",
       "        .then(() => displayChart(vegaEmbed));\n",
       "    }\n",
       "  })({\"config\": {\"view\": {\"continuousWidth\": 300, \"continuousHeight\": 300, \"discreteHeight\": {\"step\": 30}, \"discreteWidth\": {\"step\": 40}}}, \"hconcat\": [{\"layer\": [{\"mark\": {\"type\": \"rect\"}, \"encoding\": {\"color\": {\"field\": \"value\", \"legend\": null, \"scale\": {\"domain\": [0, 1]}, \"type\": \"quantitative\"}, \"x\": {\"field\": \"comparator\", \"title\": null, \"type\": \"ordinal\"}, \"y\": {\"field\": \"strings_to_compare\", \"title\": \"String comparison\", \"type\": \"ordinal\"}}, \"title\": \"Similarity\"}, {\"mark\": {\"type\": \"text\"}, \"encoding\": {\"color\": {\"value\": \"black\"}, \"text\": {\"field\": \"value\", \"format\": \".2f\", \"type\": \"quantitative\"}, \"x\": {\"field\": \"comparator\", \"title\": null, \"type\": \"ordinal\"}, \"y\": {\"field\": \"strings_to_compare\", \"title\": \"String comparison\", \"type\": \"ordinal\"}}, \"title\": \"Similarity\"}], \"data\": {\"name\": \"data-ce13d776a377c41002ecb01004995f8c\"}}, {\"layer\": [{\"mark\": {\"type\": \"rect\"}, \"encoding\": {\"color\": {\"field\": \"value\", \"legend\": null, \"scale\": {\"scheme\": \"yelloworangered\", \"reverse\": true}, \"type\": \"quantitative\"}, \"x\": {\"field\": \"comparator\", \"title\": null, \"type\": \"ordinal\"}, \"y\": {\"field\": \"strings_to_compare\", \"type\": \"ordinal\", \"axis\": null}}, \"title\": \"Distance\"}, {\"mark\": {\"type\": \"text\"}, \"encoding\": {\"color\": {\"value\": \"black\"}, \"text\": {\"field\": \"value\", \"format\": \".2f\", \"type\": \"quantitative\"}, \"x\": {\"field\": \"comparator\", \"title\": null, \"type\": \"ordinal\"}, \"y\": {\"field\": \"strings_to_compare\", \"type\": \"ordinal\", \"axis\": null}}, \"title\": \"Distance\"}], \"data\": {\"name\": \"data-d88f5064fc0d01db7ae27e4bf32fec61\"}}], \"resolve\": {\"scale\": {\"color\": \"independent\", \"size\": \"independent\"}}, \"title\": {\"text\": \"Heatmaps of string comparison metrics\", \"anchor\": \"middle\"}, \"$schema\": \"https://vega.github.io/schema/vega-lite/v5.20.1.json\", \"datasets\": {\"data-ce13d776a377c41002ecb01004995f8c\": [{\"strings_to_compare\": \"harrington, harrington\", \"comparator\": \"jaro\", \"value\": 1.0}, {\"strings_to_compare\": \"harrington, harrington\", \"comparator\": \"jaro_winkler\", \"value\": 1.0}, {\"strings_to_compare\": \"harrington, harrington\", \"comparator\": \"jaccard\", \"value\": 1.0}, {\"strings_to_compare\": \"harrington, harrington\", \"comparator\": \"levenshtein\", \"value\": 1.0}, {\"strings_to_compare\": \"harrington, harrington\", \"comparator\": \"damerau_levenshtein\", \"value\": 1.0}, {\"strings_to_compare\": \"tiana, luchetti\", \"comparator\": \"jaro\", \"value\": 0.0}, {\"strings_to_compare\": \"tiana, luchetti\", \"comparator\": \"jaro_winkler\", \"value\": 0.0}, {\"strings_to_compare\": \"tiana, luchetti\", \"comparator\": \"jaccard\", \"value\": 0.2222222222222222}, {\"strings_to_compare\": \"tiana, luchetti\", \"comparator\": \"levenshtein\", \"value\": 0.0}, {\"strings_to_compare\": \"tiana, luchetti\", \"comparator\": \"damerau_levenshtein\", \"value\": 0.0}, {\"strings_to_compare\": \"coulson, whillas\", \"comparator\": \"jaro\", \"value\": 0.5238095238095238}, {\"strings_to_compare\": \"coulson, whillas\", \"comparator\": \"jaro_winkler\", \"value\": 0.5238095238095238}, {\"strings_to_compare\": \"coulson, whillas\", \"comparator\": \"jaccard\", \"value\": 0.2}, {\"strings_to_compare\": \"coulson, whillas\", \"comparator\": \"levenshtein\", \"value\": 0.14285714285714285}, {\"strings_to_compare\": \"coulson, whillas\", \"comparator\": \"damerau_levenshtein\", \"value\": 0.14285714285714285}, {\"strings_to_compare\": \"fraser, marlow\", \"comparator\": \"jaro\", \"value\": 0.38888888888888884}, {\"strings_to_compare\": \"fraser, marlow\", \"comparator\": \"jaro_winkler\", \"value\": 0.38888888888888884}, {\"strings_to_compare\": \"fraser, marlow\", \"comparator\": \"jaccard\", \"value\": 0.2222222222222222}, {\"strings_to_compare\": \"fraser, marlow\", \"comparator\": \"levenshtein\", \"value\": 0.0}, {\"strings_to_compare\": \"fraser, marlow\", \"comparator\": \"damerau_levenshtein\", \"value\": 0.16666666666666666}, {\"strings_to_compare\": \"hyland, hyland\", \"comparator\": \"jaro\", \"value\": 1.0}, {\"strings_to_compare\": \"hyland, hyland\", \"comparator\": \"jaro_winkler\", \"value\": 1.0}, {\"strings_to_compare\": \"hyland, hyland\", \"comparator\": \"jaccard\", \"value\": 1.0}, {\"strings_to_compare\": \"hyland, hyland\", \"comparator\": \"levenshtein\", \"value\": 1.0}, {\"strings_to_compare\": \"hyland, hyland\", \"comparator\": \"damerau_levenshtein\", \"value\": 1.0}, {\"strings_to_compare\": \"matthews, matthews\", \"comparator\": \"jaro\", \"value\": 1.0}, {\"strings_to_compare\": \"matthews, matthews\", \"comparator\": \"jaro_winkler\", \"value\": 1.0}, {\"strings_to_compare\": \"matthews, matthews\", \"comparator\": \"jaccard\", \"value\": 1.0}, {\"strings_to_compare\": \"matthews, matthews\", \"comparator\": \"levenshtein\", \"value\": 1.0}, {\"strings_to_compare\": \"matthews, matthews\", \"comparator\": \"damerau_levenshtein\", \"value\": 1.0}, {\"strings_to_compare\": \"donaldson, donaldson\", \"comparator\": \"jaro\", \"value\": 1.0}, {\"strings_to_compare\": \"donaldson, donaldson\", \"comparator\": \"jaro_winkler\", \"value\": 1.0}, {\"strings_to_compare\": \"donaldson, donaldson\", \"comparator\": \"jaccard\", \"value\": 1.0}, {\"strings_to_compare\": \"donaldson, donaldson\", \"comparator\": \"levenshtein\", \"value\": 1.0}, {\"strings_to_compare\": \"donaldson, donaldson\", \"comparator\": \"damerau_levenshtein\", \"value\": 1.0}, {\"strings_to_compare\": \"rdud, rudd\", \"comparator\": \"jaro\", \"value\": 0.9166666666666666}, {\"strings_to_compare\": \"rdud, rudd\", \"comparator\": \"jaro_winkler\", \"value\": 0.9249999999999999}, {\"strings_to_compare\": \"rdud, rudd\", \"comparator\": \"jaccard\", \"value\": 1.0}, {\"strings_to_compare\": \"rdud, rudd\", \"comparator\": \"levenshtein\", \"value\": 0.5}, {\"strings_to_compare\": \"rdud, rudd\", \"comparator\": \"damerau_levenshtein\", \"value\": 0.75}, {\"strings_to_compare\": \"riding, riding\", \"comparator\": \"jaro\", \"value\": 1.0}, {\"strings_to_compare\": \"riding, riding\", \"comparator\": \"jaro_winkler\", \"value\": 1.0}, {\"strings_to_compare\": \"riding, riding\", \"comparator\": \"jaccard\", \"value\": 1.0}, {\"strings_to_compare\": \"riding, riding\", \"comparator\": \"levenshtein\", \"value\": 1.0}, {\"strings_to_compare\": \"riding, riding\", \"comparator\": \"damerau_levenshtein\", \"value\": 1.0}, {\"strings_to_compare\": \"harrington, herbert\", \"comparator\": \"jaro\", \"value\": 0.6571428571428571}, {\"strings_to_compare\": \"harrington, herbert\", \"comparator\": \"jaro_winkler\", \"value\": 0.6571428571428571}, {\"strings_to_compare\": \"harrington, herbert\", \"comparator\": \"jaccard\", \"value\": 0.3}, {\"strings_to_compare\": \"harrington, herbert\", \"comparator\": \"levenshtein\", \"value\": 0.3}, {\"strings_to_compare\": \"harrington, herbert\", \"comparator\": \"damerau_levenshtein\", \"value\": 0.3}, {\"strings_to_compare\": \"andersch, andersch\", \"comparator\": \"jaro\", \"value\": 1.0}, {\"strings_to_compare\": \"andersch, andersch\", \"comparator\": \"jaro_winkler\", \"value\": 1.0}, {\"strings_to_compare\": \"andersch, andersch\", \"comparator\": \"jaccard\", \"value\": 1.0}, {\"strings_to_compare\": \"andersch, andersch\", \"comparator\": \"levenshtein\", \"value\": 1.0}, {\"strings_to_compare\": \"andersch, andersch\", \"comparator\": \"damerau_levenshtein\", \"value\": 1.0}, {\"strings_to_compare\": \"matthews, matthews\", \"comparator\": \"jaro\", \"value\": 1.0}, {\"strings_to_compare\": \"matthews, matthews\", \"comparator\": \"jaro_winkler\", \"value\": 1.0}, {\"strings_to_compare\": \"matthews, matthews\", \"comparator\": \"jaccard\", \"value\": 1.0}, {\"strings_to_compare\": \"matthews, matthews\", \"comparator\": \"levenshtein\", \"value\": 1.0}, {\"strings_to_compare\": \"matthews, matthews\", \"comparator\": \"damerau_levenshtein\", \"value\": 1.0}, {\"strings_to_compare\": \"browne, browne\", \"comparator\": \"jaro\", \"value\": 1.0}, {\"strings_to_compare\": \"browne, browne\", \"comparator\": \"jaro_winkler\", \"value\": 1.0}, {\"strings_to_compare\": \"browne, browne\", \"comparator\": \"jaccard\", \"value\": 1.0}, {\"strings_to_compare\": \"browne, browne\", \"comparator\": \"levenshtein\", \"value\": 1.0}, {\"strings_to_compare\": \"browne, browne\", \"comparator\": \"damerau_levenshtein\", \"value\": 1.0}, {\"strings_to_compare\": \"habna, hanna\", \"comparator\": \"jaro\", \"value\": 0.8666666666666667}, {\"strings_to_compare\": \"habna, hanna\", \"comparator\": \"jaro_winkler\", \"value\": 0.8933333333333333}, {\"strings_to_compare\": \"habna, hanna\", \"comparator\": \"jaccard\", \"value\": 0.75}, {\"strings_to_compare\": \"habna, hanna\", \"comparator\": \"levenshtein\", \"value\": 0.8}, {\"strings_to_compare\": \"habna, hanna\", \"comparator\": \"damerau_levenshtein\", \"value\": 0.8}, {\"strings_to_compare\": \"stubbs, stubbs\", \"comparator\": \"jaro\", \"value\": 1.0}, {\"strings_to_compare\": \"stubbs, stubbs\", \"comparator\": \"jaro_winkler\", \"value\": 1.0}, {\"strings_to_compare\": \"stubbs, stubbs\", \"comparator\": \"jaccard\", \"value\": 1.0}, {\"strings_to_compare\": \"stubbs, stubbs\", \"comparator\": \"levenshtein\", \"value\": 1.0}, {\"strings_to_compare\": \"stubbs, stubbs\", \"comparator\": \"damerau_levenshtein\", \"value\": 1.0}, {\"strings_to_compare\": \"mayer, mayer\", \"comparator\": \"jaro\", \"value\": 1.0}, {\"strings_to_compare\": \"mayer, mayer\", \"comparator\": \"jaro_winkler\", \"value\": 1.0}, {\"strings_to_compare\": \"mayer, mayer\", \"comparator\": \"jaccard\", \"value\": 1.0}, {\"strings_to_compare\": \"mayer, mayer\", \"comparator\": \"levenshtein\", \"value\": 1.0}, {\"strings_to_compare\": \"mayer, mayer\", \"comparator\": \"damerau_levenshtein\", \"value\": 1.0}, {\"strings_to_compare\": \"collinson, collinson\", \"comparator\": \"jaro\", \"value\": 1.0}, {\"strings_to_compare\": \"collinson, collinson\", \"comparator\": \"jaro_winkler\", \"value\": 1.0}, {\"strings_to_compare\": \"collinson, collinson\", \"comparator\": \"jaccard\", \"value\": 1.0}, {\"strings_to_compare\": \"collinson, collinson\", \"comparator\": \"levenshtein\", \"value\": 1.0}, {\"strings_to_compare\": \"collinson, collinson\", \"comparator\": \"damerau_levenshtein\", \"value\": 1.0}, {\"strings_to_compare\": \"coffey, coffey\", \"comparator\": \"jaro\", \"value\": 1.0}, {\"strings_to_compare\": \"coffey, coffey\", \"comparator\": \"jaro_winkler\", \"value\": 1.0}, {\"strings_to_compare\": \"coffey, coffey\", \"comparator\": \"jaccard\", \"value\": 1.0}, {\"strings_to_compare\": \"coffey, coffey\", \"comparator\": \"levenshtein\", \"value\": 1.0}, {\"strings_to_compare\": \"coffey, coffey\", \"comparator\": \"damerau_levenshtein\", \"value\": 1.0}, {\"strings_to_compare\": \"mccarthy, mccarthy\", \"comparator\": \"jaro\", \"value\": 1.0}, {\"strings_to_compare\": \"mccarthy, mccarthy\", \"comparator\": \"jaro_winkler\", \"value\": 1.0}, {\"strings_to_compare\": \"mccarthy, mccarthy\", \"comparator\": \"jaccard\", \"value\": 1.0}, {\"strings_to_compare\": \"mccarthy, mccarthy\", \"comparator\": \"levenshtein\", \"value\": 1.0}, {\"strings_to_compare\": \"mccarthy, mccarthy\", \"comparator\": \"damerau_levenshtein\", \"value\": 1.0}, {\"strings_to_compare\": \"ingelbs, ingels\", \"comparator\": \"jaro\", \"value\": 0.9523809523809524}, {\"strings_to_compare\": \"ingelbs, ingels\", \"comparator\": \"jaro_winkler\", \"value\": 0.9714285714285714}, {\"strings_to_compare\": \"ingelbs, ingels\", \"comparator\": \"jaccard\", \"value\": 0.8571428571428571}, {\"strings_to_compare\": \"ingelbs, ingels\", \"comparator\": \"levenshtein\", \"value\": 0.8571428571428571}, {\"strings_to_compare\": \"ingelbs, ingels\", \"comparator\": \"damerau_levenshtein\", \"value\": 0.8571428571428571}], \"data-d88f5064fc0d01db7ae27e4bf32fec61\": [{\"strings_to_compare\": \"harrington, harrington\", \"comparator\": \"levenshtein\", \"value\": 0}, {\"strings_to_compare\": \"harrington, harrington\", \"comparator\": \"damerau_levenshtein\", \"value\": 0}, {\"strings_to_compare\": \"tiana, luchetti\", \"comparator\": \"levenshtein\", \"value\": 8}, {\"strings_to_compare\": \"tiana, luchetti\", \"comparator\": \"damerau_levenshtein\", \"value\": 8}, {\"strings_to_compare\": \"coulson, whillas\", \"comparator\": \"levenshtein\", \"value\": 6}, {\"strings_to_compare\": \"coulson, whillas\", \"comparator\": \"damerau_levenshtein\", \"value\": 6}, {\"strings_to_compare\": \"fraser, marlow\", \"comparator\": \"levenshtein\", \"value\": 6}, {\"strings_to_compare\": \"fraser, marlow\", \"comparator\": \"damerau_levenshtein\", \"value\": 5}, {\"strings_to_compare\": \"hyland, hyland\", \"comparator\": \"levenshtein\", \"value\": 0}, {\"strings_to_compare\": \"hyland, hyland\", \"comparator\": \"damerau_levenshtein\", \"value\": 0}, {\"strings_to_compare\": \"matthews, matthews\", \"comparator\": \"levenshtein\", \"value\": 0}, {\"strings_to_compare\": \"matthews, matthews\", \"comparator\": \"damerau_levenshtein\", \"value\": 0}, {\"strings_to_compare\": \"donaldson, donaldson\", \"comparator\": \"levenshtein\", \"value\": 0}, {\"strings_to_compare\": \"donaldson, donaldson\", \"comparator\": \"damerau_levenshtein\", \"value\": 0}, {\"strings_to_compare\": \"rdud, rudd\", \"comparator\": \"levenshtein\", \"value\": 2}, {\"strings_to_compare\": \"rdud, rudd\", \"comparator\": \"damerau_levenshtein\", \"value\": 1}, {\"strings_to_compare\": \"riding, riding\", \"comparator\": \"levenshtein\", \"value\": 0}, {\"strings_to_compare\": \"riding, riding\", \"comparator\": \"damerau_levenshtein\", \"value\": 0}, {\"strings_to_compare\": \"harrington, herbert\", \"comparator\": \"levenshtein\", \"value\": 7}, {\"strings_to_compare\": \"harrington, herbert\", \"comparator\": \"damerau_levenshtein\", \"value\": 7}, {\"strings_to_compare\": \"andersch, andersch\", \"comparator\": \"levenshtein\", \"value\": 0}, {\"strings_to_compare\": \"andersch, andersch\", \"comparator\": \"damerau_levenshtein\", \"value\": 0}, {\"strings_to_compare\": \"matthews, matthews\", \"comparator\": \"levenshtein\", \"value\": 0}, {\"strings_to_compare\": \"matthews, matthews\", \"comparator\": \"damerau_levenshtein\", \"value\": 0}, {\"strings_to_compare\": \"browne, browne\", \"comparator\": \"levenshtein\", \"value\": 0}, {\"strings_to_compare\": \"browne, browne\", \"comparator\": \"damerau_levenshtein\", \"value\": 0}, {\"strings_to_compare\": \"habna, hanna\", \"comparator\": \"levenshtein\", \"value\": 1}, {\"strings_to_compare\": \"habna, hanna\", \"comparator\": \"damerau_levenshtein\", \"value\": 1}, {\"strings_to_compare\": \"stubbs, stubbs\", \"comparator\": \"levenshtein\", \"value\": 0}, {\"strings_to_compare\": \"stubbs, stubbs\", \"comparator\": \"damerau_levenshtein\", \"value\": 0}, {\"strings_to_compare\": \"mayer, mayer\", \"comparator\": \"levenshtein\", \"value\": 0}, {\"strings_to_compare\": \"mayer, mayer\", \"comparator\": \"damerau_levenshtein\", \"value\": 0}, {\"strings_to_compare\": \"collinson, collinson\", \"comparator\": \"levenshtein\", \"value\": 0}, {\"strings_to_compare\": \"collinson, collinson\", \"comparator\": \"damerau_levenshtein\", \"value\": 0}, {\"strings_to_compare\": \"coffey, coffey\", \"comparator\": \"levenshtein\", \"value\": 0}, {\"strings_to_compare\": \"coffey, coffey\", \"comparator\": \"damerau_levenshtein\", \"value\": 0}, {\"strings_to_compare\": \"mccarthy, mccarthy\", \"comparator\": \"levenshtein\", \"value\": 0}, {\"strings_to_compare\": \"mccarthy, mccarthy\", \"comparator\": \"damerau_levenshtein\", \"value\": 0}, {\"strings_to_compare\": \"ingelbs, ingels\", \"comparator\": \"levenshtein\", \"value\": 1}, {\"strings_to_compare\": \"ingelbs, ingels\", \"comparator\": \"damerau_levenshtein\", \"value\": 1}]}}, {\"mode\": \"vega-lite\"});\n",
       "</script>"
      ],
      "text/plain": [
       "alt.HConcatChart(...)"
      ]
     },
     "execution_count": 7,
     "metadata": {},
     "output_type": "execute_result"
    }
   ],
   "source": [
    "string_comparator_score_chart(blocked.limit(20), \"surname_l\", \"surname_r\")"
   ]
  },
  {
   "cell_type": "code",
   "execution_count": null,
   "id": "929f6463fcb7d6af",
   "metadata": {
    "ExecuteTime": {
     "end_time": "2024-10-08T11:49:43.368034Z",
     "start_time": "2024-10-08T11:49:43.366663Z"
    }
   },
   "outputs": [],
   "source": []
  },
  {
   "cell_type": "code",
   "execution_count": null,
   "id": "f46b91dd4c33eaa0",
   "metadata": {
    "ExecuteTime": {
     "end_time": "2024-10-08T11:49:43.548332Z",
     "start_time": "2024-10-08T11:49:43.546614Z"
    }
   },
   "outputs": [],
   "source": []
  }
 ],
 "metadata": {
  "kernelspec": {
   "display_name": "Python 3",
   "language": "python",
   "name": "python3"
  },
  "language_info": {
   "codemirror_mode": {
    "name": "ipython",
    "version": 2
   },
   "file_extension": ".py",
   "mimetype": "text/x-python",
   "name": "python",
   "nbconvert_exporter": "python",
   "pygments_lexer": "ipython2",
   "version": "2.7.6"
  }
 },
 "nbformat": 4,
 "nbformat_minor": 5
}
