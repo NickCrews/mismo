{
 "cells": [
  {
   "cell_type": "code",
   "execution_count": 3,
   "metadata": {},
   "outputs": [],
   "source": [
    "import vaex\n",
    "from vaex.dataframe import DataFrame\n",
    "import pyarrow as pa\n",
    "\n",
    "from mismo.block._strings import norm_whitespace, tokenize\n",
    "from mismo.datasets import load_febrl1\n",
    "from mismo.util import explode_table"
   ]
  },
  {
   "cell_type": "code",
   "execution_count": 4,
   "metadata": {},
   "outputs": [
    {
     "data": {
      "text/plain": [
       "PosixPath('/Users/nickcrews/Documents/projects/scg/noatak/data/interim/receipts_raw.parquet')"
      ]
     },
     "execution_count": 4,
     "metadata": {},
     "output_type": "execute_result"
    }
   ],
   "source": [
    "from pathlib import Path\n",
    "\n",
    "data_path = Path(\"../../scg/noatak/data/interim/receipts_raw.parquet\").resolve()\n",
    "data_path"
   ]
  },
  {
   "cell_type": "code",
   "execution_count": 5,
   "metadata": {},
   "outputs": [
    {
     "data": {
      "text/html": [
       "<table>\n",
       "<thead>\n",
       "<tr><th>#                                    </th><th>donation_date  </th><th>donation_method  </th><th>donation_amount  </th><th>donor_last_business_name  </th><th>donor_first_name  </th><th>donor_street                  </th><th>donor_city  </th><th>donor_state  </th><th>donor_zipcode  </th><th>donor_country  </th><th>donor_occupation                 </th><th>donor_employer                   </th><th>election_name                      </th><th>election_type      </th><th>election_municipality      </th><th>election_office  </th><th>recipient_type  </th><th>recipient_name       </th><th>report_year  </th><th>report_date  </th></tr>\n",
       "</thead>\n",
       "<tbody>\n",
       "<tr><td><i style='opacity: 0.6'>0</i>        </td><td>9/23/2011      </td><td>Payroll Deduction</td><td>$500.00          </td><td>Anderson                  </td><td>David             </td><td>412 Front St.                 </td><td>Ketchikan   </td><td>Alaska       </td><td>99901          </td><td>USA            </td><td>Marine Pilot                     </td><td>Self                             </td><td>--                                 </td><td>--                 </td><td>--                         </td><td>--               </td><td>Group           </td><td>AK Sea Pilot PAC Fund</td><td>2011         </td><td>1/17/2012    </td></tr>\n",
       "<tr><td><i style='opacity: 0.6'>1</i>        </td><td>9/23/2011      </td><td>Payroll Deduction</td><td>$500.00          </td><td>Antonsen                  </td><td>Hans              </td><td>701 Carlanna Lake Rd.         </td><td>Ketchikan   </td><td>Alaska       </td><td>99901          </td><td>USA            </td><td>Marine Pilot                     </td><td>Self                             </td><td>--                                 </td><td>--                 </td><td>--                         </td><td>--               </td><td>Group           </td><td>AK Sea Pilot PAC Fund</td><td>2011         </td><td>1/17/2012    </td></tr>\n",
       "<tr><td><i style='opacity: 0.6'>2</i>        </td><td>9/23/2011      </td><td>Payroll Deduction</td><td>$500.00          </td><td>Backen                    </td><td>Terrance          </td><td>2417 Tongass Ave. Ste. 111-301</td><td>Ketchikan   </td><td>Alaska       </td><td>99901          </td><td>USA            </td><td>Marine Pilot                     </td><td>Self                             </td><td>--                                 </td><td>--                 </td><td>--                         </td><td>--               </td><td>Group           </td><td>AK Sea Pilot PAC Fund</td><td>2011         </td><td>1/17/2012    </td></tr>\n",
       "<tr><td><i style='opacity: 0.6'>3</i>        </td><td>9/23/2011      </td><td>Payroll Deduction</td><td>$500.00          </td><td>Baken                     </td><td>Jeff              </td><td>P.O. Box 8751                 </td><td>Ketchikan   </td><td>Alaska       </td><td>99901          </td><td>USA            </td><td>Marine Pilot                     </td><td>Self                             </td><td>--                                 </td><td>--                 </td><td>--                         </td><td>--               </td><td>Group           </td><td>AK Sea Pilot PAC Fund</td><td>2011         </td><td>1/17/2012    </td></tr>\n",
       "<tr><td><i style='opacity: 0.6'>4</i>        </td><td>9/23/2011      </td><td>Payroll Deduction</td><td>$500.00          </td><td>Cathcart                  </td><td>Jim               </td><td>2417 Tongass Ave. Ste. 111-185</td><td>Ketchikan   </td><td>Alaska       </td><td>99901          </td><td>USA            </td><td>Marine Pilot                     </td><td>Self                             </td><td>--                                 </td><td>--                 </td><td>--                         </td><td>--               </td><td>Group           </td><td>AK Sea Pilot PAC Fund</td><td>2011         </td><td>1/17/2012    </td></tr>\n",
       "<tr><td>...                                  </td><td>...            </td><td>...              </td><td>...              </td><td>...                       </td><td>...               </td><td>...                           </td><td>...         </td><td>...          </td><td>...            </td><td>...            </td><td>...                              </td><td>...                              </td><td>...                                </td><td>...                </td><td>...                        </td><td>...              </td><td>...             </td><td>...                  </td><td>...          </td><td>...          </td></tr>\n",
       "<tr><td><i style='opacity: 0.6'>1,137,530</i></td><td>12/15/2021     </td><td>Non-Monetary     </td><td>$300.00          </td><td>Eagley                    </td><td>Ronald            </td><td>4333 Spenard Road             </td><td>Anchorage   </td><td>Alaska       </td><td>99503          </td><td>USA            </td><td>Business Owner                   </td><td>Self                             </td><td>2023 - Anchorage Municipal Election</td><td>Anchorage Municipal</td><td>Anchorage, City and Borough</td><td>School Board     </td><td>Candidate       </td><td>Dave Donley          </td><td>2023         </td><td>2/13/2022    </td></tr>\n",
       "<tr><td><i style='opacity: 0.6'>1,137,531</i></td><td>1/5/2022       </td><td>Check            </td><td>$100.00          </td><td>Brooks                    </td><td>Maryann           </td><td>2020 Muldoon Rd # 346         </td><td>Anchorage   </td><td>Alaska       </td><td>99504          </td><td>USA            </td><td>retired                          </td><td>retired                          </td><td>2023 - Anchorage Municipal Election</td><td>Anchorage Municipal</td><td>Anchorage, City and Borough</td><td>School Board     </td><td>Candidate       </td><td>Dave Donley          </td><td>2023         </td><td>2/13/2022    </td></tr>\n",
       "<tr><td><i style='opacity: 0.6'>1,137,532</i></td><td>1/11/2022      </td><td>Check            </td><td>$100.00          </td><td>Rittger                   </td><td>J Parker          </td><td>10661 Elies Dr                </td><td>Anchorage   </td><td>Alaska       </td><td>99507          </td><td>USA            </td><td>self employed                    </td><td>self                             </td><td>2023 - Anchorage Municipal Election</td><td>Anchorage Municipal</td><td>Anchorage, City and Borough</td><td>School Board     </td><td>Candidate       </td><td>Dave Donley          </td><td>2023         </td><td>2/13/2022    </td></tr>\n",
       "<tr><td><i style='opacity: 0.6'>1,137,533</i></td><td>12/15/2021     </td><td>Check            </td><td>$100.00          </td><td>Rittgers Companies, LLC   </td><td>--                </td><td>10661 Elies Dr                </td><td>Anchorage   </td><td>Alaska       </td><td>99507          </td><td>USA            </td><td>Sole owner LLC of Parker Rittgers</td><td>Sole owner LLC of Parker Rittgers</td><td>2023 - Anchorage Municipal Election</td><td>Anchorage Municipal</td><td>Anchorage, City and Borough</td><td>School Board     </td><td>Candidate       </td><td>Dave Donley          </td><td>2023         </td><td>2/13/2022    </td></tr>\n",
       "<tr><td><i style='opacity: 0.6'>1,137,534</i></td><td>12/7/2021      </td><td>Check            </td><td>$1,000.00        </td><td>IUOE Local 302 PAC        </td><td>--                </td><td>4001 Denali St                </td><td>Anchorage   </td><td>Alaska       </td><td>99503          </td><td>USA            </td><td>PAC                              </td><td>PAC                              </td><td>2023 - Anchorage Municipal Election</td><td>Anchorage Municipal</td><td>Anchorage, City and Borough</td><td>Assembly         </td><td>Candidate       </td><td>Felix Emmanuel Rivera</td><td>2023         </td><td>2/9/2022     </td></tr>\n",
       "</tbody>\n",
       "</table>"
      ],
      "text/plain": [
       "#          donation_date    donation_method    donation_amount    donor_last_business_name    donor_first_name    donor_street                    donor_city    donor_state    donor_zipcode    donor_country    donor_occupation                   donor_employer                     election_name                        election_type        election_municipality        election_office    recipient_type    recipient_name         report_year    report_date\n",
       "0          9/23/2011        Payroll Deduction  $500.00            Anderson                    David               412 Front St.                   Ketchikan     Alaska         99901            USA              Marine Pilot                       Self                               --                                   --                   --                           --                 Group             AK Sea Pilot PAC Fund  2011           1/17/2012\n",
       "1          9/23/2011        Payroll Deduction  $500.00            Antonsen                    Hans                701 Carlanna Lake Rd.           Ketchikan     Alaska         99901            USA              Marine Pilot                       Self                               --                                   --                   --                           --                 Group             AK Sea Pilot PAC Fund  2011           1/17/2012\n",
       "2          9/23/2011        Payroll Deduction  $500.00            Backen                      Terrance            2417 Tongass Ave. Ste. 111-301  Ketchikan     Alaska         99901            USA              Marine Pilot                       Self                               --                                   --                   --                           --                 Group             AK Sea Pilot PAC Fund  2011           1/17/2012\n",
       "3          9/23/2011        Payroll Deduction  $500.00            Baken                       Jeff                P.O. Box 8751                   Ketchikan     Alaska         99901            USA              Marine Pilot                       Self                               --                                   --                   --                           --                 Group             AK Sea Pilot PAC Fund  2011           1/17/2012\n",
       "4          9/23/2011        Payroll Deduction  $500.00            Cathcart                    Jim                 2417 Tongass Ave. Ste. 111-185  Ketchikan     Alaska         99901            USA              Marine Pilot                       Self                               --                                   --                   --                           --                 Group             AK Sea Pilot PAC Fund  2011           1/17/2012\n",
       "...        ...              ...                ...                ...                         ...                 ...                             ...           ...            ...              ...              ...                                ...                                ...                                  ...                  ...                          ...                ...               ...                    ...            ...\n",
       "1,137,530  12/15/2021       Non-Monetary       $300.00            Eagley                      Ronald              4333 Spenard Road               Anchorage     Alaska         99503            USA              Business Owner                     Self                               2023 - Anchorage Municipal Election  Anchorage Municipal  Anchorage, City and Borough  School Board       Candidate         Dave Donley            2023           2/13/2022\n",
       "1,137,531  1/5/2022         Check              $100.00            Brooks                      Maryann             2020 Muldoon Rd # 346           Anchorage     Alaska         99504            USA              retired                            retired                            2023 - Anchorage Municipal Election  Anchorage Municipal  Anchorage, City and Borough  School Board       Candidate         Dave Donley            2023           2/13/2022\n",
       "1,137,532  1/11/2022        Check              $100.00            Rittger                     J Parker            10661 Elies Dr                  Anchorage     Alaska         99507            USA              self employed                      self                               2023 - Anchorage Municipal Election  Anchorage Municipal  Anchorage, City and Borough  School Board       Candidate         Dave Donley            2023           2/13/2022\n",
       "1,137,533  12/15/2021       Check              $100.00            Rittgers Companies, LLC     --                  10661 Elies Dr                  Anchorage     Alaska         99507            USA              Sole owner LLC of Parker Rittgers  Sole owner LLC of Parker Rittgers  2023 - Anchorage Municipal Election  Anchorage Municipal  Anchorage, City and Borough  School Board       Candidate         Dave Donley            2023           2/13/2022\n",
       "1,137,534  12/7/2021        Check              $1,000.00          IUOE Local 302 PAC          --                  4001 Denali St                  Anchorage     Alaska         99503            USA              PAC                                PAC                                2023 - Anchorage Municipal Election  Anchorage Municipal  Anchorage, City and Borough  Assembly           Candidate         Felix Emmanuel Rivera  2023           2/9/2022"
      ]
     },
     "execution_count": 5,
     "metadata": {},
     "output_type": "execute_result"
    }
   ],
   "source": [
    "donations = vaex.open(data_path)\n",
    "donations"
   ]
  },
  {
   "cell_type": "code",
   "execution_count": 6,
   "metadata": {},
   "outputs": [
    {
     "data": {
      "text/html": [
       "<table>\n",
       "<thead>\n",
       "<tr><th>#                            </th><th>strings       </th></tr>\n",
       "</thead>\n",
       "<tbody>\n",
       "<tr><td><i style='opacity: 0.6'>0</i></td><td>jane&#x27;s   house</td></tr>\n",
       "<tr><td><i style='opacity: 0.6'>1</i></td><td>Ross&#x27; house   </td></tr>\n",
       "<tr><td><i style='opacity: 0.6'>2</i></td><td>a             </td></tr>\n",
       "<tr><td><i style='opacity: 0.6'>3</i></td><td>              </td></tr>\n",
       "<tr><td><i style='opacity: 0.6'>4</i></td><td>--            </td></tr>\n",
       "<tr><td><i style='opacity: 0.6'>5</i></td><td>bees\tall cook               </td></tr>\n",
       "</tbody>\n",
       "</table>"
      ],
      "text/plain": [
       "  #  strings\n",
       "  0  jane's   house\n",
       "  1  Ross' house\n",
       "  2  a\n",
       "  3\n",
       "  4  --\n",
       "  5  bees\tall cook"
      ]
     },
     "execution_count": 6,
     "metadata": {},
     "output_type": "execute_result"
    }
   ],
   "source": [
    "df = vaex.from_arrays(\n",
    "    strings=pa.array(\n",
    "        [\"jane's   house\", \"Ross' house  \", \"a\", \"\", None, \"bees\\tall cook\"]\n",
    "    )\n",
    ")\n",
    "df"
   ]
  },
  {
   "cell_type": "code",
   "execution_count": 7,
   "metadata": {},
   "outputs": [],
   "source": [
    "from mismo.block._strings import (\n",
    "    TokenFingerprinter,\n",
    "    tokenize,\n",
    "    SortedAcronymFingerprinter,\n",
    ")\n",
    "from mismo.block._blocker import check_fingerprints\n",
    "\n",
    "# fp = SortedAcronymFingerprinter(column=\"strings\")\n",
    "fp = TokenFingerprinter(column=\"donor_occupation\")"
   ]
  },
  {
   "cell_type": "code",
   "execution_count": 8,
   "metadata": {},
   "outputs": [],
   "source": [
    "def merge_fingerprints(fp1: DataFrame, fp2: DataFrame) -> DataFrame:\n",
    "    check_fingerprints(fp1)\n",
    "    check_fingerprints(fp2)\n",
    "    key_cols1 = [c for c in fp1.get_column_names() if c != \"index\"]\n",
    "    key_cols2 = [c for c in fp2.get_column_names() if c != \"index\"]\n",
    "    fp1 = fp1.copy()\n",
    "    fp2 = fp2.copy()\n",
    "    fp1[\"key\"] = fp1.mismo.hash_rows(key_cols1).astype(\"uint32\")\n",
    "    fp2[\"key\"] = fp2.mismo.hash_rows(key_cols2).astype(\"uint32\")\n",
    "    key_2_idx1: DataFrame = fp1.groupby(\"key\").agg({\"index\": \"list\"})\n",
    "    key_2_idx2: DataFrame = fp2.groupby(\"key\").agg({\"index\": \"list\"})\n",
    "    return key_2_idx1, key_2_idx2\n",
    "    links = key_2_idx1.join(\n",
    "        key_2_idx2, on=\"key\", how=\"inner\", lsuffix=\"_left\", rsuffix=\"_right\"\n",
    "    )\n",
    "    # links = links[[\"index_left\", \"index_right\"]]\n",
    "    # links = links.drop_duplicates()\n",
    "    return links"
   ]
  },
  {
   "cell_type": "code",
   "execution_count": 9,
   "metadata": {},
   "outputs": [],
   "source": [
    "fps1 = fp.fingerprint(donations.head(100))\n",
    "fps2 = fp.fingerprint(donations.tail(100))"
   ]
  },
  {
   "cell_type": "code",
   "execution_count": 27,
   "metadata": {},
   "outputs": [
    {
     "data": {
      "text/html": [
       "<table>\n",
       "<thead>\n",
       "<tr><th>#                              </th><th>index  </th><th>token     </th></tr>\n",
       "</thead>\n",
       "<tbody>\n",
       "<tr><td><i style='opacity: 0.6'>0</i>  </td><td>0      </td><td>marine    </td></tr>\n",
       "<tr><td><i style='opacity: 0.6'>1</i>  </td><td>0      </td><td>pilot     </td></tr>\n",
       "<tr><td><i style='opacity: 0.6'>2</i>  </td><td>1      </td><td>marine    </td></tr>\n",
       "<tr><td><i style='opacity: 0.6'>3</i>  </td><td>1      </td><td>pilot     </td></tr>\n",
       "<tr><td><i style='opacity: 0.6'>4</i>  </td><td>2      </td><td>marine    </td></tr>\n",
       "<tr><td>...                            </td><td>...    </td><td>...       </td></tr>\n",
       "<tr><td><i style='opacity: 0.6'>162</i></td><td>95     </td><td>artist    </td></tr>\n",
       "<tr><td><i style='opacity: 0.6'>163</i></td><td>96     </td><td>retire    </td></tr>\n",
       "<tr><td><i style='opacity: 0.6'>164</i></td><td>97     </td><td>legislator</td></tr>\n",
       "<tr><td><i style='opacity: 0.6'>165</i></td><td>98     </td><td>retire    </td></tr>\n",
       "<tr><td><i style='opacity: 0.6'>166</i></td><td>99     </td><td>chancellor</td></tr>\n",
       "</tbody>\n",
       "</table>"
      ],
      "text/plain": [
       "#    index    token\n",
       "0    0        marine\n",
       "1    0        pilot\n",
       "2    1        marine\n",
       "3    1        pilot\n",
       "4    2        marine\n",
       "...  ...      ...\n",
       "162  95       artist\n",
       "163  96       retire\n",
       "164  97       legislator\n",
       "165  98       retire\n",
       "166  99       chancellor"
      ]
     },
     "execution_count": 27,
     "metadata": {},
     "output_type": "execute_result"
    }
   ],
   "source": [
    "fps1"
   ]
  },
  {
   "cell_type": "code",
   "execution_count": 10,
   "metadata": {},
   "outputs": [
    {
     "data": {
      "text/html": [
       "<table>\n",
       "<thead>\n",
       "<tr><th>#                             </th><th>key       </th><th>index                                              </th></tr>\n",
       "</thead>\n",
       "<tbody>\n",
       "<tr><td><i style='opacity: 0.6'>0</i> </td><td>310667473 </td><td>&#x27;[0, 1, 2, 3, 4, 5, 6, 7, 8, 10, 12, 13, 14, 15,...</td></tr>\n",
       "<tr><td><i style='opacity: 0.6'>1</i> </td><td>3627299430</td><td>[54]                                               </td></tr>\n",
       "<tr><td><i style='opacity: 0.6'>2</i> </td><td>1252230475</td><td>[54]                                               </td></tr>\n",
       "<tr><td><i style='opacity: 0.6'>3</i> </td><td>931022204 </td><td>[54]                                               </td></tr>\n",
       "<tr><td><i style='opacity: 0.6'>4</i> </td><td>3370723147</td><td>[54]                                               </td></tr>\n",
       "<tr><td>...                           </td><td>...       </td><td>...                                                </td></tr>\n",
       "<tr><td><i style='opacity: 0.6'>11</i></td><td>3137532011</td><td>[54]                                               </td></tr>\n",
       "<tr><td><i style='opacity: 0.6'>12</i></td><td>3954775581</td><td>[54]                                               </td></tr>\n",
       "<tr><td><i style='opacity: 0.6'>13</i></td><td>4280197019</td><td>[54]                                               </td></tr>\n",
       "<tr><td><i style='opacity: 0.6'>14</i></td><td>2542118648</td><td>&#x27;[0, 1, 2, 3, 4, 5, 6, 7, 8, 10, 12, 13, 14, 15,...</td></tr>\n",
       "<tr><td><i style='opacity: 0.6'>15</i></td><td>2251672786</td><td>[54]                                               </td></tr>\n",
       "</tbody>\n",
       "</table>"
      ],
      "text/plain": [
       "#    key         index\n",
       "0    310667473   '[0, 1, 2, 3, 4, 5, 6, 7, 8, 10, 12, 13, 14, 15,...\n",
       "1    3627299430  [54]\n",
       "2    1252230475  [54]\n",
       "3    931022204   [54]\n",
       "4    3370723147  [54]\n",
       "...  ...         ...\n",
       "11   3137532011  [54]\n",
       "12   3954775581  [54]\n",
       "13   4280197019  [54]\n",
       "14   2542118648  '[0, 1, 2, 3, 4, 5, 6, 7, 8, 10, 12, 13, 14, 15,...\n",
       "15   2251672786  [54]"
      ]
     },
     "execution_count": 10,
     "metadata": {},
     "output_type": "execute_result"
    }
   ],
   "source": [
    "m1, m2 = merge_fingerprints(fps1.head(100), fps2.head(100))\n",
    "m1"
   ]
  },
  {
   "cell_type": "code",
   "execution_count": 31,
   "metadata": {},
   "outputs": [
    {
     "data": {
      "text/html": [
       "<table>\n",
       "<thead>\n",
       "<tr><th>#                             </th><th>index  </th><th>token       </th></tr>\n",
       "</thead>\n",
       "<tbody>\n",
       "<tr><td><i style='opacity: 0.6'>0</i> </td><td>54     </td><td>distribution</td></tr>\n",
       "<tr><td><i style='opacity: 0.6'>1</i> </td><td>54     </td><td>of          </td></tr>\n",
       "<tr><td><i style='opacity: 0.6'>2</i> </td><td>54     </td><td>donate      </td></tr>\n",
       "<tr><td><i style='opacity: 0.6'>3</i> </td><td>54     </td><td>fund        </td></tr>\n",
       "<tr><td><i style='opacity: 0.6'>4</i> </td><td>54     </td><td>to          </td></tr>\n",
       "<tr><td>...                           </td><td>...    </td><td>...         </td></tr>\n",
       "<tr><td><i style='opacity: 0.6'>11</i></td><td>54     </td><td>from        </td></tr>\n",
       "<tr><td><i style='opacity: 0.6'>12</i></td><td>54     </td><td>mcadam      </td></tr>\n",
       "<tr><td><i style='opacity: 0.6'>13</i></td><td>54     </td><td>for         </td></tr>\n",
       "<tr><td><i style='opacity: 0.6'>14</i></td><td>54     </td><td>senate      </td></tr>\n",
       "<tr><td><i style='opacity: 0.6'>15</i></td><td>54     </td><td>campaign    </td></tr>\n",
       "</tbody>\n",
       "</table>"
      ],
      "text/plain": [
       "#    index    token\n",
       "0    54       distribution\n",
       "1    54       of\n",
       "2    54       donate\n",
       "3    54       fund\n",
       "4    54       to\n",
       "...  ...      ...\n",
       "11   54       from\n",
       "12   54       mcadam\n",
       "13   54       for\n",
       "14   54       senate\n",
       "15   54       campaign"
      ]
     },
     "execution_count": 31,
     "metadata": {},
     "output_type": "execute_result"
    }
   ],
   "source": [
    "fps1[fps1.index == 54]"
   ]
  },
  {
   "cell_type": "code",
   "execution_count": 11,
   "metadata": {},
   "outputs": [
    {
     "data": {
      "text/html": [
       "<table>\n",
       "<thead>\n",
       "<tr><th>#                             </th><th>index                                              </th></tr>\n",
       "</thead>\n",
       "<tbody>\n",
       "<tr><td><i style='opacity: 0.6'>0</i> </td><td>&#x27;[0, 1, 2, 3, 4, 5, 6, 7, 8, 10, 12, 13, 14, 15,...</td></tr>\n",
       "<tr><td><i style='opacity: 0.6'>1</i> </td><td>[54]                                               </td></tr>\n",
       "<tr><td><i style='opacity: 0.6'>2</i> </td><td>[54]                                               </td></tr>\n",
       "<tr><td><i style='opacity: 0.6'>3</i> </td><td>[54]                                               </td></tr>\n",
       "<tr><td><i style='opacity: 0.6'>4</i> </td><td>[54]                                               </td></tr>\n",
       "<tr><td>...                           </td><td>...                                                </td></tr>\n",
       "<tr><td><i style='opacity: 0.6'>11</i></td><td>[54]                                               </td></tr>\n",
       "<tr><td><i style='opacity: 0.6'>12</i></td><td>[54]                                               </td></tr>\n",
       "<tr><td><i style='opacity: 0.6'>13</i></td><td>[54]                                               </td></tr>\n",
       "<tr><td><i style='opacity: 0.6'>14</i></td><td>&#x27;[0, 1, 2, 3, 4, 5, 6, 7, 8, 10, 12, 13, 14, 15,...</td></tr>\n",
       "<tr><td><i style='opacity: 0.6'>15</i></td><td>[54]                                               </td></tr>\n",
       "</tbody>\n",
       "</table>"
      ],
      "text/plain": [
       "#    index\n",
       "0    '[0, 1, 2, 3, 4, 5, 6, 7, 8, 10, 12, 13, 14, 15,...\n",
       "1    [54]\n",
       "2    [54]\n",
       "3    [54]\n",
       "4    [54]\n",
       "...  ...\n",
       "11   [54]\n",
       "12   [54]\n",
       "13   [54]\n",
       "14   '[0, 1, 2, 3, 4, 5, 6, 7, 8, 10, 12, 13, 14, 15,...\n",
       "15   [54]"
      ]
     },
     "execution_count": 11,
     "metadata": {},
     "output_type": "execute_result"
    }
   ],
   "source": [
    "index_left = m1[[\"index\"]]\n",
    "index_right = m2[[\"index\"]]\n",
    "m1 = m1.drop(columns=[\"index\"])\n",
    "m2 = m2.drop(columns=[\"index\"])\n",
    "m1[\"iloc\"] = vaex.vrange(0, len(m1), dtype=\"uint64\")\n",
    "m2[\"iloc\"] = vaex.vrange(0, len(m2), dtype=\"uint64\")\n",
    "index_left"
   ]
  },
  {
   "cell_type": "code",
   "execution_count": 13,
   "metadata": {},
   "outputs": [
    {
     "data": {
      "text/html": [
       "<table>\n",
       "<thead>\n",
       "<tr><th>#                            </th><th style=\"text-align: right;\">  key_left</th><th style=\"text-align: right;\">  iloc_left</th><th style=\"text-align: right;\">  key_right</th><th style=\"text-align: right;\">  iloc_right</th></tr>\n",
       "</thead>\n",
       "<tbody>\n",
       "<tr><td><i style='opacity: 0.6'>0</i></td><td style=\"text-align: right;\">3627299430</td><td style=\"text-align: right;\">          1</td><td style=\"text-align: right;\"> 3627299430</td><td style=\"text-align: right;\">           6</td></tr>\n",
       "<tr><td><i style='opacity: 0.6'>1</i></td><td style=\"text-align: right;\">2698029969</td><td style=\"text-align: right;\">          9</td><td style=\"text-align: right;\"> 2698029969</td><td style=\"text-align: right;\">          39</td></tr>\n",
       "<tr><td><i style='opacity: 0.6'>2</i></td><td style=\"text-align: right;\">2109566629</td><td style=\"text-align: right;\">         10</td><td style=\"text-align: right;\"> 2109566629</td><td style=\"text-align: right;\">          45</td></tr>\n",
       "</tbody>\n",
       "</table>"
      ],
      "text/plain": [
       "  #    key_left    iloc_left    key_right    iloc_right\n",
       "  0  3627299430            1   3627299430             6\n",
       "  1  2698029969            9   2698029969            39\n",
       "  2  2109566629           10   2109566629            45"
      ]
     },
     "execution_count": 13,
     "metadata": {},
     "output_type": "execute_result"
    }
   ],
   "source": [
    "links = m1.join(m2, on=\"key\", how=\"inner\", lsuffix=\"_left\", rsuffix=\"_right\")\n",
    "links"
   ]
  },
  {
   "cell_type": "code",
   "execution_count": 75,
   "metadata": {},
   "outputs": [
    {
     "data": {
      "text/html": [
       "<table>\n",
       "<thead>\n",
       "<tr><th>#                            </th><th>x     </th><th>y       </th></tr>\n",
       "</thead>\n",
       "<tbody>\n",
       "<tr><td><i style='opacity: 0.6'>0</i></td><td>[1, 2]</td><td>[11, 12]</td></tr>\n",
       "<tr><td><i style='opacity: 0.6'>1</i></td><td>[3, 4]</td><td>[13, 14]</td></tr>\n",
       "</tbody>\n",
       "</table>"
      ],
      "text/plain": [
       "  #  x       y\n",
       "  0  [1, 2]  [11, 12]\n",
       "  1  [3, 4]  [13, 14]"
      ]
     },
     "execution_count": 75,
     "metadata": {},
     "output_type": "execute_result"
    }
   ],
   "source": [
    "import pyarrow.compute as pc\n",
    "from vaex.dataframe import DataFrame\n",
    "from vaex.expression import Expression\n",
    "\n",
    "\n",
    "def explode_table(table: pa.Table, column: str) -> pa.Table:\n",
    "    \"\"\"Analogous to pandas.DataFrame.explode()\n",
    "\n",
    "    https://pandas.pydata.org/docs/reference/api/pandas.DataFrame.explode.html\n",
    "    \"\"\"\n",
    "    null_filled = pc.fill_null(table[column], [None])\n",
    "    flattened = pc.list_flatten(null_filled)\n",
    "    other_columns = list(table.schema.names)\n",
    "    other_columns.remove(column)\n",
    "    if len(other_columns) == 0:\n",
    "        return pa.table({column: flattened})\n",
    "    else:\n",
    "        indices = pc.list_parent_indices(null_filled)\n",
    "        result = table.select(other_columns).take(indices)\n",
    "        result = result.append_column(\n",
    "            pa.field(column, table.schema.field(column).type.value_type),\n",
    "            flattened,\n",
    "        )\n",
    "        return result\n",
    "\n",
    "\n",
    "def cartesian_product_chunk(left: pa.ListArray, right: pa.ListArray) -> pa.Array:\n",
    "    result: pa.Table = pa.table(\n",
    "        {\n",
    "            \"left\": left,\n",
    "            \"right\": right,\n",
    "        }\n",
    "    )\n",
    "    result = explode_table(result, \"left\")\n",
    "    result = explode_table(result, \"right\")\n",
    "    # Result is a pa.Table, but when calling vaex.DataFrame.apply, our\n",
    "    # function can only return a 1-D array, because the result of apply is\n",
    "    # supposed to be an expression.\n",
    "    # So, turn this pa.Table in a pa.StructArray. Should be minimal copying.\n",
    "    # We must call .combine_chunks() because .from_arrays() expects pa.Arrays,\n",
    "    # not pa.ChunkedArrays.\n",
    "    x = result[\"left\"].combine_chunks()\n",
    "    y = result[\"right\"].combine_chunks()\n",
    "    return pa.StructArray.from_arrays((x, y), names=(\"x\", \"y\"))\n",
    "\n",
    "\n",
    "def cartesian_product(df: DataFrame, left: str, right: str) -> Expression:\n",
    "    return df.apply(cartesian_product_chunk, [left, right], vectorize=True)\n",
    "\n",
    "\n",
    "df = vaex.from_arrays(\n",
    "    x=pa.array([[1, 2], [3, 4]]),\n",
    "    y=pa.array([[11, 12], [13, 14]]),\n",
    ")\n",
    "df"
   ]
  },
  {
   "cell_type": "code",
   "execution_count": 82,
   "metadata": {},
   "outputs": [
    {
     "name": "stdout",
     "output_type": "stream",
     "text": [
      "|    | x     | y       |\n",
      "|---:|:------|:--------|\n",
      "|  0 | [1 2] | [11 12] |\n",
      "|  1 | [3 4] | [13 14] |\n"
     ]
    }
   ],
   "source": [
    "print(df.to_pandas_df().to_markdown())"
   ]
  },
  {
   "cell_type": "code",
   "execution_count": 80,
   "metadata": {},
   "outputs": [
    {
     "data": {
      "text/html": [
       "<table>\n",
       "<thead>\n",
       "<tr><th>#                            </th><th>carted           </th><th style=\"text-align: right;\">  x</th><th style=\"text-align: right;\">  y</th></tr>\n",
       "</thead>\n",
       "<tbody>\n",
       "<tr><td><i style='opacity: 0.6'>0</i></td><td>{&#x27;x&#x27;: 1, &#x27;y&#x27;: 11}</td><td style=\"text-align: right;\">  1</td><td style=\"text-align: right;\"> 11</td></tr>\n",
       "<tr><td><i style='opacity: 0.6'>1</i></td><td>{&#x27;x&#x27;: 1, &#x27;y&#x27;: 12}</td><td style=\"text-align: right;\">  1</td><td style=\"text-align: right;\"> 12</td></tr>\n",
       "<tr><td><i style='opacity: 0.6'>2</i></td><td>{&#x27;x&#x27;: 2, &#x27;y&#x27;: 11}</td><td style=\"text-align: right;\">  2</td><td style=\"text-align: right;\"> 11</td></tr>\n",
       "<tr><td><i style='opacity: 0.6'>3</i></td><td>{&#x27;x&#x27;: 2, &#x27;y&#x27;: 12}</td><td style=\"text-align: right;\">  2</td><td style=\"text-align: right;\"> 12</td></tr>\n",
       "<tr><td><i style='opacity: 0.6'>4</i></td><td>{&#x27;x&#x27;: 3, &#x27;y&#x27;: 13}</td><td style=\"text-align: right;\">  3</td><td style=\"text-align: right;\"> 13</td></tr>\n",
       "<tr><td><i style='opacity: 0.6'>5</i></td><td>{&#x27;x&#x27;: 3, &#x27;y&#x27;: 14}</td><td style=\"text-align: right;\">  3</td><td style=\"text-align: right;\"> 14</td></tr>\n",
       "<tr><td><i style='opacity: 0.6'>6</i></td><td>{&#x27;x&#x27;: 4, &#x27;y&#x27;: 13}</td><td style=\"text-align: right;\">  4</td><td style=\"text-align: right;\"> 13</td></tr>\n",
       "<tr><td><i style='opacity: 0.6'>7</i></td><td>{&#x27;x&#x27;: 4, &#x27;y&#x27;: 14}</td><td style=\"text-align: right;\">  4</td><td style=\"text-align: right;\"> 14</td></tr>\n",
       "</tbody>\n",
       "</table>"
      ],
      "text/plain": [
       "  #  carted               x    y\n",
       "  0  {'x': 1, 'y': 11}    1   11\n",
       "  1  {'x': 1, 'y': 12}    1   12\n",
       "  2  {'x': 2, 'y': 11}    2   11\n",
       "  3  {'x': 2, 'y': 12}    2   12\n",
       "  4  {'x': 3, 'y': 13}    3   13\n",
       "  5  {'x': 3, 'y': 14}    3   14\n",
       "  6  {'x': 4, 'y': 13}    4   13\n",
       "  7  {'x': 4, 'y': 14}    4   14"
      ]
     },
     "execution_count": 80,
     "metadata": {},
     "output_type": "execute_result"
    }
   ],
   "source": [
    "df2 = vaex.from_arrays(carted=cartesian_product(df, \"x\", \"y\").evaluate())\n",
    "# Upack the 1-D array back into separate columns\n",
    "df2[\"x\"] = df2[\"carted\"].struct.get(\"x\")\n",
    "df2[\"y\"] = df2[\"carted\"].struct.get(\"y\")\n",
    "df2"
   ]
  },
  {
   "cell_type": "code",
   "execution_count": 86,
   "metadata": {},
   "outputs": [
    {
     "name": "stdout",
     "output_type": "stream",
     "text": [
      "|    |   x |   y |\n",
      "|---:|----:|----:|\n",
      "|  0 |   1 |  11 |\n",
      "|  1 |   1 |  12 |\n",
      "|  2 |   2 |  11 |\n",
      "|  3 |   2 |  12 |\n",
      "|  4 |   3 |  13 |\n",
      "|  5 |   3 |  14 |\n",
      "|  6 |   4 |  13 |\n",
      "|  7 |   4 |  14 |\n"
     ]
    }
   ],
   "source": [
    "print(df2[[\"x\", \"y\"]].to_pandas_df().to_markdown())"
   ]
  },
  {
   "cell_type": "code",
   "execution_count": 51,
   "metadata": {},
   "outputs": [],
   "source": [
    "def _cross_join_chunk(iloc_left, iloc_right):\n",
    "    idxs_left: DataFrame = index_left.take(iloc_left)\n",
    "    idxs_right: DataFrame = index_right.take(iloc_right)\n",
    "    result: pa.Table = pa.table(\n",
    "        {\n",
    "            \"index_left\": idxs_left[\"index\"].values,\n",
    "            \"index_right\": idxs_right[\"index\"].values,\n",
    "        }\n",
    "    )\n",
    "    result = explode_table(result, \"index_left\")\n",
    "    result = explode_table(result, \"index_right\")\n",
    "    # Result is a pa.Table, but when calling vaex.DataFrame.apply, our\n",
    "    # function can only return a 1-D array, because the result of apply is\n",
    "    # suppoesed to be an expression.\n",
    "    # So, turn this pa.Table in a pa.StructArray. Should be minimal copying.\n",
    "    # must call .combine_chunks() because .from_arrays() expects pa.Arrays,\n",
    "    # not pa.ChunkedArrays.\n",
    "    x = result[\"index_left\"].combine_chunks()\n",
    "    y = result[\"index_right\"].combine_chunks()\n",
    "    return pa.StructArray.from_arrays((x, y), names=(\"x\", \"y\"))"
   ]
  },
  {
   "cell_type": "code",
   "execution_count": 52,
   "metadata": {},
   "outputs": [],
   "source": [
    "links_exp = links.apply(\n",
    "    _cross_join_chunk,\n",
    "    [links.iloc_left, links.iloc_right],\n",
    "    vectorize=True,\n",
    "    multiprocessing=False,\n",
    ")"
   ]
  },
  {
   "cell_type": "code",
   "execution_count": 56,
   "metadata": {},
   "outputs": [
    {
     "data": {
      "text/html": [
       "<table>\n",
       "<thead>\n",
       "<tr><th>#                             </th><th>links             </th></tr>\n",
       "</thead>\n",
       "<tbody>\n",
       "<tr><td><i style='opacity: 0.6'>0</i> </td><td>{&#x27;x&#x27;: 54, &#x27;y&#x27;: 62}</td></tr>\n",
       "<tr><td><i style='opacity: 0.6'>1</i> </td><td>{&#x27;x&#x27;: 53, &#x27;y&#x27;: 10}</td></tr>\n",
       "<tr><td><i style='opacity: 0.6'>2</i> </td><td>{&#x27;x&#x27;: 53, &#x27;y&#x27;: 15}</td></tr>\n",
       "<tr><td><i style='opacity: 0.6'>3</i> </td><td>{&#x27;x&#x27;: 53, &#x27;y&#x27;: 17}</td></tr>\n",
       "<tr><td><i style='opacity: 0.6'>4</i> </td><td>{&#x27;x&#x27;: 53, &#x27;y&#x27;: 19}</td></tr>\n",
       "<tr><td>...                           </td><td>...               </td></tr>\n",
       "<tr><td><i style='opacity: 0.6'>23</i></td><td>{&#x27;x&#x27;: 9, &#x27;y&#x27;: 20} </td></tr>\n",
       "<tr><td><i style='opacity: 0.6'>24</i></td><td>{&#x27;x&#x27;: 11, &#x27;y&#x27;: 20}</td></tr>\n",
       "<tr><td><i style='opacity: 0.6'>25</i></td><td>{&#x27;x&#x27;: 35, &#x27;y&#x27;: 20}</td></tr>\n",
       "<tr><td><i style='opacity: 0.6'>26</i></td><td>{&#x27;x&#x27;: 39, &#x27;y&#x27;: 20}</td></tr>\n",
       "<tr><td><i style='opacity: 0.6'>27</i></td><td>{&#x27;x&#x27;: 41, &#x27;y&#x27;: 20}</td></tr>\n",
       "</tbody>\n",
       "</table>"
      ],
      "text/plain": [
       "#    links\n",
       "0    {'x': 54, 'y': 62}\n",
       "1    {'x': 53, 'y': 10}\n",
       "2    {'x': 53, 'y': 15}\n",
       "3    {'x': 53, 'y': 17}\n",
       "4    {'x': 53, 'y': 19}\n",
       "...  ...\n",
       "23   {'x': 9, 'y': 20}\n",
       "24   {'x': 11, 'y': 20}\n",
       "25   {'x': 35, 'y': 20}\n",
       "26   {'x': 39, 'y': 20}\n",
       "27   {'x': 41, 'y': 20}"
      ]
     },
     "execution_count": 56,
     "metadata": {},
     "output_type": "execute_result"
    }
   ],
   "source": [
    "links_df = vaex.from_arrays(links=links_exp.evaluate())\n",
    "links_df"
   ]
  },
  {
   "cell_type": "code",
   "execution_count": 62,
   "metadata": {},
   "outputs": [
    {
     "name": "stderr",
     "output_type": "stream",
     "text": [
      "/Users/nickcrews/Library/Application Support/hatch/env/virtual/mismo-5Vu_DQpX/mismo/lib/python3.9/site-packages/vaex/viz/mpl.py:311: UserWarning: `plot` is deprecated and it will be removed in version 5.x. Please `df.viz.heatmap` instead.\n",
      "  warnings.warn('`plot` is deprecated and it will be removed in version 5.x. Please `df.viz.heatmap` instead.')\n"
     ]
    },
    {
     "ename": "TypeError",
     "evalue": "eval() arg 1 must be a string, bytes or code object",
     "output_type": "error",
     "traceback": [
      "\u001b[0;31m---------------------------------------------------------------------------\u001b[0m",
      "\u001b[0;31mKeyError\u001b[0m                                  Traceback (most recent call last)",
      "File \u001b[0;32m~/Library/Application Support/hatch/env/virtual/mismo-5Vu_DQpX/mismo/lib/python3.9/site-packages/vaex/scopes.py:113\u001b[0m, in \u001b[0;36m_BlockScope.evaluate\u001b[0;34m(self, expression, out)\u001b[0m\n\u001b[1;32m    <a href='file:///Users/nickcrews/Library/Application%20Support/hatch/env/virtual/mismo-5Vu_DQpX/mismo/lib/python3.9/site-packages/vaex/scopes.py?line=110'>111</a>\u001b[0m \u001b[39mtry\u001b[39;00m:\n\u001b[1;32m    <a href='file:///Users/nickcrews/Library/Application%20Support/hatch/env/virtual/mismo-5Vu_DQpX/mismo/lib/python3.9/site-packages/vaex/scopes.py?line=111'>112</a>\u001b[0m     \u001b[39m# logger.debug(\"try avoid evaluating: %s\", expression)\u001b[39;00m\n\u001b[0;32m--> <a href='file:///Users/nickcrews/Library/Application%20Support/hatch/env/virtual/mismo-5Vu_DQpX/mismo/lib/python3.9/site-packages/vaex/scopes.py?line=112'>113</a>\u001b[0m     result \u001b[39m=\u001b[39m \u001b[39mself\u001b[39;49m[expression]\n\u001b[1;32m    <a href='file:///Users/nickcrews/Library/Application%20Support/hatch/env/virtual/mismo-5Vu_DQpX/mismo/lib/python3.9/site-packages/vaex/scopes.py?line=113'>114</a>\u001b[0m \u001b[39mexcept\u001b[39;00m \u001b[39mKeyError\u001b[39;00m:\n\u001b[1;32m    <a href='file:///Users/nickcrews/Library/Application%20Support/hatch/env/virtual/mismo-5Vu_DQpX/mismo/lib/python3.9/site-packages/vaex/scopes.py?line=114'>115</a>\u001b[0m     \u001b[39m# logger.debug(\"no luck, eval: %s\", expression)\u001b[39;00m\n\u001b[1;32m    <a href='file:///Users/nickcrews/Library/Application%20Support/hatch/env/virtual/mismo-5Vu_DQpX/mismo/lib/python3.9/site-packages/vaex/scopes.py?line=115'>116</a>\u001b[0m     \u001b[39m# result = ne.evaluate(expression, local_dict=self, out=out)\u001b[39;00m\n\u001b[1;32m    <a href='file:///Users/nickcrews/Library/Application%20Support/hatch/env/virtual/mismo-5Vu_DQpX/mismo/lib/python3.9/site-packages/vaex/scopes.py?line=116'>117</a>\u001b[0m     \u001b[39m# logger.debug(\"in eval\")\u001b[39;00m\n\u001b[1;32m    <a href='file:///Users/nickcrews/Library/Application%20Support/hatch/env/virtual/mismo-5Vu_DQpX/mismo/lib/python3.9/site-packages/vaex/scopes.py?line=117'>118</a>\u001b[0m     \u001b[39m# eval(\"def f(\")\u001b[39;00m\n",
      "File \u001b[0;32m~/Library/Application Support/hatch/env/virtual/mismo-5Vu_DQpX/mismo/lib/python3.9/site-packages/vaex/scopes.py:198\u001b[0m, in \u001b[0;36m_BlockScope.__getitem__\u001b[0;34m(self, variable)\u001b[0m\n\u001b[1;32m    <a href='file:///Users/nickcrews/Library/Application%20Support/hatch/env/virtual/mismo-5Vu_DQpX/mismo/lib/python3.9/site-packages/vaex/scopes.py?line=196'>197</a>\u001b[0m \u001b[39mif\u001b[39;00m variable \u001b[39mnot\u001b[39;00m \u001b[39min\u001b[39;00m \u001b[39mself\u001b[39m\u001b[39m.\u001b[39mvalues:\n\u001b[0;32m--> <a href='file:///Users/nickcrews/Library/Application%20Support/hatch/env/virtual/mismo-5Vu_DQpX/mismo/lib/python3.9/site-packages/vaex/scopes.py?line=197'>198</a>\u001b[0m     \u001b[39mraise\u001b[39;00m \u001b[39mKeyError\u001b[39;00m(\u001b[39m\"\u001b[39m\u001b[39mUnknown variables or column: \u001b[39m\u001b[39m%r\u001b[39;00m\u001b[39m\"\u001b[39m \u001b[39m%\u001b[39m (variable,))\n\u001b[1;32m    <a href='file:///Users/nickcrews/Library/Application%20Support/hatch/env/virtual/mismo-5Vu_DQpX/mismo/lib/python3.9/site-packages/vaex/scopes.py?line=199'>200</a>\u001b[0m \u001b[39mreturn\u001b[39;00m \u001b[39mself\u001b[39m\u001b[39m.\u001b[39mvalues[variable]\n",
      "\u001b[0;31mKeyError\u001b[0m: 'Unknown variables or column: None'",
      "\nDuring handling of the above exception, another exception occurred:\n",
      "\u001b[0;31mTypeError\u001b[0m                                 Traceback (most recent call last)",
      "File \u001b[0;32m~/Library/Application Support/hatch/env/virtual/mismo-5Vu_DQpX/mismo/lib/python3.9/site-packages/vaex/dataframe.py:2268\u001b[0m, in \u001b[0;36mDataFrame.data_type\u001b[0;34m(self, expression, array_type, internal, axis)\u001b[0m\n\u001b[1;32m   <a href='file:///Users/nickcrews/Library/Application%20Support/hatch/env/virtual/mismo-5Vu_DQpX/mismo/lib/python3.9/site-packages/vaex/dataframe.py?line=2266'>2267</a>\u001b[0m \u001b[39mtry\u001b[39;00m:\n\u001b[0;32m-> <a href='file:///Users/nickcrews/Library/Application%20Support/hatch/env/virtual/mismo-5Vu_DQpX/mismo/lib/python3.9/site-packages/vaex/dataframe.py?line=2267'>2268</a>\u001b[0m     data \u001b[39m=\u001b[39m \u001b[39mself\u001b[39;49m\u001b[39m.\u001b[39;49mevaluate(expression, \u001b[39m0\u001b[39;49m, \u001b[39m1\u001b[39;49m, filtered\u001b[39m=\u001b[39;49m\u001b[39mFalse\u001b[39;49;00m, array_type\u001b[39m=\u001b[39;49marray_type, parallel\u001b[39m=\u001b[39;49m\u001b[39mFalse\u001b[39;49;00m)\n\u001b[1;32m   <a href='file:///Users/nickcrews/Library/Application%20Support/hatch/env/virtual/mismo-5Vu_DQpX/mismo/lib/python3.9/site-packages/vaex/dataframe.py?line=2268'>2269</a>\u001b[0m \u001b[39mexcept\u001b[39;00m:\n",
      "File \u001b[0;32m~/Library/Application Support/hatch/env/virtual/mismo-5Vu_DQpX/mismo/lib/python3.9/site-packages/vaex/dataframe.py:3090\u001b[0m, in \u001b[0;36mDataFrame.evaluate\u001b[0;34m(self, expression, i1, i2, out, selection, filtered, array_type, parallel, chunk_size, progress)\u001b[0m\n\u001b[1;32m   <a href='file:///Users/nickcrews/Library/Application%20Support/hatch/env/virtual/mismo-5Vu_DQpX/mismo/lib/python3.9/site-packages/vaex/dataframe.py?line=3088'>3089</a>\u001b[0m \u001b[39melse\u001b[39;00m:\n\u001b[0;32m-> <a href='file:///Users/nickcrews/Library/Application%20Support/hatch/env/virtual/mismo-5Vu_DQpX/mismo/lib/python3.9/site-packages/vaex/dataframe.py?line=3089'>3090</a>\u001b[0m     \u001b[39mreturn\u001b[39;00m \u001b[39mself\u001b[39;49m\u001b[39m.\u001b[39;49m_evaluate_implementation(expression, i1\u001b[39m=\u001b[39;49mi1, i2\u001b[39m=\u001b[39;49mi2, out\u001b[39m=\u001b[39;49mout, selection\u001b[39m=\u001b[39;49mselection, filtered\u001b[39m=\u001b[39;49mfiltered, array_type\u001b[39m=\u001b[39;49marray_type, parallel\u001b[39m=\u001b[39;49mparallel, chunk_size\u001b[39m=\u001b[39;49mchunk_size, progress\u001b[39m=\u001b[39;49mprogress)\n",
      "File \u001b[0;32m~/Library/Application Support/hatch/env/virtual/mismo-5Vu_DQpX/mismo/lib/python3.9/site-packages/vaex/dataframe.py:6509\u001b[0m, in \u001b[0;36mDataFrameLocal._evaluate_implementation\u001b[0;34m(self, expression, i1, i2, out, selection, filtered, array_type, parallel, chunk_size, raw, progress)\u001b[0m\n\u001b[1;32m   <a href='file:///Users/nickcrews/Library/Application%20Support/hatch/env/virtual/mismo-5Vu_DQpX/mismo/lib/python3.9/site-packages/vaex/dataframe.py?line=6507'>6508</a>\u001b[0m \u001b[39mfor\u001b[39;00m expression \u001b[39min\u001b[39;00m expressions:\n\u001b[0;32m-> <a href='file:///Users/nickcrews/Library/Application%20Support/hatch/env/virtual/mismo-5Vu_DQpX/mismo/lib/python3.9/site-packages/vaex/dataframe.py?line=6508'>6509</a>\u001b[0m     value \u001b[39m=\u001b[39m block_scope\u001b[39m.\u001b[39;49mevaluate(expression)\n\u001b[1;32m   <a href='file:///Users/nickcrews/Library/Application%20Support/hatch/env/virtual/mismo-5Vu_DQpX/mismo/lib/python3.9/site-packages/vaex/dataframe.py?line=6509'>6510</a>\u001b[0m     value \u001b[39m=\u001b[39m array_types\u001b[39m.\u001b[39mconvert(value, array_type)\n",
      "File \u001b[0;32m~/Library/Application Support/hatch/env/virtual/mismo-5Vu_DQpX/mismo/lib/python3.9/site-packages/vaex/scopes.py:119\u001b[0m, in \u001b[0;36m_BlockScope.evaluate\u001b[0;34m(self, expression, out)\u001b[0m\n\u001b[1;32m    <a href='file:///Users/nickcrews/Library/Application%20Support/hatch/env/virtual/mismo-5Vu_DQpX/mismo/lib/python3.9/site-packages/vaex/scopes.py?line=113'>114</a>\u001b[0m \u001b[39mexcept\u001b[39;00m \u001b[39mKeyError\u001b[39;00m:\n\u001b[1;32m    <a href='file:///Users/nickcrews/Library/Application%20Support/hatch/env/virtual/mismo-5Vu_DQpX/mismo/lib/python3.9/site-packages/vaex/scopes.py?line=114'>115</a>\u001b[0m     \u001b[39m# logger.debug(\"no luck, eval: %s\", expression)\u001b[39;00m\n\u001b[1;32m    <a href='file:///Users/nickcrews/Library/Application%20Support/hatch/env/virtual/mismo-5Vu_DQpX/mismo/lib/python3.9/site-packages/vaex/scopes.py?line=115'>116</a>\u001b[0m     \u001b[39m# result = ne.evaluate(expression, local_dict=self, out=out)\u001b[39;00m\n\u001b[1;32m    <a href='file:///Users/nickcrews/Library/Application%20Support/hatch/env/virtual/mismo-5Vu_DQpX/mismo/lib/python3.9/site-packages/vaex/scopes.py?line=116'>117</a>\u001b[0m     \u001b[39m# logger.debug(\"in eval\")\u001b[39;00m\n\u001b[1;32m    <a href='file:///Users/nickcrews/Library/Application%20Support/hatch/env/virtual/mismo-5Vu_DQpX/mismo/lib/python3.9/site-packages/vaex/scopes.py?line=117'>118</a>\u001b[0m     \u001b[39m# eval(\"def f(\")\u001b[39;00m\n\u001b[0;32m--> <a href='file:///Users/nickcrews/Library/Application%20Support/hatch/env/virtual/mismo-5Vu_DQpX/mismo/lib/python3.9/site-packages/vaex/scopes.py?line=118'>119</a>\u001b[0m     result \u001b[39m=\u001b[39m \u001b[39meval\u001b[39;49m(expression, expression_namespace, \u001b[39mself\u001b[39;49m)\n\u001b[1;32m    <a href='file:///Users/nickcrews/Library/Application%20Support/hatch/env/virtual/mismo-5Vu_DQpX/mismo/lib/python3.9/site-packages/vaex/scopes.py?line=119'>120</a>\u001b[0m     result \u001b[39m=\u001b[39m auto_encode(\u001b[39mself\u001b[39m\u001b[39m.\u001b[39mdf, expression, result)\n",
      "\u001b[0;31mTypeError\u001b[0m: eval() arg 1 must be a string, bytes or code object",
      "\nDuring handling of the above exception, another exception occurred:\n",
      "\u001b[0;31mKeyError\u001b[0m                                  Traceback (most recent call last)",
      "File \u001b[0;32m~/Library/Application Support/hatch/env/virtual/mismo-5Vu_DQpX/mismo/lib/python3.9/site-packages/vaex/scopes.py:113\u001b[0m, in \u001b[0;36m_BlockScope.evaluate\u001b[0;34m(self, expression, out)\u001b[0m\n\u001b[1;32m    <a href='file:///Users/nickcrews/Library/Application%20Support/hatch/env/virtual/mismo-5Vu_DQpX/mismo/lib/python3.9/site-packages/vaex/scopes.py?line=110'>111</a>\u001b[0m \u001b[39mtry\u001b[39;00m:\n\u001b[1;32m    <a href='file:///Users/nickcrews/Library/Application%20Support/hatch/env/virtual/mismo-5Vu_DQpX/mismo/lib/python3.9/site-packages/vaex/scopes.py?line=111'>112</a>\u001b[0m     \u001b[39m# logger.debug(\"try avoid evaluating: %s\", expression)\u001b[39;00m\n\u001b[0;32m--> <a href='file:///Users/nickcrews/Library/Application%20Support/hatch/env/virtual/mismo-5Vu_DQpX/mismo/lib/python3.9/site-packages/vaex/scopes.py?line=112'>113</a>\u001b[0m     result \u001b[39m=\u001b[39m \u001b[39mself\u001b[39;49m[expression]\n\u001b[1;32m    <a href='file:///Users/nickcrews/Library/Application%20Support/hatch/env/virtual/mismo-5Vu_DQpX/mismo/lib/python3.9/site-packages/vaex/scopes.py?line=113'>114</a>\u001b[0m \u001b[39mexcept\u001b[39;00m \u001b[39mKeyError\u001b[39;00m:\n\u001b[1;32m    <a href='file:///Users/nickcrews/Library/Application%20Support/hatch/env/virtual/mismo-5Vu_DQpX/mismo/lib/python3.9/site-packages/vaex/scopes.py?line=114'>115</a>\u001b[0m     \u001b[39m# logger.debug(\"no luck, eval: %s\", expression)\u001b[39;00m\n\u001b[1;32m    <a href='file:///Users/nickcrews/Library/Application%20Support/hatch/env/virtual/mismo-5Vu_DQpX/mismo/lib/python3.9/site-packages/vaex/scopes.py?line=115'>116</a>\u001b[0m     \u001b[39m# result = ne.evaluate(expression, local_dict=self, out=out)\u001b[39;00m\n\u001b[1;32m    <a href='file:///Users/nickcrews/Library/Application%20Support/hatch/env/virtual/mismo-5Vu_DQpX/mismo/lib/python3.9/site-packages/vaex/scopes.py?line=116'>117</a>\u001b[0m     \u001b[39m# logger.debug(\"in eval\")\u001b[39;00m\n\u001b[1;32m    <a href='file:///Users/nickcrews/Library/Application%20Support/hatch/env/virtual/mismo-5Vu_DQpX/mismo/lib/python3.9/site-packages/vaex/scopes.py?line=117'>118</a>\u001b[0m     \u001b[39m# eval(\"def f(\")\u001b[39;00m\n",
      "File \u001b[0;32m~/Library/Application Support/hatch/env/virtual/mismo-5Vu_DQpX/mismo/lib/python3.9/site-packages/vaex/scopes.py:198\u001b[0m, in \u001b[0;36m_BlockScope.__getitem__\u001b[0;34m(self, variable)\u001b[0m\n\u001b[1;32m    <a href='file:///Users/nickcrews/Library/Application%20Support/hatch/env/virtual/mismo-5Vu_DQpX/mismo/lib/python3.9/site-packages/vaex/scopes.py?line=196'>197</a>\u001b[0m \u001b[39mif\u001b[39;00m variable \u001b[39mnot\u001b[39;00m \u001b[39min\u001b[39;00m \u001b[39mself\u001b[39m\u001b[39m.\u001b[39mvalues:\n\u001b[0;32m--> <a href='file:///Users/nickcrews/Library/Application%20Support/hatch/env/virtual/mismo-5Vu_DQpX/mismo/lib/python3.9/site-packages/vaex/scopes.py?line=197'>198</a>\u001b[0m     \u001b[39mraise\u001b[39;00m \u001b[39mKeyError\u001b[39;00m(\u001b[39m\"\u001b[39m\u001b[39mUnknown variables or column: \u001b[39m\u001b[39m%r\u001b[39;00m\u001b[39m\"\u001b[39m \u001b[39m%\u001b[39m (variable,))\n\u001b[1;32m    <a href='file:///Users/nickcrews/Library/Application%20Support/hatch/env/virtual/mismo-5Vu_DQpX/mismo/lib/python3.9/site-packages/vaex/scopes.py?line=199'>200</a>\u001b[0m \u001b[39mreturn\u001b[39;00m \u001b[39mself\u001b[39m\u001b[39m.\u001b[39mvalues[variable]\n",
      "\u001b[0;31mKeyError\u001b[0m: 'Unknown variables or column: None'",
      "\nDuring handling of the above exception, another exception occurred:\n",
      "\u001b[0;31mTypeError\u001b[0m                                 Traceback (most recent call last)",
      "\u001b[1;32m/Users/nickcrews/Documents/projects/mismo/examples/simple.ipynb Cell 16'\u001b[0m in \u001b[0;36m<cell line: 1>\u001b[0;34m()\u001b[0m\n\u001b[0;32m----> <a href='vscode-notebook-cell:/Users/nickcrews/Documents/projects/mismo/examples/simple.ipynb#ch0000031?line=0'>1</a>\u001b[0m links_df\u001b[39m.\u001b[39;49mplot()\n",
      "File \u001b[0;32m~/Library/Application Support/hatch/env/virtual/mismo-5Vu_DQpX/mismo/lib/python3.9/site-packages/vaex/viz/mpl.py:312\u001b[0m, in \u001b[0;36mplot\u001b[0;34m(self, *args, **kwargs)\u001b[0m\n\u001b[1;32m    <a href='file:///Users/nickcrews/Library/Application%20Support/hatch/env/virtual/mismo-5Vu_DQpX/mismo/lib/python3.9/site-packages/vaex/viz/mpl.py?line=308'>309</a>\u001b[0m \u001b[39m@patch\u001b[39m\n\u001b[1;32m    <a href='file:///Users/nickcrews/Library/Application%20Support/hatch/env/virtual/mismo-5Vu_DQpX/mismo/lib/python3.9/site-packages/vaex/viz/mpl.py?line=309'>310</a>\u001b[0m \u001b[39mdef\u001b[39;00m \u001b[39mplot\u001b[39m(\u001b[39mself\u001b[39m, \u001b[39m*\u001b[39margs, \u001b[39m*\u001b[39m\u001b[39m*\u001b[39mkwargs):\n\u001b[1;32m    <a href='file:///Users/nickcrews/Library/Application%20Support/hatch/env/virtual/mismo-5Vu_DQpX/mismo/lib/python3.9/site-packages/vaex/viz/mpl.py?line=310'>311</a>\u001b[0m     warnings\u001b[39m.\u001b[39mwarn(\u001b[39m'\u001b[39m\u001b[39m`plot` is deprecated and it will be removed in version 5.x. Please `df.viz.heatmap` instead.\u001b[39m\u001b[39m'\u001b[39m)\n\u001b[0;32m--> <a href='file:///Users/nickcrews/Library/Application%20Support/hatch/env/virtual/mismo-5Vu_DQpX/mismo/lib/python3.9/site-packages/vaex/viz/mpl.py?line=311'>312</a>\u001b[0m     \u001b[39mself\u001b[39;49m\u001b[39m.\u001b[39;49mviz\u001b[39m.\u001b[39;49mheatmap(\u001b[39m*\u001b[39;49margs, \u001b[39m*\u001b[39;49m\u001b[39m*\u001b[39;49mkwargs)\n",
      "File \u001b[0;32m~/Library/Application Support/hatch/env/virtual/mismo-5Vu_DQpX/mismo/lib/python3.9/site-packages/vaex/viz/mpl.py:32\u001b[0m, in \u001b[0;36mviz_method.<locals>.wrapper\u001b[0;34m(self, *args, **kwargs)\u001b[0m\n\u001b[1;32m     <a href='file:///Users/nickcrews/Library/Application%20Support/hatch/env/virtual/mismo-5Vu_DQpX/mismo/lib/python3.9/site-packages/vaex/viz/mpl.py?line=29'>30</a>\u001b[0m \u001b[39m@functools\u001b[39m\u001b[39m.\u001b[39mwraps(f)\n\u001b[1;32m     <a href='file:///Users/nickcrews/Library/Application%20Support/hatch/env/virtual/mismo-5Vu_DQpX/mismo/lib/python3.9/site-packages/vaex/viz/mpl.py?line=30'>31</a>\u001b[0m \u001b[39mdef\u001b[39;00m \u001b[39mwrapper\u001b[39m(\u001b[39mself\u001b[39m, \u001b[39m*\u001b[39margs, \u001b[39m*\u001b[39m\u001b[39m*\u001b[39mkwargs):\n\u001b[0;32m---> <a href='file:///Users/nickcrews/Library/Application%20Support/hatch/env/virtual/mismo-5Vu_DQpX/mismo/lib/python3.9/site-packages/vaex/viz/mpl.py?line=31'>32</a>\u001b[0m     \u001b[39mreturn\u001b[39;00m f(\u001b[39mself\u001b[39;49m\u001b[39m.\u001b[39;49mdf, \u001b[39m*\u001b[39;49margs, \u001b[39m*\u001b[39;49m\u001b[39m*\u001b[39;49mkwargs)\n",
      "File \u001b[0;32m~/Library/Application Support/hatch/env/virtual/mismo-5Vu_DQpX/mismo/lib/python3.9/site-packages/vaex/viz/mpl.py:426\u001b[0m, in \u001b[0;36mheatmap\u001b[0;34m(self, x, y, z, what, vwhat, reduce, f, normalize, normalize_axis, vmin, vmax, shape, vshape, limits, grid, colormap, figsize, xlabel, ylabel, aspect, tight_layout, interpolation, show, colorbar, colorbar_label, selection, selection_labels, title, background_color, pre_blend, background_alpha, visual, smooth_pre, smooth_post, wrap, wrap_columns, return_extra, hardcopy)\u001b[0m\n\u001b[1;32m    <a href='file:///Users/nickcrews/Library/Application%20Support/hatch/env/virtual/mismo-5Vu_DQpX/mismo/lib/python3.9/site-packages/vaex/viz/mpl.py?line=423'>424</a>\u001b[0m vwhats \u001b[39m=\u001b[39m _expand_limits(vwhat, \u001b[39mlen\u001b[39m(x))  \u001b[39m# TODO: we're abusing this function..\u001b[39;00m\n\u001b[1;32m    <a href='file:///Users/nickcrews/Library/Application%20Support/hatch/env/virtual/mismo-5Vu_DQpX/mismo/lib/python3.9/site-packages/vaex/viz/mpl.py?line=424'>425</a>\u001b[0m logger\u001b[39m.\u001b[39mdebug(\u001b[39m\"\u001b[39m\u001b[39mx: \u001b[39m\u001b[39m%s\u001b[39;00m\u001b[39m\"\u001b[39m, x)\n\u001b[0;32m--> <a href='file:///Users/nickcrews/Library/Application%20Support/hatch/env/virtual/mismo-5Vu_DQpX/mismo/lib/python3.9/site-packages/vaex/viz/mpl.py?line=425'>426</a>\u001b[0m limits, shape \u001b[39m=\u001b[39m \u001b[39mself\u001b[39;49m\u001b[39m.\u001b[39;49mlimits(x, limits, shape\u001b[39m=\u001b[39;49mshape)\n\u001b[1;32m    <a href='file:///Users/nickcrews/Library/Application%20Support/hatch/env/virtual/mismo-5Vu_DQpX/mismo/lib/python3.9/site-packages/vaex/viz/mpl.py?line=426'>427</a>\u001b[0m shape \u001b[39m=\u001b[39m shape[\u001b[39m0\u001b[39m]\n\u001b[1;32m    <a href='file:///Users/nickcrews/Library/Application%20Support/hatch/env/virtual/mismo-5Vu_DQpX/mismo/lib/python3.9/site-packages/vaex/viz/mpl.py?line=427'>428</a>\u001b[0m logger\u001b[39m.\u001b[39mdebug(\u001b[39m\"\u001b[39m\u001b[39mlimits: \u001b[39m\u001b[39m%r\u001b[39;00m\u001b[39m\"\u001b[39m, limits)\n",
      "File \u001b[0;32m~/Library/Application Support/hatch/env/virtual/mismo-5Vu_DQpX/mismo/lib/python3.9/site-packages/vaex/dataframe.py:1912\u001b[0m, in \u001b[0;36mDataFrame.limits\u001b[0;34m(self, expression, value, square, selection, delay, progress, shape)\u001b[0m\n\u001b[1;32m   <a href='file:///Users/nickcrews/Library/Application%20Support/hatch/env/virtual/mismo-5Vu_DQpX/mismo/lib/python3.9/site-packages/vaex/dataframe.py?line=1909'>1910</a>\u001b[0m \u001b[39mif\u001b[39;00m \u001b[39misinstance\u001b[39m(value, six\u001b[39m.\u001b[39mstring_types):\n\u001b[1;32m   <a href='file:///Users/nickcrews/Library/Application%20Support/hatch/env/virtual/mismo-5Vu_DQpX/mismo/lib/python3.9/site-packages/vaex/dataframe.py?line=1910'>1911</a>\u001b[0m     \u001b[39mif\u001b[39;00m value \u001b[39m==\u001b[39m \u001b[39m\"\u001b[39m\u001b[39mminmax\u001b[39m\u001b[39m\"\u001b[39m:\n\u001b[0;32m-> <a href='file:///Users/nickcrews/Library/Application%20Support/hatch/env/virtual/mismo-5Vu_DQpX/mismo/lib/python3.9/site-packages/vaex/dataframe.py?line=1911'>1912</a>\u001b[0m         limits \u001b[39m=\u001b[39m \u001b[39mself\u001b[39;49m\u001b[39m.\u001b[39;49mminmax(expression, selection\u001b[39m=\u001b[39;49mselection, progress\u001b[39m=\u001b[39;49mprogressbar, delay\u001b[39m=\u001b[39;49m\u001b[39mTrue\u001b[39;49;00m)\n\u001b[1;32m   <a href='file:///Users/nickcrews/Library/Application%20Support/hatch/env/virtual/mismo-5Vu_DQpX/mismo/lib/python3.9/site-packages/vaex/dataframe.py?line=1912'>1913</a>\u001b[0m     \u001b[39melse\u001b[39;00m:\n\u001b[1;32m   <a href='file:///Users/nickcrews/Library/Application%20Support/hatch/env/virtual/mismo-5Vu_DQpX/mismo/lib/python3.9/site-packages/vaex/dataframe.py?line=1913'>1914</a>\u001b[0m         match \u001b[39m=\u001b[39m re\u001b[39m.\u001b[39mmatch(\u001b[39mr\u001b[39m\u001b[39m\"\u001b[39m\u001b[39m([\u001b[39m\u001b[39m\\\u001b[39m\u001b[39md.]*)(\u001b[39m\u001b[39m\\\u001b[39m\u001b[39mD*)\u001b[39m\u001b[39m\"\u001b[39m, value)\n",
      "File \u001b[0;32m~/Library/Application Support/hatch/env/virtual/mismo-5Vu_DQpX/mismo/lib/python3.9/site-packages/vaex/dataframe.py:1530\u001b[0m, in \u001b[0;36mDataFrame.minmax\u001b[0;34m(self, expression, binby, limits, shape, selection, delay, progress)\u001b[0m\n\u001b[1;32m   <a href='file:///Users/nickcrews/Library/Application%20Support/hatch/env/virtual/mismo-5Vu_DQpX/mismo/lib/python3.9/site-packages/vaex/dataframe.py?line=1527'>1528</a>\u001b[0m column_names \u001b[39m=\u001b[39m \u001b[39mself\u001b[39m\u001b[39m.\u001b[39mget_column_names(hidden\u001b[39m=\u001b[39m\u001b[39mTrue\u001b[39;00m)\n\u001b[1;32m   <a href='file:///Users/nickcrews/Library/Application%20Support/hatch/env/virtual/mismo-5Vu_DQpX/mismo/lib/python3.9/site-packages/vaex/dataframe.py?line=1528'>1529</a>\u001b[0m expressions \u001b[39m=\u001b[39m [vaex\u001b[39m.\u001b[39mutils\u001b[39m.\u001b[39mvalid_expression(column_names, k) \u001b[39mfor\u001b[39;00m k \u001b[39min\u001b[39;00m expressions]\n\u001b[0;32m-> <a href='file:///Users/nickcrews/Library/Application%20Support/hatch/env/virtual/mismo-5Vu_DQpX/mismo/lib/python3.9/site-packages/vaex/dataframe.py?line=1529'>1530</a>\u001b[0m data_types \u001b[39m=\u001b[39m [\u001b[39mself\u001b[39m\u001b[39m.\u001b[39mdata_type(expr) \u001b[39mfor\u001b[39;00m expr \u001b[39min\u001b[39;00m expressions]\n\u001b[1;32m   <a href='file:///Users/nickcrews/Library/Application%20Support/hatch/env/virtual/mismo-5Vu_DQpX/mismo/lib/python3.9/site-packages/vaex/dataframe.py?line=1530'>1531</a>\u001b[0m data_type0 \u001b[39m=\u001b[39m data_types[\u001b[39m0\u001b[39m]\n\u001b[1;32m   <a href='file:///Users/nickcrews/Library/Application%20Support/hatch/env/virtual/mismo-5Vu_DQpX/mismo/lib/python3.9/site-packages/vaex/dataframe.py?line=1531'>1532</a>\u001b[0m \u001b[39m# special case that we supported mixed endianness for ndarrays\u001b[39;00m\n",
      "File \u001b[0;32m~/Library/Application Support/hatch/env/virtual/mismo-5Vu_DQpX/mismo/lib/python3.9/site-packages/vaex/dataframe.py:1530\u001b[0m, in \u001b[0;36m<listcomp>\u001b[0;34m(.0)\u001b[0m\n\u001b[1;32m   <a href='file:///Users/nickcrews/Library/Application%20Support/hatch/env/virtual/mismo-5Vu_DQpX/mismo/lib/python3.9/site-packages/vaex/dataframe.py?line=1527'>1528</a>\u001b[0m column_names \u001b[39m=\u001b[39m \u001b[39mself\u001b[39m\u001b[39m.\u001b[39mget_column_names(hidden\u001b[39m=\u001b[39m\u001b[39mTrue\u001b[39;00m)\n\u001b[1;32m   <a href='file:///Users/nickcrews/Library/Application%20Support/hatch/env/virtual/mismo-5Vu_DQpX/mismo/lib/python3.9/site-packages/vaex/dataframe.py?line=1528'>1529</a>\u001b[0m expressions \u001b[39m=\u001b[39m [vaex\u001b[39m.\u001b[39mutils\u001b[39m.\u001b[39mvalid_expression(column_names, k) \u001b[39mfor\u001b[39;00m k \u001b[39min\u001b[39;00m expressions]\n\u001b[0;32m-> <a href='file:///Users/nickcrews/Library/Application%20Support/hatch/env/virtual/mismo-5Vu_DQpX/mismo/lib/python3.9/site-packages/vaex/dataframe.py?line=1529'>1530</a>\u001b[0m data_types \u001b[39m=\u001b[39m [\u001b[39mself\u001b[39;49m\u001b[39m.\u001b[39;49mdata_type(expr) \u001b[39mfor\u001b[39;00m expr \u001b[39min\u001b[39;00m expressions]\n\u001b[1;32m   <a href='file:///Users/nickcrews/Library/Application%20Support/hatch/env/virtual/mismo-5Vu_DQpX/mismo/lib/python3.9/site-packages/vaex/dataframe.py?line=1530'>1531</a>\u001b[0m data_type0 \u001b[39m=\u001b[39m data_types[\u001b[39m0\u001b[39m]\n\u001b[1;32m   <a href='file:///Users/nickcrews/Library/Application%20Support/hatch/env/virtual/mismo-5Vu_DQpX/mismo/lib/python3.9/site-packages/vaex/dataframe.py?line=1531'>1532</a>\u001b[0m \u001b[39m# special case that we supported mixed endianness for ndarrays\u001b[39;00m\n",
      "File \u001b[0;32m~/Library/Application Support/hatch/env/virtual/mismo-5Vu_DQpX/mismo/lib/python3.9/site-packages/vaex/dataframe.py:2270\u001b[0m, in \u001b[0;36mDataFrame.data_type\u001b[0;34m(self, expression, array_type, internal, axis)\u001b[0m\n\u001b[1;32m   <a href='file:///Users/nickcrews/Library/Application%20Support/hatch/env/virtual/mismo-5Vu_DQpX/mismo/lib/python3.9/site-packages/vaex/dataframe.py?line=2267'>2268</a>\u001b[0m         data \u001b[39m=\u001b[39m \u001b[39mself\u001b[39m\u001b[39m.\u001b[39mevaluate(expression, \u001b[39m0\u001b[39m, \u001b[39m1\u001b[39m, filtered\u001b[39m=\u001b[39m\u001b[39mFalse\u001b[39;00m, array_type\u001b[39m=\u001b[39marray_type, parallel\u001b[39m=\u001b[39m\u001b[39mFalse\u001b[39;00m)\n\u001b[1;32m   <a href='file:///Users/nickcrews/Library/Application%20Support/hatch/env/virtual/mismo-5Vu_DQpX/mismo/lib/python3.9/site-packages/vaex/dataframe.py?line=2268'>2269</a>\u001b[0m     \u001b[39mexcept\u001b[39;00m:\n\u001b[0;32m-> <a href='file:///Users/nickcrews/Library/Application%20Support/hatch/env/virtual/mismo-5Vu_DQpX/mismo/lib/python3.9/site-packages/vaex/dataframe.py?line=2269'>2270</a>\u001b[0m         data \u001b[39m=\u001b[39m \u001b[39mself\u001b[39;49m\u001b[39m.\u001b[39;49mevaluate(expression, \u001b[39m0\u001b[39;49m, \u001b[39m1\u001b[39;49m, filtered\u001b[39m=\u001b[39;49m\u001b[39mTrue\u001b[39;49;00m, array_type\u001b[39m=\u001b[39;49marray_type, parallel\u001b[39m=\u001b[39;49m\u001b[39mFalse\u001b[39;49;00m)\n\u001b[1;32m   <a href='file:///Users/nickcrews/Library/Application%20Support/hatch/env/virtual/mismo-5Vu_DQpX/mismo/lib/python3.9/site-packages/vaex/dataframe.py?line=2270'>2271</a>\u001b[0m \u001b[39mif\u001b[39;00m data_type \u001b[39mis\u001b[39;00m \u001b[39mNone\u001b[39;00m:\n\u001b[1;32m   <a href='file:///Users/nickcrews/Library/Application%20Support/hatch/env/virtual/mismo-5Vu_DQpX/mismo/lib/python3.9/site-packages/vaex/dataframe.py?line=2271'>2272</a>\u001b[0m     \u001b[39m# means we have to determine it from the data\u001b[39;00m\n\u001b[1;32m   <a href='file:///Users/nickcrews/Library/Application%20Support/hatch/env/virtual/mismo-5Vu_DQpX/mismo/lib/python3.9/site-packages/vaex/dataframe.py?line=2272'>2273</a>\u001b[0m     \u001b[39mif\u001b[39;00m \u001b[39misinstance\u001b[39m(data, np\u001b[39m.\u001b[39mndarray):\n",
      "File \u001b[0;32m~/Library/Application Support/hatch/env/virtual/mismo-5Vu_DQpX/mismo/lib/python3.9/site-packages/vaex/dataframe.py:3090\u001b[0m, in \u001b[0;36mDataFrame.evaluate\u001b[0;34m(self, expression, i1, i2, out, selection, filtered, array_type, parallel, chunk_size, progress)\u001b[0m\n\u001b[1;32m   <a href='file:///Users/nickcrews/Library/Application%20Support/hatch/env/virtual/mismo-5Vu_DQpX/mismo/lib/python3.9/site-packages/vaex/dataframe.py?line=3087'>3088</a>\u001b[0m     \u001b[39mreturn\u001b[39;00m \u001b[39mself\u001b[39m\u001b[39m.\u001b[39mevaluate_iterator(expression, s1\u001b[39m=\u001b[39mi1, s2\u001b[39m=\u001b[39mi2, out\u001b[39m=\u001b[39mout, selection\u001b[39m=\u001b[39mselection, filtered\u001b[39m=\u001b[39mfiltered, array_type\u001b[39m=\u001b[39marray_type, parallel\u001b[39m=\u001b[39mparallel, chunk_size\u001b[39m=\u001b[39mchunk_size, progress\u001b[39m=\u001b[39mprogress)\n\u001b[1;32m   <a href='file:///Users/nickcrews/Library/Application%20Support/hatch/env/virtual/mismo-5Vu_DQpX/mismo/lib/python3.9/site-packages/vaex/dataframe.py?line=3088'>3089</a>\u001b[0m \u001b[39melse\u001b[39;00m:\n\u001b[0;32m-> <a href='file:///Users/nickcrews/Library/Application%20Support/hatch/env/virtual/mismo-5Vu_DQpX/mismo/lib/python3.9/site-packages/vaex/dataframe.py?line=3089'>3090</a>\u001b[0m     \u001b[39mreturn\u001b[39;00m \u001b[39mself\u001b[39;49m\u001b[39m.\u001b[39;49m_evaluate_implementation(expression, i1\u001b[39m=\u001b[39;49mi1, i2\u001b[39m=\u001b[39;49mi2, out\u001b[39m=\u001b[39;49mout, selection\u001b[39m=\u001b[39;49mselection, filtered\u001b[39m=\u001b[39;49mfiltered, array_type\u001b[39m=\u001b[39;49marray_type, parallel\u001b[39m=\u001b[39;49mparallel, chunk_size\u001b[39m=\u001b[39;49mchunk_size, progress\u001b[39m=\u001b[39;49mprogress)\n",
      "File \u001b[0;32m~/Library/Application Support/hatch/env/virtual/mismo-5Vu_DQpX/mismo/lib/python3.9/site-packages/vaex/dataframe.py:6509\u001b[0m, in \u001b[0;36mDataFrameLocal._evaluate_implementation\u001b[0;34m(self, expression, i1, i2, out, selection, filtered, array_type, parallel, chunk_size, raw, progress)\u001b[0m\n\u001b[1;32m   <a href='file:///Users/nickcrews/Library/Application%20Support/hatch/env/virtual/mismo-5Vu_DQpX/mismo/lib/python3.9/site-packages/vaex/dataframe.py?line=6505'>6506</a>\u001b[0m block_scope\u001b[39m.\u001b[39mmask \u001b[39m=\u001b[39m filter_mask\n\u001b[1;32m   <a href='file:///Users/nickcrews/Library/Application%20Support/hatch/env/virtual/mismo-5Vu_DQpX/mismo/lib/python3.9/site-packages/vaex/dataframe.py?line=6507'>6508</a>\u001b[0m \u001b[39mfor\u001b[39;00m expression \u001b[39min\u001b[39;00m expressions:\n\u001b[0;32m-> <a href='file:///Users/nickcrews/Library/Application%20Support/hatch/env/virtual/mismo-5Vu_DQpX/mismo/lib/python3.9/site-packages/vaex/dataframe.py?line=6508'>6509</a>\u001b[0m     value \u001b[39m=\u001b[39m block_scope\u001b[39m.\u001b[39;49mevaluate(expression)\n\u001b[1;32m   <a href='file:///Users/nickcrews/Library/Application%20Support/hatch/env/virtual/mismo-5Vu_DQpX/mismo/lib/python3.9/site-packages/vaex/dataframe.py?line=6509'>6510</a>\u001b[0m     value \u001b[39m=\u001b[39m array_types\u001b[39m.\u001b[39mconvert(value, array_type)\n\u001b[1;32m   <a href='file:///Users/nickcrews/Library/Application%20Support/hatch/env/virtual/mismo-5Vu_DQpX/mismo/lib/python3.9/site-packages/vaex/dataframe.py?line=6510'>6511</a>\u001b[0m     values\u001b[39m.\u001b[39mappend(value)\n",
      "File \u001b[0;32m~/Library/Application Support/hatch/env/virtual/mismo-5Vu_DQpX/mismo/lib/python3.9/site-packages/vaex/scopes.py:119\u001b[0m, in \u001b[0;36m_BlockScope.evaluate\u001b[0;34m(self, expression, out)\u001b[0m\n\u001b[1;32m    <a href='file:///Users/nickcrews/Library/Application%20Support/hatch/env/virtual/mismo-5Vu_DQpX/mismo/lib/python3.9/site-packages/vaex/scopes.py?line=112'>113</a>\u001b[0m     result \u001b[39m=\u001b[39m \u001b[39mself\u001b[39m[expression]\n\u001b[1;32m    <a href='file:///Users/nickcrews/Library/Application%20Support/hatch/env/virtual/mismo-5Vu_DQpX/mismo/lib/python3.9/site-packages/vaex/scopes.py?line=113'>114</a>\u001b[0m \u001b[39mexcept\u001b[39;00m \u001b[39mKeyError\u001b[39;00m:\n\u001b[1;32m    <a href='file:///Users/nickcrews/Library/Application%20Support/hatch/env/virtual/mismo-5Vu_DQpX/mismo/lib/python3.9/site-packages/vaex/scopes.py?line=114'>115</a>\u001b[0m     \u001b[39m# logger.debug(\"no luck, eval: %s\", expression)\u001b[39;00m\n\u001b[1;32m    <a href='file:///Users/nickcrews/Library/Application%20Support/hatch/env/virtual/mismo-5Vu_DQpX/mismo/lib/python3.9/site-packages/vaex/scopes.py?line=115'>116</a>\u001b[0m     \u001b[39m# result = ne.evaluate(expression, local_dict=self, out=out)\u001b[39;00m\n\u001b[1;32m    <a href='file:///Users/nickcrews/Library/Application%20Support/hatch/env/virtual/mismo-5Vu_DQpX/mismo/lib/python3.9/site-packages/vaex/scopes.py?line=116'>117</a>\u001b[0m     \u001b[39m# logger.debug(\"in eval\")\u001b[39;00m\n\u001b[1;32m    <a href='file:///Users/nickcrews/Library/Application%20Support/hatch/env/virtual/mismo-5Vu_DQpX/mismo/lib/python3.9/site-packages/vaex/scopes.py?line=117'>118</a>\u001b[0m     \u001b[39m# eval(\"def f(\")\u001b[39;00m\n\u001b[0;32m--> <a href='file:///Users/nickcrews/Library/Application%20Support/hatch/env/virtual/mismo-5Vu_DQpX/mismo/lib/python3.9/site-packages/vaex/scopes.py?line=118'>119</a>\u001b[0m     result \u001b[39m=\u001b[39m \u001b[39meval\u001b[39;49m(expression, expression_namespace, \u001b[39mself\u001b[39;49m)\n\u001b[1;32m    <a href='file:///Users/nickcrews/Library/Application%20Support/hatch/env/virtual/mismo-5Vu_DQpX/mismo/lib/python3.9/site-packages/vaex/scopes.py?line=119'>120</a>\u001b[0m     result \u001b[39m=\u001b[39m auto_encode(\u001b[39mself\u001b[39m\u001b[39m.\u001b[39mdf, expression, result)\n\u001b[1;32m    <a href='file:///Users/nickcrews/Library/Application%20Support/hatch/env/virtual/mismo-5Vu_DQpX/mismo/lib/python3.9/site-packages/vaex/scopes.py?line=120'>121</a>\u001b[0m     \u001b[39mself\u001b[39m\u001b[39m.\u001b[39mvalues[expression] \u001b[39m=\u001b[39m wrap(result)\n",
      "\u001b[0;31mTypeError\u001b[0m: eval() arg 1 must be a string, bytes or code object"
     ]
    },
    {
     "data": {
      "text/plain": [
       "<Figure size 432x288 with 0 Axes>"
      ]
     },
     "metadata": {},
     "output_type": "display_data"
    }
   ],
   "source": [
    "links_df.plot()"
   ]
  },
  {
   "cell_type": "code",
   "execution_count": 65,
   "metadata": {},
   "outputs": [],
   "source": [
    "import numpy as np\n",
    "\n",
    "x = [1.1, np.nan, np.nan, 4.4, 5.5]\n",
    "y = [\"dog\", \"dog\", None, \"cat\", None]\n",
    "df = vaex.from_arrays(x=x, y=y)"
   ]
  },
  {
   "cell_type": "code",
   "execution_count": 68,
   "metadata": {},
   "outputs": [
    {
     "data": {
      "text/html": [
       "<table>\n",
       "<thead>\n",
       "<tr><th>#                            </th><th style=\"text-align: right;\">  x</th><th>y  </th></tr>\n",
       "</thead>\n",
       "<tbody>\n",
       "<tr><td><i style='opacity: 0.6'>0</i></td><td style=\"text-align: right;\">1.1</td><td>dog</td></tr>\n",
       "<tr><td><i style='opacity: 0.6'>1</i></td><td style=\"text-align: right;\">4.4</td><td>cat</td></tr>\n",
       "</tbody>\n",
       "</table>"
      ],
      "text/plain": [
       "  #    x  y\n",
       "  0  1.1  dog\n",
       "  1  4.4  cat"
      ]
     },
     "execution_count": 68,
     "metadata": {},
     "output_type": "execute_result"
    }
   ],
   "source": [
    "df.dropna()"
   ]
  },
  {
   "cell_type": "code",
   "execution_count": 57,
   "metadata": {},
   "outputs": [
    {
     "data": {
      "text/html": [
       "<table>\n",
       "<thead>\n",
       "<tr><th>#                            </th><th style=\"text-align: right;\">  key_left</th><th style=\"text-align: right;\">  iloc_left</th><th style=\"text-align: right;\">  key_right</th><th style=\"text-align: right;\">  iloc_right</th><th>links             </th></tr>\n",
       "</thead>\n",
       "<tbody>\n",
       "<tr><td><i style='opacity: 0.6'>0</i></td><td style=\"text-align: right;\">3627299430</td><td style=\"text-align: right;\">          1</td><td style=\"text-align: right;\"> 3627299430</td><td style=\"text-align: right;\">           6</td><td>{&#x27;x&#x27;: 54, &#x27;y&#x27;: 62}</td></tr>\n",
       "<tr><td><i style='opacity: 0.6'>1</i></td><td style=\"text-align: right;\">2698029969</td><td style=\"text-align: right;\">          9</td><td style=\"text-align: right;\"> 2698029969</td><td style=\"text-align: right;\">          39</td><td>{&#x27;x&#x27;: 53, &#x27;y&#x27;: 10}</td></tr>\n",
       "<tr><td><i style='opacity: 0.6'>2</i></td><td style=\"text-align: right;\">2109566629</td><td style=\"text-align: right;\">         10</td><td style=\"text-align: right;\"> 2109566629</td><td style=\"text-align: right;\">          45</td><td>{&#x27;x&#x27;: 53, &#x27;y&#x27;: 15}</td></tr>\n",
       "</tbody>\n",
       "</table>"
      ],
      "text/plain": [
       "  #    key_left    iloc_left    key_right    iloc_right  links\n",
       "  0  3627299430            1   3627299430             6  {'x': 54, 'y': 62}\n",
       "  1  2698029969            9   2698029969            39  {'x': 53, 'y': 10}\n",
       "  2  2109566629           10   2109566629            45  {'x': 53, 'y': 15}"
      ]
     },
     "execution_count": 57,
     "metadata": {},
     "output_type": "execute_result"
    }
   ],
   "source": [
    "links[\"links\"] = links_exp\n",
    "links"
   ]
  },
  {
   "cell_type": "code",
   "execution_count": 58,
   "metadata": {},
   "outputs": [
    {
     "data": {
      "text/html": [
       "<table>\n",
       "<thead>\n",
       "<tr><th>#                            </th><th style=\"text-align: right;\">  key_left</th><th style=\"text-align: right;\">  iloc_left</th><th style=\"text-align: right;\">  key_right</th><th style=\"text-align: right;\">  iloc_right</th><th>links             </th></tr>\n",
       "</thead>\n",
       "<tbody>\n",
       "<tr><td><i style='opacity: 0.6'>0</i></td><td style=\"text-align: right;\">3627299430</td><td style=\"text-align: right;\">          1</td><td style=\"text-align: right;\"> 3627299430</td><td style=\"text-align: right;\">           6</td><td>{&#x27;x&#x27;: 54, &#x27;y&#x27;: 62}</td></tr>\n",
       "<tr><td><i style='opacity: 0.6'>1</i></td><td style=\"text-align: right;\">2698029969</td><td style=\"text-align: right;\">          9</td><td style=\"text-align: right;\"> 2698029969</td><td style=\"text-align: right;\">          39</td><td>{&#x27;x&#x27;: 53, &#x27;y&#x27;: 10}</td></tr>\n",
       "<tr><td><i style='opacity: 0.6'>2</i></td><td style=\"text-align: right;\">2109566629</td><td style=\"text-align: right;\">         10</td><td style=\"text-align: right;\"> 2109566629</td><td style=\"text-align: right;\">          45</td><td>{&#x27;x&#x27;: 53, &#x27;y&#x27;: 15}</td></tr>\n",
       "</tbody>\n",
       "</table>"
      ],
      "text/plain": [
       "  #    key_left    iloc_left    key_right    iloc_right  links\n",
       "  0  3627299430            1   3627299430             6  {'x': 54, 'y': 62}\n",
       "  1  2698029969            9   2698029969            39  {'x': 53, 'y': 10}\n",
       "  2  2109566629           10   2109566629            45  {'x': 53, 'y': 15}"
      ]
     },
     "execution_count": 58,
     "metadata": {},
     "output_type": "execute_result"
    }
   ],
   "source": [
    "links.drop_filter()"
   ]
  },
  {
   "cell_type": "code",
   "execution_count": 5,
   "metadata": {},
   "outputs": [],
   "source": [
    "from mismo.block import Equals, FingerprintBlocker"
   ]
  },
  {
   "cell_type": "code",
   "execution_count": 24,
   "metadata": {},
   "outputs": [
    {
     "data": {
      "text/plain": [
       "<mismo.block.blocker.FingerprintBlocker at 0x1314609a0>"
      ]
     },
     "execution_count": 24,
     "metadata": {},
     "output_type": "execute_result"
    }
   ],
   "source": [
    "b = FingerprintBlocker(Equals(\"surname\"))\n",
    "b"
   ]
  },
  {
   "cell_type": "code",
   "execution_count": 27,
   "metadata": {},
   "outputs": [
    {
     "name": "stderr",
     "output_type": "stream",
     "text": [
      "UserWarning: Distributing <class 'dict'> object. This may take some time.\n",
      "UserWarning: sort_values defaulting to pandas implementation.\n"
     ]
    },
    {
     "data": {
      "text/html": [
       "<div>\n",
       "<style scoped>\n",
       "    .dataframe tbody tr th:only-of-type {\n",
       "        vertical-align: middle;\n",
       "    }\n",
       "\n",
       "    .dataframe tbody tr th {\n",
       "        vertical-align: top;\n",
       "    }\n",
       "\n",
       "    .dataframe thead th {\n",
       "        text-align: right;\n",
       "    }\n",
       "</style>\n",
       "<table border=\"1\" class=\"dataframe\">\n",
       "  <thead>\n",
       "    <tr style=\"text-align: right;\">\n",
       "      <th></th>\n",
       "      <th>index_1</th>\n",
       "      <th>index_2</th>\n",
       "    </tr>\n",
       "  </thead>\n",
       "  <tbody>\n",
       "    <tr>\n",
       "      <th>0</th>\n",
       "      <td>0</td>\n",
       "      <td>0</td>\n",
       "    </tr>\n",
       "    <tr>\n",
       "      <th>1</th>\n",
       "      <td>1</td>\n",
       "      <td>1</td>\n",
       "    </tr>\n",
       "    <tr>\n",
       "      <th>2</th>\n",
       "      <td>1</td>\n",
       "      <td>46</td>\n",
       "    </tr>\n",
       "    <tr>\n",
       "      <th>3</th>\n",
       "      <td>1</td>\n",
       "      <td>222</td>\n",
       "    </tr>\n",
       "    <tr>\n",
       "      <th>4</th>\n",
       "      <td>1</td>\n",
       "      <td>258</td>\n",
       "    </tr>\n",
       "    <tr>\n",
       "      <th>...</th>\n",
       "      <td>...</td>\n",
       "      <td>...</td>\n",
       "    </tr>\n",
       "    <tr>\n",
       "      <th>4715</th>\n",
       "      <td>998</td>\n",
       "      <td>998</td>\n",
       "    </tr>\n",
       "    <tr>\n",
       "      <th>4716</th>\n",
       "      <td>999</td>\n",
       "      <td>127</td>\n",
       "    </tr>\n",
       "    <tr>\n",
       "      <th>4717</th>\n",
       "      <td>999</td>\n",
       "      <td>536</td>\n",
       "    </tr>\n",
       "    <tr>\n",
       "      <th>4718</th>\n",
       "      <td>999</td>\n",
       "      <td>594</td>\n",
       "    </tr>\n",
       "    <tr>\n",
       "      <th>4719</th>\n",
       "      <td>999</td>\n",
       "      <td>999</td>\n",
       "    </tr>\n",
       "  </tbody>\n",
       "</table>\n",
       "<p>4720 rows x 2 columns</p>\n",
       "</div>"
      ],
      "text/plain": [
       "      index_1  index_2\n",
       "0           0        0\n",
       "1           1        1\n",
       "2           1       46\n",
       "3           1      222\n",
       "4           1      258\n",
       "...       ...      ...\n",
       "4715      998      998\n",
       "4716      999      127\n",
       "4717      999      536\n",
       "4718      999      594\n",
       "4719      999      999\n",
       "\n",
       "[4720 rows x 2 columns]"
      ]
     },
     "execution_count": 27,
     "metadata": {},
     "output_type": "execute_result"
    }
   ],
   "source": [
    "block_map = b.block(df, df)\n",
    "block_map"
   ]
  },
  {
   "cell_type": "code",
   "execution_count": 1,
   "metadata": {},
   "outputs": [],
   "source": [
    "from mismo.block._blocker import set_cover"
   ]
  },
  {
   "cell_type": "code",
   "execution_count": 2,
   "metadata": {},
   "outputs": [],
   "source": [
    "import pandas as pd"
   ]
  },
  {
   "cell_type": "code",
   "execution_count": 4,
   "metadata": {},
   "outputs": [
    {
     "data": {
      "text/plain": [
       "[0, 2]"
      ]
     },
     "execution_count": 4,
     "metadata": {},
     "output_type": "execute_result"
    }
   ],
   "source": [
    "universe = pd.Series([0, 1, 2, 3, 4])\n",
    "s0 = pd.Series([0, 1])  # this chosen first\n",
    "s1 = pd.Series([0])  # shouldn't get chosen\n",
    "s3 = pd.Series([2, 5])  # this chosen second\n",
    "s2 = pd.Series([2, 5, 6])  # this not chosen\n",
    "set_cover(universe, [s0, s1, s2, s3])"
   ]
  },
  {
   "cell_type": "code",
   "execution_count": null,
   "metadata": {},
   "outputs": [],
   "source": []
  }
 ],
 "metadata": {
  "interpreter": {
   "hash": "e78e9de428406fb70aaa5b059884c560deb0c475ef30202c8dca5fdfb55b8986"
  },
  "kernelspec": {
   "display_name": "Python 3.10.4 ('mismo')",
   "language": "python",
   "name": "python3"
  },
  "language_info": {
   "codemirror_mode": {
    "name": "ipython",
    "version": 3
   },
   "file_extension": ".py",
   "mimetype": "text/x-python",
   "name": "python",
   "nbconvert_exporter": "python",
   "pygments_lexer": "ipython3",
   "version": "3.10.4"
  },
  "orig_nbformat": 4
 },
 "nbformat": 4,
 "nbformat_minor": 2
}
