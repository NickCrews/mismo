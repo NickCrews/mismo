{
 "cells": [
  {
   "cell_type": "code",
   "execution_count": 32,
   "metadata": {},
   "outputs": [],
   "source": [
    "from mismo.block._strings import norm_whitespace, tokenize\n",
    "from mismo.datasets import load_febrl1\n",
    "\n",
    "import ibis\n",
    "\n",
    "ibis.options.interactive = True\n",
    "ibis.options.repr.table_columns = 100"
   ]
  },
  {
   "cell_type": "code",
   "execution_count": 54,
   "metadata": {},
   "outputs": [
    {
     "data": {
      "text/html": [
       "<pre style=\"white-space:pre;overflow-x:auto;line-height:normal;font-family:Menlo,'DejaVu Sans Mono',consolas,'Courier New',monospace\">┏━━━━━━━━━━━━━━━┳━━━━━━━━━━━━┳━━━━━━━━━━━━┳━━━━━━━━━━━━━━━━━━━┓\n",
       "┃<span style=\"font-weight: bold\"> rec_id        </span>┃<span style=\"font-weight: bold\"> given_name </span>┃<span style=\"font-weight: bold\"> surname    </span>┃<span style=\"font-weight: bold\"> address_1         </span>┃\n",
       "┡━━━━━━━━━━━━━━━╇━━━━━━━━━━━━╇━━━━━━━━━━━━╇━━━━━━━━━━━━━━━━━━━┩\n",
       "│ <span style=\"color: #7f7f7f; text-decoration-color: #7f7f7f\">string</span>        │ <span style=\"color: #7f7f7f; text-decoration-color: #7f7f7f\">string</span>     │ <span style=\"color: #7f7f7f; text-decoration-color: #7f7f7f\">string</span>     │ <span style=\"color: #7f7f7f; text-decoration-color: #7f7f7f\">string</span>            │\n",
       "├───────────────┼────────────┼────────────┼───────────────────┤\n",
       "│ rec-223-org   │ <span style=\"color: #7f7f7f; text-decoration-color: #7f7f7f\">∅</span>          │ waller     │ tullaroop street  │\n",
       "│ rec-122-org   │ lachlan    │ berry      │ giblin street     │\n",
       "│ rec-373-org   │ deakin     │ sondergeld │ goldfinch circuit │\n",
       "│ rec-10-dup-0  │ kayla      │ harrington │ maltby circuit    │\n",
       "│ rec-227-org   │ luke       │ purdon     │ ramsay place      │\n",
       "│ rec-6-dup-0   │ <span style=\"color: #7f7f7f; text-decoration-color: #7f7f7f\">∅</span>          │ trevorrow  │ dumas street      │\n",
       "│ rec-190-dup-0 │ darcie     │ turtur     │ blacket street    │\n",
       "│ rec-294-org   │ william    │ bishop     │ neworra place     │\n",
       "│ rec-206-dup-0 │ <span style=\"color: #7f7f7f; text-decoration-color: #7f7f7f\">∅</span>          │ lombardi   │ yerralee road     │\n",
       "│ rec-344-org   │ <span style=\"color: #7f7f7f; text-decoration-color: #7f7f7f\">∅</span>          │ julius     │ florey drive      │\n",
       "└───────────────┴────────────┴────────────┴───────────────────┘\n",
       "</pre>\n"
      ],
      "text/plain": [
       "┏━━━━━━━━━━━━━━━┳━━━━━━━━━━━━┳━━━━━━━━━━━━┳━━━━━━━━━━━━━━━━━━━┓\n",
       "┃\u001b[1m \u001b[0m\u001b[1mrec_id\u001b[0m\u001b[1m       \u001b[0m\u001b[1m \u001b[0m┃\u001b[1m \u001b[0m\u001b[1mgiven_name\u001b[0m\u001b[1m \u001b[0m┃\u001b[1m \u001b[0m\u001b[1msurname\u001b[0m\u001b[1m   \u001b[0m\u001b[1m \u001b[0m┃\u001b[1m \u001b[0m\u001b[1maddress_1\u001b[0m\u001b[1m        \u001b[0m\u001b[1m \u001b[0m┃\n",
       "┡━━━━━━━━━━━━━━━╇━━━━━━━━━━━━╇━━━━━━━━━━━━╇━━━━━━━━━━━━━━━━━━━┩\n",
       "│ \u001b[2mstring\u001b[0m        │ \u001b[2mstring\u001b[0m     │ \u001b[2mstring\u001b[0m     │ \u001b[2mstring\u001b[0m            │\n",
       "├───────────────┼────────────┼────────────┼───────────────────┤\n",
       "│ rec-223-org   │ \u001b[2m∅\u001b[0m          │ waller     │ tullaroop street  │\n",
       "│ rec-122-org   │ lachlan    │ berry      │ giblin street     │\n",
       "│ rec-373-org   │ deakin     │ sondergeld │ goldfinch circuit │\n",
       "│ rec-10-dup-0  │ kayla      │ harrington │ maltby circuit    │\n",
       "│ rec-227-org   │ luke       │ purdon     │ ramsay place      │\n",
       "│ rec-6-dup-0   │ \u001b[2m∅\u001b[0m          │ trevorrow  │ dumas street      │\n",
       "│ rec-190-dup-0 │ darcie     │ turtur     │ blacket street    │\n",
       "│ rec-294-org   │ william    │ bishop     │ neworra place     │\n",
       "│ rec-206-dup-0 │ \u001b[2m∅\u001b[0m          │ lombardi   │ yerralee road     │\n",
       "│ rec-344-org   │ \u001b[2m∅\u001b[0m          │ julius     │ florey drive      │\n",
       "└───────────────┴────────────┴────────────┴───────────────────┘"
      ]
     },
     "execution_count": 54,
     "metadata": {},
     "output_type": "execute_result"
    }
   ],
   "source": [
    "t, links = load_febrl1()\n",
    "t = t[\"rec_id\", \"given_name\", \"surname\", \"address_1\"]\n",
    "t = t.head(10)\n",
    "t"
   ]
  },
  {
   "cell_type": "code",
   "execution_count": 37,
   "metadata": {},
   "outputs": [
    {
     "data": {
      "text/html": [
       "<pre style=\"white-space:pre;overflow-x:auto;line-height:normal;font-family:Menlo,'DejaVu Sans Mono',consolas,'Courier New',monospace\">┏━━━━━━━━━━━━━┳━━━━━━━━━━━━┳━━━━━━━━━━┳━━━━━━━━━━━━━━━━━━━┓\n",
       "┃<span style=\"font-weight: bold\"> rec_id      </span>┃<span style=\"font-weight: bold\"> given_name </span>┃<span style=\"font-weight: bold\"> surname  </span>┃<span style=\"font-weight: bold\"> address_1         </span>┃\n",
       "┡━━━━━━━━━━━━━╇━━━━━━━━━━━━╇━━━━━━━━━━╇━━━━━━━━━━━━━━━━━━━┩\n",
       "│ <span style=\"color: #7f7f7f; text-decoration-color: #7f7f7f\">string</span>      │ <span style=\"color: #7f7f7f; text-decoration-color: #7f7f7f\">string</span>     │ <span style=\"color: #7f7f7f; text-decoration-color: #7f7f7f\">string</span>   │ <span style=\"color: #7f7f7f; text-decoration-color: #7f7f7f\">string</span>            │\n",
       "├─────────────┼────────────┼──────────┼───────────────────┤\n",
       "│ rec-0-org   │ flynn      │ rokobaro │ herschell circuit │\n",
       "│ rec-0-dup-0 │ thomas     │ rokobaro │ herschell circuit │\n",
       "└─────────────┴────────────┴──────────┴───────────────────┘\n",
       "</pre>\n"
      ],
      "text/plain": [
       "┏━━━━━━━━━━━━━┳━━━━━━━━━━━━┳━━━━━━━━━━┳━━━━━━━━━━━━━━━━━━━┓\n",
       "┃\u001b[1m \u001b[0m\u001b[1mrec_id\u001b[0m\u001b[1m     \u001b[0m\u001b[1m \u001b[0m┃\u001b[1m \u001b[0m\u001b[1mgiven_name\u001b[0m\u001b[1m \u001b[0m┃\u001b[1m \u001b[0m\u001b[1msurname\u001b[0m\u001b[1m \u001b[0m\u001b[1m \u001b[0m┃\u001b[1m \u001b[0m\u001b[1maddress_1\u001b[0m\u001b[1m        \u001b[0m\u001b[1m \u001b[0m┃\n",
       "┡━━━━━━━━━━━━━╇━━━━━━━━━━━━╇━━━━━━━━━━╇━━━━━━━━━━━━━━━━━━━┩\n",
       "│ \u001b[2mstring\u001b[0m      │ \u001b[2mstring\u001b[0m     │ \u001b[2mstring\u001b[0m   │ \u001b[2mstring\u001b[0m            │\n",
       "├─────────────┼────────────┼──────────┼───────────────────┤\n",
       "│ rec-0-org   │ flynn      │ rokobaro │ herschell circuit │\n",
       "│ rec-0-dup-0 │ thomas     │ rokobaro │ herschell circuit │\n",
       "└─────────────┴────────────┴──────────┴───────────────────┘"
      ]
     },
     "execution_count": 37,
     "metadata": {},
     "output_type": "execute_result"
    }
   ],
   "source": [
    "ids = {\"rec-0-org\", \"rec-0-dup-0\"}\n",
    "t[t[\"rec_id\"].isin(ids)]"
   ]
  },
  {
   "cell_type": "code",
   "execution_count": 38,
   "metadata": {},
   "outputs": [],
   "source": [
    "from mismo.block._strings import TokenFingerprinter\n",
    "\n",
    "fp = TokenFingerprinter(column=\"address_1\")"
   ]
  },
  {
   "cell_type": "code",
   "execution_count": 39,
   "metadata": {},
   "outputs": [],
   "source": [
    "from mismo.fingerprint import FingerprintBlocker"
   ]
  },
  {
   "cell_type": "code",
   "execution_count": 40,
   "metadata": {},
   "outputs": [
    {
     "data": {
      "text/plain": [
       "<mismo.fingerprint._blocker.FingerprintBlocker at 0x12fb8d670>"
      ]
     },
     "execution_count": 40,
     "metadata": {},
     "output_type": "execute_result"
    }
   ],
   "source": [
    "fpb = FingerprintBlocker([(fp, fp)])\n",
    "fpb"
   ]
  },
  {
   "cell_type": "code",
   "execution_count": 47,
   "metadata": {},
   "outputs": [
    {
     "data": {
      "text/html": [
       "<pre style=\"white-space:pre;overflow-x:auto;line-height:normal;font-family:Menlo,'DejaVu Sans Mono',consolas,'Courier New',monospace\">┏━━━━━━━━━━━━━┳━━━━━━━━━━━━━━┳━━━━━━━━━━━┳━━━━━━━━━━━━━━━━━━┳━━━━━━━━━━━━━┳━━━━━━━━━━━━━━┳━━━━━━━━━━━┳━━━━━━━━━━━━━━━━━━┓\n",
       "┃<span style=\"font-weight: bold\"> rec_id_l    </span>┃<span style=\"font-weight: bold\"> given_name_l </span>┃<span style=\"font-weight: bold\"> surname_l </span>┃<span style=\"font-weight: bold\"> address_1_l      </span>┃<span style=\"font-weight: bold\"> rec_id_r    </span>┃<span style=\"font-weight: bold\"> given_name_r </span>┃<span style=\"font-weight: bold\"> surname_r </span>┃<span style=\"font-weight: bold\"> address_1_r      </span>┃\n",
       "┡━━━━━━━━━━━━━╇━━━━━━━━━━━━━━╇━━━━━━━━━━━╇━━━━━━━━━━━━━━━━━━╇━━━━━━━━━━━━━╇━━━━━━━━━━━━━━╇━━━━━━━━━━━╇━━━━━━━━━━━━━━━━━━┩\n",
       "│ <span style=\"color: #7f7f7f; text-decoration-color: #7f7f7f\">string</span>      │ <span style=\"color: #7f7f7f; text-decoration-color: #7f7f7f\">string</span>       │ <span style=\"color: #7f7f7f; text-decoration-color: #7f7f7f\">string</span>    │ <span style=\"color: #7f7f7f; text-decoration-color: #7f7f7f\">string</span>           │ <span style=\"color: #7f7f7f; text-decoration-color: #7f7f7f\">string</span>      │ <span style=\"color: #7f7f7f; text-decoration-color: #7f7f7f\">string</span>       │ <span style=\"color: #7f7f7f; text-decoration-color: #7f7f7f\">string</span>    │ <span style=\"color: #7f7f7f; text-decoration-color: #7f7f7f\">string</span>           │\n",
       "├─────────────┼──────────────┼───────────┼──────────────────┼─────────────┼──────────────┼───────────┼──────────────────┤\n",
       "│ rec-223-org │ <span style=\"color: #7f7f7f; text-decoration-color: #7f7f7f\">∅</span>            │ waller    │ tullaroop street │ rec-223-org │ <span style=\"color: #7f7f7f; text-decoration-color: #7f7f7f\">∅</span>            │ waller    │ tullaroop street │\n",
       "│ rec-223-org │ <span style=\"color: #7f7f7f; text-decoration-color: #7f7f7f\">∅</span>            │ waller    │ tullaroop street │ rec-122-org │ lachlan      │ berry     │ giblin street    │\n",
       "│ rec-122-org │ lachlan      │ berry     │ giblin street    │ rec-122-org │ lachlan      │ berry     │ giblin street    │\n",
       "│ rec-122-org │ lachlan      │ berry     │ giblin street    │ rec-223-org │ <span style=\"color: #7f7f7f; text-decoration-color: #7f7f7f\">∅</span>            │ waller    │ tullaroop street │\n",
       "└─────────────┴──────────────┴───────────┴──────────────────┴─────────────┴──────────────┴───────────┴──────────────────┘\n",
       "</pre>\n"
      ],
      "text/plain": [
       "┏━━━━━━━━━━━━━┳━━━━━━━━━━━━━━┳━━━━━━━━━━━┳━━━━━━━━━━━━━━━━━━┳━━━━━━━━━━━━━┳━━━━━━━━━━━━━━┳━━━━━━━━━━━┳━━━━━━━━━━━━━━━━━━┓\n",
       "┃\u001b[1m \u001b[0m\u001b[1mrec_id_l\u001b[0m\u001b[1m   \u001b[0m\u001b[1m \u001b[0m┃\u001b[1m \u001b[0m\u001b[1mgiven_name_l\u001b[0m\u001b[1m \u001b[0m┃\u001b[1m \u001b[0m\u001b[1msurname_l\u001b[0m\u001b[1m \u001b[0m┃\u001b[1m \u001b[0m\u001b[1maddress_1_l\u001b[0m\u001b[1m     \u001b[0m\u001b[1m \u001b[0m┃\u001b[1m \u001b[0m\u001b[1mrec_id_r\u001b[0m\u001b[1m   \u001b[0m\u001b[1m \u001b[0m┃\u001b[1m \u001b[0m\u001b[1mgiven_name_r\u001b[0m\u001b[1m \u001b[0m┃\u001b[1m \u001b[0m\u001b[1msurname_r\u001b[0m\u001b[1m \u001b[0m┃\u001b[1m \u001b[0m\u001b[1maddress_1_r\u001b[0m\u001b[1m     \u001b[0m\u001b[1m \u001b[0m┃\n",
       "┡━━━━━━━━━━━━━╇━━━━━━━━━━━━━━╇━━━━━━━━━━━╇━━━━━━━━━━━━━━━━━━╇━━━━━━━━━━━━━╇━━━━━━━━━━━━━━╇━━━━━━━━━━━╇━━━━━━━━━━━━━━━━━━┩\n",
       "│ \u001b[2mstring\u001b[0m      │ \u001b[2mstring\u001b[0m       │ \u001b[2mstring\u001b[0m    │ \u001b[2mstring\u001b[0m           │ \u001b[2mstring\u001b[0m      │ \u001b[2mstring\u001b[0m       │ \u001b[2mstring\u001b[0m    │ \u001b[2mstring\u001b[0m           │\n",
       "├─────────────┼──────────────┼───────────┼──────────────────┼─────────────┼──────────────┼───────────┼──────────────────┤\n",
       "│ rec-223-org │ \u001b[2m∅\u001b[0m            │ waller    │ tullaroop street │ rec-223-org │ \u001b[2m∅\u001b[0m            │ waller    │ tullaroop street │\n",
       "│ rec-223-org │ \u001b[2m∅\u001b[0m            │ waller    │ tullaroop street │ rec-122-org │ lachlan      │ berry     │ giblin street    │\n",
       "│ rec-122-org │ lachlan      │ berry     │ giblin street    │ rec-122-org │ lachlan      │ berry     │ giblin street    │\n",
       "│ rec-122-org │ lachlan      │ berry     │ giblin street    │ rec-223-org │ \u001b[2m∅\u001b[0m            │ waller    │ tullaroop street │\n",
       "└─────────────┴──────────────┴───────────┴──────────────────┴─────────────┴──────────────┴───────────┴──────────────────┘"
      ]
     },
     "execution_count": 47,
     "metadata": {},
     "output_type": "execute_result"
    }
   ],
   "source": [
    "fpb.block(t.head(2))"
   ]
  },
  {
   "cell_type": "code",
   "execution_count": 43,
   "metadata": {},
   "outputs": [
    {
     "data": {
      "text/html": [
       "<pre style=\"white-space:pre;overflow-x:auto;line-height:normal;font-family:Menlo,'DejaVu Sans Mono',consolas,'Courier New',monospace\">┏━━━━━━━━━━━━━┳━━━━━━━━━━━━━━┳━━━━━━━━━━━┳━━━━━━━━━━━━━━━━━━┳━━━━━━━━━━━━━┳━━━━━━━━━━━━━┳━━━━━━━━━━━━━━┳━━━━━━━━━━━┳━━━━━━━━━━━━━━━━━━┓\n",
       "┃<span style=\"font-weight: bold\"> rec_id_l    </span>┃<span style=\"font-weight: bold\"> given_name_l </span>┃<span style=\"font-weight: bold\"> surname_l </span>┃<span style=\"font-weight: bold\"> address_1_l      </span>┃<span style=\"font-weight: bold\"> __mismo_key </span>┃<span style=\"font-weight: bold\"> rec_id_r    </span>┃<span style=\"font-weight: bold\"> given_name_r </span>┃<span style=\"font-weight: bold\"> surname_r </span>┃<span style=\"font-weight: bold\"> address_1_r      </span>┃\n",
       "┡━━━━━━━━━━━━━╇━━━━━━━━━━━━━━╇━━━━━━━━━━━╇━━━━━━━━━━━━━━━━━━╇━━━━━━━━━━━━━╇━━━━━━━━━━━━━╇━━━━━━━━━━━━━━╇━━━━━━━━━━━╇━━━━━━━━━━━━━━━━━━┩\n",
       "│ <span style=\"color: #7f7f7f; text-decoration-color: #7f7f7f\">string</span>      │ <span style=\"color: #7f7f7f; text-decoration-color: #7f7f7f\">string</span>       │ <span style=\"color: #7f7f7f; text-decoration-color: #7f7f7f\">string</span>    │ <span style=\"color: #7f7f7f; text-decoration-color: #7f7f7f\">string</span>           │ <span style=\"color: #7f7f7f; text-decoration-color: #7f7f7f\">string</span>      │ <span style=\"color: #7f7f7f; text-decoration-color: #7f7f7f\">string</span>      │ <span style=\"color: #7f7f7f; text-decoration-color: #7f7f7f\">string</span>       │ <span style=\"color: #7f7f7f; text-decoration-color: #7f7f7f\">string</span>    │ <span style=\"color: #7f7f7f; text-decoration-color: #7f7f7f\">string</span>           │\n",
       "├─────────────┼──────────────┼───────────┼──────────────────┼─────────────┼─────────────┼──────────────┼───────────┼──────────────────┤\n",
       "│ rec-223-org │ <span style=\"color: #7f7f7f; text-decoration-color: #7f7f7f\">∅</span>            │ waller    │ tullaroop street │ tullaroop   │ rec-223-org │ <span style=\"color: #7f7f7f; text-decoration-color: #7f7f7f\">∅</span>            │ waller    │ tullaroop street │\n",
       "│ rec-223-org │ <span style=\"color: #7f7f7f; text-decoration-color: #7f7f7f\">∅</span>            │ waller    │ tullaroop street │ street      │ rec-122-org │ lachlan      │ berry     │ giblin street    │\n",
       "│ rec-223-org │ <span style=\"color: #7f7f7f; text-decoration-color: #7f7f7f\">∅</span>            │ waller    │ tullaroop street │ street      │ rec-223-org │ <span style=\"color: #7f7f7f; text-decoration-color: #7f7f7f\">∅</span>            │ waller    │ tullaroop street │\n",
       "│ rec-122-org │ lachlan      │ berry     │ giblin street    │ giblin      │ rec-122-org │ lachlan      │ berry     │ giblin street    │\n",
       "│ rec-122-org │ lachlan      │ berry     │ giblin street    │ street      │ rec-122-org │ lachlan      │ berry     │ giblin street    │\n",
       "│ rec-122-org │ lachlan      │ berry     │ giblin street    │ street      │ rec-223-org │ <span style=\"color: #7f7f7f; text-decoration-color: #7f7f7f\">∅</span>            │ waller    │ tullaroop street │\n",
       "└─────────────┴──────────────┴───────────┴──────────────────┴─────────────┴─────────────┴──────────────┴───────────┴──────────────────┘\n",
       "</pre>\n"
      ],
      "text/plain": [
       "┏━━━━━━━━━━━━━┳━━━━━━━━━━━━━━┳━━━━━━━━━━━┳━━━━━━━━━━━━━━━━━━┳━━━━━━━━━━━━━┳━━━━━━━━━━━━━┳━━━━━━━━━━━━━━┳━━━━━━━━━━━┳━━━━━━━━━━━━━━━━━━┓\n",
       "┃\u001b[1m \u001b[0m\u001b[1mrec_id_l\u001b[0m\u001b[1m   \u001b[0m\u001b[1m \u001b[0m┃\u001b[1m \u001b[0m\u001b[1mgiven_name_l\u001b[0m\u001b[1m \u001b[0m┃\u001b[1m \u001b[0m\u001b[1msurname_l\u001b[0m\u001b[1m \u001b[0m┃\u001b[1m \u001b[0m\u001b[1maddress_1_l\u001b[0m\u001b[1m     \u001b[0m\u001b[1m \u001b[0m┃\u001b[1m \u001b[0m\u001b[1m__mismo_key\u001b[0m\u001b[1m \u001b[0m┃\u001b[1m \u001b[0m\u001b[1mrec_id_r\u001b[0m\u001b[1m   \u001b[0m\u001b[1m \u001b[0m┃\u001b[1m \u001b[0m\u001b[1mgiven_name_r\u001b[0m\u001b[1m \u001b[0m┃\u001b[1m \u001b[0m\u001b[1msurname_r\u001b[0m\u001b[1m \u001b[0m┃\u001b[1m \u001b[0m\u001b[1maddress_1_r\u001b[0m\u001b[1m     \u001b[0m\u001b[1m \u001b[0m┃\n",
       "┡━━━━━━━━━━━━━╇━━━━━━━━━━━━━━╇━━━━━━━━━━━╇━━━━━━━━━━━━━━━━━━╇━━━━━━━━━━━━━╇━━━━━━━━━━━━━╇━━━━━━━━━━━━━━╇━━━━━━━━━━━╇━━━━━━━━━━━━━━━━━━┩\n",
       "│ \u001b[2mstring\u001b[0m      │ \u001b[2mstring\u001b[0m       │ \u001b[2mstring\u001b[0m    │ \u001b[2mstring\u001b[0m           │ \u001b[2mstring\u001b[0m      │ \u001b[2mstring\u001b[0m      │ \u001b[2mstring\u001b[0m       │ \u001b[2mstring\u001b[0m    │ \u001b[2mstring\u001b[0m           │\n",
       "├─────────────┼──────────────┼───────────┼──────────────────┼─────────────┼─────────────┼──────────────┼───────────┼──────────────────┤\n",
       "│ rec-223-org │ \u001b[2m∅\u001b[0m            │ waller    │ tullaroop street │ tullaroop   │ rec-223-org │ \u001b[2m∅\u001b[0m            │ waller    │ tullaroop street │\n",
       "│ rec-223-org │ \u001b[2m∅\u001b[0m            │ waller    │ tullaroop street │ street      │ rec-122-org │ lachlan      │ berry     │ giblin street    │\n",
       "│ rec-223-org │ \u001b[2m∅\u001b[0m            │ waller    │ tullaroop street │ street      │ rec-223-org │ \u001b[2m∅\u001b[0m            │ waller    │ tullaroop street │\n",
       "│ rec-122-org │ lachlan      │ berry     │ giblin street    │ giblin      │ rec-122-org │ lachlan      │ berry     │ giblin street    │\n",
       "│ rec-122-org │ lachlan      │ berry     │ giblin street    │ street      │ rec-122-org │ lachlan      │ berry     │ giblin street    │\n",
       "│ rec-122-org │ lachlan      │ berry     │ giblin street    │ street      │ rec-223-org │ \u001b[2m∅\u001b[0m            │ waller    │ tullaroop street │\n",
       "└─────────────┴──────────────┴───────────┴──────────────────┴─────────────┴─────────────┴──────────────┴───────────┴──────────────────┘"
      ]
     },
     "execution_count": 43,
     "metadata": {},
     "output_type": "execute_result"
    }
   ],
   "source": [
    "fpb.block(t.head(2)).distinct()"
   ]
  },
  {
   "cell_type": "code",
   "execution_count": 13,
   "metadata": {},
   "outputs": [
    {
     "data": {
      "text/plain": [
       "[(<mismo.block._strings.TokenFingerprinter at 0x105017310>,\n",
       "  <mismo.block._strings.TokenFingerprinter at 0x105017310>)]"
      ]
     },
     "execution_count": 13,
     "metadata": {},
     "output_type": "execute_result"
    }
   ],
   "source": [
    "fpb.fingerprinter_pairs"
   ]
  },
  {
   "cell_type": "code",
   "execution_count": 1,
   "metadata": {},
   "outputs": [],
   "source": [
    "from mismo.block._blocker import set_cover"
   ]
  },
  {
   "cell_type": "code",
   "execution_count": 2,
   "metadata": {},
   "outputs": [],
   "source": [
    "import pandas as pd"
   ]
  },
  {
   "cell_type": "code",
   "execution_count": 4,
   "metadata": {},
   "outputs": [
    {
     "data": {
      "text/plain": [
       "[0, 2]"
      ]
     },
     "execution_count": 4,
     "metadata": {},
     "output_type": "execute_result"
    }
   ],
   "source": [
    "universe = pd.Series([0, 1, 2, 3, 4])\n",
    "s0 = pd.Series([0, 1])  # this chosen first\n",
    "s1 = pd.Series([0])  # shouldn't get chosen\n",
    "s3 = pd.Series([2, 5])  # this chosen second\n",
    "s2 = pd.Series([2, 5, 6])  # this not chosen\n",
    "set_cover(universe, [s0, s1, s2, s3])"
   ]
  },
  {
   "cell_type": "code",
   "execution_count": null,
   "metadata": {},
   "outputs": [],
   "source": []
  }
 ],
 "metadata": {
  "interpreter": {
   "hash": "e78e9de428406fb70aaa5b059884c560deb0c475ef30202c8dca5fdfb55b8986"
  },
  "kernelspec": {
   "display_name": "Python 3.10.4 ('mismo')",
   "language": "python",
   "name": "python3"
  },
  "language_info": {
   "codemirror_mode": {
    "name": "ipython",
    "version": 3
   },
   "file_extension": ".py",
   "mimetype": "text/x-python",
   "name": "python",
   "nbconvert_exporter": "python",
   "pygments_lexer": "ipython3",
   "version": "3.9.1"
  },
  "orig_nbformat": 4
 },
 "nbformat": 4,
 "nbformat_minor": 2
}
