{
 "cells": [
  {
   "cell_type": "code",
   "execution_count": 2,
   "metadata": {},
   "outputs": [],
   "source": [
    "from __future__ import annotations\n",
    "\n",
    "import ibis\n",
    "from ibis import _\n",
    "from ibis.expr.types import BooleanValue, Table\n",
    "\n",
    "from mismo.examples import load_patents\n",
    "from mismo.block import block\n",
    "from mismo import DedupeDatasetPair\n",
    "\n",
    "ibis.options.interactive = True"
   ]
  },
  {
   "cell_type": "code",
   "execution_count": 3,
   "metadata": {},
   "outputs": [
    {
     "data": {
      "text/html": [
       "<pre style=\"white-space:pre;overflow-x:auto;line-height:normal;font-family:Menlo,'DejaVu Sans Mono',consolas,'Courier New',monospace\">┏━━━━━━━━━━━┳━━━━━━━━━━━━┳━━━━━━━━━━━━━━━━━━━━━━┳━━━━━━━━━━━━━━━━━━━━━━━━━━━━━━┳━━━━━━━━━━┳━━━━━━━━━━━┳━━━━━━━━━━━━━━━━━━━━━━━━━━━━━━━━━━━━━━━━━━━━━━━━━━━━━━━━━━━━━━━━━━━━━━━━━━━━━━━━━━┳━━━━━━━━━━━━━━━━━━━━━━━━━━━━━━━━━━━━━━━━━━━━━━━━━━━━━━━━━━━━━━━━━━┓\n",
       "┃<span style=\"font-weight: bold\"> record_id </span>┃<span style=\"font-weight: bold\"> label_true </span>┃<span style=\"font-weight: bold\"> name_true            </span>┃<span style=\"font-weight: bold\"> name                         </span>┃<span style=\"font-weight: bold\"> latitude </span>┃<span style=\"font-weight: bold\"> longitude </span>┃<span style=\"font-weight: bold\"> coauthors                                                                        </span>┃<span style=\"font-weight: bold\"> classes                                                          </span>┃\n",
       "┡━━━━━━━━━━━╇━━━━━━━━━━━━╇━━━━━━━━━━━━━━━━━━━━━━╇━━━━━━━━━━━━━━━━━━━━━━━━━━━━━━╇━━━━━━━━━━╇━━━━━━━━━━━╇━━━━━━━━━━━━━━━━━━━━━━━━━━━━━━━━━━━━━━━━━━━━━━━━━━━━━━━━━━━━━━━━━━━━━━━━━━━━━━━━━━╇━━━━━━━━━━━━━━━━━━━━━━━━━━━━━━━━━━━━━━━━━━━━━━━━━━━━━━━━━━━━━━━━━━┩\n",
       "│ <span style=\"color: #7f7f7f; text-decoration-color: #7f7f7f\">int64</span>     │ <span style=\"color: #7f7f7f; text-decoration-color: #7f7f7f\">int64</span>      │ <span style=\"color: #7f7f7f; text-decoration-color: #7f7f7f\">string</span>               │ <span style=\"color: #7f7f7f; text-decoration-color: #7f7f7f\">string</span>                       │ <span style=\"color: #7f7f7f; text-decoration-color: #7f7f7f\">float64</span>  │ <span style=\"color: #7f7f7f; text-decoration-color: #7f7f7f\">float64</span>   │ <span style=\"color: #7f7f7f; text-decoration-color: #7f7f7f\">string</span>                                                                           │ <span style=\"color: #7f7f7f; text-decoration-color: #7f7f7f\">string</span>                                                           │\n",
       "├───────────┼────────────┼──────────────────────┼──────────────────────────────┼──────────┼───────────┼──────────────────────────────────────────────────────────────────────────────────┼──────────────────────────────────────────────────────────────────┤\n",
       "│      <span style=\"color: #008080; text-decoration-color: #008080; font-weight: bold\">2909</span> │     <span style=\"color: #008080; text-decoration-color: #008080; font-weight: bold\">402600</span> │ <span style=\"color: #008000; text-decoration-color: #008000\">AGILENT TECHNOLOGIES</span> │ <span style=\"color: #008000; text-decoration-color: #008000\">* AGILENT TECHNOLOGIES, INC.</span> │     <span style=\"color: #008080; text-decoration-color: #008080; font-weight: bold\">0.00</span> │  <span style=\"color: #008080; text-decoration-color: #008080; font-weight: bold\">0.000000</span> │ <span style=\"color: #008000; text-decoration-color: #008000\">KONINK PHILIPS ELECTRONICS N V**DAVID E  SNYDER**THOMAS D  LYSTER               </span> │ <span style=\"color: #008000; text-decoration-color: #008000\">A61N**A61B                                                      </span> │\n",
       "│      <span style=\"color: #008080; text-decoration-color: #008080; font-weight: bold\">3574</span> │     <span style=\"color: #008080; text-decoration-color: #008080; font-weight: bold\">569309</span> │ <span style=\"color: #008000; text-decoration-color: #008000\">AKZO NOBEL          </span> │ <span style=\"color: #008000; text-decoration-color: #008000\">* AKZO NOBEL N.V.           </span> │     <span style=\"color: #008080; text-decoration-color: #008080; font-weight: bold\">0.00</span> │  <span style=\"color: #008080; text-decoration-color: #008080; font-weight: bold\">0.000000</span> │ <span style=\"color: #008000; text-decoration-color: #008000\">TSJERK  HOEKSTRA**ANDRESS K  JOHNSON**TERESA MARIE  CHERON**ALBERTO  SLIKTA**JA…</span> │ <span style=\"color: #008000; text-decoration-color: #008000\">G01N**B01L**C11D**G02F**F16L                                    </span> │\n",
       "│      <span style=\"color: #008080; text-decoration-color: #008080; font-weight: bold\">3575</span> │     <span style=\"color: #008080; text-decoration-color: #008080; font-weight: bold\">569309</span> │ <span style=\"color: #008000; text-decoration-color: #008000\">AKZO NOBEL          </span> │ <span style=\"color: #008000; text-decoration-color: #008000\">* AKZO NOBEL NV             </span> │     <span style=\"color: #008080; text-decoration-color: #008080; font-weight: bold\">0.00</span> │  <span style=\"color: #008080; text-decoration-color: #008080; font-weight: bold\">0.000000</span> │ <span style=\"color: #008000; text-decoration-color: #008000\">WILLIAM JOHN ERNEST  PARR**HANS  OSKARSSON**MARTIN  HELLSTEN**KORNELIS  OVERKEM…</span> │ <span style=\"color: #008000; text-decoration-color: #008000\">C09K**F17D**B01F**C23F                                          </span> │\n",
       "│      <span style=\"color: #008080; text-decoration-color: #008080; font-weight: bold\">3779</span> │     <span style=\"color: #008080; text-decoration-color: #008080; font-weight: bold\">656303</span> │ <span style=\"color: #008000; text-decoration-color: #008000\">ALCATEL             </span> │ <span style=\"color: #008000; text-decoration-color: #008000\">* ALCATEL N.V.              </span> │    <span style=\"color: #008080; text-decoration-color: #008080; font-weight: bold\">52.35</span> │  <span style=\"color: #008080; text-decoration-color: #008080; font-weight: bold\">4.916667</span> │ <span style=\"color: #008000; text-decoration-color: #008000\">GUENTER  KOCHSMEIER**ZBIGNIEW  WIEGOLASKI**EVAN JOHN  STANBURY**PETER GRANT  JE…</span> │ <span style=\"color: #008000; text-decoration-color: #008000\">G02B**G04G**H02G**G06F                                          </span> │\n",
       "│      <span style=\"color: #008080; text-decoration-color: #008080; font-weight: bold\">3780</span> │     <span style=\"color: #008080; text-decoration-color: #008080; font-weight: bold\">656303</span> │ <span style=\"color: #008000; text-decoration-color: #008000\">ALCATEL             </span> │ <span style=\"color: #008000; text-decoration-color: #008000\">* ALCATEL N.V.              </span> │    <span style=\"color: #008080; text-decoration-color: #008080; font-weight: bold\">52.35</span> │  <span style=\"color: #008080; text-decoration-color: #008080; font-weight: bold\">4.916667</span> │ <span style=\"color: #008000; text-decoration-color: #008000\">ZILAN  MANFRED**JOSIANE  RAMOS**DUANE LYNN  MORTENSEN**CHRISTIAN  LE SERGENT    </span> │ <span style=\"color: #008000; text-decoration-color: #008000\">H03G**B05D**H04L**H04B**C03B**C03C**G02B**H01B                  </span> │\n",
       "│      <span style=\"color: #008080; text-decoration-color: #008080; font-weight: bold\">3782</span> │     <span style=\"color: #008080; text-decoration-color: #008080; font-weight: bold\">656303</span> │ <span style=\"color: #008000; text-decoration-color: #008000\">ALCATEL             </span> │ <span style=\"color: #008000; text-decoration-color: #008000\">* ALCATEL N.V.              </span> │     <span style=\"color: #008080; text-decoration-color: #008080; font-weight: bold\">0.00</span> │  <span style=\"color: #008080; text-decoration-color: #008080; font-weight: bold\">0.000000</span> │ <span style=\"color: #008000; text-decoration-color: #008000\">OLIVIER  AUDOUIN**MICHEL  SOTOM**JEAN MICHEL  GABRIAGUES                        </span> │ <span style=\"color: #008000; text-decoration-color: #008000\">H04B**H01S**H04J                                                </span> │\n",
       "│     <span style=\"color: #008080; text-decoration-color: #008080; font-weight: bold\">15041</span> │    <span style=\"color: #008080; text-decoration-color: #008080; font-weight: bold\">4333661</span> │ <span style=\"color: #008000; text-decoration-color: #008000\">CANON EUROPA        </span> │ <span style=\"color: #008000; text-decoration-color: #008000\">* CANON EUROPA N.V          </span> │     <span style=\"color: #008080; text-decoration-color: #008080; font-weight: bold\">0.00</span> │  <span style=\"color: #008080; text-decoration-color: #008080; font-weight: bold\">0.000000</span> │ <span style=\"color: #008000; text-decoration-color: #008000\">LEE  RICKLER**SIMON  PARKER**CANON RES CENT EURO **RAKEFET  SAGMAN**TIMOTHY FRA…</span> │ <span style=\"color: #008000; text-decoration-color: #008000\">G06F                                                            </span> │\n",
       "│     <span style=\"color: #008080; text-decoration-color: #008080; font-weight: bold\">15042</span> │    <span style=\"color: #008080; text-decoration-color: #008080; font-weight: bold\">4333661</span> │ <span style=\"color: #008000; text-decoration-color: #008000\">CANON EUROPA        </span> │ <span style=\"color: #008000; text-decoration-color: #008000\">* CANON EUROPA N.V.         </span> │     <span style=\"color: #008080; text-decoration-color: #008080; font-weight: bold\">0.00</span> │  <span style=\"color: #008080; text-decoration-color: #008080; font-weight: bold\">0.000000</span> │ <span style=\"color: #008000; text-decoration-color: #008000\">QI HE  HONG**ADAM MICHAEL  BAUMBERG**ALEXANDER RALPH  LYONS                     </span> │ <span style=\"color: #008000; text-decoration-color: #008000\">G06T**G01B                                                      </span> │\n",
       "│     <span style=\"color: #008080; text-decoration-color: #008080; font-weight: bold\">15043</span> │    <span style=\"color: #008080; text-decoration-color: #008080; font-weight: bold\">4333661</span> │ <span style=\"color: #008000; text-decoration-color: #008000\">CANON EUROPA        </span> │ <span style=\"color: #008000; text-decoration-color: #008000\">* CANON EUROPA NV           </span> │     <span style=\"color: #008080; text-decoration-color: #008080; font-weight: bold\">0.00</span> │  <span style=\"color: #008080; text-decoration-color: #008080; font-weight: bold\">0.000000</span> │ <span style=\"color: #008000; text-decoration-color: #008000\">NILESH  PATHAK**MASAMICHI  MASUDA** CANON TECHNOLOGY EURO **PATRICK WILLIAM  MO…</span> │ <span style=\"color: #008000; text-decoration-color: #008000\">H04B**G06T**G06F**H04M**H04N**H04Q**G03B**B41J**G01B**G06Q      </span> │\n",
       "│     <span style=\"color: #008080; text-decoration-color: #008080; font-weight: bold\">25387</span> │    <span style=\"color: #008080; text-decoration-color: #008080; font-weight: bold\">7650783</span> │ <span style=\"color: #008000; text-decoration-color: #008000\">DSM                 </span> │ <span style=\"color: #008000; text-decoration-color: #008000\">* DSM N.V.                  </span> │     <span style=\"color: #008080; text-decoration-color: #008080; font-weight: bold\">0.00</span> │  <span style=\"color: #008080; text-decoration-color: #008080; font-weight: bold\">0.000000</span> │ <span style=\"color: #008000; text-decoration-color: #008000\">GABRIEL MARINUS  MEESTERS**RUDOLF CAROLUS  BARENDSE**ARIE KARST  KIES**ALEXANDE…</span> │ <span style=\"color: #008000; text-decoration-color: #008000\">C12N**A61K**A23L**A23J**A23K**A01H**B01J**C12R**C07D**A61P**B01D</span> │\n",
       "│         <span style=\"color: #7f7f7f; text-decoration-color: #7f7f7f\">…</span> │          <span style=\"color: #7f7f7f; text-decoration-color: #7f7f7f\">…</span> │ <span style=\"color: #7f7f7f; text-decoration-color: #7f7f7f\">…</span>                    │ <span style=\"color: #7f7f7f; text-decoration-color: #7f7f7f\">…</span>                            │        <span style=\"color: #7f7f7f; text-decoration-color: #7f7f7f\">…</span> │         <span style=\"color: #7f7f7f; text-decoration-color: #7f7f7f\">…</span> │ <span style=\"color: #7f7f7f; text-decoration-color: #7f7f7f\">…</span>                                                                                │ <span style=\"color: #7f7f7f; text-decoration-color: #7f7f7f\">…</span>                                                                │\n",
       "└───────────┴────────────┴──────────────────────┴──────────────────────────────┴──────────┴───────────┴──────────────────────────────────────────────────────────────────────────────────┴──────────────────────────────────────────────────────────────────┘\n",
       "</pre>\n"
      ],
      "text/plain": [
       "┏━━━━━━━━━━━┳━━━━━━━━━━━━┳━━━━━━━━━━━━━━━━━━━━━━┳━━━━━━━━━━━━━━━━━━━━━━━━━━━━━━┳━━━━━━━━━━┳━━━━━━━━━━━┳━━━━━━━━━━━━━━━━━━━━━━━━━━━━━━━━━━━━━━━━━━━━━━━━━━━━━━━━━━━━━━━━━━━━━━━━━━━━━━━━━━┳━━━━━━━━━━━━━━━━━━━━━━━━━━━━━━━━━━━━━━━━━━━━━━━━━━━━━━━━━━━━━━━━━━┓\n",
       "┃\u001b[1m \u001b[0m\u001b[1mrecord_id\u001b[0m\u001b[1m \u001b[0m┃\u001b[1m \u001b[0m\u001b[1mlabel_true\u001b[0m\u001b[1m \u001b[0m┃\u001b[1m \u001b[0m\u001b[1mname_true\u001b[0m\u001b[1m           \u001b[0m\u001b[1m \u001b[0m┃\u001b[1m \u001b[0m\u001b[1mname\u001b[0m\u001b[1m                        \u001b[0m\u001b[1m \u001b[0m┃\u001b[1m \u001b[0m\u001b[1mlatitude\u001b[0m\u001b[1m \u001b[0m┃\u001b[1m \u001b[0m\u001b[1mlongitude\u001b[0m\u001b[1m \u001b[0m┃\u001b[1m \u001b[0m\u001b[1mcoauthors\u001b[0m\u001b[1m                                                                       \u001b[0m\u001b[1m \u001b[0m┃\u001b[1m \u001b[0m\u001b[1mclasses\u001b[0m\u001b[1m                                                         \u001b[0m\u001b[1m \u001b[0m┃\n",
       "┡━━━━━━━━━━━╇━━━━━━━━━━━━╇━━━━━━━━━━━━━━━━━━━━━━╇━━━━━━━━━━━━━━━━━━━━━━━━━━━━━━╇━━━━━━━━━━╇━━━━━━━━━━━╇━━━━━━━━━━━━━━━━━━━━━━━━━━━━━━━━━━━━━━━━━━━━━━━━━━━━━━━━━━━━━━━━━━━━━━━━━━━━━━━━━━╇━━━━━━━━━━━━━━━━━━━━━━━━━━━━━━━━━━━━━━━━━━━━━━━━━━━━━━━━━━━━━━━━━━┩\n",
       "│ \u001b[2mint64\u001b[0m     │ \u001b[2mint64\u001b[0m      │ \u001b[2mstring\u001b[0m               │ \u001b[2mstring\u001b[0m                       │ \u001b[2mfloat64\u001b[0m  │ \u001b[2mfloat64\u001b[0m   │ \u001b[2mstring\u001b[0m                                                                           │ \u001b[2mstring\u001b[0m                                                           │\n",
       "├───────────┼────────────┼──────────────────────┼──────────────────────────────┼──────────┼───────────┼──────────────────────────────────────────────────────────────────────────────────┼──────────────────────────────────────────────────────────────────┤\n",
       "│      \u001b[1;36m2909\u001b[0m │     \u001b[1;36m402600\u001b[0m │ \u001b[32mAGILENT TECHNOLOGIES\u001b[0m │ \u001b[32m* AGILENT TECHNOLOGIES, INC.\u001b[0m │     \u001b[1;36m0.00\u001b[0m │  \u001b[1;36m0.000000\u001b[0m │ \u001b[32mKONINK PHILIPS ELECTRONICS N V**DAVID E  SNYDER**THOMAS D  LYSTER               \u001b[0m │ \u001b[32mA61N**A61B                                                      \u001b[0m │\n",
       "│      \u001b[1;36m3574\u001b[0m │     \u001b[1;36m569309\u001b[0m │ \u001b[32mAKZO NOBEL          \u001b[0m │ \u001b[32m* AKZO NOBEL N.V.           \u001b[0m │     \u001b[1;36m0.00\u001b[0m │  \u001b[1;36m0.000000\u001b[0m │ \u001b[32mTSJERK  HOEKSTRA**ANDRESS K  JOHNSON**TERESA MARIE  CHERON**ALBERTO  SLIKTA**JA…\u001b[0m │ \u001b[32mG01N**B01L**C11D**G02F**F16L                                    \u001b[0m │\n",
       "│      \u001b[1;36m3575\u001b[0m │     \u001b[1;36m569309\u001b[0m │ \u001b[32mAKZO NOBEL          \u001b[0m │ \u001b[32m* AKZO NOBEL NV             \u001b[0m │     \u001b[1;36m0.00\u001b[0m │  \u001b[1;36m0.000000\u001b[0m │ \u001b[32mWILLIAM JOHN ERNEST  PARR**HANS  OSKARSSON**MARTIN  HELLSTEN**KORNELIS  OVERKEM…\u001b[0m │ \u001b[32mC09K**F17D**B01F**C23F                                          \u001b[0m │\n",
       "│      \u001b[1;36m3779\u001b[0m │     \u001b[1;36m656303\u001b[0m │ \u001b[32mALCATEL             \u001b[0m │ \u001b[32m* ALCATEL N.V.              \u001b[0m │    \u001b[1;36m52.35\u001b[0m │  \u001b[1;36m4.916667\u001b[0m │ \u001b[32mGUENTER  KOCHSMEIER**ZBIGNIEW  WIEGOLASKI**EVAN JOHN  STANBURY**PETER GRANT  JE…\u001b[0m │ \u001b[32mG02B**G04G**H02G**G06F                                          \u001b[0m │\n",
       "│      \u001b[1;36m3780\u001b[0m │     \u001b[1;36m656303\u001b[0m │ \u001b[32mALCATEL             \u001b[0m │ \u001b[32m* ALCATEL N.V.              \u001b[0m │    \u001b[1;36m52.35\u001b[0m │  \u001b[1;36m4.916667\u001b[0m │ \u001b[32mZILAN  MANFRED**JOSIANE  RAMOS**DUANE LYNN  MORTENSEN**CHRISTIAN  LE SERGENT    \u001b[0m │ \u001b[32mH03G**B05D**H04L**H04B**C03B**C03C**G02B**H01B                  \u001b[0m │\n",
       "│      \u001b[1;36m3782\u001b[0m │     \u001b[1;36m656303\u001b[0m │ \u001b[32mALCATEL             \u001b[0m │ \u001b[32m* ALCATEL N.V.              \u001b[0m │     \u001b[1;36m0.00\u001b[0m │  \u001b[1;36m0.000000\u001b[0m │ \u001b[32mOLIVIER  AUDOUIN**MICHEL  SOTOM**JEAN MICHEL  GABRIAGUES                        \u001b[0m │ \u001b[32mH04B**H01S**H04J                                                \u001b[0m │\n",
       "│     \u001b[1;36m15041\u001b[0m │    \u001b[1;36m4333661\u001b[0m │ \u001b[32mCANON EUROPA        \u001b[0m │ \u001b[32m* CANON EUROPA N.V          \u001b[0m │     \u001b[1;36m0.00\u001b[0m │  \u001b[1;36m0.000000\u001b[0m │ \u001b[32mLEE  RICKLER**SIMON  PARKER**CANON RES CENT EURO **RAKEFET  SAGMAN**TIMOTHY FRA…\u001b[0m │ \u001b[32mG06F                                                            \u001b[0m │\n",
       "│     \u001b[1;36m15042\u001b[0m │    \u001b[1;36m4333661\u001b[0m │ \u001b[32mCANON EUROPA        \u001b[0m │ \u001b[32m* CANON EUROPA N.V.         \u001b[0m │     \u001b[1;36m0.00\u001b[0m │  \u001b[1;36m0.000000\u001b[0m │ \u001b[32mQI HE  HONG**ADAM MICHAEL  BAUMBERG**ALEXANDER RALPH  LYONS                     \u001b[0m │ \u001b[32mG06T**G01B                                                      \u001b[0m │\n",
       "│     \u001b[1;36m15043\u001b[0m │    \u001b[1;36m4333661\u001b[0m │ \u001b[32mCANON EUROPA        \u001b[0m │ \u001b[32m* CANON EUROPA NV           \u001b[0m │     \u001b[1;36m0.00\u001b[0m │  \u001b[1;36m0.000000\u001b[0m │ \u001b[32mNILESH  PATHAK**MASAMICHI  MASUDA** CANON TECHNOLOGY EURO **PATRICK WILLIAM  MO…\u001b[0m │ \u001b[32mH04B**G06T**G06F**H04M**H04N**H04Q**G03B**B41J**G01B**G06Q      \u001b[0m │\n",
       "│     \u001b[1;36m25387\u001b[0m │    \u001b[1;36m7650783\u001b[0m │ \u001b[32mDSM                 \u001b[0m │ \u001b[32m* DSM N.V.                  \u001b[0m │     \u001b[1;36m0.00\u001b[0m │  \u001b[1;36m0.000000\u001b[0m │ \u001b[32mGABRIEL MARINUS  MEESTERS**RUDOLF CAROLUS  BARENDSE**ARIE KARST  KIES**ALEXANDE…\u001b[0m │ \u001b[32mC12N**A61K**A23L**A23J**A23K**A01H**B01J**C12R**C07D**A61P**B01D\u001b[0m │\n",
       "│         \u001b[2m…\u001b[0m │          \u001b[2m…\u001b[0m │ \u001b[2m…\u001b[0m                    │ \u001b[2m…\u001b[0m                            │        \u001b[2m…\u001b[0m │         \u001b[2m…\u001b[0m │ \u001b[2m…\u001b[0m                                                                                │ \u001b[2m…\u001b[0m                                                                │\n",
       "└───────────┴────────────┴──────────────────────┴──────────────────────────────┴──────────┴───────────┴──────────────────────────────────────────────────────────────────────────────────┴──────────────────────────────────────────────────────────────────┘"
      ]
     },
     "execution_count": 3,
     "metadata": {},
     "output_type": "execute_result"
    }
   ],
   "source": [
    "patents = load_patents()\n",
    "raw = patents.table\n",
    "raw"
   ]
  },
  {
   "cell_type": "code",
   "execution_count": 4,
   "metadata": {},
   "outputs": [
    {
     "data": {
      "text/html": [
       "<pre style=\"white-space:pre;overflow-x:auto;line-height:normal;font-family:Menlo,'DejaVu Sans Mono',consolas,'Courier New',monospace\">┏━━━━━━━━━━━┳━━━━━━━━━━━━┳━━━━━━━━━━━━━━━━━━━━━━┳━━━━━━━━━━━━━━━━━━━━━━━━━━━━━━┳━━━━━━━━━━━━━━━━━━━━━━━━━━┳━━━━━━━━━━┳━━━━━━━━━━━┳━━━━━━━━━━━━━━━━━━━━━━━━━━━━━━━━━━━━━━━━━━━━━━━━━━━━━━━━━━━━━━━━━━┳━━━━━━━━━━━━━━━━━━━━━━━━━━┳━━━━━━━━━━━━━━━━━━━━━━━━━━━━━━━━━━━━━┳━━━━━━━━━━━━━━━┳━━━━━━━━━━━━━━━━┓\n",
       "┃<span style=\"font-weight: bold\"> record_id </span>┃<span style=\"font-weight: bold\"> label_true </span>┃<span style=\"font-weight: bold\"> name_true            </span>┃<span style=\"font-weight: bold\"> name                         </span>┃<span style=\"font-weight: bold\"> name_cleaned             </span>┃<span style=\"font-weight: bold\"> latitude </span>┃<span style=\"font-weight: bold\"> longitude </span>┃<span style=\"font-weight: bold\"> coauthors                                                        </span>┃<span style=\"font-weight: bold\"> classes                  </span>┃<span style=\"font-weight: bold\"> name_tokens                         </span>┃<span style=\"font-weight: bold\"> latitude_hash </span>┃<span style=\"font-weight: bold\"> longitude_hash </span>┃\n",
       "┡━━━━━━━━━━━╇━━━━━━━━━━━━╇━━━━━━━━━━━━━━━━━━━━━━╇━━━━━━━━━━━━━━━━━━━━━━━━━━━━━━╇━━━━━━━━━━━━━━━━━━━━━━━━━━╇━━━━━━━━━━╇━━━━━━━━━━━╇━━━━━━━━━━━━━━━━━━━━━━━━━━━━━━━━━━━━━━━━━━━━━━━━━━━━━━━━━━━━━━━━━━╇━━━━━━━━━━━━━━━━━━━━━━━━━━╇━━━━━━━━━━━━━━━━━━━━━━━━━━━━━━━━━━━━━╇━━━━━━━━━━━━━━━╇━━━━━━━━━━━━━━━━┩\n",
       "│ <span style=\"color: #7f7f7f; text-decoration-color: #7f7f7f\">int64</span>     │ <span style=\"color: #7f7f7f; text-decoration-color: #7f7f7f\">int64</span>      │ <span style=\"color: #7f7f7f; text-decoration-color: #7f7f7f\">string</span>               │ <span style=\"color: #7f7f7f; text-decoration-color: #7f7f7f\">string</span>                       │ <span style=\"color: #7f7f7f; text-decoration-color: #7f7f7f\">string</span>                   │ <span style=\"color: #7f7f7f; text-decoration-color: #7f7f7f\">float64</span>  │ <span style=\"color: #7f7f7f; text-decoration-color: #7f7f7f\">float64</span>   │ <span style=\"color: #7f7f7f; text-decoration-color: #7f7f7f\">array&lt;string&gt;</span>                                                    │ <span style=\"color: #7f7f7f; text-decoration-color: #7f7f7f\">array&lt;string&gt;</span>            │ <span style=\"color: #7f7f7f; text-decoration-color: #7f7f7f\">array&lt;string&gt;</span>                       │ <span style=\"color: #7f7f7f; text-decoration-color: #7f7f7f\">int16</span>         │ <span style=\"color: #7f7f7f; text-decoration-color: #7f7f7f\">int16</span>          │\n",
       "├───────────┼────────────┼──────────────────────┼──────────────────────────────┼──────────────────────────┼──────────┼───────────┼──────────────────────────────────────────────────────────────────┼──────────────────────────┼─────────────────────────────────────┼───────────────┼────────────────┤\n",
       "│      <span style=\"color: #008080; text-decoration-color: #008080; font-weight: bold\">2909</span> │     <span style=\"color: #008080; text-decoration-color: #008080; font-weight: bold\">402600</span> │ <span style=\"color: #008000; text-decoration-color: #008000\">AGILENT TECHNOLOGIES</span> │ <span style=\"color: #008000; text-decoration-color: #008000\">* AGILENT TECHNOLOGIES, INC.</span> │ <span style=\"color: #008000; text-decoration-color: #008000\">AGILENT TECHNOLOGIES INC</span> │      <span style=\"color: #008080; text-decoration-color: #008080; font-weight: bold\">nan</span> │       <span style=\"color: #008080; text-decoration-color: #008080; font-weight: bold\">nan</span> │ <span style=\"font-weight: bold\">[</span><span style=\"color: #008000; text-decoration-color: #008000\">'KONINK PHILIPS ELECTRONICS N V'</span>, <span style=\"color: #008000; text-decoration-color: #008000\">'DAVID E SNYDER'</span>, <span style=\"color: #808000; text-decoration-color: #808000\">...</span> +<span style=\"color: #008080; text-decoration-color: #008080; font-weight: bold\">1</span><span style=\"font-weight: bold\">]</span>     │ <span style=\"font-weight: bold\">[</span><span style=\"color: #008000; text-decoration-color: #008000\">'A61N'</span>, <span style=\"color: #008000; text-decoration-color: #008000\">'A61B'</span><span style=\"font-weight: bold\">]</span>         │ <span style=\"font-weight: bold\">[</span><span style=\"color: #008000; text-decoration-color: #008000\">'AGILENT'</span>, <span style=\"color: #008000; text-decoration-color: #008000\">'TECHNOLOGIES'</span>, <span style=\"color: #808000; text-decoration-color: #808000\">...</span> +<span style=\"color: #008080; text-decoration-color: #008080; font-weight: bold\">1</span><span style=\"font-weight: bold\">]</span> │          <span style=\"color: #7f7f7f; text-decoration-color: #7f7f7f\">NULL</span> │           <span style=\"color: #7f7f7f; text-decoration-color: #7f7f7f\">NULL</span> │\n",
       "│      <span style=\"color: #008080; text-decoration-color: #008080; font-weight: bold\">3574</span> │     <span style=\"color: #008080; text-decoration-color: #008080; font-weight: bold\">569309</span> │ <span style=\"color: #008000; text-decoration-color: #008000\">AKZO NOBEL          </span> │ <span style=\"color: #008000; text-decoration-color: #008000\">* AKZO NOBEL N.V.           </span> │ <span style=\"color: #008000; text-decoration-color: #008000\">AKZO NOBEL NV           </span> │      <span style=\"color: #008080; text-decoration-color: #008080; font-weight: bold\">nan</span> │       <span style=\"color: #008080; text-decoration-color: #008080; font-weight: bold\">nan</span> │ <span style=\"font-weight: bold\">[</span><span style=\"color: #008000; text-decoration-color: #008000\">'TSJERK HOEKSTRA'</span>, <span style=\"color: #008000; text-decoration-color: #008000\">'ANDRESS K JOHNSON'</span>, <span style=\"color: #808000; text-decoration-color: #808000\">...</span> +<span style=\"color: #008080; text-decoration-color: #008080; font-weight: bold\">11</span><span style=\"font-weight: bold\">]</span>                │ <span style=\"font-weight: bold\">[</span><span style=\"color: #008000; text-decoration-color: #008000\">'G01N'</span>, <span style=\"color: #008000; text-decoration-color: #008000\">'B01L'</span>, <span style=\"color: #808000; text-decoration-color: #808000\">...</span> +<span style=\"color: #008080; text-decoration-color: #008080; font-weight: bold\">3</span><span style=\"font-weight: bold\">]</span> │ <span style=\"font-weight: bold\">[</span><span style=\"color: #008000; text-decoration-color: #008000\">'AKZO'</span>, <span style=\"color: #008000; text-decoration-color: #008000\">'NOBEL'</span>, <span style=\"color: #808000; text-decoration-color: #808000\">...</span> +<span style=\"color: #008080; text-decoration-color: #008080; font-weight: bold\">1</span><span style=\"font-weight: bold\">]</span>           │          <span style=\"color: #7f7f7f; text-decoration-color: #7f7f7f\">NULL</span> │           <span style=\"color: #7f7f7f; text-decoration-color: #7f7f7f\">NULL</span> │\n",
       "│      <span style=\"color: #008080; text-decoration-color: #008080; font-weight: bold\">3575</span> │     <span style=\"color: #008080; text-decoration-color: #008080; font-weight: bold\">569309</span> │ <span style=\"color: #008000; text-decoration-color: #008000\">AKZO NOBEL          </span> │ <span style=\"color: #008000; text-decoration-color: #008000\">* AKZO NOBEL NV             </span> │ <span style=\"color: #008000; text-decoration-color: #008000\">AKZO NOBEL NV           </span> │      <span style=\"color: #008080; text-decoration-color: #008080; font-weight: bold\">nan</span> │       <span style=\"color: #008080; text-decoration-color: #008080; font-weight: bold\">nan</span> │ <span style=\"font-weight: bold\">[</span><span style=\"color: #008000; text-decoration-color: #008000\">'WILLIAM JOHN ERNEST PARR'</span>, <span style=\"color: #008000; text-decoration-color: #008000\">'HANS OSKARSSON'</span>, <span style=\"color: #808000; text-decoration-color: #808000\">...</span> +<span style=\"color: #008080; text-decoration-color: #008080; font-weight: bold\">3</span><span style=\"font-weight: bold\">]</span>           │ <span style=\"font-weight: bold\">[</span><span style=\"color: #008000; text-decoration-color: #008000\">'C09K'</span>, <span style=\"color: #008000; text-decoration-color: #008000\">'F17D'</span>, <span style=\"color: #808000; text-decoration-color: #808000\">...</span> +<span style=\"color: #008080; text-decoration-color: #008080; font-weight: bold\">2</span><span style=\"font-weight: bold\">]</span> │ <span style=\"font-weight: bold\">[</span><span style=\"color: #008000; text-decoration-color: #008000\">'AKZO'</span>, <span style=\"color: #008000; text-decoration-color: #008000\">'NOBEL'</span>, <span style=\"color: #808000; text-decoration-color: #808000\">...</span> +<span style=\"color: #008080; text-decoration-color: #008080; font-weight: bold\">1</span><span style=\"font-weight: bold\">]</span>           │          <span style=\"color: #7f7f7f; text-decoration-color: #7f7f7f\">NULL</span> │           <span style=\"color: #7f7f7f; text-decoration-color: #7f7f7f\">NULL</span> │\n",
       "│      <span style=\"color: #008080; text-decoration-color: #008080; font-weight: bold\">3779</span> │     <span style=\"color: #008080; text-decoration-color: #008080; font-weight: bold\">656303</span> │ <span style=\"color: #008000; text-decoration-color: #008000\">ALCATEL             </span> │ <span style=\"color: #008000; text-decoration-color: #008000\">* ALCATEL N.V.              </span> │ <span style=\"color: #008000; text-decoration-color: #008000\">ALCATEL NV              </span> │    <span style=\"color: #008080; text-decoration-color: #008080; font-weight: bold\">52.35</span> │  <span style=\"color: #008080; text-decoration-color: #008080; font-weight: bold\">4.916667</span> │ <span style=\"font-weight: bold\">[</span><span style=\"color: #008000; text-decoration-color: #008000\">'GUENTER KOCHSMEIER'</span>, <span style=\"color: #008000; text-decoration-color: #008000\">'ZBIGNIEW WIEGOLASKI'</span>, <span style=\"color: #808000; text-decoration-color: #808000\">...</span> +<span style=\"color: #008080; text-decoration-color: #008080; font-weight: bold\">2</span><span style=\"font-weight: bold\">]</span>            │ <span style=\"font-weight: bold\">[</span><span style=\"color: #008000; text-decoration-color: #008000\">'G02B'</span>, <span style=\"color: #008000; text-decoration-color: #008000\">'G04G'</span>, <span style=\"color: #808000; text-decoration-color: #808000\">...</span> +<span style=\"color: #008080; text-decoration-color: #008080; font-weight: bold\">2</span><span style=\"font-weight: bold\">]</span> │ <span style=\"font-weight: bold\">[</span><span style=\"color: #008000; text-decoration-color: #008000\">'ALCATEL'</span>, <span style=\"color: #008000; text-decoration-color: #008000\">'NV'</span><span style=\"font-weight: bold\">]</span>                   │           <span style=\"color: #008080; text-decoration-color: #008080; font-weight: bold\">524</span> │             <span style=\"color: #008080; text-decoration-color: #008080; font-weight: bold\">49</span> │\n",
       "│      <span style=\"color: #008080; text-decoration-color: #008080; font-weight: bold\">3780</span> │     <span style=\"color: #008080; text-decoration-color: #008080; font-weight: bold\">656303</span> │ <span style=\"color: #008000; text-decoration-color: #008000\">ALCATEL             </span> │ <span style=\"color: #008000; text-decoration-color: #008000\">* ALCATEL N.V.              </span> │ <span style=\"color: #008000; text-decoration-color: #008000\">ALCATEL NV              </span> │    <span style=\"color: #008080; text-decoration-color: #008080; font-weight: bold\">52.35</span> │  <span style=\"color: #008080; text-decoration-color: #008080; font-weight: bold\">4.916667</span> │ <span style=\"font-weight: bold\">[</span><span style=\"color: #008000; text-decoration-color: #008000\">'ZILAN MANFRED'</span>, <span style=\"color: #008000; text-decoration-color: #008000\">'JOSIANE RAMOS'</span>, <span style=\"color: #808000; text-decoration-color: #808000\">...</span> +<span style=\"color: #008080; text-decoration-color: #008080; font-weight: bold\">2</span><span style=\"font-weight: bold\">]</span>                       │ <span style=\"font-weight: bold\">[</span><span style=\"color: #008000; text-decoration-color: #008000\">'H03G'</span>, <span style=\"color: #008000; text-decoration-color: #008000\">'B05D'</span>, <span style=\"color: #808000; text-decoration-color: #808000\">...</span> +<span style=\"color: #008080; text-decoration-color: #008080; font-weight: bold\">6</span><span style=\"font-weight: bold\">]</span> │ <span style=\"font-weight: bold\">[</span><span style=\"color: #008000; text-decoration-color: #008000\">'ALCATEL'</span>, <span style=\"color: #008000; text-decoration-color: #008000\">'NV'</span><span style=\"font-weight: bold\">]</span>                   │           <span style=\"color: #008080; text-decoration-color: #008080; font-weight: bold\">524</span> │             <span style=\"color: #008080; text-decoration-color: #008080; font-weight: bold\">49</span> │\n",
       "│      <span style=\"color: #008080; text-decoration-color: #008080; font-weight: bold\">3782</span> │     <span style=\"color: #008080; text-decoration-color: #008080; font-weight: bold\">656303</span> │ <span style=\"color: #008000; text-decoration-color: #008000\">ALCATEL             </span> │ <span style=\"color: #008000; text-decoration-color: #008000\">* ALCATEL N.V.              </span> │ <span style=\"color: #008000; text-decoration-color: #008000\">ALCATEL NV              </span> │      <span style=\"color: #008080; text-decoration-color: #008080; font-weight: bold\">nan</span> │       <span style=\"color: #008080; text-decoration-color: #008080; font-weight: bold\">nan</span> │ <span style=\"font-weight: bold\">[</span><span style=\"color: #008000; text-decoration-color: #008000\">'OLIVIER AUDOUIN'</span>, <span style=\"color: #008000; text-decoration-color: #008000\">'MICHEL SOTOM'</span>, <span style=\"color: #808000; text-decoration-color: #808000\">...</span> +<span style=\"color: #008080; text-decoration-color: #008080; font-weight: bold\">1</span><span style=\"font-weight: bold\">]</span>                      │ <span style=\"font-weight: bold\">[</span><span style=\"color: #008000; text-decoration-color: #008000\">'H04B'</span>, <span style=\"color: #008000; text-decoration-color: #008000\">'H01S'</span>, <span style=\"color: #808000; text-decoration-color: #808000\">...</span> +<span style=\"color: #008080; text-decoration-color: #008080; font-weight: bold\">1</span><span style=\"font-weight: bold\">]</span> │ <span style=\"font-weight: bold\">[</span><span style=\"color: #008000; text-decoration-color: #008000\">'ALCATEL'</span>, <span style=\"color: #008000; text-decoration-color: #008000\">'NV'</span><span style=\"font-weight: bold\">]</span>                   │          <span style=\"color: #7f7f7f; text-decoration-color: #7f7f7f\">NULL</span> │           <span style=\"color: #7f7f7f; text-decoration-color: #7f7f7f\">NULL</span> │\n",
       "│     <span style=\"color: #008080; text-decoration-color: #008080; font-weight: bold\">15041</span> │    <span style=\"color: #008080; text-decoration-color: #008080; font-weight: bold\">4333661</span> │ <span style=\"color: #008000; text-decoration-color: #008000\">CANON EUROPA        </span> │ <span style=\"color: #008000; text-decoration-color: #008000\">* CANON EUROPA N.V          </span> │ <span style=\"color: #008000; text-decoration-color: #008000\">CANON EUROPA NV         </span> │      <span style=\"color: #008080; text-decoration-color: #008080; font-weight: bold\">nan</span> │       <span style=\"color: #008080; text-decoration-color: #008080; font-weight: bold\">nan</span> │ <span style=\"font-weight: bold\">[</span><span style=\"color: #008000; text-decoration-color: #008000\">'LEE RICKLER'</span>, <span style=\"color: #008000; text-decoration-color: #008000\">'SIMON PARKER'</span>, <span style=\"color: #808000; text-decoration-color: #808000\">...</span> +<span style=\"color: #008080; text-decoration-color: #008080; font-weight: bold\">3</span><span style=\"font-weight: bold\">]</span>                          │ <span style=\"font-weight: bold\">[</span><span style=\"color: #008000; text-decoration-color: #008000\">'G06F'</span><span style=\"font-weight: bold\">]</span>                 │ <span style=\"font-weight: bold\">[</span><span style=\"color: #008000; text-decoration-color: #008000\">'CANON'</span>, <span style=\"color: #008000; text-decoration-color: #008000\">'EUROPA'</span>, <span style=\"color: #808000; text-decoration-color: #808000\">...</span> +<span style=\"color: #008080; text-decoration-color: #008080; font-weight: bold\">1</span><span style=\"font-weight: bold\">]</span>         │          <span style=\"color: #7f7f7f; text-decoration-color: #7f7f7f\">NULL</span> │           <span style=\"color: #7f7f7f; text-decoration-color: #7f7f7f\">NULL</span> │\n",
       "│     <span style=\"color: #008080; text-decoration-color: #008080; font-weight: bold\">15042</span> │    <span style=\"color: #008080; text-decoration-color: #008080; font-weight: bold\">4333661</span> │ <span style=\"color: #008000; text-decoration-color: #008000\">CANON EUROPA        </span> │ <span style=\"color: #008000; text-decoration-color: #008000\">* CANON EUROPA N.V.         </span> │ <span style=\"color: #008000; text-decoration-color: #008000\">CANON EUROPA NV         </span> │      <span style=\"color: #008080; text-decoration-color: #008080; font-weight: bold\">nan</span> │       <span style=\"color: #008080; text-decoration-color: #008080; font-weight: bold\">nan</span> │ <span style=\"font-weight: bold\">[</span><span style=\"color: #008000; text-decoration-color: #008000\">'QI HE HONG'</span>, <span style=\"color: #008000; text-decoration-color: #008000\">'ADAM MICHAEL BAUMBERG'</span>, <span style=\"color: #808000; text-decoration-color: #808000\">...</span> +<span style=\"color: #008080; text-decoration-color: #008080; font-weight: bold\">1</span><span style=\"font-weight: bold\">]</span>                  │ <span style=\"font-weight: bold\">[</span><span style=\"color: #008000; text-decoration-color: #008000\">'G06T'</span>, <span style=\"color: #008000; text-decoration-color: #008000\">'G01B'</span><span style=\"font-weight: bold\">]</span>         │ <span style=\"font-weight: bold\">[</span><span style=\"color: #008000; text-decoration-color: #008000\">'CANON'</span>, <span style=\"color: #008000; text-decoration-color: #008000\">'EUROPA'</span>, <span style=\"color: #808000; text-decoration-color: #808000\">...</span> +<span style=\"color: #008080; text-decoration-color: #008080; font-weight: bold\">1</span><span style=\"font-weight: bold\">]</span>         │          <span style=\"color: #7f7f7f; text-decoration-color: #7f7f7f\">NULL</span> │           <span style=\"color: #7f7f7f; text-decoration-color: #7f7f7f\">NULL</span> │\n",
       "│     <span style=\"color: #008080; text-decoration-color: #008080; font-weight: bold\">15043</span> │    <span style=\"color: #008080; text-decoration-color: #008080; font-weight: bold\">4333661</span> │ <span style=\"color: #008000; text-decoration-color: #008000\">CANON EUROPA        </span> │ <span style=\"color: #008000; text-decoration-color: #008000\">* CANON EUROPA NV           </span> │ <span style=\"color: #008000; text-decoration-color: #008000\">CANON EUROPA NV         </span> │      <span style=\"color: #008080; text-decoration-color: #008080; font-weight: bold\">nan</span> │       <span style=\"color: #008080; text-decoration-color: #008080; font-weight: bold\">nan</span> │ <span style=\"font-weight: bold\">[</span><span style=\"color: #008000; text-decoration-color: #008000\">'NILESH PATHAK'</span>, <span style=\"color: #008000; text-decoration-color: #008000\">'MASAMICHI MASUDA'</span>, <span style=\"color: #808000; text-decoration-color: #808000\">...</span> +<span style=\"color: #008080; text-decoration-color: #008080; font-weight: bold\">10</span><span style=\"font-weight: bold\">]</span>                   │ <span style=\"font-weight: bold\">[</span><span style=\"color: #008000; text-decoration-color: #008000\">'H04B'</span>, <span style=\"color: #008000; text-decoration-color: #008000\">'G06T'</span>, <span style=\"color: #808000; text-decoration-color: #808000\">...</span> +<span style=\"color: #008080; text-decoration-color: #008080; font-weight: bold\">8</span><span style=\"font-weight: bold\">]</span> │ <span style=\"font-weight: bold\">[</span><span style=\"color: #008000; text-decoration-color: #008000\">'CANON'</span>, <span style=\"color: #008000; text-decoration-color: #008000\">'EUROPA'</span>, <span style=\"color: #808000; text-decoration-color: #808000\">...</span> +<span style=\"color: #008080; text-decoration-color: #008080; font-weight: bold\">1</span><span style=\"font-weight: bold\">]</span>         │          <span style=\"color: #7f7f7f; text-decoration-color: #7f7f7f\">NULL</span> │           <span style=\"color: #7f7f7f; text-decoration-color: #7f7f7f\">NULL</span> │\n",
       "│     <span style=\"color: #008080; text-decoration-color: #008080; font-weight: bold\">25387</span> │    <span style=\"color: #008080; text-decoration-color: #008080; font-weight: bold\">7650783</span> │ <span style=\"color: #008000; text-decoration-color: #008000\">DSM                 </span> │ <span style=\"color: #008000; text-decoration-color: #008000\">* DSM N.V.                  </span> │ <span style=\"color: #008000; text-decoration-color: #008000\">DSM NV                  </span> │      <span style=\"color: #008080; text-decoration-color: #008080; font-weight: bold\">nan</span> │       <span style=\"color: #008080; text-decoration-color: #008080; font-weight: bold\">nan</span> │ <span style=\"font-weight: bold\">[</span><span style=\"color: #008000; text-decoration-color: #008000\">'GABRIEL MARINUS MEESTERS'</span>, <span style=\"color: #008000; text-decoration-color: #008000\">'RUDOLF CAROLUS BARENDSE'</span>, <span style=\"color: #808000; text-decoration-color: #808000\">...</span> +<span style=\"color: #008080; text-decoration-color: #008080; font-weight: bold\">11</span><span style=\"font-weight: bold\">]</span> │ <span style=\"font-weight: bold\">[</span><span style=\"color: #008000; text-decoration-color: #008000\">'C12N'</span>, <span style=\"color: #008000; text-decoration-color: #008000\">'A61K'</span>, <span style=\"color: #808000; text-decoration-color: #808000\">...</span> +<span style=\"color: #008080; text-decoration-color: #008080; font-weight: bold\">9</span><span style=\"font-weight: bold\">]</span> │ <span style=\"font-weight: bold\">[</span><span style=\"color: #008000; text-decoration-color: #008000\">'DSM'</span>, <span style=\"color: #008000; text-decoration-color: #008000\">'NV'</span><span style=\"font-weight: bold\">]</span>                       │          <span style=\"color: #7f7f7f; text-decoration-color: #7f7f7f\">NULL</span> │           <span style=\"color: #7f7f7f; text-decoration-color: #7f7f7f\">NULL</span> │\n",
       "│         <span style=\"color: #7f7f7f; text-decoration-color: #7f7f7f\">…</span> │          <span style=\"color: #7f7f7f; text-decoration-color: #7f7f7f\">…</span> │ <span style=\"color: #7f7f7f; text-decoration-color: #7f7f7f\">…</span>                    │ <span style=\"color: #7f7f7f; text-decoration-color: #7f7f7f\">…</span>                            │ <span style=\"color: #7f7f7f; text-decoration-color: #7f7f7f\">…</span>                        │        <span style=\"color: #7f7f7f; text-decoration-color: #7f7f7f\">…</span> │         <span style=\"color: #7f7f7f; text-decoration-color: #7f7f7f\">…</span> │ <span style=\"color: #7f7f7f; text-decoration-color: #7f7f7f\">…</span>                                                                │ <span style=\"color: #7f7f7f; text-decoration-color: #7f7f7f\">…</span>                        │ <span style=\"color: #7f7f7f; text-decoration-color: #7f7f7f\">…</span>                                   │             <span style=\"color: #7f7f7f; text-decoration-color: #7f7f7f\">…</span> │              <span style=\"color: #7f7f7f; text-decoration-color: #7f7f7f\">…</span> │\n",
       "└───────────┴────────────┴──────────────────────┴──────────────────────────────┴──────────────────────────┴──────────┴───────────┴──────────────────────────────────────────────────────────────────┴──────────────────────────┴─────────────────────────────────────┴───────────────┴────────────────┘\n",
       "</pre>\n"
      ],
      "text/plain": [
       "┏━━━━━━━━━━━┳━━━━━━━━━━━━┳━━━━━━━━━━━━━━━━━━━━━━┳━━━━━━━━━━━━━━━━━━━━━━━━━━━━━━┳━━━━━━━━━━━━━━━━━━━━━━━━━━┳━━━━━━━━━━┳━━━━━━━━━━━┳━━━━━━━━━━━━━━━━━━━━━━━━━━━━━━━━━━━━━━━━━━━━━━━━━━━━━━━━━━━━━━━━━━┳━━━━━━━━━━━━━━━━━━━━━━━━━━┳━━━━━━━━━━━━━━━━━━━━━━━━━━━━━━━━━━━━━┳━━━━━━━━━━━━━━━┳━━━━━━━━━━━━━━━━┓\n",
       "┃\u001b[1m \u001b[0m\u001b[1mrecord_id\u001b[0m\u001b[1m \u001b[0m┃\u001b[1m \u001b[0m\u001b[1mlabel_true\u001b[0m\u001b[1m \u001b[0m┃\u001b[1m \u001b[0m\u001b[1mname_true\u001b[0m\u001b[1m           \u001b[0m\u001b[1m \u001b[0m┃\u001b[1m \u001b[0m\u001b[1mname\u001b[0m\u001b[1m                        \u001b[0m\u001b[1m \u001b[0m┃\u001b[1m \u001b[0m\u001b[1mname_cleaned\u001b[0m\u001b[1m            \u001b[0m\u001b[1m \u001b[0m┃\u001b[1m \u001b[0m\u001b[1mlatitude\u001b[0m\u001b[1m \u001b[0m┃\u001b[1m \u001b[0m\u001b[1mlongitude\u001b[0m\u001b[1m \u001b[0m┃\u001b[1m \u001b[0m\u001b[1mcoauthors\u001b[0m\u001b[1m                                                       \u001b[0m\u001b[1m \u001b[0m┃\u001b[1m \u001b[0m\u001b[1mclasses\u001b[0m\u001b[1m                 \u001b[0m\u001b[1m \u001b[0m┃\u001b[1m \u001b[0m\u001b[1mname_tokens\u001b[0m\u001b[1m                        \u001b[0m\u001b[1m \u001b[0m┃\u001b[1m \u001b[0m\u001b[1mlatitude_hash\u001b[0m\u001b[1m \u001b[0m┃\u001b[1m \u001b[0m\u001b[1mlongitude_hash\u001b[0m\u001b[1m \u001b[0m┃\n",
       "┡━━━━━━━━━━━╇━━━━━━━━━━━━╇━━━━━━━━━━━━━━━━━━━━━━╇━━━━━━━━━━━━━━━━━━━━━━━━━━━━━━╇━━━━━━━━━━━━━━━━━━━━━━━━━━╇━━━━━━━━━━╇━━━━━━━━━━━╇━━━━━━━━━━━━━━━━━━━━━━━━━━━━━━━━━━━━━━━━━━━━━━━━━━━━━━━━━━━━━━━━━━╇━━━━━━━━━━━━━━━━━━━━━━━━━━╇━━━━━━━━━━━━━━━━━━━━━━━━━━━━━━━━━━━━━╇━━━━━━━━━━━━━━━╇━━━━━━━━━━━━━━━━┩\n",
       "│ \u001b[2mint64\u001b[0m     │ \u001b[2mint64\u001b[0m      │ \u001b[2mstring\u001b[0m               │ \u001b[2mstring\u001b[0m                       │ \u001b[2mstring\u001b[0m                   │ \u001b[2mfloat64\u001b[0m  │ \u001b[2mfloat64\u001b[0m   │ \u001b[2marray<string>\u001b[0m                                                    │ \u001b[2marray<string>\u001b[0m            │ \u001b[2marray<string>\u001b[0m                       │ \u001b[2mint16\u001b[0m         │ \u001b[2mint16\u001b[0m          │\n",
       "├───────────┼────────────┼──────────────────────┼──────────────────────────────┼──────────────────────────┼──────────┼───────────┼──────────────────────────────────────────────────────────────────┼──────────────────────────┼─────────────────────────────────────┼───────────────┼────────────────┤\n",
       "│      \u001b[1;36m2909\u001b[0m │     \u001b[1;36m402600\u001b[0m │ \u001b[32mAGILENT TECHNOLOGIES\u001b[0m │ \u001b[32m* AGILENT TECHNOLOGIES, INC.\u001b[0m │ \u001b[32mAGILENT TECHNOLOGIES INC\u001b[0m │      \u001b[1;36mnan\u001b[0m │       \u001b[1;36mnan\u001b[0m │ \u001b[1m[\u001b[0m\u001b[32m'KONINK PHILIPS ELECTRONICS N V'\u001b[0m, \u001b[32m'DAVID E SNYDER'\u001b[0m, \u001b[33m...\u001b[0m +\u001b[1;36m1\u001b[0m\u001b[1m]\u001b[0m     │ \u001b[1m[\u001b[0m\u001b[32m'A61N'\u001b[0m, \u001b[32m'A61B'\u001b[0m\u001b[1m]\u001b[0m         │ \u001b[1m[\u001b[0m\u001b[32m'AGILENT'\u001b[0m, \u001b[32m'TECHNOLOGIES'\u001b[0m, \u001b[33m...\u001b[0m +\u001b[1;36m1\u001b[0m\u001b[1m]\u001b[0m │          \u001b[2mNULL\u001b[0m │           \u001b[2mNULL\u001b[0m │\n",
       "│      \u001b[1;36m3574\u001b[0m │     \u001b[1;36m569309\u001b[0m │ \u001b[32mAKZO NOBEL          \u001b[0m │ \u001b[32m* AKZO NOBEL N.V.           \u001b[0m │ \u001b[32mAKZO NOBEL NV           \u001b[0m │      \u001b[1;36mnan\u001b[0m │       \u001b[1;36mnan\u001b[0m │ \u001b[1m[\u001b[0m\u001b[32m'TSJERK HOEKSTRA'\u001b[0m, \u001b[32m'ANDRESS K JOHNSON'\u001b[0m, \u001b[33m...\u001b[0m +\u001b[1;36m11\u001b[0m\u001b[1m]\u001b[0m                │ \u001b[1m[\u001b[0m\u001b[32m'G01N'\u001b[0m, \u001b[32m'B01L'\u001b[0m, \u001b[33m...\u001b[0m +\u001b[1;36m3\u001b[0m\u001b[1m]\u001b[0m │ \u001b[1m[\u001b[0m\u001b[32m'AKZO'\u001b[0m, \u001b[32m'NOBEL'\u001b[0m, \u001b[33m...\u001b[0m +\u001b[1;36m1\u001b[0m\u001b[1m]\u001b[0m           │          \u001b[2mNULL\u001b[0m │           \u001b[2mNULL\u001b[0m │\n",
       "│      \u001b[1;36m3575\u001b[0m │     \u001b[1;36m569309\u001b[0m │ \u001b[32mAKZO NOBEL          \u001b[0m │ \u001b[32m* AKZO NOBEL NV             \u001b[0m │ \u001b[32mAKZO NOBEL NV           \u001b[0m │      \u001b[1;36mnan\u001b[0m │       \u001b[1;36mnan\u001b[0m │ \u001b[1m[\u001b[0m\u001b[32m'WILLIAM JOHN ERNEST PARR'\u001b[0m, \u001b[32m'HANS OSKARSSON'\u001b[0m, \u001b[33m...\u001b[0m +\u001b[1;36m3\u001b[0m\u001b[1m]\u001b[0m           │ \u001b[1m[\u001b[0m\u001b[32m'C09K'\u001b[0m, \u001b[32m'F17D'\u001b[0m, \u001b[33m...\u001b[0m +\u001b[1;36m2\u001b[0m\u001b[1m]\u001b[0m │ \u001b[1m[\u001b[0m\u001b[32m'AKZO'\u001b[0m, \u001b[32m'NOBEL'\u001b[0m, \u001b[33m...\u001b[0m +\u001b[1;36m1\u001b[0m\u001b[1m]\u001b[0m           │          \u001b[2mNULL\u001b[0m │           \u001b[2mNULL\u001b[0m │\n",
       "│      \u001b[1;36m3779\u001b[0m │     \u001b[1;36m656303\u001b[0m │ \u001b[32mALCATEL             \u001b[0m │ \u001b[32m* ALCATEL N.V.              \u001b[0m │ \u001b[32mALCATEL NV              \u001b[0m │    \u001b[1;36m52.35\u001b[0m │  \u001b[1;36m4.916667\u001b[0m │ \u001b[1m[\u001b[0m\u001b[32m'GUENTER KOCHSMEIER'\u001b[0m, \u001b[32m'ZBIGNIEW WIEGOLASKI'\u001b[0m, \u001b[33m...\u001b[0m +\u001b[1;36m2\u001b[0m\u001b[1m]\u001b[0m            │ \u001b[1m[\u001b[0m\u001b[32m'G02B'\u001b[0m, \u001b[32m'G04G'\u001b[0m, \u001b[33m...\u001b[0m +\u001b[1;36m2\u001b[0m\u001b[1m]\u001b[0m │ \u001b[1m[\u001b[0m\u001b[32m'ALCATEL'\u001b[0m, \u001b[32m'NV'\u001b[0m\u001b[1m]\u001b[0m                   │           \u001b[1;36m524\u001b[0m │             \u001b[1;36m49\u001b[0m │\n",
       "│      \u001b[1;36m3780\u001b[0m │     \u001b[1;36m656303\u001b[0m │ \u001b[32mALCATEL             \u001b[0m │ \u001b[32m* ALCATEL N.V.              \u001b[0m │ \u001b[32mALCATEL NV              \u001b[0m │    \u001b[1;36m52.35\u001b[0m │  \u001b[1;36m4.916667\u001b[0m │ \u001b[1m[\u001b[0m\u001b[32m'ZILAN MANFRED'\u001b[0m, \u001b[32m'JOSIANE RAMOS'\u001b[0m, \u001b[33m...\u001b[0m +\u001b[1;36m2\u001b[0m\u001b[1m]\u001b[0m                       │ \u001b[1m[\u001b[0m\u001b[32m'H03G'\u001b[0m, \u001b[32m'B05D'\u001b[0m, \u001b[33m...\u001b[0m +\u001b[1;36m6\u001b[0m\u001b[1m]\u001b[0m │ \u001b[1m[\u001b[0m\u001b[32m'ALCATEL'\u001b[0m, \u001b[32m'NV'\u001b[0m\u001b[1m]\u001b[0m                   │           \u001b[1;36m524\u001b[0m │             \u001b[1;36m49\u001b[0m │\n",
       "│      \u001b[1;36m3782\u001b[0m │     \u001b[1;36m656303\u001b[0m │ \u001b[32mALCATEL             \u001b[0m │ \u001b[32m* ALCATEL N.V.              \u001b[0m │ \u001b[32mALCATEL NV              \u001b[0m │      \u001b[1;36mnan\u001b[0m │       \u001b[1;36mnan\u001b[0m │ \u001b[1m[\u001b[0m\u001b[32m'OLIVIER AUDOUIN'\u001b[0m, \u001b[32m'MICHEL SOTOM'\u001b[0m, \u001b[33m...\u001b[0m +\u001b[1;36m1\u001b[0m\u001b[1m]\u001b[0m                      │ \u001b[1m[\u001b[0m\u001b[32m'H04B'\u001b[0m, \u001b[32m'H01S'\u001b[0m, \u001b[33m...\u001b[0m +\u001b[1;36m1\u001b[0m\u001b[1m]\u001b[0m │ \u001b[1m[\u001b[0m\u001b[32m'ALCATEL'\u001b[0m, \u001b[32m'NV'\u001b[0m\u001b[1m]\u001b[0m                   │          \u001b[2mNULL\u001b[0m │           \u001b[2mNULL\u001b[0m │\n",
       "│     \u001b[1;36m15041\u001b[0m │    \u001b[1;36m4333661\u001b[0m │ \u001b[32mCANON EUROPA        \u001b[0m │ \u001b[32m* CANON EUROPA N.V          \u001b[0m │ \u001b[32mCANON EUROPA NV         \u001b[0m │      \u001b[1;36mnan\u001b[0m │       \u001b[1;36mnan\u001b[0m │ \u001b[1m[\u001b[0m\u001b[32m'LEE RICKLER'\u001b[0m, \u001b[32m'SIMON PARKER'\u001b[0m, \u001b[33m...\u001b[0m +\u001b[1;36m3\u001b[0m\u001b[1m]\u001b[0m                          │ \u001b[1m[\u001b[0m\u001b[32m'G06F'\u001b[0m\u001b[1m]\u001b[0m                 │ \u001b[1m[\u001b[0m\u001b[32m'CANON'\u001b[0m, \u001b[32m'EUROPA'\u001b[0m, \u001b[33m...\u001b[0m +\u001b[1;36m1\u001b[0m\u001b[1m]\u001b[0m         │          \u001b[2mNULL\u001b[0m │           \u001b[2mNULL\u001b[0m │\n",
       "│     \u001b[1;36m15042\u001b[0m │    \u001b[1;36m4333661\u001b[0m │ \u001b[32mCANON EUROPA        \u001b[0m │ \u001b[32m* CANON EUROPA N.V.         \u001b[0m │ \u001b[32mCANON EUROPA NV         \u001b[0m │      \u001b[1;36mnan\u001b[0m │       \u001b[1;36mnan\u001b[0m │ \u001b[1m[\u001b[0m\u001b[32m'QI HE HONG'\u001b[0m, \u001b[32m'ADAM MICHAEL BAUMBERG'\u001b[0m, \u001b[33m...\u001b[0m +\u001b[1;36m1\u001b[0m\u001b[1m]\u001b[0m                  │ \u001b[1m[\u001b[0m\u001b[32m'G06T'\u001b[0m, \u001b[32m'G01B'\u001b[0m\u001b[1m]\u001b[0m         │ \u001b[1m[\u001b[0m\u001b[32m'CANON'\u001b[0m, \u001b[32m'EUROPA'\u001b[0m, \u001b[33m...\u001b[0m +\u001b[1;36m1\u001b[0m\u001b[1m]\u001b[0m         │          \u001b[2mNULL\u001b[0m │           \u001b[2mNULL\u001b[0m │\n",
       "│     \u001b[1;36m15043\u001b[0m │    \u001b[1;36m4333661\u001b[0m │ \u001b[32mCANON EUROPA        \u001b[0m │ \u001b[32m* CANON EUROPA NV           \u001b[0m │ \u001b[32mCANON EUROPA NV         \u001b[0m │      \u001b[1;36mnan\u001b[0m │       \u001b[1;36mnan\u001b[0m │ \u001b[1m[\u001b[0m\u001b[32m'NILESH PATHAK'\u001b[0m, \u001b[32m'MASAMICHI MASUDA'\u001b[0m, \u001b[33m...\u001b[0m +\u001b[1;36m10\u001b[0m\u001b[1m]\u001b[0m                   │ \u001b[1m[\u001b[0m\u001b[32m'H04B'\u001b[0m, \u001b[32m'G06T'\u001b[0m, \u001b[33m...\u001b[0m +\u001b[1;36m8\u001b[0m\u001b[1m]\u001b[0m │ \u001b[1m[\u001b[0m\u001b[32m'CANON'\u001b[0m, \u001b[32m'EUROPA'\u001b[0m, \u001b[33m...\u001b[0m +\u001b[1;36m1\u001b[0m\u001b[1m]\u001b[0m         │          \u001b[2mNULL\u001b[0m │           \u001b[2mNULL\u001b[0m │\n",
       "│     \u001b[1;36m25387\u001b[0m │    \u001b[1;36m7650783\u001b[0m │ \u001b[32mDSM                 \u001b[0m │ \u001b[32m* DSM N.V.                  \u001b[0m │ \u001b[32mDSM NV                  \u001b[0m │      \u001b[1;36mnan\u001b[0m │       \u001b[1;36mnan\u001b[0m │ \u001b[1m[\u001b[0m\u001b[32m'GABRIEL MARINUS MEESTERS'\u001b[0m, \u001b[32m'RUDOLF CAROLUS BARENDSE'\u001b[0m, \u001b[33m...\u001b[0m +\u001b[1;36m11\u001b[0m\u001b[1m]\u001b[0m │ \u001b[1m[\u001b[0m\u001b[32m'C12N'\u001b[0m, \u001b[32m'A61K'\u001b[0m, \u001b[33m...\u001b[0m +\u001b[1;36m9\u001b[0m\u001b[1m]\u001b[0m │ \u001b[1m[\u001b[0m\u001b[32m'DSM'\u001b[0m, \u001b[32m'NV'\u001b[0m\u001b[1m]\u001b[0m                       │          \u001b[2mNULL\u001b[0m │           \u001b[2mNULL\u001b[0m │\n",
       "│         \u001b[2m…\u001b[0m │          \u001b[2m…\u001b[0m │ \u001b[2m…\u001b[0m                    │ \u001b[2m…\u001b[0m                            │ \u001b[2m…\u001b[0m                        │        \u001b[2m…\u001b[0m │         \u001b[2m…\u001b[0m │ \u001b[2m…\u001b[0m                                                                │ \u001b[2m…\u001b[0m                        │ \u001b[2m…\u001b[0m                                   │             \u001b[2m…\u001b[0m │              \u001b[2m…\u001b[0m │\n",
       "└───────────┴────────────┴──────────────────────┴──────────────────────────────┴──────────────────────────┴──────────┴───────────┴──────────────────────────────────────────────────────────────────┴──────────────────────────┴─────────────────────────────────────┴───────────────┴────────────────┘"
      ]
     },
     "execution_count": 4,
     "metadata": {},
     "output_type": "execute_result"
    }
   ],
   "source": [
    "from mismo.clean.strings import norm_whitespace\n",
    "\n",
    "\n",
    "def clean_names(names):\n",
    "    names = norm_whitespace(names)\n",
    "    names = names.upper()\n",
    "    # Only want to keep letters, numbers, and spaces\n",
    "    names = names.re_replace(\"[^0-9A-Z ]\", \"\")\n",
    "    # Now have to do whitespace fixup again\n",
    "    names = norm_whitespace(names)\n",
    "    return names\n",
    "\n",
    "\n",
    "def hash_coord_to(coord):\n",
    "    return (coord.round(1) * 10).cast(\"int16\")\n",
    "\n",
    "\n",
    "cleaned = raw\n",
    "cleaned = cleaned.select(\n",
    "    \"record_id\",\n",
    "    \"label_true\",\n",
    "    \"name_true\",\n",
    "    \"name\",\n",
    "    name_cleaned=clean_names(_.name),\n",
    "    latitude=_.latitude.nullif(0),\n",
    "    longitude=_.longitude.nullif(0),\n",
    "    coauthors=_.coauthors.upper().split(\"**\").map(norm_whitespace),\n",
    "    classes=_.classes.upper().split(\"**\").map(norm_whitespace),\n",
    ")\n",
    "cleaned = cleaned.mutate(\n",
    "    name_tokens=_.name_cleaned.split(\" \").map(norm_whitespace),\n",
    "    latitude_hash=hash_coord_to(_.latitude),\n",
    "    longitude_hash=hash_coord_to(_.longitude),\n",
    ")\n",
    "cleaned"
   ]
  },
  {
   "cell_type": "code",
   "execution_count": 10,
   "metadata": {},
   "outputs": [
    {
     "data": {
      "text/html": [
       "<pre style=\"white-space:pre;overflow-x:auto;line-height:normal;font-family:Menlo,'DejaVu Sans Mono',consolas,'Courier New',monospace\"></pre>\n"
      ],
      "text/plain": []
     },
     "metadata": {},
     "output_type": "display_data"
    },
    {
     "data": {
      "text/html": [
       "<pre style=\"white-space:pre;overflow-x:auto;line-height:normal;font-family:Menlo,'DejaVu Sans Mono',consolas,'Courier New',monospace\"></pre>\n"
      ],
      "text/plain": []
     },
     "metadata": {},
     "output_type": "display_data"
    },
    {
     "data": {
      "text/html": [
       "<pre style=\"white-space:pre;overflow-x:auto;line-height:normal;font-family:Menlo,'DejaVu Sans Mono',consolas,'Courier New',monospace\"></pre>\n"
      ],
      "text/plain": []
     },
     "metadata": {},
     "output_type": "display_data"
    },
    {
     "data": {
      "text/html": [
       "<pre style=\"white-space:pre;overflow-x:auto;line-height:normal;font-family:Menlo,'DejaVu Sans Mono',consolas,'Courier New',monospace\"></pre>\n"
      ],
      "text/plain": []
     },
     "metadata": {},
     "output_type": "display_data"
    },
    {
     "data": {
      "text/html": [
       "<pre style=\"white-space:pre;overflow-x:auto;line-height:normal;font-family:Menlo,'DejaVu Sans Mono',consolas,'Courier New',monospace\"></pre>\n"
      ],
      "text/plain": []
     },
     "metadata": {},
     "output_type": "display_data"
    },
    {
     "data": {
      "text/html": [
       "<pre style=\"white-space:pre;overflow-x:auto;line-height:normal;font-family:Menlo,'DejaVu Sans Mono',consolas,'Courier New',monospace\"></pre>\n"
      ],
      "text/plain": []
     },
     "metadata": {},
     "output_type": "display_data"
    },
    {
     "data": {
      "text/html": [
       "<pre style=\"white-space:pre;overflow-x:auto;line-height:normal;font-family:Menlo,'DejaVu Sans Mono',consolas,'Courier New',monospace\"></pre>\n"
      ],
      "text/plain": []
     },
     "metadata": {},
     "output_type": "display_data"
    },
    {
     "data": {
      "text/html": [
       "<pre style=\"white-space:pre;overflow-x:auto;line-height:normal;font-family:Menlo,'DejaVu Sans Mono',consolas,'Courier New',monospace\"></pre>\n"
      ],
      "text/plain": []
     },
     "metadata": {},
     "output_type": "display_data"
    },
    {
     "data": {
      "text/html": [
       "<pre style=\"white-space:pre;overflow-x:auto;line-height:normal;font-family:Menlo,'DejaVu Sans Mono',consolas,'Courier New',monospace\"></pre>\n"
      ],
      "text/plain": []
     },
     "metadata": {},
     "output_type": "display_data"
    },
    {
     "data": {
      "text/html": [
       "<pre style=\"white-space:pre;overflow-x:auto;line-height:normal;font-family:Menlo,'DejaVu Sans Mono',consolas,'Courier New',monospace\"></pre>\n"
      ],
      "text/plain": []
     },
     "metadata": {},
     "output_type": "display_data"
    },
    {
     "data": {
      "text/html": [
       "<pre style=\"white-space:pre;overflow-x:auto;line-height:normal;font-family:Menlo,'DejaVu Sans Mono',consolas,'Courier New',monospace\"></pre>\n"
      ],
      "text/plain": []
     },
     "metadata": {},
     "output_type": "display_data"
    },
    {
     "data": {
      "text/html": [
       "<pre style=\"white-space:pre;overflow-x:auto;line-height:normal;font-family:Menlo,'DejaVu Sans Mono',consolas,'Courier New',monospace\"></pre>\n"
      ],
      "text/plain": []
     },
     "metadata": {},
     "output_type": "display_data"
    },
    {
     "data": {
      "text/html": [
       "<pre style=\"white-space:pre;overflow-x:auto;line-height:normal;font-family:Menlo,'DejaVu Sans Mono',consolas,'Courier New',monospace\"></pre>\n"
      ],
      "text/plain": []
     },
     "metadata": {},
     "output_type": "display_data"
    },
    {
     "data": {
      "text/html": [
       "<pre style=\"white-space:pre;overflow-x:auto;line-height:normal;font-family:Menlo,'DejaVu Sans Mono',consolas,'Courier New',monospace\"></pre>\n"
      ],
      "text/plain": []
     },
     "metadata": {},
     "output_type": "display_data"
    },
    {
     "data": {
      "text/html": [
       "<pre style=\"white-space:pre;overflow-x:auto;line-height:normal;font-family:Menlo,'DejaVu Sans Mono',consolas,'Courier New',monospace\"></pre>\n"
      ],
      "text/plain": []
     },
     "metadata": {},
     "output_type": "display_data"
    },
    {
     "data": {
      "text/html": [
       "<pre style=\"white-space:pre;overflow-x:auto;line-height:normal;font-family:Menlo,'DejaVu Sans Mono',consolas,'Courier New',monospace\"></pre>\n"
      ],
      "text/plain": []
     },
     "metadata": {},
     "output_type": "display_data"
    },
    {
     "data": {
      "text/html": [
       "<pre style=\"white-space:pre;overflow-x:auto;line-height:normal;font-family:Menlo,'DejaVu Sans Mono',consolas,'Courier New',monospace\"></pre>\n"
      ],
      "text/plain": []
     },
     "metadata": {},
     "output_type": "display_data"
    },
    {
     "data": {
      "text/html": [
       "<pre style=\"white-space:pre;overflow-x:auto;line-height:normal;font-family:Menlo,'DejaVu Sans Mono',consolas,'Courier New',monospace\"></pre>\n"
      ],
      "text/plain": []
     },
     "metadata": {},
     "output_type": "display_data"
    },
    {
     "data": {
      "text/html": [
       "<pre style=\"white-space:pre;overflow-x:auto;line-height:normal;font-family:Menlo,'DejaVu Sans Mono',consolas,'Courier New',monospace\"></pre>\n"
      ],
      "text/plain": []
     },
     "metadata": {},
     "output_type": "display_data"
    },
    {
     "data": {
      "text/html": [
       "<pre style=\"white-space:pre;overflow-x:auto;line-height:normal;font-family:Menlo,'DejaVu Sans Mono',consolas,'Courier New',monospace\"></pre>\n"
      ],
      "text/plain": []
     },
     "metadata": {},
     "output_type": "display_data"
    },
    {
     "data": {
      "text/html": [
       "<pre style=\"white-space:pre;overflow-x:auto;line-height:normal;font-family:Menlo,'DejaVu Sans Mono',consolas,'Courier New',monospace\"></pre>\n"
      ],
      "text/plain": []
     },
     "metadata": {},
     "output_type": "display_data"
    },
    {
     "data": {
      "text/html": [
       "<pre style=\"white-space:pre;overflow-x:auto;line-height:normal;font-family:Menlo,'DejaVu Sans Mono',consolas,'Courier New',monospace\"></pre>\n"
      ],
      "text/plain": []
     },
     "metadata": {},
     "output_type": "display_data"
    },
    {
     "data": {
      "text/html": [
       "<pre style=\"white-space:pre;overflow-x:auto;line-height:normal;font-family:Menlo,'DejaVu Sans Mono',consolas,'Courier New',monospace\"></pre>\n"
      ],
      "text/plain": []
     },
     "metadata": {},
     "output_type": "display_data"
    },
    {
     "data": {
      "text/html": [
       "<pre style=\"white-space:pre;overflow-x:auto;line-height:normal;font-family:Menlo,'DejaVu Sans Mono',consolas,'Courier New',monospace\"></pre>\n"
      ],
      "text/plain": []
     },
     "metadata": {},
     "output_type": "display_data"
    },
    {
     "data": {
      "text/html": [
       "<pre style=\"white-space:pre;overflow-x:auto;line-height:normal;font-family:Menlo,'DejaVu Sans Mono',consolas,'Courier New',monospace\"></pre>\n"
      ],
      "text/plain": []
     },
     "metadata": {},
     "output_type": "display_data"
    },
    {
     "data": {
      "text/html": [
       "<pre style=\"white-space:pre;overflow-x:auto;line-height:normal;font-family:Menlo,'DejaVu Sans Mono',consolas,'Courier New',monospace\"></pre>\n"
      ],
      "text/plain": []
     },
     "metadata": {},
     "output_type": "display_data"
    },
    {
     "data": {
      "text/html": [
       "<pre style=\"white-space:pre;overflow-x:auto;line-height:normal;font-family:Menlo,'DejaVu Sans Mono',consolas,'Courier New',monospace\"></pre>\n"
      ],
      "text/plain": []
     },
     "metadata": {},
     "output_type": "display_data"
    },
    {
     "data": {
      "text/html": [
       "<pre style=\"white-space:pre;overflow-x:auto;line-height:normal;font-family:Menlo,'DejaVu Sans Mono',consolas,'Courier New',monospace\"></pre>\n"
      ],
      "text/plain": []
     },
     "metadata": {},
     "output_type": "display_data"
    },
    {
     "data": {
      "text/html": [
       "<pre style=\"white-space:pre;overflow-x:auto;line-height:normal;font-family:Menlo,'DejaVu Sans Mono',consolas,'Courier New',monospace\"></pre>\n"
      ],
      "text/plain": []
     },
     "metadata": {},
     "output_type": "display_data"
    },
    {
     "data": {
      "text/html": [
       "<pre style=\"white-space:pre;overflow-x:auto;line-height:normal;font-family:Menlo,'DejaVu Sans Mono',consolas,'Courier New',monospace\"></pre>\n"
      ],
      "text/plain": []
     },
     "metadata": {},
     "output_type": "display_data"
    },
    {
     "data": {
      "text/html": [
       "<pre style=\"white-space:pre;overflow-x:auto;line-height:normal;font-family:Menlo,'DejaVu Sans Mono',consolas,'Courier New',monospace\"></pre>\n"
      ],
      "text/plain": []
     },
     "metadata": {},
     "output_type": "display_data"
    },
    {
     "data": {
      "text/html": [
       "<pre style=\"white-space:pre;overflow-x:auto;line-height:normal;font-family:Menlo,'DejaVu Sans Mono',consolas,'Courier New',monospace\"></pre>\n"
      ],
      "text/plain": []
     },
     "metadata": {},
     "output_type": "display_data"
    },
    {
     "data": {
      "text/html": [
       "<pre style=\"white-space:pre;overflow-x:auto;line-height:normal;font-family:Menlo,'DejaVu Sans Mono',consolas,'Courier New',monospace\"></pre>\n"
      ],
      "text/plain": []
     },
     "metadata": {},
     "output_type": "display_data"
    },
    {
     "data": {
      "text/html": [
       "<pre style=\"white-space:pre;overflow-x:auto;line-height:normal;font-family:Menlo,'DejaVu Sans Mono',consolas,'Courier New',monospace\"></pre>\n"
      ],
      "text/plain": []
     },
     "metadata": {},
     "output_type": "display_data"
    },
    {
     "data": {
      "text/html": [
       "<pre style=\"white-space:pre;overflow-x:auto;line-height:normal;font-family:Menlo,'DejaVu Sans Mono',consolas,'Courier New',monospace\"></pre>\n"
      ],
      "text/plain": []
     },
     "metadata": {},
     "output_type": "display_data"
    },
    {
     "data": {
      "text/html": [
       "<pre style=\"white-space:pre;overflow-x:auto;line-height:normal;font-family:Menlo,'DejaVu Sans Mono',consolas,'Courier New',monospace\"></pre>\n"
      ],
      "text/plain": []
     },
     "metadata": {},
     "output_type": "display_data"
    },
    {
     "data": {
      "text/html": [
       "<pre style=\"white-space:pre;overflow-x:auto;line-height:normal;font-family:Menlo,'DejaVu Sans Mono',consolas,'Courier New',monospace\"></pre>\n"
      ],
      "text/plain": []
     },
     "metadata": {},
     "output_type": "display_data"
    },
    {
     "data": {
      "text/html": [
       "<pre style=\"white-space:pre;overflow-x:auto;line-height:normal;font-family:Menlo,'DejaVu Sans Mono',consolas,'Courier New',monospace\"></pre>\n"
      ],
      "text/plain": []
     },
     "metadata": {},
     "output_type": "display_data"
    },
    {
     "data": {
      "text/html": [
       "<pre style=\"white-space:pre;overflow-x:auto;line-height:normal;font-family:Menlo,'DejaVu Sans Mono',consolas,'Courier New',monospace\"></pre>\n"
      ],
      "text/plain": []
     },
     "metadata": {},
     "output_type": "display_data"
    },
    {
     "data": {
      "text/html": [
       "<pre style=\"white-space:pre;overflow-x:auto;line-height:normal;font-family:Menlo,'DejaVu Sans Mono',consolas,'Courier New',monospace\"></pre>\n"
      ],
      "text/plain": []
     },
     "metadata": {},
     "output_type": "display_data"
    },
    {
     "data": {
      "text/html": [
       "<pre style=\"white-space:pre;overflow-x:auto;line-height:normal;font-family:Menlo,'DejaVu Sans Mono',consolas,'Courier New',monospace\"></pre>\n"
      ],
      "text/plain": []
     },
     "metadata": {},
     "output_type": "display_data"
    },
    {
     "data": {
      "text/html": [
       "<pre style=\"white-space:pre;overflow-x:auto;line-height:normal;font-family:Menlo,'DejaVu Sans Mono',consolas,'Courier New',monospace\"></pre>\n"
      ],
      "text/plain": []
     },
     "metadata": {},
     "output_type": "display_data"
    },
    {
     "data": {
      "text/html": [
       "<pre style=\"white-space:pre;overflow-x:auto;line-height:normal;font-family:Menlo,'DejaVu Sans Mono',consolas,'Courier New',monospace\"></pre>\n"
      ],
      "text/plain": []
     },
     "metadata": {},
     "output_type": "display_data"
    },
    {
     "data": {
      "text/html": [
       "<pre style=\"white-space:pre;overflow-x:auto;line-height:normal;font-family:Menlo,'DejaVu Sans Mono',consolas,'Courier New',monospace\"></pre>\n"
      ],
      "text/plain": []
     },
     "metadata": {},
     "output_type": "display_data"
    },
    {
     "data": {
      "text/html": [
       "<pre style=\"white-space:pre;overflow-x:auto;line-height:normal;font-family:Menlo,'DejaVu Sans Mono',consolas,'Courier New',monospace\"></pre>\n"
      ],
      "text/plain": []
     },
     "metadata": {},
     "output_type": "display_data"
    },
    {
     "data": {
      "text/html": [
       "<pre style=\"white-space:pre;overflow-x:auto;line-height:normal;font-family:Menlo,'DejaVu Sans Mono',consolas,'Courier New',monospace\"></pre>\n"
      ],
      "text/plain": []
     },
     "metadata": {},
     "output_type": "display_data"
    },
    {
     "data": {
      "text/html": [
       "<pre style=\"white-space:pre;overflow-x:auto;line-height:normal;font-family:Menlo,'DejaVu Sans Mono',consolas,'Courier New',monospace\"></pre>\n"
      ],
      "text/plain": []
     },
     "metadata": {},
     "output_type": "display_data"
    },
    {
     "data": {
      "text/html": [
       "<pre style=\"white-space:pre;overflow-x:auto;line-height:normal;font-family:Menlo,'DejaVu Sans Mono',consolas,'Courier New',monospace\"></pre>\n"
      ],
      "text/plain": []
     },
     "metadata": {},
     "output_type": "display_data"
    },
    {
     "data": {
      "text/html": [
       "<pre style=\"white-space:pre;overflow-x:auto;line-height:normal;font-family:Menlo,'DejaVu Sans Mono',consolas,'Courier New',monospace\"></pre>\n"
      ],
      "text/plain": []
     },
     "metadata": {},
     "output_type": "display_data"
    },
    {
     "data": {
      "text/html": [
       "<pre style=\"white-space:pre;overflow-x:auto;line-height:normal;font-family:Menlo,'DejaVu Sans Mono',consolas,'Courier New',monospace\"></pre>\n"
      ],
      "text/plain": []
     },
     "metadata": {},
     "output_type": "display_data"
    },
    {
     "data": {
      "text/html": [
       "<pre style=\"white-space:pre;overflow-x:auto;line-height:normal;font-family:Menlo,'DejaVu Sans Mono',consolas,'Courier New',monospace\"></pre>\n"
      ],
      "text/plain": []
     },
     "metadata": {},
     "output_type": "display_data"
    },
    {
     "data": {
      "text/html": [
       "<pre style=\"white-space:pre;overflow-x:auto;line-height:normal;font-family:Menlo,'DejaVu Sans Mono',consolas,'Courier New',monospace\"></pre>\n"
      ],
      "text/plain": []
     },
     "metadata": {},
     "output_type": "display_data"
    },
    {
     "data": {
      "text/html": [
       "<pre style=\"white-space:pre;overflow-x:auto;line-height:normal;font-family:Menlo,'DejaVu Sans Mono',consolas,'Courier New',monospace\"></pre>\n"
      ],
      "text/plain": []
     },
     "metadata": {},
     "output_type": "display_data"
    },
    {
     "data": {
      "text/html": [
       "<pre style=\"white-space:pre;overflow-x:auto;line-height:normal;font-family:Menlo,'DejaVu Sans Mono',consolas,'Courier New',monospace\"></pre>\n"
      ],
      "text/plain": []
     },
     "metadata": {},
     "output_type": "display_data"
    },
    {
     "data": {
      "text/html": [
       "<pre style=\"white-space:pre;overflow-x:auto;line-height:normal;font-family:Menlo,'DejaVu Sans Mono',consolas,'Courier New',monospace\"></pre>\n"
      ],
      "text/plain": []
     },
     "metadata": {},
     "output_type": "display_data"
    },
    {
     "data": {
      "text/html": [
       "<pre style=\"white-space:pre;overflow-x:auto;line-height:normal;font-family:Menlo,'DejaVu Sans Mono',consolas,'Courier New',monospace\"></pre>\n"
      ],
      "text/plain": []
     },
     "metadata": {},
     "output_type": "display_data"
    },
    {
     "data": {
      "text/html": [
       "<pre style=\"white-space:pre;overflow-x:auto;line-height:normal;font-family:Menlo,'DejaVu Sans Mono',consolas,'Courier New',monospace\"></pre>\n"
      ],
      "text/plain": []
     },
     "metadata": {},
     "output_type": "display_data"
    },
    {
     "data": {
      "text/html": [
       "<pre style=\"white-space:pre;overflow-x:auto;line-height:normal;font-family:Menlo,'DejaVu Sans Mono',consolas,'Courier New',monospace\"></pre>\n"
      ],
      "text/plain": []
     },
     "metadata": {},
     "output_type": "display_data"
    },
    {
     "data": {
      "text/html": [
       "<pre style=\"white-space:pre;overflow-x:auto;line-height:normal;font-family:Menlo,'DejaVu Sans Mono',consolas,'Courier New',monospace\"></pre>\n"
      ],
      "text/plain": []
     },
     "metadata": {},
     "output_type": "display_data"
    },
    {
     "data": {
      "text/html": [
       "<pre style=\"white-space:pre;overflow-x:auto;line-height:normal;font-family:Menlo,'DejaVu Sans Mono',consolas,'Courier New',monospace\"></pre>\n"
      ],
      "text/plain": []
     },
     "metadata": {},
     "output_type": "display_data"
    },
    {
     "data": {
      "text/html": [
       "<pre style=\"white-space:pre;overflow-x:auto;line-height:normal;font-family:Menlo,'DejaVu Sans Mono',consolas,'Courier New',monospace\"></pre>\n"
      ],
      "text/plain": []
     },
     "metadata": {},
     "output_type": "display_data"
    },
    {
     "data": {
      "text/html": [
       "<pre style=\"white-space:pre;overflow-x:auto;line-height:normal;font-family:Menlo,'DejaVu Sans Mono',consolas,'Courier New',monospace\"></pre>\n"
      ],
      "text/plain": []
     },
     "metadata": {},
     "output_type": "display_data"
    },
    {
     "data": {
      "text/html": [
       "<pre style=\"white-space:pre;overflow-x:auto;line-height:normal;font-family:Menlo,'DejaVu Sans Mono',consolas,'Courier New',monospace\"></pre>\n"
      ],
      "text/plain": []
     },
     "metadata": {},
     "output_type": "display_data"
    },
    {
     "data": {
      "text/html": [
       "<pre style=\"white-space:pre;overflow-x:auto;line-height:normal;font-family:Menlo,'DejaVu Sans Mono',consolas,'Courier New',monospace\"></pre>\n"
      ],
      "text/plain": []
     },
     "metadata": {},
     "output_type": "display_data"
    },
    {
     "data": {
      "text/html": [
       "<pre style=\"white-space:pre;overflow-x:auto;line-height:normal;font-family:Menlo,'DejaVu Sans Mono',consolas,'Courier New',monospace\"></pre>\n"
      ],
      "text/plain": []
     },
     "metadata": {},
     "output_type": "display_data"
    },
    {
     "data": {
      "text/html": [
       "<pre style=\"white-space:pre;overflow-x:auto;line-height:normal;font-family:Menlo,'DejaVu Sans Mono',consolas,'Courier New',monospace\"></pre>\n"
      ],
      "text/plain": []
     },
     "metadata": {},
     "output_type": "display_data"
    },
    {
     "data": {
      "text/html": [
       "<pre style=\"white-space:pre;overflow-x:auto;line-height:normal;font-family:Menlo,'DejaVu Sans Mono',consolas,'Courier New',monospace\"></pre>\n"
      ],
      "text/plain": []
     },
     "metadata": {},
     "output_type": "display_data"
    },
    {
     "data": {
      "text/html": [
       "<pre style=\"white-space:pre;overflow-x:auto;line-height:normal;font-family:Menlo,'DejaVu Sans Mono',consolas,'Courier New',monospace\"></pre>\n"
      ],
      "text/plain": []
     },
     "metadata": {},
     "output_type": "display_data"
    },
    {
     "data": {
      "text/html": [
       "<pre style=\"white-space:pre;overflow-x:auto;line-height:normal;font-family:Menlo,'DejaVu Sans Mono',consolas,'Courier New',monospace\"></pre>\n"
      ],
      "text/plain": []
     },
     "metadata": {},
     "output_type": "display_data"
    },
    {
     "data": {
      "text/html": [
       "<pre style=\"white-space:pre;overflow-x:auto;line-height:normal;font-family:Menlo,'DejaVu Sans Mono',consolas,'Courier New',monospace\"></pre>\n"
      ],
      "text/plain": []
     },
     "metadata": {},
     "output_type": "display_data"
    },
    {
     "data": {
      "text/html": [
       "<pre style=\"white-space:pre;overflow-x:auto;line-height:normal;font-family:Menlo,'DejaVu Sans Mono',consolas,'Courier New',monospace\"></pre>\n"
      ],
      "text/plain": []
     },
     "metadata": {},
     "output_type": "display_data"
    },
    {
     "data": {
      "text/html": [
       "<pre style=\"white-space:pre;overflow-x:auto;line-height:normal;font-family:Menlo,'DejaVu Sans Mono',consolas,'Courier New',monospace\"></pre>\n"
      ],
      "text/plain": []
     },
     "metadata": {},
     "output_type": "display_data"
    },
    {
     "data": {
      "text/html": [
       "<pre style=\"white-space:pre;overflow-x:auto;line-height:normal;font-family:Menlo,'DejaVu Sans Mono',consolas,'Courier New',monospace\"></pre>\n"
      ],
      "text/plain": []
     },
     "metadata": {},
     "output_type": "display_data"
    },
    {
     "data": {
      "text/html": [
       "<pre style=\"white-space:pre;overflow-x:auto;line-height:normal;font-family:Menlo,'DejaVu Sans Mono',consolas,'Courier New',monospace\"></pre>\n"
      ],
      "text/plain": []
     },
     "metadata": {},
     "output_type": "display_data"
    },
    {
     "data": {
      "text/html": [
       "<pre style=\"white-space:pre;overflow-x:auto;line-height:normal;font-family:Menlo,'DejaVu Sans Mono',consolas,'Courier New',monospace\"></pre>\n"
      ],
      "text/plain": []
     },
     "metadata": {},
     "output_type": "display_data"
    },
    {
     "data": {
      "text/html": [
       "<pre style=\"white-space:pre;overflow-x:auto;line-height:normal;font-family:Menlo,'DejaVu Sans Mono',consolas,'Courier New',monospace\"></pre>\n"
      ],
      "text/plain": []
     },
     "metadata": {},
     "output_type": "display_data"
    },
    {
     "data": {
      "text/html": [
       "<pre style=\"white-space:pre;overflow-x:auto;line-height:normal;font-family:Menlo,'DejaVu Sans Mono',consolas,'Courier New',monospace\"></pre>\n"
      ],
      "text/plain": []
     },
     "metadata": {},
     "output_type": "display_data"
    },
    {
     "data": {
      "text/html": [
       "<pre style=\"white-space:pre;overflow-x:auto;line-height:normal;font-family:Menlo,'DejaVu Sans Mono',consolas,'Courier New',monospace\"></pre>\n"
      ],
      "text/plain": []
     },
     "metadata": {},
     "output_type": "display_data"
    },
    {
     "data": {
      "text/html": [
       "<pre style=\"white-space:pre;overflow-x:auto;line-height:normal;font-family:Menlo,'DejaVu Sans Mono',consolas,'Courier New',monospace\"></pre>\n"
      ],
      "text/plain": []
     },
     "metadata": {},
     "output_type": "display_data"
    },
    {
     "data": {
      "text/html": [
       "<pre style=\"white-space:pre;overflow-x:auto;line-height:normal;font-family:Menlo,'DejaVu Sans Mono',consolas,'Courier New',monospace\"></pre>\n"
      ],
      "text/plain": []
     },
     "metadata": {},
     "output_type": "display_data"
    },
    {
     "data": {
      "text/html": [
       "<pre style=\"white-space:pre;overflow-x:auto;line-height:normal;font-family:Menlo,'DejaVu Sans Mono',consolas,'Courier New',monospace\"></pre>\n"
      ],
      "text/plain": []
     },
     "metadata": {},
     "output_type": "display_data"
    },
    {
     "data": {
      "text/html": [
       "<pre style=\"white-space:pre;overflow-x:auto;line-height:normal;font-family:Menlo,'DejaVu Sans Mono',consolas,'Courier New',monospace\"></pre>\n"
      ],
      "text/plain": []
     },
     "metadata": {},
     "output_type": "display_data"
    },
    {
     "data": {
      "text/html": [
       "<pre style=\"white-space:pre;overflow-x:auto;line-height:normal;font-family:Menlo,'DejaVu Sans Mono',consolas,'Courier New',monospace\"></pre>\n"
      ],
      "text/plain": []
     },
     "metadata": {},
     "output_type": "display_data"
    },
    {
     "data": {
      "text/html": [
       "<pre style=\"white-space:pre;overflow-x:auto;line-height:normal;font-family:Menlo,'DejaVu Sans Mono',consolas,'Courier New',monospace\"></pre>\n"
      ],
      "text/plain": []
     },
     "metadata": {},
     "output_type": "display_data"
    },
    {
     "data": {
      "text/html": [
       "<pre style=\"white-space:pre;overflow-x:auto;line-height:normal;font-family:Menlo,'DejaVu Sans Mono',consolas,'Courier New',monospace\"></pre>\n"
      ],
      "text/plain": []
     },
     "metadata": {},
     "output_type": "display_data"
    },
    {
     "data": {
      "text/html": [
       "<pre style=\"white-space:pre;overflow-x:auto;line-height:normal;font-family:Menlo,'DejaVu Sans Mono',consolas,'Courier New',monospace\"></pre>\n"
      ],
      "text/plain": []
     },
     "metadata": {},
     "output_type": "display_data"
    },
    {
     "data": {
      "text/html": [
       "<pre style=\"white-space:pre;overflow-x:auto;line-height:normal;font-family:Menlo,'DejaVu Sans Mono',consolas,'Courier New',monospace\"></pre>\n"
      ],
      "text/plain": []
     },
     "metadata": {},
     "output_type": "display_data"
    },
    {
     "data": {
      "text/html": [
       "<pre style=\"white-space:pre;overflow-x:auto;line-height:normal;font-family:Menlo,'DejaVu Sans Mono',consolas,'Courier New',monospace\"></pre>\n"
      ],
      "text/plain": []
     },
     "metadata": {},
     "output_type": "display_data"
    },
    {
     "data": {
      "text/html": [
       "<pre style=\"white-space:pre;overflow-x:auto;line-height:normal;font-family:Menlo,'DejaVu Sans Mono',consolas,'Courier New',monospace\"></pre>\n"
      ],
      "text/plain": []
     },
     "metadata": {},
     "output_type": "display_data"
    },
    {
     "data": {
      "text/html": [
       "<pre style=\"white-space:pre;overflow-x:auto;line-height:normal;font-family:Menlo,'DejaVu Sans Mono',consolas,'Courier New',monospace\"></pre>\n"
      ],
      "text/plain": []
     },
     "metadata": {},
     "output_type": "display_data"
    },
    {
     "data": {
      "text/html": [
       "<pre style=\"white-space:pre;overflow-x:auto;line-height:normal;font-family:Menlo,'DejaVu Sans Mono',consolas,'Courier New',monospace\"></pre>\n"
      ],
      "text/plain": []
     },
     "metadata": {},
     "output_type": "display_data"
    },
    {
     "data": {
      "text/html": [
       "<pre style=\"white-space:pre;overflow-x:auto;line-height:normal;font-family:Menlo,'DejaVu Sans Mono',consolas,'Courier New',monospace\"></pre>\n"
      ],
      "text/plain": []
     },
     "metadata": {},
     "output_type": "display_data"
    },
    {
     "data": {
      "text/html": [
       "<pre style=\"white-space:pre;overflow-x:auto;line-height:normal;font-family:Menlo,'DejaVu Sans Mono',consolas,'Courier New',monospace\"></pre>\n"
      ],
      "text/plain": []
     },
     "metadata": {},
     "output_type": "display_data"
    },
    {
     "data": {
      "text/html": [
       "<pre style=\"white-space:pre;overflow-x:auto;line-height:normal;font-family:Menlo,'DejaVu Sans Mono',consolas,'Courier New',monospace\"></pre>\n"
      ],
      "text/plain": []
     },
     "metadata": {},
     "output_type": "display_data"
    },
    {
     "data": {
      "text/html": [
       "<pre style=\"white-space:pre;overflow-x:auto;line-height:normal;font-family:Menlo,'DejaVu Sans Mono',consolas,'Courier New',monospace\"></pre>\n"
      ],
      "text/plain": []
     },
     "metadata": {},
     "output_type": "display_data"
    },
    {
     "data": {
      "text/html": [
       "<pre style=\"white-space:pre;overflow-x:auto;line-height:normal;font-family:Menlo,'DejaVu Sans Mono',consolas,'Courier New',monospace\"></pre>\n"
      ],
      "text/plain": []
     },
     "metadata": {},
     "output_type": "display_data"
    },
    {
     "data": {
      "text/html": [
       "<pre style=\"white-space:pre;overflow-x:auto;line-height:normal;font-family:Menlo,'DejaVu Sans Mono',consolas,'Courier New',monospace\"></pre>\n"
      ],
      "text/plain": []
     },
     "metadata": {},
     "output_type": "display_data"
    },
    {
     "data": {
      "text/html": [
       "<pre style=\"white-space:pre;overflow-x:auto;line-height:normal;font-family:Menlo,'DejaVu Sans Mono',consolas,'Courier New',monospace\"></pre>\n"
      ],
      "text/plain": []
     },
     "metadata": {},
     "output_type": "display_data"
    },
    {
     "data": {
      "text/html": [
       "<pre style=\"white-space:pre;overflow-x:auto;line-height:normal;font-family:Menlo,'DejaVu Sans Mono',consolas,'Courier New',monospace\"></pre>\n"
      ],
      "text/plain": []
     },
     "metadata": {},
     "output_type": "display_data"
    },
    {
     "data": {
      "text/html": [
       "<pre style=\"white-space:pre;overflow-x:auto;line-height:normal;font-family:Menlo,'DejaVu Sans Mono',consolas,'Courier New',monospace\"></pre>\n"
      ],
      "text/plain": []
     },
     "metadata": {},
     "output_type": "display_data"
    },
    {
     "data": {
      "text/html": [
       "<pre style=\"white-space:pre;overflow-x:auto;line-height:normal;font-family:Menlo,'DejaVu Sans Mono',consolas,'Courier New',monospace\"></pre>\n"
      ],
      "text/plain": []
     },
     "metadata": {},
     "output_type": "display_data"
    },
    {
     "data": {
      "text/html": [
       "<pre style=\"white-space:pre;overflow-x:auto;line-height:normal;font-family:Menlo,'DejaVu Sans Mono',consolas,'Courier New',monospace\"></pre>\n"
      ],
      "text/plain": []
     },
     "metadata": {},
     "output_type": "display_data"
    },
    {
     "data": {
      "text/html": [
       "<pre style=\"white-space:pre;overflow-x:auto;line-height:normal;font-family:Menlo,'DejaVu Sans Mono',consolas,'Courier New',monospace\"></pre>\n"
      ],
      "text/plain": []
     },
     "metadata": {},
     "output_type": "display_data"
    },
    {
     "data": {
      "text/html": [
       "<pre style=\"white-space:pre;overflow-x:auto;line-height:normal;font-family:Menlo,'DejaVu Sans Mono',consolas,'Courier New',monospace\"></pre>\n"
      ],
      "text/plain": []
     },
     "metadata": {},
     "output_type": "display_data"
    },
    {
     "data": {
      "text/html": [
       "<pre style=\"white-space:pre;overflow-x:auto;line-height:normal;font-family:Menlo,'DejaVu Sans Mono',consolas,'Courier New',monospace\"></pre>\n"
      ],
      "text/plain": []
     },
     "metadata": {},
     "output_type": "display_data"
    },
    {
     "data": {
      "text/html": [
       "<pre style=\"white-space:pre;overflow-x:auto;line-height:normal;font-family:Menlo,'DejaVu Sans Mono',consolas,'Courier New',monospace\"></pre>\n"
      ],
      "text/plain": []
     },
     "metadata": {},
     "output_type": "display_data"
    },
    {
     "data": {
      "text/html": [
       "<pre style=\"white-space:pre;overflow-x:auto;line-height:normal;font-family:Menlo,'DejaVu Sans Mono',consolas,'Courier New',monospace\"></pre>\n"
      ],
      "text/plain": []
     },
     "metadata": {},
     "output_type": "display_data"
    },
    {
     "data": {
      "text/html": [
       "<pre style=\"white-space:pre;overflow-x:auto;line-height:normal;font-family:Menlo,'DejaVu Sans Mono',consolas,'Courier New',monospace\"></pre>\n"
      ],
      "text/plain": []
     },
     "metadata": {},
     "output_type": "display_data"
    },
    {
     "data": {
      "text/html": [
       "<pre style=\"white-space:pre;overflow-x:auto;line-height:normal;font-family:Menlo,'DejaVu Sans Mono',consolas,'Courier New',monospace\"></pre>\n"
      ],
      "text/plain": []
     },
     "metadata": {},
     "output_type": "display_data"
    },
    {
     "data": {
      "text/html": [
       "<pre style=\"white-space:pre;overflow-x:auto;line-height:normal;font-family:Menlo,'DejaVu Sans Mono',consolas,'Courier New',monospace\"></pre>\n"
      ],
      "text/plain": []
     },
     "metadata": {},
     "output_type": "display_data"
    },
    {
     "data": {
      "text/html": [
       "<pre style=\"white-space:pre;overflow-x:auto;line-height:normal;font-family:Menlo,'DejaVu Sans Mono',consolas,'Courier New',monospace\"></pre>\n"
      ],
      "text/plain": []
     },
     "metadata": {},
     "output_type": "display_data"
    },
    {
     "data": {
      "text/html": [
       "<pre style=\"white-space:pre;overflow-x:auto;line-height:normal;font-family:Menlo,'DejaVu Sans Mono',consolas,'Courier New',monospace\"></pre>\n"
      ],
      "text/plain": []
     },
     "metadata": {},
     "output_type": "display_data"
    },
    {
     "data": {
      "text/html": [
       "<pre style=\"white-space:pre;overflow-x:auto;line-height:normal;font-family:Menlo,'DejaVu Sans Mono',consolas,'Courier New',monospace\"></pre>\n"
      ],
      "text/plain": []
     },
     "metadata": {},
     "output_type": "display_data"
    },
    {
     "data": {
      "text/html": [
       "<pre style=\"white-space:pre;overflow-x:auto;line-height:normal;font-family:Menlo,'DejaVu Sans Mono',consolas,'Courier New',monospace\"></pre>\n"
      ],
      "text/plain": []
     },
     "metadata": {},
     "output_type": "display_data"
    },
    {
     "data": {
      "text/html": [
       "<pre style=\"white-space:pre;overflow-x:auto;line-height:normal;font-family:Menlo,'DejaVu Sans Mono',consolas,'Courier New',monospace\"></pre>\n"
      ],
      "text/plain": []
     },
     "metadata": {},
     "output_type": "display_data"
    },
    {
     "data": {
      "text/html": [
       "<pre style=\"white-space:pre;overflow-x:auto;line-height:normal;font-family:Menlo,'DejaVu Sans Mono',consolas,'Courier New',monospace\"></pre>\n"
      ],
      "text/plain": []
     },
     "metadata": {},
     "output_type": "display_data"
    },
    {
     "data": {
      "text/html": [
       "<pre style=\"white-space:pre;overflow-x:auto;line-height:normal;font-family:Menlo,'DejaVu Sans Mono',consolas,'Courier New',monospace\"></pre>\n"
      ],
      "text/plain": []
     },
     "metadata": {},
     "output_type": "display_data"
    },
    {
     "data": {
      "text/html": [
       "<pre style=\"white-space:pre;overflow-x:auto;line-height:normal;font-family:Menlo,'DejaVu Sans Mono',consolas,'Courier New',monospace\"></pre>\n"
      ],
      "text/plain": []
     },
     "metadata": {},
     "output_type": "display_data"
    },
    {
     "data": {
      "text/html": [
       "<pre style=\"white-space:pre;overflow-x:auto;line-height:normal;font-family:Menlo,'DejaVu Sans Mono',consolas,'Courier New',monospace\"></pre>\n"
      ],
      "text/plain": []
     },
     "metadata": {},
     "output_type": "display_data"
    },
    {
     "data": {
      "text/html": [
       "<pre style=\"white-space:pre;overflow-x:auto;line-height:normal;font-family:Menlo,'DejaVu Sans Mono',consolas,'Courier New',monospace\"></pre>\n"
      ],
      "text/plain": []
     },
     "metadata": {},
     "output_type": "display_data"
    }
   ],
   "source": [
    "def blocker(left: Table, right: Table) -> list[BooleanValue]:\n",
    "    rules = [\n",
    "        left.name_cleaned == right.name_cleaned,\n",
    "        left.latitude_hash == right.latitude_hash,\n",
    "    ]\n",
    "    return rules[0]\n",
    "\n",
    "\n",
    "cleaned_dataset = DedupeDatasetPair(cleaned)\n",
    "blocking = block(cleaned_dataset, blocker)\n",
    "blocking.blocked_data"
   ]
  },
  {
   "cell_type": "code",
   "execution_count": 7,
   "metadata": {},
   "outputs": [
    {
     "ename": "CompileError",
     "evalue": "Multiple, unrelated CTEs found with the same name: 't9'",
     "output_type": "error",
     "traceback": [
      "\u001b[0;31m---------------------------------------------------------------------------\u001b[0m",
      "\u001b[0;31mCompileError\u001b[0m                              Traceback (most recent call last)",
      "Cell \u001b[0;32mIn[7], line 1\u001b[0m\n\u001b[0;32m----> 1\u001b[0m ibis\u001b[39m.\u001b[39;49mshow_sql(blocking\u001b[39m.\u001b[39;49mblocked_data)\n",
      "File \u001b[0;32m~/Documents/projects/mismo/.venv/lib/python3.11/site-packages/ibis/expr/sql.py:317\u001b[0m, in \u001b[0;36mshow_sql\u001b[0;34m(expr, dialect, file)\u001b[0m\n\u001b[1;32m    281\u001b[0m \u001b[39m@public\u001b[39m\n\u001b[1;32m    282\u001b[0m \u001b[39mdef\u001b[39;00m \u001b[39mshow_sql\u001b[39m(\n\u001b[1;32m    283\u001b[0m     expr: ir\u001b[39m.\u001b[39mExpr,\n\u001b[1;32m    284\u001b[0m     dialect: \u001b[39mstr\u001b[39m \u001b[39m|\u001b[39m \u001b[39mNone\u001b[39;00m \u001b[39m=\u001b[39m \u001b[39mNone\u001b[39;00m,\n\u001b[1;32m    285\u001b[0m     file: IO[\u001b[39mstr\u001b[39m] \u001b[39m|\u001b[39m \u001b[39mNone\u001b[39;00m \u001b[39m=\u001b[39m \u001b[39mNone\u001b[39;00m,\n\u001b[1;32m    286\u001b[0m ) \u001b[39m-\u001b[39m\u001b[39m>\u001b[39m \u001b[39mNone\u001b[39;00m:\n\u001b[1;32m    287\u001b[0m \u001b[39m    \u001b[39m\u001b[39m\"\"\"Pretty-print the compiled SQL string of an expression.\u001b[39;00m\n\u001b[1;32m    288\u001b[0m \n\u001b[1;32m    289\u001b[0m \u001b[39m    If a dialect cannot be inferred and one was not passed, duckdb\u001b[39;00m\n\u001b[0;32m   (...)\u001b[0m\n\u001b[1;32m    315\u001b[0m \u001b[39m    FROM t AS t0\u001b[39;00m\n\u001b[1;32m    316\u001b[0m \u001b[39m    \"\"\"\u001b[39;00m\n\u001b[0;32m--> 317\u001b[0m     \u001b[39mprint\u001b[39m(to_sql(expr, dialect\u001b[39m=\u001b[39;49mdialect), file\u001b[39m=\u001b[39mfile)\n",
      "File \u001b[0;32m~/Documents/projects/mismo/.venv/lib/python3.11/site-packages/ibis/expr/sql.py:380\u001b[0m, in \u001b[0;36mto_sql\u001b[0;34m(expr, dialect, **kwargs)\u001b[0m\n\u001b[1;32m    377\u001b[0m     \u001b[39melse\u001b[39;00m:\n\u001b[1;32m    378\u001b[0m         read \u001b[39m=\u001b[39m write \u001b[39m=\u001b[39m \u001b[39mgetattr\u001b[39m(backend, \u001b[39m\"\u001b[39m\u001b[39m_sqlglot_dialect\u001b[39m\u001b[39m\"\u001b[39m, dialect)\n\u001b[0;32m--> 380\u001b[0m sql \u001b[39m=\u001b[39m backend\u001b[39m.\u001b[39;49m_to_sql(expr, \u001b[39m*\u001b[39;49m\u001b[39m*\u001b[39;49mkwargs)\n\u001b[1;32m    381\u001b[0m (pretty,) \u001b[39m=\u001b[39m sg\u001b[39m.\u001b[39mtranspile(sql, read\u001b[39m=\u001b[39mread, write\u001b[39m=\u001b[39mwrite, pretty\u001b[39m=\u001b[39m\u001b[39mTrue\u001b[39;00m)\n\u001b[1;32m    382\u001b[0m \u001b[39mreturn\u001b[39;00m SQLString(pretty)\n",
      "File \u001b[0;32m~/Documents/projects/mismo/.venv/lib/python3.11/site-packages/ibis/backends/base/sql/alchemy/__init__.py:163\u001b[0m, in \u001b[0;36mBaseAlchemyBackend._to_sql\u001b[0;34m(self, expr, **kwargs)\u001b[0m\n\u001b[1;32m    158\u001b[0m \u001b[39mdef\u001b[39;00m \u001b[39m_to_sql\u001b[39m(\u001b[39mself\u001b[39m, expr: ir\u001b[39m.\u001b[39mExpr, \u001b[39m*\u001b[39m\u001b[39m*\u001b[39mkwargs) \u001b[39m-\u001b[39m\u001b[39m>\u001b[39m \u001b[39mstr\u001b[39m:\n\u001b[1;32m    159\u001b[0m     \u001b[39m# For `ibis.to_sql` calls we render with literal binds and qmark params\u001b[39;00m\n\u001b[1;32m    160\u001b[0m     dialect_class \u001b[39m=\u001b[39m sa\u001b[39m.\u001b[39mdialects\u001b[39m.\u001b[39mregistry\u001b[39m.\u001b[39mload(\n\u001b[1;32m    161\u001b[0m         \u001b[39mself\u001b[39m\u001b[39m.\u001b[39mcompiler\u001b[39m.\u001b[39mtranslator_class\u001b[39m.\u001b[39m_dialect_name\n\u001b[1;32m    162\u001b[0m     )\n\u001b[0;32m--> 163\u001b[0m     sql \u001b[39m=\u001b[39m \u001b[39mself\u001b[39;49m\u001b[39m.\u001b[39;49mcompile(expr, \u001b[39m*\u001b[39;49m\u001b[39m*\u001b[39;49mkwargs)\u001b[39m.\u001b[39;49mcompile(\n\u001b[1;32m    164\u001b[0m         dialect\u001b[39m=\u001b[39;49mdialect_class(paramstyle\u001b[39m=\u001b[39;49m\u001b[39m\"\u001b[39;49m\u001b[39mqmark\u001b[39;49m\u001b[39m\"\u001b[39;49m),\n\u001b[1;32m    165\u001b[0m         compile_kwargs\u001b[39m=\u001b[39;49m\u001b[39mdict\u001b[39;49m(literal_binds\u001b[39m=\u001b[39;49m\u001b[39mTrue\u001b[39;49;00m),\n\u001b[1;32m    166\u001b[0m     )\n\u001b[1;32m    167\u001b[0m     \u001b[39mreturn\u001b[39;00m \u001b[39mstr\u001b[39m(sql)\n",
      "File \u001b[0;32m~/Documents/projects/mismo/.venv/lib/python3.11/site-packages/sqlalchemy/sql/elements.py:280\u001b[0m, in \u001b[0;36mCompilerElement.compile\u001b[0;34m(self, bind, dialect, **kw)\u001b[0m\n\u001b[1;32m    275\u001b[0m         url \u001b[39m=\u001b[39m util\u001b[39m.\u001b[39mpreloaded\u001b[39m.\u001b[39mengine_url\n\u001b[1;32m    276\u001b[0m         dialect \u001b[39m=\u001b[39m url\u001b[39m.\u001b[39mURL\u001b[39m.\u001b[39mcreate(\n\u001b[1;32m    277\u001b[0m             \u001b[39mself\u001b[39m\u001b[39m.\u001b[39mstringify_dialect\n\u001b[1;32m    278\u001b[0m         )\u001b[39m.\u001b[39mget_dialect()()\n\u001b[0;32m--> 280\u001b[0m \u001b[39mreturn\u001b[39;00m \u001b[39mself\u001b[39;49m\u001b[39m.\u001b[39;49m_compiler(dialect, \u001b[39m*\u001b[39;49m\u001b[39m*\u001b[39;49mkw)\n",
      "File \u001b[0;32m~/Documents/projects/mismo/.venv/lib/python3.11/site-packages/sqlalchemy/sql/elements.py:288\u001b[0m, in \u001b[0;36mCompilerElement._compiler\u001b[0;34m(self, dialect, **kw)\u001b[0m\n\u001b[1;32m    286\u001b[0m \u001b[39mif\u001b[39;00m TYPE_CHECKING:\n\u001b[1;32m    287\u001b[0m     \u001b[39massert\u001b[39;00m \u001b[39misinstance\u001b[39m(\u001b[39mself\u001b[39m, ClauseElement)\n\u001b[0;32m--> 288\u001b[0m \u001b[39mreturn\u001b[39;00m dialect\u001b[39m.\u001b[39;49mstatement_compiler(dialect, \u001b[39mself\u001b[39;49m, \u001b[39m*\u001b[39;49m\u001b[39m*\u001b[39;49mkw)\n",
      "File \u001b[0;32m~/Documents/projects/mismo/.venv/lib/python3.11/site-packages/sqlalchemy/sql/compiler.py:1425\u001b[0m, in \u001b[0;36mSQLCompiler.__init__\u001b[0;34m(self, dialect, statement, cache_key, column_keys, for_executemany, linting, **kwargs)\u001b[0m\n\u001b[1;32m   1422\u001b[0m \u001b[39mself\u001b[39m\u001b[39m.\u001b[39mtruncated_names: Dict[Tuple[\u001b[39mstr\u001b[39m, \u001b[39mstr\u001b[39m], \u001b[39mstr\u001b[39m] \u001b[39m=\u001b[39m {}\n\u001b[1;32m   1423\u001b[0m \u001b[39mself\u001b[39m\u001b[39m.\u001b[39m_truncated_counters: Dict[\u001b[39mstr\u001b[39m, \u001b[39mint\u001b[39m] \u001b[39m=\u001b[39m {}\n\u001b[0;32m-> 1425\u001b[0m Compiled\u001b[39m.\u001b[39;49m\u001b[39m__init__\u001b[39;49m(\u001b[39mself\u001b[39;49m, dialect, statement, \u001b[39m*\u001b[39;49m\u001b[39m*\u001b[39;49mkwargs)\n\u001b[1;32m   1427\u001b[0m \u001b[39mif\u001b[39;00m \u001b[39mself\u001b[39m\u001b[39m.\u001b[39misinsert \u001b[39mor\u001b[39;00m \u001b[39mself\u001b[39m\u001b[39m.\u001b[39misupdate \u001b[39mor\u001b[39;00m \u001b[39mself\u001b[39m\u001b[39m.\u001b[39misdelete:\n\u001b[1;32m   1428\u001b[0m     \u001b[39mif\u001b[39;00m TYPE_CHECKING:\n",
      "File \u001b[0;32m~/Documents/projects/mismo/.venv/lib/python3.11/site-packages/sqlalchemy/sql/compiler.py:866\u001b[0m, in \u001b[0;36mCompiled.__init__\u001b[0;34m(self, dialect, statement, schema_translate_map, render_schema_translate, compile_kwargs)\u001b[0m\n\u001b[1;32m    864\u001b[0m         \u001b[39massert\u001b[39;00m \u001b[39misinstance\u001b[39m(statement, Executable)\n\u001b[1;32m    865\u001b[0m     \u001b[39mself\u001b[39m\u001b[39m.\u001b[39mexecution_options \u001b[39m=\u001b[39m statement\u001b[39m.\u001b[39m_execution_options\n\u001b[0;32m--> 866\u001b[0m \u001b[39mself\u001b[39m\u001b[39m.\u001b[39mstring \u001b[39m=\u001b[39m \u001b[39mself\u001b[39;49m\u001b[39m.\u001b[39;49mprocess(\u001b[39mself\u001b[39;49m\u001b[39m.\u001b[39;49mstatement, \u001b[39m*\u001b[39;49m\u001b[39m*\u001b[39;49mcompile_kwargs)\n\u001b[1;32m    868\u001b[0m \u001b[39mif\u001b[39;00m render_schema_translate:\n\u001b[1;32m    869\u001b[0m     \u001b[39mself\u001b[39m\u001b[39m.\u001b[39mstring \u001b[39m=\u001b[39m \u001b[39mself\u001b[39m\u001b[39m.\u001b[39mpreparer\u001b[39m.\u001b[39m_render_schema_translates(\n\u001b[1;32m    870\u001b[0m         \u001b[39mself\u001b[39m\u001b[39m.\u001b[39mstring, schema_translate_map\n\u001b[1;32m    871\u001b[0m     )\n",
      "File \u001b[0;32m~/Documents/projects/mismo/.venv/lib/python3.11/site-packages/sqlalchemy/sql/compiler.py:911\u001b[0m, in \u001b[0;36mCompiled.process\u001b[0;34m(self, obj, **kwargs)\u001b[0m\n\u001b[1;32m    910\u001b[0m \u001b[39mdef\u001b[39;00m \u001b[39mprocess\u001b[39m(\u001b[39mself\u001b[39m, obj: Visitable, \u001b[39m*\u001b[39m\u001b[39m*\u001b[39mkwargs: Any) \u001b[39m-\u001b[39m\u001b[39m>\u001b[39m \u001b[39mstr\u001b[39m:\n\u001b[0;32m--> 911\u001b[0m     \u001b[39mreturn\u001b[39;00m obj\u001b[39m.\u001b[39;49m_compiler_dispatch(\u001b[39mself\u001b[39;49m, \u001b[39m*\u001b[39;49m\u001b[39m*\u001b[39;49mkwargs)\n",
      "File \u001b[0;32m~/Documents/projects/mismo/.venv/lib/python3.11/site-packages/sqlalchemy/sql/visitors.py:143\u001b[0m, in \u001b[0;36mVisitable._generate_compiler_dispatch.<locals>._compiler_dispatch\u001b[0;34m(self, visitor, **kw)\u001b[0m\n\u001b[1;32m    141\u001b[0m     \u001b[39mreturn\u001b[39;00m visitor\u001b[39m.\u001b[39mvisit_unsupported_compilation(\u001b[39mself\u001b[39m, err, \u001b[39m*\u001b[39m\u001b[39m*\u001b[39mkw)  \u001b[39m# type: ignore  # noqa: E501\u001b[39;00m\n\u001b[1;32m    142\u001b[0m \u001b[39melse\u001b[39;00m:\n\u001b[0;32m--> 143\u001b[0m     \u001b[39mreturn\u001b[39;00m meth(\u001b[39mself\u001b[39;49m, \u001b[39m*\u001b[39;49m\u001b[39m*\u001b[39;49mkw)\n",
      "File \u001b[0;32m~/Documents/projects/mismo/.venv/lib/python3.11/site-packages/sqlalchemy/sql/compiler.py:4724\u001b[0m, in \u001b[0;36mSQLCompiler.visit_select\u001b[0;34m(self, select_stmt, asfrom, insert_into, fromhints, compound_index, select_wraps_for, lateral, from_linter, **kwargs)\u001b[0m\n\u001b[1;32m   4692\u001b[0m     translate \u001b[39m=\u001b[39m \u001b[39mdict\u001b[39m(\n\u001b[1;32m   4693\u001b[0m         \u001b[39mzip\u001b[39m(\n\u001b[1;32m   4694\u001b[0m             [\n\u001b[0;32m   (...)\u001b[0m\n\u001b[1;32m   4714\u001b[0m         )\n\u001b[1;32m   4715\u001b[0m     )\n\u001b[1;32m   4717\u001b[0m     \u001b[39mself\u001b[39m\u001b[39m.\u001b[39m_result_columns \u001b[39m=\u001b[39m [\n\u001b[1;32m   4718\u001b[0m         ResultColumnsEntry(\n\u001b[1;32m   4719\u001b[0m             key, name, \u001b[39mtuple\u001b[39m(translate\u001b[39m.\u001b[39mget(o, o) \u001b[39mfor\u001b[39;00m o \u001b[39min\u001b[39;00m obj), type_\n\u001b[1;32m   4720\u001b[0m         )\n\u001b[1;32m   4721\u001b[0m         \u001b[39mfor\u001b[39;00m key, name, obj, type_ \u001b[39min\u001b[39;00m \u001b[39mself\u001b[39m\u001b[39m.\u001b[39m_result_columns\n\u001b[1;32m   4722\u001b[0m     ]\n\u001b[0;32m-> 4724\u001b[0m text \u001b[39m=\u001b[39m \u001b[39mself\u001b[39;49m\u001b[39m.\u001b[39;49m_compose_select_body(\n\u001b[1;32m   4725\u001b[0m     text,\n\u001b[1;32m   4726\u001b[0m     select_stmt,\n\u001b[1;32m   4727\u001b[0m     compile_state,\n\u001b[1;32m   4728\u001b[0m     inner_columns,\n\u001b[1;32m   4729\u001b[0m     froms,\n\u001b[1;32m   4730\u001b[0m     byfrom,\n\u001b[1;32m   4731\u001b[0m     toplevel,\n\u001b[1;32m   4732\u001b[0m     kwargs,\n\u001b[1;32m   4733\u001b[0m )\n\u001b[1;32m   4735\u001b[0m \u001b[39mif\u001b[39;00m select_stmt\u001b[39m.\u001b[39m_statement_hints:\n\u001b[1;32m   4736\u001b[0m     per_dialect \u001b[39m=\u001b[39m [\n\u001b[1;32m   4737\u001b[0m         ht\n\u001b[1;32m   4738\u001b[0m         \u001b[39mfor\u001b[39;00m (dialect_name, ht) \u001b[39min\u001b[39;00m select_stmt\u001b[39m.\u001b[39m_statement_hints\n\u001b[1;32m   4739\u001b[0m         \u001b[39mif\u001b[39;00m dialect_name \u001b[39min\u001b[39;00m (\u001b[39m\"\u001b[39m\u001b[39m*\u001b[39m\u001b[39m\"\u001b[39m, \u001b[39mself\u001b[39m\u001b[39m.\u001b[39mdialect\u001b[39m.\u001b[39mname)\n\u001b[1;32m   4740\u001b[0m     ]\n",
      "File \u001b[0;32m~/Documents/projects/mismo/.venv/lib/python3.11/site-packages/sqlalchemy/sql/compiler.py:4872\u001b[0m, in \u001b[0;36mSQLCompiler._compose_select_body\u001b[0;34m(self, text, select, compile_state, inner_columns, froms, byfrom, toplevel, kwargs)\u001b[0m\n\u001b[1;32m   4858\u001b[0m         text \u001b[39m+\u001b[39m\u001b[39m=\u001b[39m \u001b[39m\"\u001b[39m\u001b[39m, \u001b[39m\u001b[39m\"\u001b[39m\u001b[39m.\u001b[39mjoin(\n\u001b[1;32m   4859\u001b[0m             [\n\u001b[1;32m   4860\u001b[0m                 f\u001b[39m.\u001b[39m_compiler_dispatch(\n\u001b[0;32m   (...)\u001b[0m\n\u001b[1;32m   4868\u001b[0m             ]\n\u001b[1;32m   4869\u001b[0m         )\n\u001b[1;32m   4870\u001b[0m     \u001b[39melse\u001b[39;00m:\n\u001b[1;32m   4871\u001b[0m         text \u001b[39m+\u001b[39m\u001b[39m=\u001b[39m \u001b[39m\"\u001b[39m\u001b[39m, \u001b[39m\u001b[39m\"\u001b[39m\u001b[39m.\u001b[39mjoin(\n\u001b[0;32m-> 4872\u001b[0m             [\n\u001b[1;32m   4873\u001b[0m                 f\u001b[39m.\u001b[39;49m_compiler_dispatch(\n\u001b[1;32m   4874\u001b[0m                     \u001b[39mself\u001b[39;49m,\n\u001b[1;32m   4875\u001b[0m                     asfrom\u001b[39m=\u001b[39;49m\u001b[39mTrue\u001b[39;49;00m,\n\u001b[1;32m   4876\u001b[0m                     from_linter\u001b[39m=\u001b[39;49mfrom_linter,\n\u001b[1;32m   4877\u001b[0m                     \u001b[39m*\u001b[39;49m\u001b[39m*\u001b[39;49mkwargs,\n\u001b[1;32m   4878\u001b[0m                 )\n\u001b[1;32m   4879\u001b[0m                 \u001b[39mfor\u001b[39;49;00m f \u001b[39min\u001b[39;49;00m froms\n\u001b[1;32m   4880\u001b[0m             ]\n\u001b[1;32m   4881\u001b[0m         )\n\u001b[1;32m   4882\u001b[0m \u001b[39melse\u001b[39;00m:\n\u001b[1;32m   4883\u001b[0m     text \u001b[39m+\u001b[39m\u001b[39m=\u001b[39m \u001b[39mself\u001b[39m\u001b[39m.\u001b[39mdefault_from()\n",
      "File \u001b[0;32m~/Documents/projects/mismo/.venv/lib/python3.11/site-packages/sqlalchemy/sql/compiler.py:4873\u001b[0m, in \u001b[0;36m<listcomp>\u001b[0;34m(.0)\u001b[0m\n\u001b[1;32m   4858\u001b[0m         text \u001b[39m+\u001b[39m\u001b[39m=\u001b[39m \u001b[39m\"\u001b[39m\u001b[39m, \u001b[39m\u001b[39m\"\u001b[39m\u001b[39m.\u001b[39mjoin(\n\u001b[1;32m   4859\u001b[0m             [\n\u001b[1;32m   4860\u001b[0m                 f\u001b[39m.\u001b[39m_compiler_dispatch(\n\u001b[0;32m   (...)\u001b[0m\n\u001b[1;32m   4868\u001b[0m             ]\n\u001b[1;32m   4869\u001b[0m         )\n\u001b[1;32m   4870\u001b[0m     \u001b[39melse\u001b[39;00m:\n\u001b[1;32m   4871\u001b[0m         text \u001b[39m+\u001b[39m\u001b[39m=\u001b[39m \u001b[39m\"\u001b[39m\u001b[39m, \u001b[39m\u001b[39m\"\u001b[39m\u001b[39m.\u001b[39mjoin(\n\u001b[1;32m   4872\u001b[0m             [\n\u001b[0;32m-> 4873\u001b[0m                 f\u001b[39m.\u001b[39;49m_compiler_dispatch(\n\u001b[1;32m   4874\u001b[0m                     \u001b[39mself\u001b[39;49m,\n\u001b[1;32m   4875\u001b[0m                     asfrom\u001b[39m=\u001b[39;49m\u001b[39mTrue\u001b[39;49;00m,\n\u001b[1;32m   4876\u001b[0m                     from_linter\u001b[39m=\u001b[39;49mfrom_linter,\n\u001b[1;32m   4877\u001b[0m                     \u001b[39m*\u001b[39;49m\u001b[39m*\u001b[39;49mkwargs,\n\u001b[1;32m   4878\u001b[0m                 )\n\u001b[1;32m   4879\u001b[0m                 \u001b[39mfor\u001b[39;00m f \u001b[39min\u001b[39;00m froms\n\u001b[1;32m   4880\u001b[0m             ]\n\u001b[1;32m   4881\u001b[0m         )\n\u001b[1;32m   4882\u001b[0m \u001b[39melse\u001b[39;00m:\n\u001b[1;32m   4883\u001b[0m     text \u001b[39m+\u001b[39m\u001b[39m=\u001b[39m \u001b[39mself\u001b[39m\u001b[39m.\u001b[39mdefault_from()\n",
      "File \u001b[0;32m~/Documents/projects/mismo/.venv/lib/python3.11/site-packages/sqlalchemy/sql/visitors.py:143\u001b[0m, in \u001b[0;36mVisitable._generate_compiler_dispatch.<locals>._compiler_dispatch\u001b[0;34m(self, visitor, **kw)\u001b[0m\n\u001b[1;32m    141\u001b[0m     \u001b[39mreturn\u001b[39;00m visitor\u001b[39m.\u001b[39mvisit_unsupported_compilation(\u001b[39mself\u001b[39m, err, \u001b[39m*\u001b[39m\u001b[39m*\u001b[39mkw)  \u001b[39m# type: ignore  # noqa: E501\u001b[39;00m\n\u001b[1;32m    142\u001b[0m \u001b[39melse\u001b[39;00m:\n\u001b[0;32m--> 143\u001b[0m     \u001b[39mreturn\u001b[39;00m meth(\u001b[39mself\u001b[39;49m, \u001b[39m*\u001b[39;49m\u001b[39m*\u001b[39;49mkw)\n",
      "File \u001b[0;32m~/Documents/projects/mismo/.venv/lib/python3.11/site-packages/sqlalchemy/sql/compiler.py:4210\u001b[0m, in \u001b[0;36mSQLCompiler.visit_subquery\u001b[0;34m(self, subquery, **kw)\u001b[0m\n\u001b[1;32m   4208\u001b[0m \u001b[39mdef\u001b[39;00m \u001b[39mvisit_subquery\u001b[39m(\u001b[39mself\u001b[39m, subquery, \u001b[39m*\u001b[39m\u001b[39m*\u001b[39mkw):\n\u001b[1;32m   4209\u001b[0m     kw[\u001b[39m\"\u001b[39m\u001b[39msubquery\u001b[39m\u001b[39m\"\u001b[39m] \u001b[39m=\u001b[39m \u001b[39mTrue\u001b[39;00m\n\u001b[0;32m-> 4210\u001b[0m     \u001b[39mreturn\u001b[39;00m \u001b[39mself\u001b[39;49m\u001b[39m.\u001b[39;49mvisit_alias(subquery, \u001b[39m*\u001b[39;49m\u001b[39m*\u001b[39;49mkw)\n",
      "File \u001b[0;32m~/Documents/projects/mismo/.venv/lib/python3.11/site-packages/sqlalchemy/sql/compiler.py:4169\u001b[0m, in \u001b[0;36mSQLCompiler.visit_alias\u001b[0;34m(self, alias, asfrom, ashint, iscrud, fromhints, subquery, lateral, enclosing_alias, from_linter, **kwargs)\u001b[0m\n\u001b[1;32m   4166\u001b[0m \u001b[39mif\u001b[39;00m from_linter:\n\u001b[1;32m   4167\u001b[0m     from_linter\u001b[39m.\u001b[39mfroms[alias] \u001b[39m=\u001b[39m alias_name\n\u001b[0;32m-> 4169\u001b[0m inner \u001b[39m=\u001b[39m alias\u001b[39m.\u001b[39;49melement\u001b[39m.\u001b[39;49m_compiler_dispatch(\n\u001b[1;32m   4170\u001b[0m     \u001b[39mself\u001b[39;49m, asfrom\u001b[39m=\u001b[39;49m\u001b[39mTrue\u001b[39;49;00m, lateral\u001b[39m=\u001b[39;49mlateral, \u001b[39m*\u001b[39;49m\u001b[39m*\u001b[39;49mkwargs\n\u001b[1;32m   4171\u001b[0m )\n\u001b[1;32m   4172\u001b[0m \u001b[39mif\u001b[39;00m subquery:\n\u001b[1;32m   4173\u001b[0m     inner \u001b[39m=\u001b[39m \u001b[39m\"\u001b[39m\u001b[39m(\u001b[39m\u001b[39m%s\u001b[39;00m\u001b[39m)\u001b[39m\u001b[39m\"\u001b[39m \u001b[39m%\u001b[39m (inner,)\n",
      "File \u001b[0;32m~/Documents/projects/mismo/.venv/lib/python3.11/site-packages/sqlalchemy/sql/visitors.py:143\u001b[0m, in \u001b[0;36mVisitable._generate_compiler_dispatch.<locals>._compiler_dispatch\u001b[0;34m(self, visitor, **kw)\u001b[0m\n\u001b[1;32m    141\u001b[0m     \u001b[39mreturn\u001b[39;00m visitor\u001b[39m.\u001b[39mvisit_unsupported_compilation(\u001b[39mself\u001b[39m, err, \u001b[39m*\u001b[39m\u001b[39m*\u001b[39mkw)  \u001b[39m# type: ignore  # noqa: E501\u001b[39;00m\n\u001b[1;32m    142\u001b[0m \u001b[39melse\u001b[39;00m:\n\u001b[0;32m--> 143\u001b[0m     \u001b[39mreturn\u001b[39;00m meth(\u001b[39mself\u001b[39;49m, \u001b[39m*\u001b[39;49m\u001b[39m*\u001b[39;49mkw)\n",
      "File \u001b[0;32m~/Documents/projects/mismo/.venv/lib/python3.11/site-packages/sqlalchemy/sql/compiler.py:4724\u001b[0m, in \u001b[0;36mSQLCompiler.visit_select\u001b[0;34m(self, select_stmt, asfrom, insert_into, fromhints, compound_index, select_wraps_for, lateral, from_linter, **kwargs)\u001b[0m\n\u001b[1;32m   4692\u001b[0m     translate \u001b[39m=\u001b[39m \u001b[39mdict\u001b[39m(\n\u001b[1;32m   4693\u001b[0m         \u001b[39mzip\u001b[39m(\n\u001b[1;32m   4694\u001b[0m             [\n\u001b[0;32m   (...)\u001b[0m\n\u001b[1;32m   4714\u001b[0m         )\n\u001b[1;32m   4715\u001b[0m     )\n\u001b[1;32m   4717\u001b[0m     \u001b[39mself\u001b[39m\u001b[39m.\u001b[39m_result_columns \u001b[39m=\u001b[39m [\n\u001b[1;32m   4718\u001b[0m         ResultColumnsEntry(\n\u001b[1;32m   4719\u001b[0m             key, name, \u001b[39mtuple\u001b[39m(translate\u001b[39m.\u001b[39mget(o, o) \u001b[39mfor\u001b[39;00m o \u001b[39min\u001b[39;00m obj), type_\n\u001b[1;32m   4720\u001b[0m         )\n\u001b[1;32m   4721\u001b[0m         \u001b[39mfor\u001b[39;00m key, name, obj, type_ \u001b[39min\u001b[39;00m \u001b[39mself\u001b[39m\u001b[39m.\u001b[39m_result_columns\n\u001b[1;32m   4722\u001b[0m     ]\n\u001b[0;32m-> 4724\u001b[0m text \u001b[39m=\u001b[39m \u001b[39mself\u001b[39;49m\u001b[39m.\u001b[39;49m_compose_select_body(\n\u001b[1;32m   4725\u001b[0m     text,\n\u001b[1;32m   4726\u001b[0m     select_stmt,\n\u001b[1;32m   4727\u001b[0m     compile_state,\n\u001b[1;32m   4728\u001b[0m     inner_columns,\n\u001b[1;32m   4729\u001b[0m     froms,\n\u001b[1;32m   4730\u001b[0m     byfrom,\n\u001b[1;32m   4731\u001b[0m     toplevel,\n\u001b[1;32m   4732\u001b[0m     kwargs,\n\u001b[1;32m   4733\u001b[0m )\n\u001b[1;32m   4735\u001b[0m \u001b[39mif\u001b[39;00m select_stmt\u001b[39m.\u001b[39m_statement_hints:\n\u001b[1;32m   4736\u001b[0m     per_dialect \u001b[39m=\u001b[39m [\n\u001b[1;32m   4737\u001b[0m         ht\n\u001b[1;32m   4738\u001b[0m         \u001b[39mfor\u001b[39;00m (dialect_name, ht) \u001b[39min\u001b[39;00m select_stmt\u001b[39m.\u001b[39m_statement_hints\n\u001b[1;32m   4739\u001b[0m         \u001b[39mif\u001b[39;00m dialect_name \u001b[39min\u001b[39;00m (\u001b[39m\"\u001b[39m\u001b[39m*\u001b[39m\u001b[39m\"\u001b[39m, \u001b[39mself\u001b[39m\u001b[39m.\u001b[39mdialect\u001b[39m.\u001b[39mname)\n\u001b[1;32m   4740\u001b[0m     ]\n",
      "File \u001b[0;32m~/Documents/projects/mismo/.venv/lib/python3.11/site-packages/sqlalchemy/sql/compiler.py:4872\u001b[0m, in \u001b[0;36mSQLCompiler._compose_select_body\u001b[0;34m(self, text, select, compile_state, inner_columns, froms, byfrom, toplevel, kwargs)\u001b[0m\n\u001b[1;32m   4858\u001b[0m         text \u001b[39m+\u001b[39m\u001b[39m=\u001b[39m \u001b[39m\"\u001b[39m\u001b[39m, \u001b[39m\u001b[39m\"\u001b[39m\u001b[39m.\u001b[39mjoin(\n\u001b[1;32m   4859\u001b[0m             [\n\u001b[1;32m   4860\u001b[0m                 f\u001b[39m.\u001b[39m_compiler_dispatch(\n\u001b[0;32m   (...)\u001b[0m\n\u001b[1;32m   4868\u001b[0m             ]\n\u001b[1;32m   4869\u001b[0m         )\n\u001b[1;32m   4870\u001b[0m     \u001b[39melse\u001b[39;00m:\n\u001b[1;32m   4871\u001b[0m         text \u001b[39m+\u001b[39m\u001b[39m=\u001b[39m \u001b[39m\"\u001b[39m\u001b[39m, \u001b[39m\u001b[39m\"\u001b[39m\u001b[39m.\u001b[39mjoin(\n\u001b[0;32m-> 4872\u001b[0m             [\n\u001b[1;32m   4873\u001b[0m                 f\u001b[39m.\u001b[39;49m_compiler_dispatch(\n\u001b[1;32m   4874\u001b[0m                     \u001b[39mself\u001b[39;49m,\n\u001b[1;32m   4875\u001b[0m                     asfrom\u001b[39m=\u001b[39;49m\u001b[39mTrue\u001b[39;49;00m,\n\u001b[1;32m   4876\u001b[0m                     from_linter\u001b[39m=\u001b[39;49mfrom_linter,\n\u001b[1;32m   4877\u001b[0m                     \u001b[39m*\u001b[39;49m\u001b[39m*\u001b[39;49mkwargs,\n\u001b[1;32m   4878\u001b[0m                 )\n\u001b[1;32m   4879\u001b[0m                 \u001b[39mfor\u001b[39;49;00m f \u001b[39min\u001b[39;49;00m froms\n\u001b[1;32m   4880\u001b[0m             ]\n\u001b[1;32m   4881\u001b[0m         )\n\u001b[1;32m   4882\u001b[0m \u001b[39melse\u001b[39;00m:\n\u001b[1;32m   4883\u001b[0m     text \u001b[39m+\u001b[39m\u001b[39m=\u001b[39m \u001b[39mself\u001b[39m\u001b[39m.\u001b[39mdefault_from()\n",
      "File \u001b[0;32m~/Documents/projects/mismo/.venv/lib/python3.11/site-packages/sqlalchemy/sql/compiler.py:4873\u001b[0m, in \u001b[0;36m<listcomp>\u001b[0;34m(.0)\u001b[0m\n\u001b[1;32m   4858\u001b[0m         text \u001b[39m+\u001b[39m\u001b[39m=\u001b[39m \u001b[39m\"\u001b[39m\u001b[39m, \u001b[39m\u001b[39m\"\u001b[39m\u001b[39m.\u001b[39mjoin(\n\u001b[1;32m   4859\u001b[0m             [\n\u001b[1;32m   4860\u001b[0m                 f\u001b[39m.\u001b[39m_compiler_dispatch(\n\u001b[0;32m   (...)\u001b[0m\n\u001b[1;32m   4868\u001b[0m             ]\n\u001b[1;32m   4869\u001b[0m         )\n\u001b[1;32m   4870\u001b[0m     \u001b[39melse\u001b[39;00m:\n\u001b[1;32m   4871\u001b[0m         text \u001b[39m+\u001b[39m\u001b[39m=\u001b[39m \u001b[39m\"\u001b[39m\u001b[39m, \u001b[39m\u001b[39m\"\u001b[39m\u001b[39m.\u001b[39mjoin(\n\u001b[1;32m   4872\u001b[0m             [\n\u001b[0;32m-> 4873\u001b[0m                 f\u001b[39m.\u001b[39;49m_compiler_dispatch(\n\u001b[1;32m   4874\u001b[0m                     \u001b[39mself\u001b[39;49m,\n\u001b[1;32m   4875\u001b[0m                     asfrom\u001b[39m=\u001b[39;49m\u001b[39mTrue\u001b[39;49;00m,\n\u001b[1;32m   4876\u001b[0m                     from_linter\u001b[39m=\u001b[39;49mfrom_linter,\n\u001b[1;32m   4877\u001b[0m                     \u001b[39m*\u001b[39;49m\u001b[39m*\u001b[39;49mkwargs,\n\u001b[1;32m   4878\u001b[0m                 )\n\u001b[1;32m   4879\u001b[0m                 \u001b[39mfor\u001b[39;00m f \u001b[39min\u001b[39;00m froms\n\u001b[1;32m   4880\u001b[0m             ]\n\u001b[1;32m   4881\u001b[0m         )\n\u001b[1;32m   4882\u001b[0m \u001b[39melse\u001b[39;00m:\n\u001b[1;32m   4883\u001b[0m     text \u001b[39m+\u001b[39m\u001b[39m=\u001b[39m \u001b[39mself\u001b[39m\u001b[39m.\u001b[39mdefault_from()\n",
      "File \u001b[0;32m~/Documents/projects/mismo/.venv/lib/python3.11/site-packages/sqlalchemy/sql/visitors.py:143\u001b[0m, in \u001b[0;36mVisitable._generate_compiler_dispatch.<locals>._compiler_dispatch\u001b[0;34m(self, visitor, **kw)\u001b[0m\n\u001b[1;32m    141\u001b[0m     \u001b[39mreturn\u001b[39;00m visitor\u001b[39m.\u001b[39mvisit_unsupported_compilation(\u001b[39mself\u001b[39m, err, \u001b[39m*\u001b[39m\u001b[39m*\u001b[39mkw)  \u001b[39m# type: ignore  # noqa: E501\u001b[39;00m\n\u001b[1;32m    142\u001b[0m \u001b[39melse\u001b[39;00m:\n\u001b[0;32m--> 143\u001b[0m     \u001b[39mreturn\u001b[39;00m meth(\u001b[39mself\u001b[39;49m, \u001b[39m*\u001b[39;49m\u001b[39m*\u001b[39;49mkw)\n",
      "File \u001b[0;32m~/Documents/projects/mismo/.venv/lib/python3.11/site-packages/sqlalchemy/sql/compiler.py:5174\u001b[0m, in \u001b[0;36mSQLCompiler.visit_join\u001b[0;34m(self, join, asfrom, from_linter, **kwargs)\u001b[0m\n\u001b[1;32m   5171\u001b[0m \u001b[39melse\u001b[39;00m:\n\u001b[1;32m   5172\u001b[0m     join_type \u001b[39m=\u001b[39m \u001b[39m\"\u001b[39m\u001b[39m JOIN \u001b[39m\u001b[39m\"\u001b[39m\n\u001b[1;32m   5173\u001b[0m \u001b[39mreturn\u001b[39;00m (\n\u001b[0;32m-> 5174\u001b[0m     join\u001b[39m.\u001b[39;49mleft\u001b[39m.\u001b[39;49m_compiler_dispatch(\n\u001b[1;32m   5175\u001b[0m         \u001b[39mself\u001b[39;49m, asfrom\u001b[39m=\u001b[39;49m\u001b[39mTrue\u001b[39;49;00m, from_linter\u001b[39m=\u001b[39;49mfrom_linter, \u001b[39m*\u001b[39;49m\u001b[39m*\u001b[39;49mkwargs\n\u001b[1;32m   5176\u001b[0m     )\n\u001b[1;32m   5177\u001b[0m     \u001b[39m+\u001b[39m join_type\n\u001b[1;32m   5178\u001b[0m     \u001b[39m+\u001b[39m join\u001b[39m.\u001b[39mright\u001b[39m.\u001b[39m_compiler_dispatch(\n\u001b[1;32m   5179\u001b[0m         \u001b[39mself\u001b[39m, asfrom\u001b[39m=\u001b[39m\u001b[39mTrue\u001b[39;00m, from_linter\u001b[39m=\u001b[39mfrom_linter, \u001b[39m*\u001b[39m\u001b[39m*\u001b[39mkwargs\n\u001b[1;32m   5180\u001b[0m     )\n\u001b[1;32m   5181\u001b[0m     \u001b[39m+\u001b[39m \u001b[39m\"\u001b[39m\u001b[39m ON \u001b[39m\u001b[39m\"\u001b[39m\n\u001b[1;32m   5182\u001b[0m     \u001b[39m# TODO: likely need asfrom=True here?\u001b[39;00m\n\u001b[1;32m   5183\u001b[0m     \u001b[39m+\u001b[39m join\u001b[39m.\u001b[39monclause\u001b[39m.\u001b[39m_compiler_dispatch(\n\u001b[1;32m   5184\u001b[0m         \u001b[39mself\u001b[39m, from_linter\u001b[39m=\u001b[39mfrom_linter, \u001b[39m*\u001b[39m\u001b[39m*\u001b[39mkwargs\n\u001b[1;32m   5185\u001b[0m     )\n\u001b[1;32m   5186\u001b[0m )\n",
      "File \u001b[0;32m~/Documents/projects/mismo/.venv/lib/python3.11/site-packages/sqlalchemy/sql/visitors.py:143\u001b[0m, in \u001b[0;36mVisitable._generate_compiler_dispatch.<locals>._compiler_dispatch\u001b[0;34m(self, visitor, **kw)\u001b[0m\n\u001b[1;32m    141\u001b[0m     \u001b[39mreturn\u001b[39;00m visitor\u001b[39m.\u001b[39mvisit_unsupported_compilation(\u001b[39mself\u001b[39m, err, \u001b[39m*\u001b[39m\u001b[39m*\u001b[39mkw)  \u001b[39m# type: ignore  # noqa: E501\u001b[39;00m\n\u001b[1;32m    142\u001b[0m \u001b[39melse\u001b[39;00m:\n\u001b[0;32m--> 143\u001b[0m     \u001b[39mreturn\u001b[39;00m meth(\u001b[39mself\u001b[39;49m, \u001b[39m*\u001b[39;49m\u001b[39m*\u001b[39;49mkw)\n",
      "File \u001b[0;32m~/Documents/projects/mismo/.venv/lib/python3.11/site-packages/sqlalchemy/sql/compiler.py:4068\u001b[0m, in \u001b[0;36mSQLCompiler.visit_cte\u001b[0;34m(self, cte, asfrom, ashint, fromhints, visiting_cte, from_linter, cte_opts, **kwargs)\u001b[0m\n\u001b[1;32m   4064\u001b[0m \u001b[39melse\u001b[39;00m:\n\u001b[1;32m   4065\u001b[0m     prefixes \u001b[39m=\u001b[39m \u001b[39mself\u001b[39m\u001b[39m.\u001b[39m_generate_prefixes(\n\u001b[1;32m   4066\u001b[0m         cte, cte\u001b[39m.\u001b[39m_prefixes, \u001b[39m*\u001b[39m\u001b[39m*\u001b[39mkwargs\n\u001b[1;32m   4067\u001b[0m     )\n\u001b[0;32m-> 4068\u001b[0m     inner \u001b[39m=\u001b[39m cte\u001b[39m.\u001b[39;49melement\u001b[39m.\u001b[39;49m_compiler_dispatch(\n\u001b[1;32m   4069\u001b[0m         \u001b[39mself\u001b[39;49m, asfrom\u001b[39m=\u001b[39;49m\u001b[39mTrue\u001b[39;49;00m, \u001b[39m*\u001b[39;49m\u001b[39m*\u001b[39;49mkwargs\n\u001b[1;32m   4070\u001b[0m     )\n\u001b[1;32m   4072\u001b[0m     text \u001b[39m+\u001b[39m\u001b[39m=\u001b[39m \u001b[39m\"\u001b[39m\u001b[39m AS \u001b[39m\u001b[39m%s\u001b[39;00m\u001b[39m\\n\u001b[39;00m\u001b[39m(\u001b[39m\u001b[39m%s\u001b[39;00m\u001b[39m)\u001b[39m\u001b[39m\"\u001b[39m \u001b[39m%\u001b[39m (prefixes, inner)\n\u001b[1;32m   4074\u001b[0m \u001b[39mif\u001b[39;00m cte\u001b[39m.\u001b[39m_suffixes:\n",
      "File \u001b[0;32m~/Documents/projects/mismo/.venv/lib/python3.11/site-packages/sqlalchemy/sql/visitors.py:143\u001b[0m, in \u001b[0;36mVisitable._generate_compiler_dispatch.<locals>._compiler_dispatch\u001b[0;34m(self, visitor, **kw)\u001b[0m\n\u001b[1;32m    141\u001b[0m     \u001b[39mreturn\u001b[39;00m visitor\u001b[39m.\u001b[39mvisit_unsupported_compilation(\u001b[39mself\u001b[39m, err, \u001b[39m*\u001b[39m\u001b[39m*\u001b[39mkw)  \u001b[39m# type: ignore  # noqa: E501\u001b[39;00m\n\u001b[1;32m    142\u001b[0m \u001b[39melse\u001b[39;00m:\n\u001b[0;32m--> 143\u001b[0m     \u001b[39mreturn\u001b[39;00m meth(\u001b[39mself\u001b[39;49m, \u001b[39m*\u001b[39;49m\u001b[39m*\u001b[39;49mkw)\n",
      "File \u001b[0;32m~/Documents/projects/mismo/.venv/lib/python3.11/site-packages/sqlalchemy/sql/compiler.py:4724\u001b[0m, in \u001b[0;36mSQLCompiler.visit_select\u001b[0;34m(self, select_stmt, asfrom, insert_into, fromhints, compound_index, select_wraps_for, lateral, from_linter, **kwargs)\u001b[0m\n\u001b[1;32m   4692\u001b[0m     translate \u001b[39m=\u001b[39m \u001b[39mdict\u001b[39m(\n\u001b[1;32m   4693\u001b[0m         \u001b[39mzip\u001b[39m(\n\u001b[1;32m   4694\u001b[0m             [\n\u001b[0;32m   (...)\u001b[0m\n\u001b[1;32m   4714\u001b[0m         )\n\u001b[1;32m   4715\u001b[0m     )\n\u001b[1;32m   4717\u001b[0m     \u001b[39mself\u001b[39m\u001b[39m.\u001b[39m_result_columns \u001b[39m=\u001b[39m [\n\u001b[1;32m   4718\u001b[0m         ResultColumnsEntry(\n\u001b[1;32m   4719\u001b[0m             key, name, \u001b[39mtuple\u001b[39m(translate\u001b[39m.\u001b[39mget(o, o) \u001b[39mfor\u001b[39;00m o \u001b[39min\u001b[39;00m obj), type_\n\u001b[1;32m   4720\u001b[0m         )\n\u001b[1;32m   4721\u001b[0m         \u001b[39mfor\u001b[39;00m key, name, obj, type_ \u001b[39min\u001b[39;00m \u001b[39mself\u001b[39m\u001b[39m.\u001b[39m_result_columns\n\u001b[1;32m   4722\u001b[0m     ]\n\u001b[0;32m-> 4724\u001b[0m text \u001b[39m=\u001b[39m \u001b[39mself\u001b[39;49m\u001b[39m.\u001b[39;49m_compose_select_body(\n\u001b[1;32m   4725\u001b[0m     text,\n\u001b[1;32m   4726\u001b[0m     select_stmt,\n\u001b[1;32m   4727\u001b[0m     compile_state,\n\u001b[1;32m   4728\u001b[0m     inner_columns,\n\u001b[1;32m   4729\u001b[0m     froms,\n\u001b[1;32m   4730\u001b[0m     byfrom,\n\u001b[1;32m   4731\u001b[0m     toplevel,\n\u001b[1;32m   4732\u001b[0m     kwargs,\n\u001b[1;32m   4733\u001b[0m )\n\u001b[1;32m   4735\u001b[0m \u001b[39mif\u001b[39;00m select_stmt\u001b[39m.\u001b[39m_statement_hints:\n\u001b[1;32m   4736\u001b[0m     per_dialect \u001b[39m=\u001b[39m [\n\u001b[1;32m   4737\u001b[0m         ht\n\u001b[1;32m   4738\u001b[0m         \u001b[39mfor\u001b[39;00m (dialect_name, ht) \u001b[39min\u001b[39;00m select_stmt\u001b[39m.\u001b[39m_statement_hints\n\u001b[1;32m   4739\u001b[0m         \u001b[39mif\u001b[39;00m dialect_name \u001b[39min\u001b[39;00m (\u001b[39m\"\u001b[39m\u001b[39m*\u001b[39m\u001b[39m\"\u001b[39m, \u001b[39mself\u001b[39m\u001b[39m.\u001b[39mdialect\u001b[39m.\u001b[39mname)\n\u001b[1;32m   4740\u001b[0m     ]\n",
      "File \u001b[0;32m~/Documents/projects/mismo/.venv/lib/python3.11/site-packages/sqlalchemy/sql/compiler.py:4872\u001b[0m, in \u001b[0;36mSQLCompiler._compose_select_body\u001b[0;34m(self, text, select, compile_state, inner_columns, froms, byfrom, toplevel, kwargs)\u001b[0m\n\u001b[1;32m   4858\u001b[0m         text \u001b[39m+\u001b[39m\u001b[39m=\u001b[39m \u001b[39m\"\u001b[39m\u001b[39m, \u001b[39m\u001b[39m\"\u001b[39m\u001b[39m.\u001b[39mjoin(\n\u001b[1;32m   4859\u001b[0m             [\n\u001b[1;32m   4860\u001b[0m                 f\u001b[39m.\u001b[39m_compiler_dispatch(\n\u001b[0;32m   (...)\u001b[0m\n\u001b[1;32m   4868\u001b[0m             ]\n\u001b[1;32m   4869\u001b[0m         )\n\u001b[1;32m   4870\u001b[0m     \u001b[39melse\u001b[39;00m:\n\u001b[1;32m   4871\u001b[0m         text \u001b[39m+\u001b[39m\u001b[39m=\u001b[39m \u001b[39m\"\u001b[39m\u001b[39m, \u001b[39m\u001b[39m\"\u001b[39m\u001b[39m.\u001b[39mjoin(\n\u001b[0;32m-> 4872\u001b[0m             [\n\u001b[1;32m   4873\u001b[0m                 f\u001b[39m.\u001b[39;49m_compiler_dispatch(\n\u001b[1;32m   4874\u001b[0m                     \u001b[39mself\u001b[39;49m,\n\u001b[1;32m   4875\u001b[0m                     asfrom\u001b[39m=\u001b[39;49m\u001b[39mTrue\u001b[39;49;00m,\n\u001b[1;32m   4876\u001b[0m                     from_linter\u001b[39m=\u001b[39;49mfrom_linter,\n\u001b[1;32m   4877\u001b[0m                     \u001b[39m*\u001b[39;49m\u001b[39m*\u001b[39;49mkwargs,\n\u001b[1;32m   4878\u001b[0m                 )\n\u001b[1;32m   4879\u001b[0m                 \u001b[39mfor\u001b[39;49;00m f \u001b[39min\u001b[39;49;00m froms\n\u001b[1;32m   4880\u001b[0m             ]\n\u001b[1;32m   4881\u001b[0m         )\n\u001b[1;32m   4882\u001b[0m \u001b[39melse\u001b[39;00m:\n\u001b[1;32m   4883\u001b[0m     text \u001b[39m+\u001b[39m\u001b[39m=\u001b[39m \u001b[39mself\u001b[39m\u001b[39m.\u001b[39mdefault_from()\n",
      "File \u001b[0;32m~/Documents/projects/mismo/.venv/lib/python3.11/site-packages/sqlalchemy/sql/compiler.py:4873\u001b[0m, in \u001b[0;36m<listcomp>\u001b[0;34m(.0)\u001b[0m\n\u001b[1;32m   4858\u001b[0m         text \u001b[39m+\u001b[39m\u001b[39m=\u001b[39m \u001b[39m\"\u001b[39m\u001b[39m, \u001b[39m\u001b[39m\"\u001b[39m\u001b[39m.\u001b[39mjoin(\n\u001b[1;32m   4859\u001b[0m             [\n\u001b[1;32m   4860\u001b[0m                 f\u001b[39m.\u001b[39m_compiler_dispatch(\n\u001b[0;32m   (...)\u001b[0m\n\u001b[1;32m   4868\u001b[0m             ]\n\u001b[1;32m   4869\u001b[0m         )\n\u001b[1;32m   4870\u001b[0m     \u001b[39melse\u001b[39;00m:\n\u001b[1;32m   4871\u001b[0m         text \u001b[39m+\u001b[39m\u001b[39m=\u001b[39m \u001b[39m\"\u001b[39m\u001b[39m, \u001b[39m\u001b[39m\"\u001b[39m\u001b[39m.\u001b[39mjoin(\n\u001b[1;32m   4872\u001b[0m             [\n\u001b[0;32m-> 4873\u001b[0m                 f\u001b[39m.\u001b[39;49m_compiler_dispatch(\n\u001b[1;32m   4874\u001b[0m                     \u001b[39mself\u001b[39;49m,\n\u001b[1;32m   4875\u001b[0m                     asfrom\u001b[39m=\u001b[39;49m\u001b[39mTrue\u001b[39;49;00m,\n\u001b[1;32m   4876\u001b[0m                     from_linter\u001b[39m=\u001b[39;49mfrom_linter,\n\u001b[1;32m   4877\u001b[0m                     \u001b[39m*\u001b[39;49m\u001b[39m*\u001b[39;49mkwargs,\n\u001b[1;32m   4878\u001b[0m                 )\n\u001b[1;32m   4879\u001b[0m                 \u001b[39mfor\u001b[39;00m f \u001b[39min\u001b[39;00m froms\n\u001b[1;32m   4880\u001b[0m             ]\n\u001b[1;32m   4881\u001b[0m         )\n\u001b[1;32m   4882\u001b[0m \u001b[39melse\u001b[39;00m:\n\u001b[1;32m   4883\u001b[0m     text \u001b[39m+\u001b[39m\u001b[39m=\u001b[39m \u001b[39mself\u001b[39m\u001b[39m.\u001b[39mdefault_from()\n",
      "File \u001b[0;32m~/Documents/projects/mismo/.venv/lib/python3.11/site-packages/sqlalchemy/sql/visitors.py:143\u001b[0m, in \u001b[0;36mVisitable._generate_compiler_dispatch.<locals>._compiler_dispatch\u001b[0;34m(self, visitor, **kw)\u001b[0m\n\u001b[1;32m    141\u001b[0m     \u001b[39mreturn\u001b[39;00m visitor\u001b[39m.\u001b[39mvisit_unsupported_compilation(\u001b[39mself\u001b[39m, err, \u001b[39m*\u001b[39m\u001b[39m*\u001b[39mkw)  \u001b[39m# type: ignore  # noqa: E501\u001b[39;00m\n\u001b[1;32m    142\u001b[0m \u001b[39melse\u001b[39;00m:\n\u001b[0;32m--> 143\u001b[0m     \u001b[39mreturn\u001b[39;00m meth(\u001b[39mself\u001b[39;49m, \u001b[39m*\u001b[39;49m\u001b[39m*\u001b[39;49mkw)\n",
      "File \u001b[0;32m~/Documents/projects/mismo/.venv/lib/python3.11/site-packages/sqlalchemy/sql/compiler.py:5174\u001b[0m, in \u001b[0;36mSQLCompiler.visit_join\u001b[0;34m(self, join, asfrom, from_linter, **kwargs)\u001b[0m\n\u001b[1;32m   5171\u001b[0m \u001b[39melse\u001b[39;00m:\n\u001b[1;32m   5172\u001b[0m     join_type \u001b[39m=\u001b[39m \u001b[39m\"\u001b[39m\u001b[39m JOIN \u001b[39m\u001b[39m\"\u001b[39m\n\u001b[1;32m   5173\u001b[0m \u001b[39mreturn\u001b[39;00m (\n\u001b[0;32m-> 5174\u001b[0m     join\u001b[39m.\u001b[39;49mleft\u001b[39m.\u001b[39;49m_compiler_dispatch(\n\u001b[1;32m   5175\u001b[0m         \u001b[39mself\u001b[39;49m, asfrom\u001b[39m=\u001b[39;49m\u001b[39mTrue\u001b[39;49;00m, from_linter\u001b[39m=\u001b[39;49mfrom_linter, \u001b[39m*\u001b[39;49m\u001b[39m*\u001b[39;49mkwargs\n\u001b[1;32m   5176\u001b[0m     )\n\u001b[1;32m   5177\u001b[0m     \u001b[39m+\u001b[39m join_type\n\u001b[1;32m   5178\u001b[0m     \u001b[39m+\u001b[39m join\u001b[39m.\u001b[39mright\u001b[39m.\u001b[39m_compiler_dispatch(\n\u001b[1;32m   5179\u001b[0m         \u001b[39mself\u001b[39m, asfrom\u001b[39m=\u001b[39m\u001b[39mTrue\u001b[39;00m, from_linter\u001b[39m=\u001b[39mfrom_linter, \u001b[39m*\u001b[39m\u001b[39m*\u001b[39mkwargs\n\u001b[1;32m   5180\u001b[0m     )\n\u001b[1;32m   5181\u001b[0m     \u001b[39m+\u001b[39m \u001b[39m\"\u001b[39m\u001b[39m ON \u001b[39m\u001b[39m\"\u001b[39m\n\u001b[1;32m   5182\u001b[0m     \u001b[39m# TODO: likely need asfrom=True here?\u001b[39;00m\n\u001b[1;32m   5183\u001b[0m     \u001b[39m+\u001b[39m join\u001b[39m.\u001b[39monclause\u001b[39m.\u001b[39m_compiler_dispatch(\n\u001b[1;32m   5184\u001b[0m         \u001b[39mself\u001b[39m, from_linter\u001b[39m=\u001b[39mfrom_linter, \u001b[39m*\u001b[39m\u001b[39m*\u001b[39mkwargs\n\u001b[1;32m   5185\u001b[0m     )\n\u001b[1;32m   5186\u001b[0m )\n",
      "File \u001b[0;32m~/Documents/projects/mismo/.venv/lib/python3.11/site-packages/sqlalchemy/sql/visitors.py:143\u001b[0m, in \u001b[0;36mVisitable._generate_compiler_dispatch.<locals>._compiler_dispatch\u001b[0;34m(self, visitor, **kw)\u001b[0m\n\u001b[1;32m    141\u001b[0m     \u001b[39mreturn\u001b[39;00m visitor\u001b[39m.\u001b[39mvisit_unsupported_compilation(\u001b[39mself\u001b[39m, err, \u001b[39m*\u001b[39m\u001b[39m*\u001b[39mkw)  \u001b[39m# type: ignore  # noqa: E501\u001b[39;00m\n\u001b[1;32m    142\u001b[0m \u001b[39melse\u001b[39;00m:\n\u001b[0;32m--> 143\u001b[0m     \u001b[39mreturn\u001b[39;00m meth(\u001b[39mself\u001b[39;49m, \u001b[39m*\u001b[39;49m\u001b[39m*\u001b[39;49mkw)\n",
      "File \u001b[0;32m~/Documents/projects/mismo/.venv/lib/python3.11/site-packages/sqlalchemy/sql/compiler.py:4068\u001b[0m, in \u001b[0;36mSQLCompiler.visit_cte\u001b[0;34m(self, cte, asfrom, ashint, fromhints, visiting_cte, from_linter, cte_opts, **kwargs)\u001b[0m\n\u001b[1;32m   4064\u001b[0m \u001b[39melse\u001b[39;00m:\n\u001b[1;32m   4065\u001b[0m     prefixes \u001b[39m=\u001b[39m \u001b[39mself\u001b[39m\u001b[39m.\u001b[39m_generate_prefixes(\n\u001b[1;32m   4066\u001b[0m         cte, cte\u001b[39m.\u001b[39m_prefixes, \u001b[39m*\u001b[39m\u001b[39m*\u001b[39mkwargs\n\u001b[1;32m   4067\u001b[0m     )\n\u001b[0;32m-> 4068\u001b[0m     inner \u001b[39m=\u001b[39m cte\u001b[39m.\u001b[39;49melement\u001b[39m.\u001b[39;49m_compiler_dispatch(\n\u001b[1;32m   4069\u001b[0m         \u001b[39mself\u001b[39;49m, asfrom\u001b[39m=\u001b[39;49m\u001b[39mTrue\u001b[39;49;00m, \u001b[39m*\u001b[39;49m\u001b[39m*\u001b[39;49mkwargs\n\u001b[1;32m   4070\u001b[0m     )\n\u001b[1;32m   4072\u001b[0m     text \u001b[39m+\u001b[39m\u001b[39m=\u001b[39m \u001b[39m\"\u001b[39m\u001b[39m AS \u001b[39m\u001b[39m%s\u001b[39;00m\u001b[39m\\n\u001b[39;00m\u001b[39m(\u001b[39m\u001b[39m%s\u001b[39;00m\u001b[39m)\u001b[39m\u001b[39m\"\u001b[39m \u001b[39m%\u001b[39m (prefixes, inner)\n\u001b[1;32m   4074\u001b[0m \u001b[39mif\u001b[39;00m cte\u001b[39m.\u001b[39m_suffixes:\n",
      "File \u001b[0;32m~/Documents/projects/mismo/.venv/lib/python3.11/site-packages/sqlalchemy/sql/visitors.py:143\u001b[0m, in \u001b[0;36mVisitable._generate_compiler_dispatch.<locals>._compiler_dispatch\u001b[0;34m(self, visitor, **kw)\u001b[0m\n\u001b[1;32m    141\u001b[0m     \u001b[39mreturn\u001b[39;00m visitor\u001b[39m.\u001b[39mvisit_unsupported_compilation(\u001b[39mself\u001b[39m, err, \u001b[39m*\u001b[39m\u001b[39m*\u001b[39mkw)  \u001b[39m# type: ignore  # noqa: E501\u001b[39;00m\n\u001b[1;32m    142\u001b[0m \u001b[39melse\u001b[39;00m:\n\u001b[0;32m--> 143\u001b[0m     \u001b[39mreturn\u001b[39;00m meth(\u001b[39mself\u001b[39;49m, \u001b[39m*\u001b[39;49m\u001b[39m*\u001b[39;49mkw)\n",
      "File \u001b[0;32m~/Documents/projects/mismo/.venv/lib/python3.11/site-packages/sqlalchemy/sql/compiler.py:4724\u001b[0m, in \u001b[0;36mSQLCompiler.visit_select\u001b[0;34m(self, select_stmt, asfrom, insert_into, fromhints, compound_index, select_wraps_for, lateral, from_linter, **kwargs)\u001b[0m\n\u001b[1;32m   4692\u001b[0m     translate \u001b[39m=\u001b[39m \u001b[39mdict\u001b[39m(\n\u001b[1;32m   4693\u001b[0m         \u001b[39mzip\u001b[39m(\n\u001b[1;32m   4694\u001b[0m             [\n\u001b[0;32m   (...)\u001b[0m\n\u001b[1;32m   4714\u001b[0m         )\n\u001b[1;32m   4715\u001b[0m     )\n\u001b[1;32m   4717\u001b[0m     \u001b[39mself\u001b[39m\u001b[39m.\u001b[39m_result_columns \u001b[39m=\u001b[39m [\n\u001b[1;32m   4718\u001b[0m         ResultColumnsEntry(\n\u001b[1;32m   4719\u001b[0m             key, name, \u001b[39mtuple\u001b[39m(translate\u001b[39m.\u001b[39mget(o, o) \u001b[39mfor\u001b[39;00m o \u001b[39min\u001b[39;00m obj), type_\n\u001b[1;32m   4720\u001b[0m         )\n\u001b[1;32m   4721\u001b[0m         \u001b[39mfor\u001b[39;00m key, name, obj, type_ \u001b[39min\u001b[39;00m \u001b[39mself\u001b[39m\u001b[39m.\u001b[39m_result_columns\n\u001b[1;32m   4722\u001b[0m     ]\n\u001b[0;32m-> 4724\u001b[0m text \u001b[39m=\u001b[39m \u001b[39mself\u001b[39;49m\u001b[39m.\u001b[39;49m_compose_select_body(\n\u001b[1;32m   4725\u001b[0m     text,\n\u001b[1;32m   4726\u001b[0m     select_stmt,\n\u001b[1;32m   4727\u001b[0m     compile_state,\n\u001b[1;32m   4728\u001b[0m     inner_columns,\n\u001b[1;32m   4729\u001b[0m     froms,\n\u001b[1;32m   4730\u001b[0m     byfrom,\n\u001b[1;32m   4731\u001b[0m     toplevel,\n\u001b[1;32m   4732\u001b[0m     kwargs,\n\u001b[1;32m   4733\u001b[0m )\n\u001b[1;32m   4735\u001b[0m \u001b[39mif\u001b[39;00m select_stmt\u001b[39m.\u001b[39m_statement_hints:\n\u001b[1;32m   4736\u001b[0m     per_dialect \u001b[39m=\u001b[39m [\n\u001b[1;32m   4737\u001b[0m         ht\n\u001b[1;32m   4738\u001b[0m         \u001b[39mfor\u001b[39;00m (dialect_name, ht) \u001b[39min\u001b[39;00m select_stmt\u001b[39m.\u001b[39m_statement_hints\n\u001b[1;32m   4739\u001b[0m         \u001b[39mif\u001b[39;00m dialect_name \u001b[39min\u001b[39;00m (\u001b[39m\"\u001b[39m\u001b[39m*\u001b[39m\u001b[39m\"\u001b[39m, \u001b[39mself\u001b[39m\u001b[39m.\u001b[39mdialect\u001b[39m.\u001b[39mname)\n\u001b[1;32m   4740\u001b[0m     ]\n",
      "File \u001b[0;32m~/Documents/projects/mismo/.venv/lib/python3.11/site-packages/sqlalchemy/sql/compiler.py:4872\u001b[0m, in \u001b[0;36mSQLCompiler._compose_select_body\u001b[0;34m(self, text, select, compile_state, inner_columns, froms, byfrom, toplevel, kwargs)\u001b[0m\n\u001b[1;32m   4858\u001b[0m         text \u001b[39m+\u001b[39m\u001b[39m=\u001b[39m \u001b[39m\"\u001b[39m\u001b[39m, \u001b[39m\u001b[39m\"\u001b[39m\u001b[39m.\u001b[39mjoin(\n\u001b[1;32m   4859\u001b[0m             [\n\u001b[1;32m   4860\u001b[0m                 f\u001b[39m.\u001b[39m_compiler_dispatch(\n\u001b[0;32m   (...)\u001b[0m\n\u001b[1;32m   4868\u001b[0m             ]\n\u001b[1;32m   4869\u001b[0m         )\n\u001b[1;32m   4870\u001b[0m     \u001b[39melse\u001b[39;00m:\n\u001b[1;32m   4871\u001b[0m         text \u001b[39m+\u001b[39m\u001b[39m=\u001b[39m \u001b[39m\"\u001b[39m\u001b[39m, \u001b[39m\u001b[39m\"\u001b[39m\u001b[39m.\u001b[39mjoin(\n\u001b[0;32m-> 4872\u001b[0m             [\n\u001b[1;32m   4873\u001b[0m                 f\u001b[39m.\u001b[39;49m_compiler_dispatch(\n\u001b[1;32m   4874\u001b[0m                     \u001b[39mself\u001b[39;49m,\n\u001b[1;32m   4875\u001b[0m                     asfrom\u001b[39m=\u001b[39;49m\u001b[39mTrue\u001b[39;49;00m,\n\u001b[1;32m   4876\u001b[0m                     from_linter\u001b[39m=\u001b[39;49mfrom_linter,\n\u001b[1;32m   4877\u001b[0m                     \u001b[39m*\u001b[39;49m\u001b[39m*\u001b[39;49mkwargs,\n\u001b[1;32m   4878\u001b[0m                 )\n\u001b[1;32m   4879\u001b[0m                 \u001b[39mfor\u001b[39;49;00m f \u001b[39min\u001b[39;49;00m froms\n\u001b[1;32m   4880\u001b[0m             ]\n\u001b[1;32m   4881\u001b[0m         )\n\u001b[1;32m   4882\u001b[0m \u001b[39melse\u001b[39;00m:\n\u001b[1;32m   4883\u001b[0m     text \u001b[39m+\u001b[39m\u001b[39m=\u001b[39m \u001b[39mself\u001b[39m\u001b[39m.\u001b[39mdefault_from()\n",
      "File \u001b[0;32m~/Documents/projects/mismo/.venv/lib/python3.11/site-packages/sqlalchemy/sql/compiler.py:4873\u001b[0m, in \u001b[0;36m<listcomp>\u001b[0;34m(.0)\u001b[0m\n\u001b[1;32m   4858\u001b[0m         text \u001b[39m+\u001b[39m\u001b[39m=\u001b[39m \u001b[39m\"\u001b[39m\u001b[39m, \u001b[39m\u001b[39m\"\u001b[39m\u001b[39m.\u001b[39mjoin(\n\u001b[1;32m   4859\u001b[0m             [\n\u001b[1;32m   4860\u001b[0m                 f\u001b[39m.\u001b[39m_compiler_dispatch(\n\u001b[0;32m   (...)\u001b[0m\n\u001b[1;32m   4868\u001b[0m             ]\n\u001b[1;32m   4869\u001b[0m         )\n\u001b[1;32m   4870\u001b[0m     \u001b[39melse\u001b[39;00m:\n\u001b[1;32m   4871\u001b[0m         text \u001b[39m+\u001b[39m\u001b[39m=\u001b[39m \u001b[39m\"\u001b[39m\u001b[39m, \u001b[39m\u001b[39m\"\u001b[39m\u001b[39m.\u001b[39mjoin(\n\u001b[1;32m   4872\u001b[0m             [\n\u001b[0;32m-> 4873\u001b[0m                 f\u001b[39m.\u001b[39;49m_compiler_dispatch(\n\u001b[1;32m   4874\u001b[0m                     \u001b[39mself\u001b[39;49m,\n\u001b[1;32m   4875\u001b[0m                     asfrom\u001b[39m=\u001b[39;49m\u001b[39mTrue\u001b[39;49;00m,\n\u001b[1;32m   4876\u001b[0m                     from_linter\u001b[39m=\u001b[39;49mfrom_linter,\n\u001b[1;32m   4877\u001b[0m                     \u001b[39m*\u001b[39;49m\u001b[39m*\u001b[39;49mkwargs,\n\u001b[1;32m   4878\u001b[0m                 )\n\u001b[1;32m   4879\u001b[0m                 \u001b[39mfor\u001b[39;00m f \u001b[39min\u001b[39;00m froms\n\u001b[1;32m   4880\u001b[0m             ]\n\u001b[1;32m   4881\u001b[0m         )\n\u001b[1;32m   4882\u001b[0m \u001b[39melse\u001b[39;00m:\n\u001b[1;32m   4883\u001b[0m     text \u001b[39m+\u001b[39m\u001b[39m=\u001b[39m \u001b[39mself\u001b[39m\u001b[39m.\u001b[39mdefault_from()\n",
      "File \u001b[0;32m~/Documents/projects/mismo/.venv/lib/python3.11/site-packages/sqlalchemy/sql/visitors.py:143\u001b[0m, in \u001b[0;36mVisitable._generate_compiler_dispatch.<locals>._compiler_dispatch\u001b[0;34m(self, visitor, **kw)\u001b[0m\n\u001b[1;32m    141\u001b[0m     \u001b[39mreturn\u001b[39;00m visitor\u001b[39m.\u001b[39mvisit_unsupported_compilation(\u001b[39mself\u001b[39m, err, \u001b[39m*\u001b[39m\u001b[39m*\u001b[39mkw)  \u001b[39m# type: ignore  # noqa: E501\u001b[39;00m\n\u001b[1;32m    142\u001b[0m \u001b[39melse\u001b[39;00m:\n\u001b[0;32m--> 143\u001b[0m     \u001b[39mreturn\u001b[39;00m meth(\u001b[39mself\u001b[39;49m, \u001b[39m*\u001b[39;49m\u001b[39m*\u001b[39;49mkw)\n",
      "File \u001b[0;32m~/Documents/projects/mismo/.venv/lib/python3.11/site-packages/sqlalchemy/sql/compiler.py:4210\u001b[0m, in \u001b[0;36mSQLCompiler.visit_subquery\u001b[0;34m(self, subquery, **kw)\u001b[0m\n\u001b[1;32m   4208\u001b[0m \u001b[39mdef\u001b[39;00m \u001b[39mvisit_subquery\u001b[39m(\u001b[39mself\u001b[39m, subquery, \u001b[39m*\u001b[39m\u001b[39m*\u001b[39mkw):\n\u001b[1;32m   4209\u001b[0m     kw[\u001b[39m\"\u001b[39m\u001b[39msubquery\u001b[39m\u001b[39m\"\u001b[39m] \u001b[39m=\u001b[39m \u001b[39mTrue\u001b[39;00m\n\u001b[0;32m-> 4210\u001b[0m     \u001b[39mreturn\u001b[39;00m \u001b[39mself\u001b[39;49m\u001b[39m.\u001b[39;49mvisit_alias(subquery, \u001b[39m*\u001b[39;49m\u001b[39m*\u001b[39;49mkw)\n",
      "File \u001b[0;32m~/Documents/projects/mismo/.venv/lib/python3.11/site-packages/sqlalchemy/sql/compiler.py:4169\u001b[0m, in \u001b[0;36mSQLCompiler.visit_alias\u001b[0;34m(self, alias, asfrom, ashint, iscrud, fromhints, subquery, lateral, enclosing_alias, from_linter, **kwargs)\u001b[0m\n\u001b[1;32m   4166\u001b[0m \u001b[39mif\u001b[39;00m from_linter:\n\u001b[1;32m   4167\u001b[0m     from_linter\u001b[39m.\u001b[39mfroms[alias] \u001b[39m=\u001b[39m alias_name\n\u001b[0;32m-> 4169\u001b[0m inner \u001b[39m=\u001b[39m alias\u001b[39m.\u001b[39;49melement\u001b[39m.\u001b[39;49m_compiler_dispatch(\n\u001b[1;32m   4170\u001b[0m     \u001b[39mself\u001b[39;49m, asfrom\u001b[39m=\u001b[39;49m\u001b[39mTrue\u001b[39;49;00m, lateral\u001b[39m=\u001b[39;49mlateral, \u001b[39m*\u001b[39;49m\u001b[39m*\u001b[39;49mkwargs\n\u001b[1;32m   4171\u001b[0m )\n\u001b[1;32m   4172\u001b[0m \u001b[39mif\u001b[39;00m subquery:\n\u001b[1;32m   4173\u001b[0m     inner \u001b[39m=\u001b[39m \u001b[39m\"\u001b[39m\u001b[39m(\u001b[39m\u001b[39m%s\u001b[39;00m\u001b[39m)\u001b[39m\u001b[39m\"\u001b[39m \u001b[39m%\u001b[39m (inner,)\n",
      "File \u001b[0;32m~/Documents/projects/mismo/.venv/lib/python3.11/site-packages/sqlalchemy/sql/visitors.py:143\u001b[0m, in \u001b[0;36mVisitable._generate_compiler_dispatch.<locals>._compiler_dispatch\u001b[0;34m(self, visitor, **kw)\u001b[0m\n\u001b[1;32m    141\u001b[0m     \u001b[39mreturn\u001b[39;00m visitor\u001b[39m.\u001b[39mvisit_unsupported_compilation(\u001b[39mself\u001b[39m, err, \u001b[39m*\u001b[39m\u001b[39m*\u001b[39mkw)  \u001b[39m# type: ignore  # noqa: E501\u001b[39;00m\n\u001b[1;32m    142\u001b[0m \u001b[39melse\u001b[39;00m:\n\u001b[0;32m--> 143\u001b[0m     \u001b[39mreturn\u001b[39;00m meth(\u001b[39mself\u001b[39;49m, \u001b[39m*\u001b[39;49m\u001b[39m*\u001b[39;49mkw)\n",
      "File \u001b[0;32m~/Documents/projects/mismo/.venv/lib/python3.11/site-packages/sqlalchemy/sql/compiler.py:2949\u001b[0m, in \u001b[0;36mSQLCompiler.visit_compound_select\u001b[0;34m(self, cs, asfrom, compound_index, **kwargs)\u001b[0m\n\u001b[1;32m   2945\u001b[0m     \u001b[39mself\u001b[39m\u001b[39m.\u001b[39m_dispatch_independent_ctes(compound_stmt, kwargs)\n\u001b[1;32m   2947\u001b[0m keyword \u001b[39m=\u001b[39m \u001b[39mself\u001b[39m\u001b[39m.\u001b[39mcompound_keywords[cs\u001b[39m.\u001b[39mkeyword]\n\u001b[0;32m-> 2949\u001b[0m text \u001b[39m=\u001b[39m (\u001b[39m\"\u001b[39m\u001b[39m \u001b[39m\u001b[39m\"\u001b[39m \u001b[39m+\u001b[39m keyword \u001b[39m+\u001b[39m \u001b[39m\"\u001b[39m\u001b[39m \u001b[39m\u001b[39m\"\u001b[39m)\u001b[39m.\u001b[39mjoin(\n\u001b[1;32m   2950\u001b[0m     (\n\u001b[1;32m   2951\u001b[0m         c\u001b[39m.\u001b[39m_compiler_dispatch(\n\u001b[1;32m   2952\u001b[0m             \u001b[39mself\u001b[39m, asfrom\u001b[39m=\u001b[39masfrom, compound_index\u001b[39m=\u001b[39mi, \u001b[39m*\u001b[39m\u001b[39m*\u001b[39mkwargs\n\u001b[1;32m   2953\u001b[0m         )\n\u001b[1;32m   2954\u001b[0m         \u001b[39mfor\u001b[39;00m i, c \u001b[39min\u001b[39;00m \u001b[39menumerate\u001b[39m(cs\u001b[39m.\u001b[39mselects)\n\u001b[1;32m   2955\u001b[0m     )\n\u001b[1;32m   2956\u001b[0m )\n\u001b[1;32m   2958\u001b[0m kwargs[\u001b[39m\"\u001b[39m\u001b[39minclude_table\u001b[39m\u001b[39m\"\u001b[39m] \u001b[39m=\u001b[39m \u001b[39mFalse\u001b[39;00m\n\u001b[1;32m   2959\u001b[0m text \u001b[39m+\u001b[39m\u001b[39m=\u001b[39m \u001b[39mself\u001b[39m\u001b[39m.\u001b[39mgroup_by_clause(cs, \u001b[39m*\u001b[39m\u001b[39m*\u001b[39m\u001b[39mdict\u001b[39m(asfrom\u001b[39m=\u001b[39masfrom, \u001b[39m*\u001b[39m\u001b[39m*\u001b[39mkwargs))\n",
      "File \u001b[0;32m~/Documents/projects/mismo/.venv/lib/python3.11/site-packages/sqlalchemy/sql/compiler.py:2951\u001b[0m, in \u001b[0;36m<genexpr>\u001b[0;34m(.0)\u001b[0m\n\u001b[1;32m   2945\u001b[0m     \u001b[39mself\u001b[39m\u001b[39m.\u001b[39m_dispatch_independent_ctes(compound_stmt, kwargs)\n\u001b[1;32m   2947\u001b[0m keyword \u001b[39m=\u001b[39m \u001b[39mself\u001b[39m\u001b[39m.\u001b[39mcompound_keywords[cs\u001b[39m.\u001b[39mkeyword]\n\u001b[1;32m   2949\u001b[0m text \u001b[39m=\u001b[39m (\u001b[39m\"\u001b[39m\u001b[39m \u001b[39m\u001b[39m\"\u001b[39m \u001b[39m+\u001b[39m keyword \u001b[39m+\u001b[39m \u001b[39m\"\u001b[39m\u001b[39m \u001b[39m\u001b[39m\"\u001b[39m)\u001b[39m.\u001b[39mjoin(\n\u001b[1;32m   2950\u001b[0m     (\n\u001b[0;32m-> 2951\u001b[0m         c\u001b[39m.\u001b[39;49m_compiler_dispatch(\n\u001b[1;32m   2952\u001b[0m             \u001b[39mself\u001b[39;49m, asfrom\u001b[39m=\u001b[39;49masfrom, compound_index\u001b[39m=\u001b[39;49mi, \u001b[39m*\u001b[39;49m\u001b[39m*\u001b[39;49mkwargs\n\u001b[1;32m   2953\u001b[0m         )\n\u001b[1;32m   2954\u001b[0m         \u001b[39mfor\u001b[39;00m i, c \u001b[39min\u001b[39;00m \u001b[39menumerate\u001b[39m(cs\u001b[39m.\u001b[39mselects)\n\u001b[1;32m   2955\u001b[0m     )\n\u001b[1;32m   2956\u001b[0m )\n\u001b[1;32m   2958\u001b[0m kwargs[\u001b[39m\"\u001b[39m\u001b[39minclude_table\u001b[39m\u001b[39m\"\u001b[39m] \u001b[39m=\u001b[39m \u001b[39mFalse\u001b[39;00m\n\u001b[1;32m   2959\u001b[0m text \u001b[39m+\u001b[39m\u001b[39m=\u001b[39m \u001b[39mself\u001b[39m\u001b[39m.\u001b[39mgroup_by_clause(cs, \u001b[39m*\u001b[39m\u001b[39m*\u001b[39m\u001b[39mdict\u001b[39m(asfrom\u001b[39m=\u001b[39masfrom, \u001b[39m*\u001b[39m\u001b[39m*\u001b[39mkwargs))\n",
      "File \u001b[0;32m~/Documents/projects/mismo/.venv/lib/python3.11/site-packages/sqlalchemy/sql/visitors.py:143\u001b[0m, in \u001b[0;36mVisitable._generate_compiler_dispatch.<locals>._compiler_dispatch\u001b[0;34m(self, visitor, **kw)\u001b[0m\n\u001b[1;32m    141\u001b[0m     \u001b[39mreturn\u001b[39;00m visitor\u001b[39m.\u001b[39mvisit_unsupported_compilation(\u001b[39mself\u001b[39m, err, \u001b[39m*\u001b[39m\u001b[39m*\u001b[39mkw)  \u001b[39m# type: ignore  # noqa: E501\u001b[39;00m\n\u001b[1;32m    142\u001b[0m \u001b[39melse\u001b[39;00m:\n\u001b[0;32m--> 143\u001b[0m     \u001b[39mreturn\u001b[39;00m meth(\u001b[39mself\u001b[39;49m, \u001b[39m*\u001b[39;49m\u001b[39m*\u001b[39;49mkw)\n",
      "File \u001b[0;32m~/Documents/projects/mismo/.venv/lib/python3.11/site-packages/sqlalchemy/sql/compiler.py:4724\u001b[0m, in \u001b[0;36mSQLCompiler.visit_select\u001b[0;34m(self, select_stmt, asfrom, insert_into, fromhints, compound_index, select_wraps_for, lateral, from_linter, **kwargs)\u001b[0m\n\u001b[1;32m   4692\u001b[0m     translate \u001b[39m=\u001b[39m \u001b[39mdict\u001b[39m(\n\u001b[1;32m   4693\u001b[0m         \u001b[39mzip\u001b[39m(\n\u001b[1;32m   4694\u001b[0m             [\n\u001b[0;32m   (...)\u001b[0m\n\u001b[1;32m   4714\u001b[0m         )\n\u001b[1;32m   4715\u001b[0m     )\n\u001b[1;32m   4717\u001b[0m     \u001b[39mself\u001b[39m\u001b[39m.\u001b[39m_result_columns \u001b[39m=\u001b[39m [\n\u001b[1;32m   4718\u001b[0m         ResultColumnsEntry(\n\u001b[1;32m   4719\u001b[0m             key, name, \u001b[39mtuple\u001b[39m(translate\u001b[39m.\u001b[39mget(o, o) \u001b[39mfor\u001b[39;00m o \u001b[39min\u001b[39;00m obj), type_\n\u001b[1;32m   4720\u001b[0m         )\n\u001b[1;32m   4721\u001b[0m         \u001b[39mfor\u001b[39;00m key, name, obj, type_ \u001b[39min\u001b[39;00m \u001b[39mself\u001b[39m\u001b[39m.\u001b[39m_result_columns\n\u001b[1;32m   4722\u001b[0m     ]\n\u001b[0;32m-> 4724\u001b[0m text \u001b[39m=\u001b[39m \u001b[39mself\u001b[39;49m\u001b[39m.\u001b[39;49m_compose_select_body(\n\u001b[1;32m   4725\u001b[0m     text,\n\u001b[1;32m   4726\u001b[0m     select_stmt,\n\u001b[1;32m   4727\u001b[0m     compile_state,\n\u001b[1;32m   4728\u001b[0m     inner_columns,\n\u001b[1;32m   4729\u001b[0m     froms,\n\u001b[1;32m   4730\u001b[0m     byfrom,\n\u001b[1;32m   4731\u001b[0m     toplevel,\n\u001b[1;32m   4732\u001b[0m     kwargs,\n\u001b[1;32m   4733\u001b[0m )\n\u001b[1;32m   4735\u001b[0m \u001b[39mif\u001b[39;00m select_stmt\u001b[39m.\u001b[39m_statement_hints:\n\u001b[1;32m   4736\u001b[0m     per_dialect \u001b[39m=\u001b[39m [\n\u001b[1;32m   4737\u001b[0m         ht\n\u001b[1;32m   4738\u001b[0m         \u001b[39mfor\u001b[39;00m (dialect_name, ht) \u001b[39min\u001b[39;00m select_stmt\u001b[39m.\u001b[39m_statement_hints\n\u001b[1;32m   4739\u001b[0m         \u001b[39mif\u001b[39;00m dialect_name \u001b[39min\u001b[39;00m (\u001b[39m\"\u001b[39m\u001b[39m*\u001b[39m\u001b[39m\"\u001b[39m, \u001b[39mself\u001b[39m\u001b[39m.\u001b[39mdialect\u001b[39m.\u001b[39mname)\n\u001b[1;32m   4740\u001b[0m     ]\n",
      "File \u001b[0;32m~/Documents/projects/mismo/.venv/lib/python3.11/site-packages/sqlalchemy/sql/compiler.py:4872\u001b[0m, in \u001b[0;36mSQLCompiler._compose_select_body\u001b[0;34m(self, text, select, compile_state, inner_columns, froms, byfrom, toplevel, kwargs)\u001b[0m\n\u001b[1;32m   4858\u001b[0m         text \u001b[39m+\u001b[39m\u001b[39m=\u001b[39m \u001b[39m\"\u001b[39m\u001b[39m, \u001b[39m\u001b[39m\"\u001b[39m\u001b[39m.\u001b[39mjoin(\n\u001b[1;32m   4859\u001b[0m             [\n\u001b[1;32m   4860\u001b[0m                 f\u001b[39m.\u001b[39m_compiler_dispatch(\n\u001b[0;32m   (...)\u001b[0m\n\u001b[1;32m   4868\u001b[0m             ]\n\u001b[1;32m   4869\u001b[0m         )\n\u001b[1;32m   4870\u001b[0m     \u001b[39melse\u001b[39;00m:\n\u001b[1;32m   4871\u001b[0m         text \u001b[39m+\u001b[39m\u001b[39m=\u001b[39m \u001b[39m\"\u001b[39m\u001b[39m, \u001b[39m\u001b[39m\"\u001b[39m\u001b[39m.\u001b[39mjoin(\n\u001b[0;32m-> 4872\u001b[0m             [\n\u001b[1;32m   4873\u001b[0m                 f\u001b[39m.\u001b[39;49m_compiler_dispatch(\n\u001b[1;32m   4874\u001b[0m                     \u001b[39mself\u001b[39;49m,\n\u001b[1;32m   4875\u001b[0m                     asfrom\u001b[39m=\u001b[39;49m\u001b[39mTrue\u001b[39;49;00m,\n\u001b[1;32m   4876\u001b[0m                     from_linter\u001b[39m=\u001b[39;49mfrom_linter,\n\u001b[1;32m   4877\u001b[0m                     \u001b[39m*\u001b[39;49m\u001b[39m*\u001b[39;49mkwargs,\n\u001b[1;32m   4878\u001b[0m                 )\n\u001b[1;32m   4879\u001b[0m                 \u001b[39mfor\u001b[39;49;00m f \u001b[39min\u001b[39;49;00m froms\n\u001b[1;32m   4880\u001b[0m             ]\n\u001b[1;32m   4881\u001b[0m         )\n\u001b[1;32m   4882\u001b[0m \u001b[39melse\u001b[39;00m:\n\u001b[1;32m   4883\u001b[0m     text \u001b[39m+\u001b[39m\u001b[39m=\u001b[39m \u001b[39mself\u001b[39m\u001b[39m.\u001b[39mdefault_from()\n",
      "File \u001b[0;32m~/Documents/projects/mismo/.venv/lib/python3.11/site-packages/sqlalchemy/sql/compiler.py:4873\u001b[0m, in \u001b[0;36m<listcomp>\u001b[0;34m(.0)\u001b[0m\n\u001b[1;32m   4858\u001b[0m         text \u001b[39m+\u001b[39m\u001b[39m=\u001b[39m \u001b[39m\"\u001b[39m\u001b[39m, \u001b[39m\u001b[39m\"\u001b[39m\u001b[39m.\u001b[39mjoin(\n\u001b[1;32m   4859\u001b[0m             [\n\u001b[1;32m   4860\u001b[0m                 f\u001b[39m.\u001b[39m_compiler_dispatch(\n\u001b[0;32m   (...)\u001b[0m\n\u001b[1;32m   4868\u001b[0m             ]\n\u001b[1;32m   4869\u001b[0m         )\n\u001b[1;32m   4870\u001b[0m     \u001b[39melse\u001b[39;00m:\n\u001b[1;32m   4871\u001b[0m         text \u001b[39m+\u001b[39m\u001b[39m=\u001b[39m \u001b[39m\"\u001b[39m\u001b[39m, \u001b[39m\u001b[39m\"\u001b[39m\u001b[39m.\u001b[39mjoin(\n\u001b[1;32m   4872\u001b[0m             [\n\u001b[0;32m-> 4873\u001b[0m                 f\u001b[39m.\u001b[39;49m_compiler_dispatch(\n\u001b[1;32m   4874\u001b[0m                     \u001b[39mself\u001b[39;49m,\n\u001b[1;32m   4875\u001b[0m                     asfrom\u001b[39m=\u001b[39;49m\u001b[39mTrue\u001b[39;49;00m,\n\u001b[1;32m   4876\u001b[0m                     from_linter\u001b[39m=\u001b[39;49mfrom_linter,\n\u001b[1;32m   4877\u001b[0m                     \u001b[39m*\u001b[39;49m\u001b[39m*\u001b[39;49mkwargs,\n\u001b[1;32m   4878\u001b[0m                 )\n\u001b[1;32m   4879\u001b[0m                 \u001b[39mfor\u001b[39;00m f \u001b[39min\u001b[39;00m froms\n\u001b[1;32m   4880\u001b[0m             ]\n\u001b[1;32m   4881\u001b[0m         )\n\u001b[1;32m   4882\u001b[0m \u001b[39melse\u001b[39;00m:\n\u001b[1;32m   4883\u001b[0m     text \u001b[39m+\u001b[39m\u001b[39m=\u001b[39m \u001b[39mself\u001b[39m\u001b[39m.\u001b[39mdefault_from()\n",
      "File \u001b[0;32m~/Documents/projects/mismo/.venv/lib/python3.11/site-packages/sqlalchemy/sql/visitors.py:143\u001b[0m, in \u001b[0;36mVisitable._generate_compiler_dispatch.<locals>._compiler_dispatch\u001b[0;34m(self, visitor, **kw)\u001b[0m\n\u001b[1;32m    141\u001b[0m     \u001b[39mreturn\u001b[39;00m visitor\u001b[39m.\u001b[39mvisit_unsupported_compilation(\u001b[39mself\u001b[39m, err, \u001b[39m*\u001b[39m\u001b[39m*\u001b[39mkw)  \u001b[39m# type: ignore  # noqa: E501\u001b[39;00m\n\u001b[1;32m    142\u001b[0m \u001b[39melse\u001b[39;00m:\n\u001b[0;32m--> 143\u001b[0m     \u001b[39mreturn\u001b[39;00m meth(\u001b[39mself\u001b[39;49m, \u001b[39m*\u001b[39;49m\u001b[39m*\u001b[39;49mkw)\n",
      "File \u001b[0;32m~/Documents/projects/mismo/.venv/lib/python3.11/site-packages/sqlalchemy/sql/compiler.py:4068\u001b[0m, in \u001b[0;36mSQLCompiler.visit_cte\u001b[0;34m(self, cte, asfrom, ashint, fromhints, visiting_cte, from_linter, cte_opts, **kwargs)\u001b[0m\n\u001b[1;32m   4064\u001b[0m \u001b[39melse\u001b[39;00m:\n\u001b[1;32m   4065\u001b[0m     prefixes \u001b[39m=\u001b[39m \u001b[39mself\u001b[39m\u001b[39m.\u001b[39m_generate_prefixes(\n\u001b[1;32m   4066\u001b[0m         cte, cte\u001b[39m.\u001b[39m_prefixes, \u001b[39m*\u001b[39m\u001b[39m*\u001b[39mkwargs\n\u001b[1;32m   4067\u001b[0m     )\n\u001b[0;32m-> 4068\u001b[0m     inner \u001b[39m=\u001b[39m cte\u001b[39m.\u001b[39;49melement\u001b[39m.\u001b[39;49m_compiler_dispatch(\n\u001b[1;32m   4069\u001b[0m         \u001b[39mself\u001b[39;49m, asfrom\u001b[39m=\u001b[39;49m\u001b[39mTrue\u001b[39;49;00m, \u001b[39m*\u001b[39;49m\u001b[39m*\u001b[39;49mkwargs\n\u001b[1;32m   4070\u001b[0m     )\n\u001b[1;32m   4072\u001b[0m     text \u001b[39m+\u001b[39m\u001b[39m=\u001b[39m \u001b[39m\"\u001b[39m\u001b[39m AS \u001b[39m\u001b[39m%s\u001b[39;00m\u001b[39m\\n\u001b[39;00m\u001b[39m(\u001b[39m\u001b[39m%s\u001b[39;00m\u001b[39m)\u001b[39m\u001b[39m\"\u001b[39m \u001b[39m%\u001b[39m (prefixes, inner)\n\u001b[1;32m   4074\u001b[0m \u001b[39mif\u001b[39;00m cte\u001b[39m.\u001b[39m_suffixes:\n",
      "    \u001b[0;31m[... skipping similar frames: Visitable._generate_compiler_dispatch.<locals>._compiler_dispatch at line 143 (1 times)]\u001b[0m\n",
      "File \u001b[0;32m~/Documents/projects/mismo/.venv/lib/python3.11/site-packages/sqlalchemy/sql/compiler.py:4724\u001b[0m, in \u001b[0;36mSQLCompiler.visit_select\u001b[0;34m(self, select_stmt, asfrom, insert_into, fromhints, compound_index, select_wraps_for, lateral, from_linter, **kwargs)\u001b[0m\n\u001b[1;32m   4692\u001b[0m     translate \u001b[39m=\u001b[39m \u001b[39mdict\u001b[39m(\n\u001b[1;32m   4693\u001b[0m         \u001b[39mzip\u001b[39m(\n\u001b[1;32m   4694\u001b[0m             [\n\u001b[0;32m   (...)\u001b[0m\n\u001b[1;32m   4714\u001b[0m         )\n\u001b[1;32m   4715\u001b[0m     )\n\u001b[1;32m   4717\u001b[0m     \u001b[39mself\u001b[39m\u001b[39m.\u001b[39m_result_columns \u001b[39m=\u001b[39m [\n\u001b[1;32m   4718\u001b[0m         ResultColumnsEntry(\n\u001b[1;32m   4719\u001b[0m             key, name, \u001b[39mtuple\u001b[39m(translate\u001b[39m.\u001b[39mget(o, o) \u001b[39mfor\u001b[39;00m o \u001b[39min\u001b[39;00m obj), type_\n\u001b[1;32m   4720\u001b[0m         )\n\u001b[1;32m   4721\u001b[0m         \u001b[39mfor\u001b[39;00m key, name, obj, type_ \u001b[39min\u001b[39;00m \u001b[39mself\u001b[39m\u001b[39m.\u001b[39m_result_columns\n\u001b[1;32m   4722\u001b[0m     ]\n\u001b[0;32m-> 4724\u001b[0m text \u001b[39m=\u001b[39m \u001b[39mself\u001b[39;49m\u001b[39m.\u001b[39;49m_compose_select_body(\n\u001b[1;32m   4725\u001b[0m     text,\n\u001b[1;32m   4726\u001b[0m     select_stmt,\n\u001b[1;32m   4727\u001b[0m     compile_state,\n\u001b[1;32m   4728\u001b[0m     inner_columns,\n\u001b[1;32m   4729\u001b[0m     froms,\n\u001b[1;32m   4730\u001b[0m     byfrom,\n\u001b[1;32m   4731\u001b[0m     toplevel,\n\u001b[1;32m   4732\u001b[0m     kwargs,\n\u001b[1;32m   4733\u001b[0m )\n\u001b[1;32m   4735\u001b[0m \u001b[39mif\u001b[39;00m select_stmt\u001b[39m.\u001b[39m_statement_hints:\n\u001b[1;32m   4736\u001b[0m     per_dialect \u001b[39m=\u001b[39m [\n\u001b[1;32m   4737\u001b[0m         ht\n\u001b[1;32m   4738\u001b[0m         \u001b[39mfor\u001b[39;00m (dialect_name, ht) \u001b[39min\u001b[39;00m select_stmt\u001b[39m.\u001b[39m_statement_hints\n\u001b[1;32m   4739\u001b[0m         \u001b[39mif\u001b[39;00m dialect_name \u001b[39min\u001b[39;00m (\u001b[39m\"\u001b[39m\u001b[39m*\u001b[39m\u001b[39m\"\u001b[39m, \u001b[39mself\u001b[39m\u001b[39m.\u001b[39mdialect\u001b[39m.\u001b[39mname)\n\u001b[1;32m   4740\u001b[0m     ]\n",
      "File \u001b[0;32m~/Documents/projects/mismo/.venv/lib/python3.11/site-packages/sqlalchemy/sql/compiler.py:4872\u001b[0m, in \u001b[0;36mSQLCompiler._compose_select_body\u001b[0;34m(self, text, select, compile_state, inner_columns, froms, byfrom, toplevel, kwargs)\u001b[0m\n\u001b[1;32m   4858\u001b[0m         text \u001b[39m+\u001b[39m\u001b[39m=\u001b[39m \u001b[39m\"\u001b[39m\u001b[39m, \u001b[39m\u001b[39m\"\u001b[39m\u001b[39m.\u001b[39mjoin(\n\u001b[1;32m   4859\u001b[0m             [\n\u001b[1;32m   4860\u001b[0m                 f\u001b[39m.\u001b[39m_compiler_dispatch(\n\u001b[0;32m   (...)\u001b[0m\n\u001b[1;32m   4868\u001b[0m             ]\n\u001b[1;32m   4869\u001b[0m         )\n\u001b[1;32m   4870\u001b[0m     \u001b[39melse\u001b[39;00m:\n\u001b[1;32m   4871\u001b[0m         text \u001b[39m+\u001b[39m\u001b[39m=\u001b[39m \u001b[39m\"\u001b[39m\u001b[39m, \u001b[39m\u001b[39m\"\u001b[39m\u001b[39m.\u001b[39mjoin(\n\u001b[0;32m-> 4872\u001b[0m             [\n\u001b[1;32m   4873\u001b[0m                 f\u001b[39m.\u001b[39;49m_compiler_dispatch(\n\u001b[1;32m   4874\u001b[0m                     \u001b[39mself\u001b[39;49m,\n\u001b[1;32m   4875\u001b[0m                     asfrom\u001b[39m=\u001b[39;49m\u001b[39mTrue\u001b[39;49;00m,\n\u001b[1;32m   4876\u001b[0m                     from_linter\u001b[39m=\u001b[39;49mfrom_linter,\n\u001b[1;32m   4877\u001b[0m                     \u001b[39m*\u001b[39;49m\u001b[39m*\u001b[39;49mkwargs,\n\u001b[1;32m   4878\u001b[0m                 )\n\u001b[1;32m   4879\u001b[0m                 \u001b[39mfor\u001b[39;49;00m f \u001b[39min\u001b[39;49;00m froms\n\u001b[1;32m   4880\u001b[0m             ]\n\u001b[1;32m   4881\u001b[0m         )\n\u001b[1;32m   4882\u001b[0m \u001b[39melse\u001b[39;00m:\n\u001b[1;32m   4883\u001b[0m     text \u001b[39m+\u001b[39m\u001b[39m=\u001b[39m \u001b[39mself\u001b[39m\u001b[39m.\u001b[39mdefault_from()\n",
      "File \u001b[0;32m~/Documents/projects/mismo/.venv/lib/python3.11/site-packages/sqlalchemy/sql/compiler.py:4873\u001b[0m, in \u001b[0;36m<listcomp>\u001b[0;34m(.0)\u001b[0m\n\u001b[1;32m   4858\u001b[0m         text \u001b[39m+\u001b[39m\u001b[39m=\u001b[39m \u001b[39m\"\u001b[39m\u001b[39m, \u001b[39m\u001b[39m\"\u001b[39m\u001b[39m.\u001b[39mjoin(\n\u001b[1;32m   4859\u001b[0m             [\n\u001b[1;32m   4860\u001b[0m                 f\u001b[39m.\u001b[39m_compiler_dispatch(\n\u001b[0;32m   (...)\u001b[0m\n\u001b[1;32m   4868\u001b[0m             ]\n\u001b[1;32m   4869\u001b[0m         )\n\u001b[1;32m   4870\u001b[0m     \u001b[39melse\u001b[39;00m:\n\u001b[1;32m   4871\u001b[0m         text \u001b[39m+\u001b[39m\u001b[39m=\u001b[39m \u001b[39m\"\u001b[39m\u001b[39m, \u001b[39m\u001b[39m\"\u001b[39m\u001b[39m.\u001b[39mjoin(\n\u001b[1;32m   4872\u001b[0m             [\n\u001b[0;32m-> 4873\u001b[0m                 f\u001b[39m.\u001b[39;49m_compiler_dispatch(\n\u001b[1;32m   4874\u001b[0m                     \u001b[39mself\u001b[39;49m,\n\u001b[1;32m   4875\u001b[0m                     asfrom\u001b[39m=\u001b[39;49m\u001b[39mTrue\u001b[39;49;00m,\n\u001b[1;32m   4876\u001b[0m                     from_linter\u001b[39m=\u001b[39;49mfrom_linter,\n\u001b[1;32m   4877\u001b[0m                     \u001b[39m*\u001b[39;49m\u001b[39m*\u001b[39;49mkwargs,\n\u001b[1;32m   4878\u001b[0m                 )\n\u001b[1;32m   4879\u001b[0m                 \u001b[39mfor\u001b[39;00m f \u001b[39min\u001b[39;00m froms\n\u001b[1;32m   4880\u001b[0m             ]\n\u001b[1;32m   4881\u001b[0m         )\n\u001b[1;32m   4882\u001b[0m \u001b[39melse\u001b[39;00m:\n\u001b[1;32m   4883\u001b[0m     text \u001b[39m+\u001b[39m\u001b[39m=\u001b[39m \u001b[39mself\u001b[39m\u001b[39m.\u001b[39mdefault_from()\n",
      "    \u001b[0;31m[... skipping similar frames: Visitable._generate_compiler_dispatch.<locals>._compiler_dispatch at line 143 (1 times)]\u001b[0m\n",
      "File \u001b[0;32m~/Documents/projects/mismo/.venv/lib/python3.11/site-packages/sqlalchemy/sql/compiler.py:4068\u001b[0m, in \u001b[0;36mSQLCompiler.visit_cte\u001b[0;34m(self, cte, asfrom, ashint, fromhints, visiting_cte, from_linter, cte_opts, **kwargs)\u001b[0m\n\u001b[1;32m   4064\u001b[0m \u001b[39melse\u001b[39;00m:\n\u001b[1;32m   4065\u001b[0m     prefixes \u001b[39m=\u001b[39m \u001b[39mself\u001b[39m\u001b[39m.\u001b[39m_generate_prefixes(\n\u001b[1;32m   4066\u001b[0m         cte, cte\u001b[39m.\u001b[39m_prefixes, \u001b[39m*\u001b[39m\u001b[39m*\u001b[39mkwargs\n\u001b[1;32m   4067\u001b[0m     )\n\u001b[0;32m-> 4068\u001b[0m     inner \u001b[39m=\u001b[39m cte\u001b[39m.\u001b[39;49melement\u001b[39m.\u001b[39;49m_compiler_dispatch(\n\u001b[1;32m   4069\u001b[0m         \u001b[39mself\u001b[39;49m, asfrom\u001b[39m=\u001b[39;49m\u001b[39mTrue\u001b[39;49;00m, \u001b[39m*\u001b[39;49m\u001b[39m*\u001b[39;49mkwargs\n\u001b[1;32m   4070\u001b[0m     )\n\u001b[1;32m   4072\u001b[0m     text \u001b[39m+\u001b[39m\u001b[39m=\u001b[39m \u001b[39m\"\u001b[39m\u001b[39m AS \u001b[39m\u001b[39m%s\u001b[39;00m\u001b[39m\\n\u001b[39;00m\u001b[39m(\u001b[39m\u001b[39m%s\u001b[39;00m\u001b[39m)\u001b[39m\u001b[39m\"\u001b[39m \u001b[39m%\u001b[39m (prefixes, inner)\n\u001b[1;32m   4074\u001b[0m \u001b[39mif\u001b[39;00m cte\u001b[39m.\u001b[39m_suffixes:\n",
      "    \u001b[0;31m[... skipping similar frames: Visitable._generate_compiler_dispatch.<locals>._compiler_dispatch at line 143 (1 times)]\u001b[0m\n",
      "File \u001b[0;32m~/Documents/projects/mismo/.venv/lib/python3.11/site-packages/sqlalchemy/sql/compiler.py:4724\u001b[0m, in \u001b[0;36mSQLCompiler.visit_select\u001b[0;34m(self, select_stmt, asfrom, insert_into, fromhints, compound_index, select_wraps_for, lateral, from_linter, **kwargs)\u001b[0m\n\u001b[1;32m   4692\u001b[0m     translate \u001b[39m=\u001b[39m \u001b[39mdict\u001b[39m(\n\u001b[1;32m   4693\u001b[0m         \u001b[39mzip\u001b[39m(\n\u001b[1;32m   4694\u001b[0m             [\n\u001b[0;32m   (...)\u001b[0m\n\u001b[1;32m   4714\u001b[0m         )\n\u001b[1;32m   4715\u001b[0m     )\n\u001b[1;32m   4717\u001b[0m     \u001b[39mself\u001b[39m\u001b[39m.\u001b[39m_result_columns \u001b[39m=\u001b[39m [\n\u001b[1;32m   4718\u001b[0m         ResultColumnsEntry(\n\u001b[1;32m   4719\u001b[0m             key, name, \u001b[39mtuple\u001b[39m(translate\u001b[39m.\u001b[39mget(o, o) \u001b[39mfor\u001b[39;00m o \u001b[39min\u001b[39;00m obj), type_\n\u001b[1;32m   4720\u001b[0m         )\n\u001b[1;32m   4721\u001b[0m         \u001b[39mfor\u001b[39;00m key, name, obj, type_ \u001b[39min\u001b[39;00m \u001b[39mself\u001b[39m\u001b[39m.\u001b[39m_result_columns\n\u001b[1;32m   4722\u001b[0m     ]\n\u001b[0;32m-> 4724\u001b[0m text \u001b[39m=\u001b[39m \u001b[39mself\u001b[39;49m\u001b[39m.\u001b[39;49m_compose_select_body(\n\u001b[1;32m   4725\u001b[0m     text,\n\u001b[1;32m   4726\u001b[0m     select_stmt,\n\u001b[1;32m   4727\u001b[0m     compile_state,\n\u001b[1;32m   4728\u001b[0m     inner_columns,\n\u001b[1;32m   4729\u001b[0m     froms,\n\u001b[1;32m   4730\u001b[0m     byfrom,\n\u001b[1;32m   4731\u001b[0m     toplevel,\n\u001b[1;32m   4732\u001b[0m     kwargs,\n\u001b[1;32m   4733\u001b[0m )\n\u001b[1;32m   4735\u001b[0m \u001b[39mif\u001b[39;00m select_stmt\u001b[39m.\u001b[39m_statement_hints:\n\u001b[1;32m   4736\u001b[0m     per_dialect \u001b[39m=\u001b[39m [\n\u001b[1;32m   4737\u001b[0m         ht\n\u001b[1;32m   4738\u001b[0m         \u001b[39mfor\u001b[39;00m (dialect_name, ht) \u001b[39min\u001b[39;00m select_stmt\u001b[39m.\u001b[39m_statement_hints\n\u001b[1;32m   4739\u001b[0m         \u001b[39mif\u001b[39;00m dialect_name \u001b[39min\u001b[39;00m (\u001b[39m\"\u001b[39m\u001b[39m*\u001b[39m\u001b[39m\"\u001b[39m, \u001b[39mself\u001b[39m\u001b[39m.\u001b[39mdialect\u001b[39m.\u001b[39mname)\n\u001b[1;32m   4740\u001b[0m     ]\n",
      "File \u001b[0;32m~/Documents/projects/mismo/.venv/lib/python3.11/site-packages/sqlalchemy/sql/compiler.py:4872\u001b[0m, in \u001b[0;36mSQLCompiler._compose_select_body\u001b[0;34m(self, text, select, compile_state, inner_columns, froms, byfrom, toplevel, kwargs)\u001b[0m\n\u001b[1;32m   4858\u001b[0m         text \u001b[39m+\u001b[39m\u001b[39m=\u001b[39m \u001b[39m\"\u001b[39m\u001b[39m, \u001b[39m\u001b[39m\"\u001b[39m\u001b[39m.\u001b[39mjoin(\n\u001b[1;32m   4859\u001b[0m             [\n\u001b[1;32m   4860\u001b[0m                 f\u001b[39m.\u001b[39m_compiler_dispatch(\n\u001b[0;32m   (...)\u001b[0m\n\u001b[1;32m   4868\u001b[0m             ]\n\u001b[1;32m   4869\u001b[0m         )\n\u001b[1;32m   4870\u001b[0m     \u001b[39melse\u001b[39;00m:\n\u001b[1;32m   4871\u001b[0m         text \u001b[39m+\u001b[39m\u001b[39m=\u001b[39m \u001b[39m\"\u001b[39m\u001b[39m, \u001b[39m\u001b[39m\"\u001b[39m\u001b[39m.\u001b[39mjoin(\n\u001b[0;32m-> 4872\u001b[0m             [\n\u001b[1;32m   4873\u001b[0m                 f\u001b[39m.\u001b[39;49m_compiler_dispatch(\n\u001b[1;32m   4874\u001b[0m                     \u001b[39mself\u001b[39;49m,\n\u001b[1;32m   4875\u001b[0m                     asfrom\u001b[39m=\u001b[39;49m\u001b[39mTrue\u001b[39;49;00m,\n\u001b[1;32m   4876\u001b[0m                     from_linter\u001b[39m=\u001b[39;49mfrom_linter,\n\u001b[1;32m   4877\u001b[0m                     \u001b[39m*\u001b[39;49m\u001b[39m*\u001b[39;49mkwargs,\n\u001b[1;32m   4878\u001b[0m                 )\n\u001b[1;32m   4879\u001b[0m                 \u001b[39mfor\u001b[39;49;00m f \u001b[39min\u001b[39;49;00m froms\n\u001b[1;32m   4880\u001b[0m             ]\n\u001b[1;32m   4881\u001b[0m         )\n\u001b[1;32m   4882\u001b[0m \u001b[39melse\u001b[39;00m:\n\u001b[1;32m   4883\u001b[0m     text \u001b[39m+\u001b[39m\u001b[39m=\u001b[39m \u001b[39mself\u001b[39m\u001b[39m.\u001b[39mdefault_from()\n",
      "File \u001b[0;32m~/Documents/projects/mismo/.venv/lib/python3.11/site-packages/sqlalchemy/sql/compiler.py:4873\u001b[0m, in \u001b[0;36m<listcomp>\u001b[0;34m(.0)\u001b[0m\n\u001b[1;32m   4858\u001b[0m         text \u001b[39m+\u001b[39m\u001b[39m=\u001b[39m \u001b[39m\"\u001b[39m\u001b[39m, \u001b[39m\u001b[39m\"\u001b[39m\u001b[39m.\u001b[39mjoin(\n\u001b[1;32m   4859\u001b[0m             [\n\u001b[1;32m   4860\u001b[0m                 f\u001b[39m.\u001b[39m_compiler_dispatch(\n\u001b[0;32m   (...)\u001b[0m\n\u001b[1;32m   4868\u001b[0m             ]\n\u001b[1;32m   4869\u001b[0m         )\n\u001b[1;32m   4870\u001b[0m     \u001b[39melse\u001b[39;00m:\n\u001b[1;32m   4871\u001b[0m         text \u001b[39m+\u001b[39m\u001b[39m=\u001b[39m \u001b[39m\"\u001b[39m\u001b[39m, \u001b[39m\u001b[39m\"\u001b[39m\u001b[39m.\u001b[39mjoin(\n\u001b[1;32m   4872\u001b[0m             [\n\u001b[0;32m-> 4873\u001b[0m                 f\u001b[39m.\u001b[39;49m_compiler_dispatch(\n\u001b[1;32m   4874\u001b[0m                     \u001b[39mself\u001b[39;49m,\n\u001b[1;32m   4875\u001b[0m                     asfrom\u001b[39m=\u001b[39;49m\u001b[39mTrue\u001b[39;49;00m,\n\u001b[1;32m   4876\u001b[0m                     from_linter\u001b[39m=\u001b[39;49mfrom_linter,\n\u001b[1;32m   4877\u001b[0m                     \u001b[39m*\u001b[39;49m\u001b[39m*\u001b[39;49mkwargs,\n\u001b[1;32m   4878\u001b[0m                 )\n\u001b[1;32m   4879\u001b[0m                 \u001b[39mfor\u001b[39;00m f \u001b[39min\u001b[39;00m froms\n\u001b[1;32m   4880\u001b[0m             ]\n\u001b[1;32m   4881\u001b[0m         )\n\u001b[1;32m   4882\u001b[0m \u001b[39melse\u001b[39;00m:\n\u001b[1;32m   4883\u001b[0m     text \u001b[39m+\u001b[39m\u001b[39m=\u001b[39m \u001b[39mself\u001b[39m\u001b[39m.\u001b[39mdefault_from()\n",
      "File \u001b[0;32m~/Documents/projects/mismo/.venv/lib/python3.11/site-packages/sqlalchemy/sql/visitors.py:143\u001b[0m, in \u001b[0;36mVisitable._generate_compiler_dispatch.<locals>._compiler_dispatch\u001b[0;34m(self, visitor, **kw)\u001b[0m\n\u001b[1;32m    141\u001b[0m     \u001b[39mreturn\u001b[39;00m visitor\u001b[39m.\u001b[39mvisit_unsupported_compilation(\u001b[39mself\u001b[39m, err, \u001b[39m*\u001b[39m\u001b[39m*\u001b[39mkw)  \u001b[39m# type: ignore  # noqa: E501\u001b[39;00m\n\u001b[1;32m    142\u001b[0m \u001b[39melse\u001b[39;00m:\n\u001b[0;32m--> 143\u001b[0m     \u001b[39mreturn\u001b[39;00m meth(\u001b[39mself\u001b[39;49m, \u001b[39m*\u001b[39;49m\u001b[39m*\u001b[39;49mkw)\n",
      "File \u001b[0;32m~/Documents/projects/mismo/.venv/lib/python3.11/site-packages/sqlalchemy/sql/compiler.py:5178\u001b[0m, in \u001b[0;36mSQLCompiler.visit_join\u001b[0;34m(self, join, asfrom, from_linter, **kwargs)\u001b[0m\n\u001b[1;32m   5171\u001b[0m \u001b[39melse\u001b[39;00m:\n\u001b[1;32m   5172\u001b[0m     join_type \u001b[39m=\u001b[39m \u001b[39m\"\u001b[39m\u001b[39m JOIN \u001b[39m\u001b[39m\"\u001b[39m\n\u001b[1;32m   5173\u001b[0m \u001b[39mreturn\u001b[39;00m (\n\u001b[1;32m   5174\u001b[0m     join\u001b[39m.\u001b[39mleft\u001b[39m.\u001b[39m_compiler_dispatch(\n\u001b[1;32m   5175\u001b[0m         \u001b[39mself\u001b[39m, asfrom\u001b[39m=\u001b[39m\u001b[39mTrue\u001b[39;00m, from_linter\u001b[39m=\u001b[39mfrom_linter, \u001b[39m*\u001b[39m\u001b[39m*\u001b[39mkwargs\n\u001b[1;32m   5176\u001b[0m     )\n\u001b[1;32m   5177\u001b[0m     \u001b[39m+\u001b[39m join_type\n\u001b[0;32m-> 5178\u001b[0m     \u001b[39m+\u001b[39m join\u001b[39m.\u001b[39;49mright\u001b[39m.\u001b[39;49m_compiler_dispatch(\n\u001b[1;32m   5179\u001b[0m         \u001b[39mself\u001b[39;49m, asfrom\u001b[39m=\u001b[39;49m\u001b[39mTrue\u001b[39;49;00m, from_linter\u001b[39m=\u001b[39;49mfrom_linter, \u001b[39m*\u001b[39;49m\u001b[39m*\u001b[39;49mkwargs\n\u001b[1;32m   5180\u001b[0m     )\n\u001b[1;32m   5181\u001b[0m     \u001b[39m+\u001b[39m \u001b[39m\"\u001b[39m\u001b[39m ON \u001b[39m\u001b[39m\"\u001b[39m\n\u001b[1;32m   5182\u001b[0m     \u001b[39m# TODO: likely need asfrom=True here?\u001b[39;00m\n\u001b[1;32m   5183\u001b[0m     \u001b[39m+\u001b[39m join\u001b[39m.\u001b[39monclause\u001b[39m.\u001b[39m_compiler_dispatch(\n\u001b[1;32m   5184\u001b[0m         \u001b[39mself\u001b[39m, from_linter\u001b[39m=\u001b[39mfrom_linter, \u001b[39m*\u001b[39m\u001b[39m*\u001b[39mkwargs\n\u001b[1;32m   5185\u001b[0m     )\n\u001b[1;32m   5186\u001b[0m )\n",
      "File \u001b[0;32m~/Documents/projects/mismo/.venv/lib/python3.11/site-packages/sqlalchemy/sql/visitors.py:143\u001b[0m, in \u001b[0;36mVisitable._generate_compiler_dispatch.<locals>._compiler_dispatch\u001b[0;34m(self, visitor, **kw)\u001b[0m\n\u001b[1;32m    141\u001b[0m     \u001b[39mreturn\u001b[39;00m visitor\u001b[39m.\u001b[39mvisit_unsupported_compilation(\u001b[39mself\u001b[39m, err, \u001b[39m*\u001b[39m\u001b[39m*\u001b[39mkw)  \u001b[39m# type: ignore  # noqa: E501\u001b[39;00m\n\u001b[1;32m    142\u001b[0m \u001b[39melse\u001b[39;00m:\n\u001b[0;32m--> 143\u001b[0m     \u001b[39mreturn\u001b[39;00m meth(\u001b[39mself\u001b[39;49m, \u001b[39m*\u001b[39;49m\u001b[39m*\u001b[39;49mkw)\n",
      "File \u001b[0;32m~/Documents/projects/mismo/.venv/lib/python3.11/site-packages/sqlalchemy/sql/compiler.py:3992\u001b[0m, in \u001b[0;36mSQLCompiler.visit_cte\u001b[0;34m(self, cte, asfrom, ashint, fromhints, visiting_cte, from_linter, cte_opts, **kwargs)\u001b[0m\n\u001b[1;32m   3990\u001b[0m             is_new_cte \u001b[39m=\u001b[39m \u001b[39mFalse\u001b[39;00m\n\u001b[1;32m   3991\u001b[0m         \u001b[39melse\u001b[39;00m:\n\u001b[0;32m-> 3992\u001b[0m             \u001b[39mraise\u001b[39;00m exc\u001b[39m.\u001b[39mCompileError(\n\u001b[1;32m   3993\u001b[0m                 \u001b[39m\"\u001b[39m\u001b[39mMultiple, unrelated CTEs found with \u001b[39m\u001b[39m\"\u001b[39m\n\u001b[1;32m   3994\u001b[0m                 \u001b[39m\"\u001b[39m\u001b[39mthe same name: \u001b[39m\u001b[39m%r\u001b[39;00m\u001b[39m\"\u001b[39m \u001b[39m%\u001b[39m cte_name\n\u001b[1;32m   3995\u001b[0m             )\n\u001b[1;32m   3997\u001b[0m \u001b[39mif\u001b[39;00m \u001b[39mnot\u001b[39;00m asfrom \u001b[39mand\u001b[39;00m \u001b[39mnot\u001b[39;00m is_new_cte:\n\u001b[1;32m   3998\u001b[0m     \u001b[39mreturn\u001b[39;00m \u001b[39mNone\u001b[39;00m\n",
      "\u001b[0;31mCompileError\u001b[0m: Multiple, unrelated CTEs found with the same name: 't9'"
     ]
    }
   ],
   "source": [
    "ibis.show_sql(blocking.blocked_data)"
   ]
  },
  {
   "cell_type": "code",
   "execution_count": 7,
   "metadata": {},
   "outputs": [
    {
     "data": {
      "text/plain": [
       "212511"
      ]
     },
     "execution_count": 7,
     "metadata": {},
     "output_type": "execute_result"
    }
   ],
   "source": [
    "len(blocking)"
   ]
  },
  {
   "cell_type": "code",
   "execution_count": null,
   "metadata": {},
   "outputs": [],
   "source": []
  }
 ],
 "metadata": {
  "interpreter": {
   "hash": "e78e9de428406fb70aaa5b059884c560deb0c475ef30202c8dca5fdfb55b8986"
  },
  "kernelspec": {
   "display_name": "Python 3.10.4 ('mismo')",
   "language": "python",
   "name": "python3"
  },
  "language_info": {
   "codemirror_mode": {
    "name": "ipython",
    "version": 3
   },
   "file_extension": ".py",
   "mimetype": "text/x-python",
   "name": "python",
   "nbconvert_exporter": "python",
   "pygments_lexer": "ipython3",
   "version": "3.11.1"
  },
  "orig_nbformat": 4
 },
 "nbformat": 4,
 "nbformat_minor": 2
}
